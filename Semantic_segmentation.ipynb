{
  "nbformat": 4,
  "nbformat_minor": 0,
  "metadata": {
    "colab": {
      "name": "Semantic segmentation.ipynb",
      "provenance": [],
      "include_colab_link": true
    },
    "kernelspec": {
      "name": "python3",
      "display_name": "Python 3"
    },
    "language_info": {
      "name": "python"
    },
    "widgets": {
      "application/vnd.jupyter.widget-state+json": {
        "44996134535043c0b84428dceb286943": {
          "model_module": "@jupyter-widgets/controls",
          "model_name": "HBoxModel",
          "state": {
            "_view_name": "HBoxView",
            "_dom_classes": [],
            "_model_name": "HBoxModel",
            "_view_module": "@jupyter-widgets/controls",
            "_model_module_version": "1.5.0",
            "_view_count": null,
            "_view_module_version": "1.5.0",
            "box_style": "",
            "layout": "IPY_MODEL_4e51ccd73064427898c1d5b96197cf5b",
            "_model_module": "@jupyter-widgets/controls",
            "children": [
              "IPY_MODEL_281fb29685cb49188e90f5ba8074c188",
              "IPY_MODEL_4c18a4fd4a1043ab9b6be8e5386ddc9b"
            ]
          }
        },
        "4e51ccd73064427898c1d5b96197cf5b": {
          "model_module": "@jupyter-widgets/base",
          "model_name": "LayoutModel",
          "state": {
            "_view_name": "LayoutView",
            "grid_template_rows": null,
            "right": null,
            "justify_content": null,
            "_view_module": "@jupyter-widgets/base",
            "overflow": null,
            "_model_module_version": "1.2.0",
            "_view_count": null,
            "flex_flow": null,
            "width": null,
            "min_width": null,
            "border": null,
            "align_items": null,
            "bottom": null,
            "_model_module": "@jupyter-widgets/base",
            "top": null,
            "grid_column": null,
            "overflow_y": null,
            "overflow_x": null,
            "grid_auto_flow": null,
            "grid_area": null,
            "grid_template_columns": null,
            "flex": null,
            "_model_name": "LayoutModel",
            "justify_items": null,
            "grid_row": null,
            "max_height": null,
            "align_content": null,
            "visibility": null,
            "align_self": null,
            "height": null,
            "min_height": null,
            "padding": null,
            "grid_auto_rows": null,
            "grid_gap": null,
            "max_width": null,
            "order": null,
            "_view_module_version": "1.2.0",
            "grid_template_areas": null,
            "object_position": null,
            "object_fit": null,
            "grid_auto_columns": null,
            "margin": null,
            "display": null,
            "left": null
          }
        },
        "281fb29685cb49188e90f5ba8074c188": {
          "model_module": "@jupyter-widgets/controls",
          "model_name": "FloatProgressModel",
          "state": {
            "_view_name": "ProgressView",
            "style": "IPY_MODEL_574db306321e433981ccb9f4af15e2ec",
            "_dom_classes": [],
            "description": "100%",
            "_model_name": "FloatProgressModel",
            "bar_style": "success",
            "max": 450,
            "_view_module": "@jupyter-widgets/controls",
            "_model_module_version": "1.5.0",
            "value": 450,
            "_view_count": null,
            "_view_module_version": "1.5.0",
            "orientation": "horizontal",
            "min": 0,
            "description_tooltip": null,
            "_model_module": "@jupyter-widgets/controls",
            "layout": "IPY_MODEL_b5a11c79eee9441db95ef315a212e1eb"
          }
        },
        "4c18a4fd4a1043ab9b6be8e5386ddc9b": {
          "model_module": "@jupyter-widgets/controls",
          "model_name": "HTMLModel",
          "state": {
            "_view_name": "HTMLView",
            "style": "IPY_MODEL_41a6e04c5aa14369b534079e8cbbfd46",
            "_dom_classes": [],
            "description": "",
            "_model_name": "HTMLModel",
            "placeholder": "​",
            "_view_module": "@jupyter-widgets/controls",
            "_model_module_version": "1.5.0",
            "value": " 450/450 [15:24&lt;00:00,  2.05s/it]",
            "_view_count": null,
            "_view_module_version": "1.5.0",
            "description_tooltip": null,
            "_model_module": "@jupyter-widgets/controls",
            "layout": "IPY_MODEL_fd7b8bcbd1ae4e5babeca3edec881e39"
          }
        },
        "574db306321e433981ccb9f4af15e2ec": {
          "model_module": "@jupyter-widgets/controls",
          "model_name": "ProgressStyleModel",
          "state": {
            "_view_name": "StyleView",
            "_model_name": "ProgressStyleModel",
            "description_width": "initial",
            "_view_module": "@jupyter-widgets/base",
            "_model_module_version": "1.5.0",
            "_view_count": null,
            "_view_module_version": "1.2.0",
            "bar_color": null,
            "_model_module": "@jupyter-widgets/controls"
          }
        },
        "b5a11c79eee9441db95ef315a212e1eb": {
          "model_module": "@jupyter-widgets/base",
          "model_name": "LayoutModel",
          "state": {
            "_view_name": "LayoutView",
            "grid_template_rows": null,
            "right": null,
            "justify_content": null,
            "_view_module": "@jupyter-widgets/base",
            "overflow": null,
            "_model_module_version": "1.2.0",
            "_view_count": null,
            "flex_flow": null,
            "width": null,
            "min_width": null,
            "border": null,
            "align_items": null,
            "bottom": null,
            "_model_module": "@jupyter-widgets/base",
            "top": null,
            "grid_column": null,
            "overflow_y": null,
            "overflow_x": null,
            "grid_auto_flow": null,
            "grid_area": null,
            "grid_template_columns": null,
            "flex": null,
            "_model_name": "LayoutModel",
            "justify_items": null,
            "grid_row": null,
            "max_height": null,
            "align_content": null,
            "visibility": null,
            "align_self": null,
            "height": null,
            "min_height": null,
            "padding": null,
            "grid_auto_rows": null,
            "grid_gap": null,
            "max_width": null,
            "order": null,
            "_view_module_version": "1.2.0",
            "grid_template_areas": null,
            "object_position": null,
            "object_fit": null,
            "grid_auto_columns": null,
            "margin": null,
            "display": null,
            "left": null
          }
        },
        "41a6e04c5aa14369b534079e8cbbfd46": {
          "model_module": "@jupyter-widgets/controls",
          "model_name": "DescriptionStyleModel",
          "state": {
            "_view_name": "StyleView",
            "_model_name": "DescriptionStyleModel",
            "description_width": "",
            "_view_module": "@jupyter-widgets/base",
            "_model_module_version": "1.5.0",
            "_view_count": null,
            "_view_module_version": "1.2.0",
            "_model_module": "@jupyter-widgets/controls"
          }
        },
        "fd7b8bcbd1ae4e5babeca3edec881e39": {
          "model_module": "@jupyter-widgets/base",
          "model_name": "LayoutModel",
          "state": {
            "_view_name": "LayoutView",
            "grid_template_rows": null,
            "right": null,
            "justify_content": null,
            "_view_module": "@jupyter-widgets/base",
            "overflow": null,
            "_model_module_version": "1.2.0",
            "_view_count": null,
            "flex_flow": null,
            "width": null,
            "min_width": null,
            "border": null,
            "align_items": null,
            "bottom": null,
            "_model_module": "@jupyter-widgets/base",
            "top": null,
            "grid_column": null,
            "overflow_y": null,
            "overflow_x": null,
            "grid_auto_flow": null,
            "grid_area": null,
            "grid_template_columns": null,
            "flex": null,
            "_model_name": "LayoutModel",
            "justify_items": null,
            "grid_row": null,
            "max_height": null,
            "align_content": null,
            "visibility": null,
            "align_self": null,
            "height": null,
            "min_height": null,
            "padding": null,
            "grid_auto_rows": null,
            "grid_gap": null,
            "max_width": null,
            "order": null,
            "_view_module_version": "1.2.0",
            "grid_template_areas": null,
            "object_position": null,
            "object_fit": null,
            "grid_auto_columns": null,
            "margin": null,
            "display": null,
            "left": null
          }
        },
        "b75cc0af015840e281f91db4e9cafed7": {
          "model_module": "@jupyter-widgets/controls",
          "model_name": "HBoxModel",
          "state": {
            "_view_name": "HBoxView",
            "_dom_classes": [],
            "_model_name": "HBoxModel",
            "_view_module": "@jupyter-widgets/controls",
            "_model_module_version": "1.5.0",
            "_view_count": null,
            "_view_module_version": "1.5.0",
            "box_style": "",
            "layout": "IPY_MODEL_754500ca309a4b01812b330ee91b51f2",
            "_model_module": "@jupyter-widgets/controls",
            "children": [
              "IPY_MODEL_4628a111c0234ded996afbae171cf646",
              "IPY_MODEL_8989183d8dec4f4eada3806a6033c3a5"
            ]
          }
        },
        "754500ca309a4b01812b330ee91b51f2": {
          "model_module": "@jupyter-widgets/base",
          "model_name": "LayoutModel",
          "state": {
            "_view_name": "LayoutView",
            "grid_template_rows": null,
            "right": null,
            "justify_content": null,
            "_view_module": "@jupyter-widgets/base",
            "overflow": null,
            "_model_module_version": "1.2.0",
            "_view_count": null,
            "flex_flow": null,
            "width": null,
            "min_width": null,
            "border": null,
            "align_items": null,
            "bottom": null,
            "_model_module": "@jupyter-widgets/base",
            "top": null,
            "grid_column": null,
            "overflow_y": null,
            "overflow_x": null,
            "grid_auto_flow": null,
            "grid_area": null,
            "grid_template_columns": null,
            "flex": null,
            "_model_name": "LayoutModel",
            "justify_items": null,
            "grid_row": null,
            "max_height": null,
            "align_content": null,
            "visibility": null,
            "align_self": null,
            "height": null,
            "min_height": null,
            "padding": null,
            "grid_auto_rows": null,
            "grid_gap": null,
            "max_width": null,
            "order": null,
            "_view_module_version": "1.2.0",
            "grid_template_areas": null,
            "object_position": null,
            "object_fit": null,
            "grid_auto_columns": null,
            "margin": null,
            "display": null,
            "left": null
          }
        },
        "4628a111c0234ded996afbae171cf646": {
          "model_module": "@jupyter-widgets/controls",
          "model_name": "FloatProgressModel",
          "state": {
            "_view_name": "ProgressView",
            "style": "IPY_MODEL_6964efdd95594679a4cccbabc9975b09",
            "_dom_classes": [],
            "description": " 98%",
            "_model_name": "FloatProgressModel",
            "bar_style": "success",
            "max": 450,
            "_view_module": "@jupyter-widgets/controls",
            "_model_module_version": "1.5.0",
            "value": 450,
            "_view_count": null,
            "_view_module_version": "1.5.0",
            "orientation": "horizontal",
            "min": 0,
            "description_tooltip": null,
            "_model_module": "@jupyter-widgets/controls",
            "layout": "IPY_MODEL_3cd7a261baef4bf28c9ba574394ed3aa"
          }
        },
        "8989183d8dec4f4eada3806a6033c3a5": {
          "model_module": "@jupyter-widgets/controls",
          "model_name": "HTMLModel",
          "state": {
            "_view_name": "HTMLView",
            "style": "IPY_MODEL_0e193413c99249c2aadae8be1bf117aa",
            "_dom_classes": [],
            "description": "",
            "_model_name": "HTMLModel",
            "placeholder": "​",
            "_view_module": "@jupyter-widgets/controls",
            "_model_module_version": "1.5.0",
            "value": " 450/450 [12:54&lt;00:00,  1.72s/it]",
            "_view_count": null,
            "_view_module_version": "1.5.0",
            "description_tooltip": null,
            "_model_module": "@jupyter-widgets/controls",
            "layout": "IPY_MODEL_3271ad92482a44da91871a8700530b90"
          }
        },
        "6964efdd95594679a4cccbabc9975b09": {
          "model_module": "@jupyter-widgets/controls",
          "model_name": "ProgressStyleModel",
          "state": {
            "_view_name": "StyleView",
            "_model_name": "ProgressStyleModel",
            "description_width": "initial",
            "_view_module": "@jupyter-widgets/base",
            "_model_module_version": "1.5.0",
            "_view_count": null,
            "_view_module_version": "1.2.0",
            "bar_color": null,
            "_model_module": "@jupyter-widgets/controls"
          }
        },
        "3cd7a261baef4bf28c9ba574394ed3aa": {
          "model_module": "@jupyter-widgets/base",
          "model_name": "LayoutModel",
          "state": {
            "_view_name": "LayoutView",
            "grid_template_rows": null,
            "right": null,
            "justify_content": null,
            "_view_module": "@jupyter-widgets/base",
            "overflow": null,
            "_model_module_version": "1.2.0",
            "_view_count": null,
            "flex_flow": null,
            "width": null,
            "min_width": null,
            "border": null,
            "align_items": null,
            "bottom": null,
            "_model_module": "@jupyter-widgets/base",
            "top": null,
            "grid_column": null,
            "overflow_y": null,
            "overflow_x": null,
            "grid_auto_flow": null,
            "grid_area": null,
            "grid_template_columns": null,
            "flex": null,
            "_model_name": "LayoutModel",
            "justify_items": null,
            "grid_row": null,
            "max_height": null,
            "align_content": null,
            "visibility": null,
            "align_self": null,
            "height": null,
            "min_height": null,
            "padding": null,
            "grid_auto_rows": null,
            "grid_gap": null,
            "max_width": null,
            "order": null,
            "_view_module_version": "1.2.0",
            "grid_template_areas": null,
            "object_position": null,
            "object_fit": null,
            "grid_auto_columns": null,
            "margin": null,
            "display": null,
            "left": null
          }
        },
        "0e193413c99249c2aadae8be1bf117aa": {
          "model_module": "@jupyter-widgets/controls",
          "model_name": "DescriptionStyleModel",
          "state": {
            "_view_name": "StyleView",
            "_model_name": "DescriptionStyleModel",
            "description_width": "",
            "_view_module": "@jupyter-widgets/base",
            "_model_module_version": "1.5.0",
            "_view_count": null,
            "_view_module_version": "1.2.0",
            "_model_module": "@jupyter-widgets/controls"
          }
        },
        "3271ad92482a44da91871a8700530b90": {
          "model_module": "@jupyter-widgets/base",
          "model_name": "LayoutModel",
          "state": {
            "_view_name": "LayoutView",
            "grid_template_rows": null,
            "right": null,
            "justify_content": null,
            "_view_module": "@jupyter-widgets/base",
            "overflow": null,
            "_model_module_version": "1.2.0",
            "_view_count": null,
            "flex_flow": null,
            "width": null,
            "min_width": null,
            "border": null,
            "align_items": null,
            "bottom": null,
            "_model_module": "@jupyter-widgets/base",
            "top": null,
            "grid_column": null,
            "overflow_y": null,
            "overflow_x": null,
            "grid_auto_flow": null,
            "grid_area": null,
            "grid_template_columns": null,
            "flex": null,
            "_model_name": "LayoutModel",
            "justify_items": null,
            "grid_row": null,
            "max_height": null,
            "align_content": null,
            "visibility": null,
            "align_self": null,
            "height": null,
            "min_height": null,
            "padding": null,
            "grid_auto_rows": null,
            "grid_gap": null,
            "max_width": null,
            "order": null,
            "_view_module_version": "1.2.0",
            "grid_template_areas": null,
            "object_position": null,
            "object_fit": null,
            "grid_auto_columns": null,
            "margin": null,
            "display": null,
            "left": null
          }
        },
        "7b3b20ecf0e44112a386be5c0714cf9d": {
          "model_module": "@jupyter-widgets/controls",
          "model_name": "HBoxModel",
          "state": {
            "_view_name": "HBoxView",
            "_dom_classes": [],
            "_model_name": "HBoxModel",
            "_view_module": "@jupyter-widgets/controls",
            "_model_module_version": "1.5.0",
            "_view_count": null,
            "_view_module_version": "1.5.0",
            "box_style": "",
            "layout": "IPY_MODEL_a4ff473736da4dbe9752c33a14f9440e",
            "_model_module": "@jupyter-widgets/controls",
            "children": [
              "IPY_MODEL_a6a86eb06e054071ba8493e25683338b",
              "IPY_MODEL_cdb308b240a04820b49706140d6173df"
            ]
          }
        },
        "a4ff473736da4dbe9752c33a14f9440e": {
          "model_module": "@jupyter-widgets/base",
          "model_name": "LayoutModel",
          "state": {
            "_view_name": "LayoutView",
            "grid_template_rows": null,
            "right": null,
            "justify_content": null,
            "_view_module": "@jupyter-widgets/base",
            "overflow": null,
            "_model_module_version": "1.2.0",
            "_view_count": null,
            "flex_flow": null,
            "width": null,
            "min_width": null,
            "border": null,
            "align_items": null,
            "bottom": null,
            "_model_module": "@jupyter-widgets/base",
            "top": null,
            "grid_column": null,
            "overflow_y": null,
            "overflow_x": null,
            "grid_auto_flow": null,
            "grid_area": null,
            "grid_template_columns": null,
            "flex": null,
            "_model_name": "LayoutModel",
            "justify_items": null,
            "grid_row": null,
            "max_height": null,
            "align_content": null,
            "visibility": null,
            "align_self": null,
            "height": null,
            "min_height": null,
            "padding": null,
            "grid_auto_rows": null,
            "grid_gap": null,
            "max_width": null,
            "order": null,
            "_view_module_version": "1.2.0",
            "grid_template_areas": null,
            "object_position": null,
            "object_fit": null,
            "grid_auto_columns": null,
            "margin": null,
            "display": null,
            "left": null
          }
        },
        "a6a86eb06e054071ba8493e25683338b": {
          "model_module": "@jupyter-widgets/controls",
          "model_name": "FloatProgressModel",
          "state": {
            "_view_name": "ProgressView",
            "style": "IPY_MODEL_88d9a2e5c170466d89b33d78c1d70a16",
            "_dom_classes": [],
            "description": "100%",
            "_model_name": "FloatProgressModel",
            "bar_style": "success",
            "max": 450,
            "_view_module": "@jupyter-widgets/controls",
            "_model_module_version": "1.5.0",
            "value": 450,
            "_view_count": null,
            "_view_module_version": "1.5.0",
            "orientation": "horizontal",
            "min": 0,
            "description_tooltip": null,
            "_model_module": "@jupyter-widgets/controls",
            "layout": "IPY_MODEL_6bf6a5b3b4de447f981fd1728d3e72fd"
          }
        },
        "cdb308b240a04820b49706140d6173df": {
          "model_module": "@jupyter-widgets/controls",
          "model_name": "HTMLModel",
          "state": {
            "_view_name": "HTMLView",
            "style": "IPY_MODEL_2989795601b14a90ba1f3707f6e2db03",
            "_dom_classes": [],
            "description": "",
            "_model_name": "HTMLModel",
            "placeholder": "​",
            "_view_module": "@jupyter-widgets/controls",
            "_model_module_version": "1.5.0",
            "value": " 450/450 [14:50&lt;00:00,  1.98s/it]",
            "_view_count": null,
            "_view_module_version": "1.5.0",
            "description_tooltip": null,
            "_model_module": "@jupyter-widgets/controls",
            "layout": "IPY_MODEL_6a6002ccf0cc4e93b7abc119576f2711"
          }
        },
        "88d9a2e5c170466d89b33d78c1d70a16": {
          "model_module": "@jupyter-widgets/controls",
          "model_name": "ProgressStyleModel",
          "state": {
            "_view_name": "StyleView",
            "_model_name": "ProgressStyleModel",
            "description_width": "initial",
            "_view_module": "@jupyter-widgets/base",
            "_model_module_version": "1.5.0",
            "_view_count": null,
            "_view_module_version": "1.2.0",
            "bar_color": null,
            "_model_module": "@jupyter-widgets/controls"
          }
        },
        "6bf6a5b3b4de447f981fd1728d3e72fd": {
          "model_module": "@jupyter-widgets/base",
          "model_name": "LayoutModel",
          "state": {
            "_view_name": "LayoutView",
            "grid_template_rows": null,
            "right": null,
            "justify_content": null,
            "_view_module": "@jupyter-widgets/base",
            "overflow": null,
            "_model_module_version": "1.2.0",
            "_view_count": null,
            "flex_flow": null,
            "width": null,
            "min_width": null,
            "border": null,
            "align_items": null,
            "bottom": null,
            "_model_module": "@jupyter-widgets/base",
            "top": null,
            "grid_column": null,
            "overflow_y": null,
            "overflow_x": null,
            "grid_auto_flow": null,
            "grid_area": null,
            "grid_template_columns": null,
            "flex": null,
            "_model_name": "LayoutModel",
            "justify_items": null,
            "grid_row": null,
            "max_height": null,
            "align_content": null,
            "visibility": null,
            "align_self": null,
            "height": null,
            "min_height": null,
            "padding": null,
            "grid_auto_rows": null,
            "grid_gap": null,
            "max_width": null,
            "order": null,
            "_view_module_version": "1.2.0",
            "grid_template_areas": null,
            "object_position": null,
            "object_fit": null,
            "grid_auto_columns": null,
            "margin": null,
            "display": null,
            "left": null
          }
        },
        "2989795601b14a90ba1f3707f6e2db03": {
          "model_module": "@jupyter-widgets/controls",
          "model_name": "DescriptionStyleModel",
          "state": {
            "_view_name": "StyleView",
            "_model_name": "DescriptionStyleModel",
            "description_width": "",
            "_view_module": "@jupyter-widgets/base",
            "_model_module_version": "1.5.0",
            "_view_count": null,
            "_view_module_version": "1.2.0",
            "_model_module": "@jupyter-widgets/controls"
          }
        },
        "6a6002ccf0cc4e93b7abc119576f2711": {
          "model_module": "@jupyter-widgets/base",
          "model_name": "LayoutModel",
          "state": {
            "_view_name": "LayoutView",
            "grid_template_rows": null,
            "right": null,
            "justify_content": null,
            "_view_module": "@jupyter-widgets/base",
            "overflow": null,
            "_model_module_version": "1.2.0",
            "_view_count": null,
            "flex_flow": null,
            "width": null,
            "min_width": null,
            "border": null,
            "align_items": null,
            "bottom": null,
            "_model_module": "@jupyter-widgets/base",
            "top": null,
            "grid_column": null,
            "overflow_y": null,
            "overflow_x": null,
            "grid_auto_flow": null,
            "grid_area": null,
            "grid_template_columns": null,
            "flex": null,
            "_model_name": "LayoutModel",
            "justify_items": null,
            "grid_row": null,
            "max_height": null,
            "align_content": null,
            "visibility": null,
            "align_self": null,
            "height": null,
            "min_height": null,
            "padding": null,
            "grid_auto_rows": null,
            "grid_gap": null,
            "max_width": null,
            "order": null,
            "_view_module_version": "1.2.0",
            "grid_template_areas": null,
            "object_position": null,
            "object_fit": null,
            "grid_auto_columns": null,
            "margin": null,
            "display": null,
            "left": null
          }
        },
        "af207f8854bf43ecb359bfa4e55da3ea": {
          "model_module": "@jupyter-widgets/controls",
          "model_name": "HBoxModel",
          "state": {
            "_view_name": "HBoxView",
            "_dom_classes": [],
            "_model_name": "HBoxModel",
            "_view_module": "@jupyter-widgets/controls",
            "_model_module_version": "1.5.0",
            "_view_count": null,
            "_view_module_version": "1.5.0",
            "box_style": "",
            "layout": "IPY_MODEL_34eb0584090646da92dc55b8263ca758",
            "_model_module": "@jupyter-widgets/controls",
            "children": [
              "IPY_MODEL_5def4bc8a6ea4f6db76fc8c76fb2fe11",
              "IPY_MODEL_e2dd868cc1844dc39dfcaf85815fda82"
            ]
          }
        },
        "34eb0584090646da92dc55b8263ca758": {
          "model_module": "@jupyter-widgets/base",
          "model_name": "LayoutModel",
          "state": {
            "_view_name": "LayoutView",
            "grid_template_rows": null,
            "right": null,
            "justify_content": null,
            "_view_module": "@jupyter-widgets/base",
            "overflow": null,
            "_model_module_version": "1.2.0",
            "_view_count": null,
            "flex_flow": null,
            "width": null,
            "min_width": null,
            "border": null,
            "align_items": null,
            "bottom": null,
            "_model_module": "@jupyter-widgets/base",
            "top": null,
            "grid_column": null,
            "overflow_y": null,
            "overflow_x": null,
            "grid_auto_flow": null,
            "grid_area": null,
            "grid_template_columns": null,
            "flex": null,
            "_model_name": "LayoutModel",
            "justify_items": null,
            "grid_row": null,
            "max_height": null,
            "align_content": null,
            "visibility": null,
            "align_self": null,
            "height": null,
            "min_height": null,
            "padding": null,
            "grid_auto_rows": null,
            "grid_gap": null,
            "max_width": null,
            "order": null,
            "_view_module_version": "1.2.0",
            "grid_template_areas": null,
            "object_position": null,
            "object_fit": null,
            "grid_auto_columns": null,
            "margin": null,
            "display": null,
            "left": null
          }
        },
        "5def4bc8a6ea4f6db76fc8c76fb2fe11": {
          "model_module": "@jupyter-widgets/controls",
          "model_name": "FloatProgressModel",
          "state": {
            "_view_name": "ProgressView",
            "style": "IPY_MODEL_a462ef4911e2427991c0f1e50e7f8a49",
            "_dom_classes": [],
            "description": "100%",
            "_model_name": "FloatProgressModel",
            "bar_style": "success",
            "max": 1,
            "_view_module": "@jupyter-widgets/controls",
            "_model_module_version": "1.5.0",
            "value": 1,
            "_view_count": null,
            "_view_module_version": "1.5.0",
            "orientation": "horizontal",
            "min": 0,
            "description_tooltip": null,
            "_model_module": "@jupyter-widgets/controls",
            "layout": "IPY_MODEL_f853377c0d8c4779a14e80a7f13de328"
          }
        },
        "e2dd868cc1844dc39dfcaf85815fda82": {
          "model_module": "@jupyter-widgets/controls",
          "model_name": "HTMLModel",
          "state": {
            "_view_name": "HTMLView",
            "style": "IPY_MODEL_a5b4172250fa4db89ea3fdc633dc2785",
            "_dom_classes": [],
            "description": "",
            "_model_name": "HTMLModel",
            "placeholder": "​",
            "_view_module": "@jupyter-widgets/controls",
            "_model_module_version": "1.5.0",
            "value": " 1/1 [02:03&lt;00:00, 123.45s/it]",
            "_view_count": null,
            "_view_module_version": "1.5.0",
            "description_tooltip": null,
            "_model_module": "@jupyter-widgets/controls",
            "layout": "IPY_MODEL_11180ef1826c446192aa63efafa2e412"
          }
        },
        "a462ef4911e2427991c0f1e50e7f8a49": {
          "model_module": "@jupyter-widgets/controls",
          "model_name": "ProgressStyleModel",
          "state": {
            "_view_name": "StyleView",
            "_model_name": "ProgressStyleModel",
            "description_width": "initial",
            "_view_module": "@jupyter-widgets/base",
            "_model_module_version": "1.5.0",
            "_view_count": null,
            "_view_module_version": "1.2.0",
            "bar_color": null,
            "_model_module": "@jupyter-widgets/controls"
          }
        },
        "f853377c0d8c4779a14e80a7f13de328": {
          "model_module": "@jupyter-widgets/base",
          "model_name": "LayoutModel",
          "state": {
            "_view_name": "LayoutView",
            "grid_template_rows": null,
            "right": null,
            "justify_content": null,
            "_view_module": "@jupyter-widgets/base",
            "overflow": null,
            "_model_module_version": "1.2.0",
            "_view_count": null,
            "flex_flow": null,
            "width": null,
            "min_width": null,
            "border": null,
            "align_items": null,
            "bottom": null,
            "_model_module": "@jupyter-widgets/base",
            "top": null,
            "grid_column": null,
            "overflow_y": null,
            "overflow_x": null,
            "grid_auto_flow": null,
            "grid_area": null,
            "grid_template_columns": null,
            "flex": null,
            "_model_name": "LayoutModel",
            "justify_items": null,
            "grid_row": null,
            "max_height": null,
            "align_content": null,
            "visibility": null,
            "align_self": null,
            "height": null,
            "min_height": null,
            "padding": null,
            "grid_auto_rows": null,
            "grid_gap": null,
            "max_width": null,
            "order": null,
            "_view_module_version": "1.2.0",
            "grid_template_areas": null,
            "object_position": null,
            "object_fit": null,
            "grid_auto_columns": null,
            "margin": null,
            "display": null,
            "left": null
          }
        },
        "a5b4172250fa4db89ea3fdc633dc2785": {
          "model_module": "@jupyter-widgets/controls",
          "model_name": "DescriptionStyleModel",
          "state": {
            "_view_name": "StyleView",
            "_model_name": "DescriptionStyleModel",
            "description_width": "",
            "_view_module": "@jupyter-widgets/base",
            "_model_module_version": "1.5.0",
            "_view_count": null,
            "_view_module_version": "1.2.0",
            "_model_module": "@jupyter-widgets/controls"
          }
        },
        "11180ef1826c446192aa63efafa2e412": {
          "model_module": "@jupyter-widgets/base",
          "model_name": "LayoutModel",
          "state": {
            "_view_name": "LayoutView",
            "grid_template_rows": null,
            "right": null,
            "justify_content": null,
            "_view_module": "@jupyter-widgets/base",
            "overflow": null,
            "_model_module_version": "1.2.0",
            "_view_count": null,
            "flex_flow": null,
            "width": null,
            "min_width": null,
            "border": null,
            "align_items": null,
            "bottom": null,
            "_model_module": "@jupyter-widgets/base",
            "top": null,
            "grid_column": null,
            "overflow_y": null,
            "overflow_x": null,
            "grid_auto_flow": null,
            "grid_area": null,
            "grid_template_columns": null,
            "flex": null,
            "_model_name": "LayoutModel",
            "justify_items": null,
            "grid_row": null,
            "max_height": null,
            "align_content": null,
            "visibility": null,
            "align_self": null,
            "height": null,
            "min_height": null,
            "padding": null,
            "grid_auto_rows": null,
            "grid_gap": null,
            "max_width": null,
            "order": null,
            "_view_module_version": "1.2.0",
            "grid_template_areas": null,
            "object_position": null,
            "object_fit": null,
            "grid_auto_columns": null,
            "margin": null,
            "display": null,
            "left": null
          }
        },
        "1e6e86e45de9421aab8894755dab783c": {
          "model_module": "@jupyter-widgets/controls",
          "model_name": "HBoxModel",
          "state": {
            "_view_name": "HBoxView",
            "_dom_classes": [],
            "_model_name": "HBoxModel",
            "_view_module": "@jupyter-widgets/controls",
            "_model_module_version": "1.5.0",
            "_view_count": null,
            "_view_module_version": "1.5.0",
            "box_style": "",
            "layout": "IPY_MODEL_314f00d502ff4fbe9317b4d28796488e",
            "_model_module": "@jupyter-widgets/controls",
            "children": [
              "IPY_MODEL_9ddf3fbbaf564ca78bf50c91b88e3817",
              "IPY_MODEL_42623c65b9b74af4908f1c6d75f5999f"
            ]
          }
        },
        "314f00d502ff4fbe9317b4d28796488e": {
          "model_module": "@jupyter-widgets/base",
          "model_name": "LayoutModel",
          "state": {
            "_view_name": "LayoutView",
            "grid_template_rows": null,
            "right": null,
            "justify_content": null,
            "_view_module": "@jupyter-widgets/base",
            "overflow": null,
            "_model_module_version": "1.2.0",
            "_view_count": null,
            "flex_flow": null,
            "width": null,
            "min_width": null,
            "border": null,
            "align_items": null,
            "bottom": null,
            "_model_module": "@jupyter-widgets/base",
            "top": null,
            "grid_column": null,
            "overflow_y": null,
            "overflow_x": null,
            "grid_auto_flow": null,
            "grid_area": null,
            "grid_template_columns": null,
            "flex": null,
            "_model_name": "LayoutModel",
            "justify_items": null,
            "grid_row": null,
            "max_height": null,
            "align_content": null,
            "visibility": null,
            "align_self": null,
            "height": null,
            "min_height": null,
            "padding": null,
            "grid_auto_rows": null,
            "grid_gap": null,
            "max_width": null,
            "order": null,
            "_view_module_version": "1.2.0",
            "grid_template_areas": null,
            "object_position": null,
            "object_fit": null,
            "grid_auto_columns": null,
            "margin": null,
            "display": null,
            "left": null
          }
        },
        "9ddf3fbbaf564ca78bf50c91b88e3817": {
          "model_module": "@jupyter-widgets/controls",
          "model_name": "FloatProgressModel",
          "state": {
            "_view_name": "ProgressView",
            "style": "IPY_MODEL_14bb3b4b5a744e1dae6ba92fab526f80",
            "_dom_classes": [],
            "description": "100%",
            "_model_name": "FloatProgressModel",
            "bar_style": "success",
            "max": 1,
            "_view_module": "@jupyter-widgets/controls",
            "_model_module_version": "1.5.0",
            "value": 1,
            "_view_count": null,
            "_view_module_version": "1.5.0",
            "orientation": "horizontal",
            "min": 0,
            "description_tooltip": null,
            "_model_module": "@jupyter-widgets/controls",
            "layout": "IPY_MODEL_e10623b132bd458bbc1b70bbbeee23e9"
          }
        },
        "42623c65b9b74af4908f1c6d75f5999f": {
          "model_module": "@jupyter-widgets/controls",
          "model_name": "HTMLModel",
          "state": {
            "_view_name": "HTMLView",
            "style": "IPY_MODEL_dab6de1fad604969a9275b89c47a0846",
            "_dom_classes": [],
            "description": "",
            "_model_name": "HTMLModel",
            "placeholder": "​",
            "_view_module": "@jupyter-widgets/controls",
            "_model_module_version": "1.5.0",
            "value": " 1/1 [00:32&lt;00:00, 32.56s/it]",
            "_view_count": null,
            "_view_module_version": "1.5.0",
            "description_tooltip": null,
            "_model_module": "@jupyter-widgets/controls",
            "layout": "IPY_MODEL_5ed6a7ccd2f342049e49dd96b53a8556"
          }
        },
        "14bb3b4b5a744e1dae6ba92fab526f80": {
          "model_module": "@jupyter-widgets/controls",
          "model_name": "ProgressStyleModel",
          "state": {
            "_view_name": "StyleView",
            "_model_name": "ProgressStyleModel",
            "description_width": "initial",
            "_view_module": "@jupyter-widgets/base",
            "_model_module_version": "1.5.0",
            "_view_count": null,
            "_view_module_version": "1.2.0",
            "bar_color": null,
            "_model_module": "@jupyter-widgets/controls"
          }
        },
        "e10623b132bd458bbc1b70bbbeee23e9": {
          "model_module": "@jupyter-widgets/base",
          "model_name": "LayoutModel",
          "state": {
            "_view_name": "LayoutView",
            "grid_template_rows": null,
            "right": null,
            "justify_content": null,
            "_view_module": "@jupyter-widgets/base",
            "overflow": null,
            "_model_module_version": "1.2.0",
            "_view_count": null,
            "flex_flow": null,
            "width": null,
            "min_width": null,
            "border": null,
            "align_items": null,
            "bottom": null,
            "_model_module": "@jupyter-widgets/base",
            "top": null,
            "grid_column": null,
            "overflow_y": null,
            "overflow_x": null,
            "grid_auto_flow": null,
            "grid_area": null,
            "grid_template_columns": null,
            "flex": null,
            "_model_name": "LayoutModel",
            "justify_items": null,
            "grid_row": null,
            "max_height": null,
            "align_content": null,
            "visibility": null,
            "align_self": null,
            "height": null,
            "min_height": null,
            "padding": null,
            "grid_auto_rows": null,
            "grid_gap": null,
            "max_width": null,
            "order": null,
            "_view_module_version": "1.2.0",
            "grid_template_areas": null,
            "object_position": null,
            "object_fit": null,
            "grid_auto_columns": null,
            "margin": null,
            "display": null,
            "left": null
          }
        },
        "dab6de1fad604969a9275b89c47a0846": {
          "model_module": "@jupyter-widgets/controls",
          "model_name": "DescriptionStyleModel",
          "state": {
            "_view_name": "StyleView",
            "_model_name": "DescriptionStyleModel",
            "description_width": "",
            "_view_module": "@jupyter-widgets/base",
            "_model_module_version": "1.5.0",
            "_view_count": null,
            "_view_module_version": "1.2.0",
            "_model_module": "@jupyter-widgets/controls"
          }
        },
        "5ed6a7ccd2f342049e49dd96b53a8556": {
          "model_module": "@jupyter-widgets/base",
          "model_name": "LayoutModel",
          "state": {
            "_view_name": "LayoutView",
            "grid_template_rows": null,
            "right": null,
            "justify_content": null,
            "_view_module": "@jupyter-widgets/base",
            "overflow": null,
            "_model_module_version": "1.2.0",
            "_view_count": null,
            "flex_flow": null,
            "width": null,
            "min_width": null,
            "border": null,
            "align_items": null,
            "bottom": null,
            "_model_module": "@jupyter-widgets/base",
            "top": null,
            "grid_column": null,
            "overflow_y": null,
            "overflow_x": null,
            "grid_auto_flow": null,
            "grid_area": null,
            "grid_template_columns": null,
            "flex": null,
            "_model_name": "LayoutModel",
            "justify_items": null,
            "grid_row": null,
            "max_height": null,
            "align_content": null,
            "visibility": null,
            "align_self": null,
            "height": null,
            "min_height": null,
            "padding": null,
            "grid_auto_rows": null,
            "grid_gap": null,
            "max_width": null,
            "order": null,
            "_view_module_version": "1.2.0",
            "grid_template_areas": null,
            "object_position": null,
            "object_fit": null,
            "grid_auto_columns": null,
            "margin": null,
            "display": null,
            "left": null
          }
        },
        "f7d078abbdac421d9f936b2fc67b6c54": {
          "model_module": "@jupyter-widgets/controls",
          "model_name": "HBoxModel",
          "state": {
            "_view_name": "HBoxView",
            "_dom_classes": [],
            "_model_name": "HBoxModel",
            "_view_module": "@jupyter-widgets/controls",
            "_model_module_version": "1.5.0",
            "_view_count": null,
            "_view_module_version": "1.5.0",
            "box_style": "",
            "layout": "IPY_MODEL_e6199474b6994c298751971b82a963bd",
            "_model_module": "@jupyter-widgets/controls",
            "children": [
              "IPY_MODEL_1e6ac987ebfc411d8bfbb45186aba3cb",
              "IPY_MODEL_2500ca9473134708a3bad0e5d4842459"
            ]
          }
        },
        "e6199474b6994c298751971b82a963bd": {
          "model_module": "@jupyter-widgets/base",
          "model_name": "LayoutModel",
          "state": {
            "_view_name": "LayoutView",
            "grid_template_rows": null,
            "right": null,
            "justify_content": null,
            "_view_module": "@jupyter-widgets/base",
            "overflow": null,
            "_model_module_version": "1.2.0",
            "_view_count": null,
            "flex_flow": null,
            "width": null,
            "min_width": null,
            "border": null,
            "align_items": null,
            "bottom": null,
            "_model_module": "@jupyter-widgets/base",
            "top": null,
            "grid_column": null,
            "overflow_y": null,
            "overflow_x": null,
            "grid_auto_flow": null,
            "grid_area": null,
            "grid_template_columns": null,
            "flex": null,
            "_model_name": "LayoutModel",
            "justify_items": null,
            "grid_row": null,
            "max_height": null,
            "align_content": null,
            "visibility": null,
            "align_self": null,
            "height": null,
            "min_height": null,
            "padding": null,
            "grid_auto_rows": null,
            "grid_gap": null,
            "max_width": null,
            "order": null,
            "_view_module_version": "1.2.0",
            "grid_template_areas": null,
            "object_position": null,
            "object_fit": null,
            "grid_auto_columns": null,
            "margin": null,
            "display": null,
            "left": null
          }
        },
        "1e6ac987ebfc411d8bfbb45186aba3cb": {
          "model_module": "@jupyter-widgets/controls",
          "model_name": "FloatProgressModel",
          "state": {
            "_view_name": "ProgressView",
            "style": "IPY_MODEL_f6533acf7bdd46e0a9fb482d4e7fb1e6",
            "_dom_classes": [],
            "description": "100%",
            "_model_name": "FloatProgressModel",
            "bar_style": "success",
            "max": 5,
            "_view_module": "@jupyter-widgets/controls",
            "_model_module_version": "1.5.0",
            "value": 5,
            "_view_count": null,
            "_view_module_version": "1.5.0",
            "orientation": "horizontal",
            "min": 0,
            "description_tooltip": null,
            "_model_module": "@jupyter-widgets/controls",
            "layout": "IPY_MODEL_9ef7cd384c9b43ecacada6da5b71a0a5"
          }
        },
        "2500ca9473134708a3bad0e5d4842459": {
          "model_module": "@jupyter-widgets/controls",
          "model_name": "HTMLModel",
          "state": {
            "_view_name": "HTMLView",
            "style": "IPY_MODEL_bf5398a9d8c34f3c8f73ca9e021d01cd",
            "_dom_classes": [],
            "description": "",
            "_model_name": "HTMLModel",
            "placeholder": "​",
            "_view_module": "@jupyter-widgets/controls",
            "_model_module_version": "1.5.0",
            "value": " 5/5 [1:41:56&lt;00:00, 1223.37s/it]",
            "_view_count": null,
            "_view_module_version": "1.5.0",
            "description_tooltip": null,
            "_model_module": "@jupyter-widgets/controls",
            "layout": "IPY_MODEL_7620f62c58d54123b50db889f60e28d6"
          }
        },
        "f6533acf7bdd46e0a9fb482d4e7fb1e6": {
          "model_module": "@jupyter-widgets/controls",
          "model_name": "ProgressStyleModel",
          "state": {
            "_view_name": "StyleView",
            "_model_name": "ProgressStyleModel",
            "description_width": "initial",
            "_view_module": "@jupyter-widgets/base",
            "_model_module_version": "1.5.0",
            "_view_count": null,
            "_view_module_version": "1.2.0",
            "bar_color": null,
            "_model_module": "@jupyter-widgets/controls"
          }
        },
        "9ef7cd384c9b43ecacada6da5b71a0a5": {
          "model_module": "@jupyter-widgets/base",
          "model_name": "LayoutModel",
          "state": {
            "_view_name": "LayoutView",
            "grid_template_rows": null,
            "right": null,
            "justify_content": null,
            "_view_module": "@jupyter-widgets/base",
            "overflow": null,
            "_model_module_version": "1.2.0",
            "_view_count": null,
            "flex_flow": null,
            "width": null,
            "min_width": null,
            "border": null,
            "align_items": null,
            "bottom": null,
            "_model_module": "@jupyter-widgets/base",
            "top": null,
            "grid_column": null,
            "overflow_y": null,
            "overflow_x": null,
            "grid_auto_flow": null,
            "grid_area": null,
            "grid_template_columns": null,
            "flex": null,
            "_model_name": "LayoutModel",
            "justify_items": null,
            "grid_row": null,
            "max_height": null,
            "align_content": null,
            "visibility": null,
            "align_self": null,
            "height": null,
            "min_height": null,
            "padding": null,
            "grid_auto_rows": null,
            "grid_gap": null,
            "max_width": null,
            "order": null,
            "_view_module_version": "1.2.0",
            "grid_template_areas": null,
            "object_position": null,
            "object_fit": null,
            "grid_auto_columns": null,
            "margin": null,
            "display": null,
            "left": null
          }
        },
        "bf5398a9d8c34f3c8f73ca9e021d01cd": {
          "model_module": "@jupyter-widgets/controls",
          "model_name": "DescriptionStyleModel",
          "state": {
            "_view_name": "StyleView",
            "_model_name": "DescriptionStyleModel",
            "description_width": "",
            "_view_module": "@jupyter-widgets/base",
            "_model_module_version": "1.5.0",
            "_view_count": null,
            "_view_module_version": "1.2.0",
            "_model_module": "@jupyter-widgets/controls"
          }
        },
        "7620f62c58d54123b50db889f60e28d6": {
          "model_module": "@jupyter-widgets/base",
          "model_name": "LayoutModel",
          "state": {
            "_view_name": "LayoutView",
            "grid_template_rows": null,
            "right": null,
            "justify_content": null,
            "_view_module": "@jupyter-widgets/base",
            "overflow": null,
            "_model_module_version": "1.2.0",
            "_view_count": null,
            "flex_flow": null,
            "width": null,
            "min_width": null,
            "border": null,
            "align_items": null,
            "bottom": null,
            "_model_module": "@jupyter-widgets/base",
            "top": null,
            "grid_column": null,
            "overflow_y": null,
            "overflow_x": null,
            "grid_auto_flow": null,
            "grid_area": null,
            "grid_template_columns": null,
            "flex": null,
            "_model_name": "LayoutModel",
            "justify_items": null,
            "grid_row": null,
            "max_height": null,
            "align_content": null,
            "visibility": null,
            "align_self": null,
            "height": null,
            "min_height": null,
            "padding": null,
            "grid_auto_rows": null,
            "grid_gap": null,
            "max_width": null,
            "order": null,
            "_view_module_version": "1.2.0",
            "grid_template_areas": null,
            "object_position": null,
            "object_fit": null,
            "grid_auto_columns": null,
            "margin": null,
            "display": null,
            "left": null
          }
        },
        "4d89611d6c404a71b828002a510b0082": {
          "model_module": "@jupyter-widgets/controls",
          "model_name": "HBoxModel",
          "state": {
            "_view_name": "HBoxView",
            "_dom_classes": [],
            "_model_name": "HBoxModel",
            "_view_module": "@jupyter-widgets/controls",
            "_model_module_version": "1.5.0",
            "_view_count": null,
            "_view_module_version": "1.5.0",
            "box_style": "",
            "layout": "IPY_MODEL_f124acb030d04d97a926ef6db2355c6c",
            "_model_module": "@jupyter-widgets/controls",
            "children": [
              "IPY_MODEL_73241cc5b6674a8ca826620c8dfd58e9",
              "IPY_MODEL_4261be1364bf4ba598c83d694bcade2e"
            ]
          }
        },
        "f124acb030d04d97a926ef6db2355c6c": {
          "model_module": "@jupyter-widgets/base",
          "model_name": "LayoutModel",
          "state": {
            "_view_name": "LayoutView",
            "grid_template_rows": null,
            "right": null,
            "justify_content": null,
            "_view_module": "@jupyter-widgets/base",
            "overflow": null,
            "_model_module_version": "1.2.0",
            "_view_count": null,
            "flex_flow": null,
            "width": null,
            "min_width": null,
            "border": null,
            "align_items": null,
            "bottom": null,
            "_model_module": "@jupyter-widgets/base",
            "top": null,
            "grid_column": null,
            "overflow_y": null,
            "overflow_x": null,
            "grid_auto_flow": null,
            "grid_area": null,
            "grid_template_columns": null,
            "flex": null,
            "_model_name": "LayoutModel",
            "justify_items": null,
            "grid_row": null,
            "max_height": null,
            "align_content": null,
            "visibility": null,
            "align_self": null,
            "height": null,
            "min_height": null,
            "padding": null,
            "grid_auto_rows": null,
            "grid_gap": null,
            "max_width": null,
            "order": null,
            "_view_module_version": "1.2.0",
            "grid_template_areas": null,
            "object_position": null,
            "object_fit": null,
            "grid_auto_columns": null,
            "margin": null,
            "display": null,
            "left": null
          }
        },
        "73241cc5b6674a8ca826620c8dfd58e9": {
          "model_module": "@jupyter-widgets/controls",
          "model_name": "FloatProgressModel",
          "state": {
            "_view_name": "ProgressView",
            "style": "IPY_MODEL_24cf3ef245dc4687a1d1f53ca1578ef4",
            "_dom_classes": [],
            "description": " 80%",
            "_model_name": "FloatProgressModel",
            "bar_style": "",
            "max": 5,
            "_view_module": "@jupyter-widgets/controls",
            "_model_module_version": "1.5.0",
            "value": 4,
            "_view_count": null,
            "_view_module_version": "1.5.0",
            "orientation": "horizontal",
            "min": 0,
            "description_tooltip": null,
            "_model_module": "@jupyter-widgets/controls",
            "layout": "IPY_MODEL_8c2ad99056ac48fab6d5cfbd96798b72"
          }
        },
        "4261be1364bf4ba598c83d694bcade2e": {
          "model_module": "@jupyter-widgets/controls",
          "model_name": "HTMLModel",
          "state": {
            "_view_name": "HTMLView",
            "style": "IPY_MODEL_088ef215331b460496f527654571c004",
            "_dom_classes": [],
            "description": "",
            "_model_name": "HTMLModel",
            "placeholder": "​",
            "_view_module": "@jupyter-widgets/controls",
            "_model_module_version": "1.5.0",
            "value": " 4/5 [56:40&lt;14:07, 847.34s/it]",
            "_view_count": null,
            "_view_module_version": "1.5.0",
            "description_tooltip": null,
            "_model_module": "@jupyter-widgets/controls",
            "layout": "IPY_MODEL_4eb9f6d41bed4625a02a8c6550c8a56e"
          }
        },
        "24cf3ef245dc4687a1d1f53ca1578ef4": {
          "model_module": "@jupyter-widgets/controls",
          "model_name": "ProgressStyleModel",
          "state": {
            "_view_name": "StyleView",
            "_model_name": "ProgressStyleModel",
            "description_width": "initial",
            "_view_module": "@jupyter-widgets/base",
            "_model_module_version": "1.5.0",
            "_view_count": null,
            "_view_module_version": "1.2.0",
            "bar_color": null,
            "_model_module": "@jupyter-widgets/controls"
          }
        },
        "8c2ad99056ac48fab6d5cfbd96798b72": {
          "model_module": "@jupyter-widgets/base",
          "model_name": "LayoutModel",
          "state": {
            "_view_name": "LayoutView",
            "grid_template_rows": null,
            "right": null,
            "justify_content": null,
            "_view_module": "@jupyter-widgets/base",
            "overflow": null,
            "_model_module_version": "1.2.0",
            "_view_count": null,
            "flex_flow": null,
            "width": null,
            "min_width": null,
            "border": null,
            "align_items": null,
            "bottom": null,
            "_model_module": "@jupyter-widgets/base",
            "top": null,
            "grid_column": null,
            "overflow_y": null,
            "overflow_x": null,
            "grid_auto_flow": null,
            "grid_area": null,
            "grid_template_columns": null,
            "flex": null,
            "_model_name": "LayoutModel",
            "justify_items": null,
            "grid_row": null,
            "max_height": null,
            "align_content": null,
            "visibility": null,
            "align_self": null,
            "height": null,
            "min_height": null,
            "padding": null,
            "grid_auto_rows": null,
            "grid_gap": null,
            "max_width": null,
            "order": null,
            "_view_module_version": "1.2.0",
            "grid_template_areas": null,
            "object_position": null,
            "object_fit": null,
            "grid_auto_columns": null,
            "margin": null,
            "display": null,
            "left": null
          }
        },
        "088ef215331b460496f527654571c004": {
          "model_module": "@jupyter-widgets/controls",
          "model_name": "DescriptionStyleModel",
          "state": {
            "_view_name": "StyleView",
            "_model_name": "DescriptionStyleModel",
            "description_width": "",
            "_view_module": "@jupyter-widgets/base",
            "_model_module_version": "1.5.0",
            "_view_count": null,
            "_view_module_version": "1.2.0",
            "_model_module": "@jupyter-widgets/controls"
          }
        },
        "4eb9f6d41bed4625a02a8c6550c8a56e": {
          "model_module": "@jupyter-widgets/base",
          "model_name": "LayoutModel",
          "state": {
            "_view_name": "LayoutView",
            "grid_template_rows": null,
            "right": null,
            "justify_content": null,
            "_view_module": "@jupyter-widgets/base",
            "overflow": null,
            "_model_module_version": "1.2.0",
            "_view_count": null,
            "flex_flow": null,
            "width": null,
            "min_width": null,
            "border": null,
            "align_items": null,
            "bottom": null,
            "_model_module": "@jupyter-widgets/base",
            "top": null,
            "grid_column": null,
            "overflow_y": null,
            "overflow_x": null,
            "grid_auto_flow": null,
            "grid_area": null,
            "grid_template_columns": null,
            "flex": null,
            "_model_name": "LayoutModel",
            "justify_items": null,
            "grid_row": null,
            "max_height": null,
            "align_content": null,
            "visibility": null,
            "align_self": null,
            "height": null,
            "min_height": null,
            "padding": null,
            "grid_auto_rows": null,
            "grid_gap": null,
            "max_width": null,
            "order": null,
            "_view_module_version": "1.2.0",
            "grid_template_areas": null,
            "object_position": null,
            "object_fit": null,
            "grid_auto_columns": null,
            "margin": null,
            "display": null,
            "left": null
          }
        }
      }
    },
    "accelerator": "GPU"
  },
  "cells": [
    {
      "cell_type": "markdown",
      "metadata": {
        "id": "view-in-github",
        "colab_type": "text"
      },
      "source": [
        "<a href=\"https://colab.research.google.com/github/anasnafis77/Deteksi-Glaukoma/blob/main/Semantic_segmentation.ipynb\" target=\"_parent\"><img src=\"https://colab.research.google.com/assets/colab-badge.svg\" alt=\"Open In Colab\"/></a>"
      ]
    },
    {
      "cell_type": "code",
      "metadata": {
        "id": "pxjFeNlnmxqZ"
      },
      "source": [
        "import os\n",
        "import random\n",
        "import pandas as pd\n",
        "import numpy as np\n",
        "import matplotlib.pyplot as plt\n",
        "plt.style.use(\"ggplot\")\n",
        "%matplotlib inline\n",
        "\n",
        "from ipywidgets import interact\n",
        "from tqdm import tqdm_notebook, tnrange\n",
        "from itertools import chain\n",
        "from skimage.io import imread, imshow, concatenate_images\n",
        "from skimage.transform import resize\n",
        "from skimage.morphology import label\n",
        "from sklearn.model_selection import train_test_split\n",
        "\n",
        "import tensorflow as tf\n",
        "\n",
        "from keras.models import Model, load_model\n",
        "from keras.layers import Input, BatchNormalization, Activation, Dense, Dropout, Lambda\n",
        "from keras.layers.core import Lambda, RepeatVector, Reshape\n",
        "from keras.layers.convolutional import Conv2D, Conv2DTranspose\n",
        "from keras.layers.pooling import MaxPooling2D, GlobalMaxPool2D\n",
        "from keras.layers.merge import concatenate, add\n",
        "from keras.callbacks import EarlyStopping, ModelCheckpoint, ReduceLROnPlateau\n",
        "from keras.optimizers import Adam\n",
        "from keras.preprocessing.image import ImageDataGenerator, array_to_img, img_to_array, load_img\n",
        "import cv2\n",
        "from google.colab import drive\n",
        "from keras import backend as K\n",
        "from PIL import Image"
      ],
      "execution_count": 1,
      "outputs": []
    },
    {
      "cell_type": "code",
      "metadata": {
        "id": "Ldp-PGUmmLmB",
        "colab": {
          "base_uri": "https://localhost:8080/"
        },
        "outputId": "dca86321-7b99-42fa-bdc8-0a5cd868fd7e"
      },
      "source": [
        "drive.mount('/content/gdrive')"
      ],
      "execution_count": 2,
      "outputs": [
        {
          "output_type": "stream",
          "text": [
            "Mounted at /content/gdrive\n"
          ],
          "name": "stdout"
        }
      ]
    },
    {
      "cell_type": "code",
      "metadata": {
        "id": "3qvjBZNTmumf"
      },
      "source": [
        "df = pd.read_json('/content/gdrive/My Drive/Drive Tugas Akhir/Kode/dataframe.json')"
      ],
      "execution_count": 3,
      "outputs": []
    },
    {
      "cell_type": "code",
      "metadata": {
        "id": "HvgBk0_oKqIh",
        "colab": {
          "base_uri": "https://localhost:8080/"
        },
        "outputId": "7d7743f6-b271-4afc-e6f2-42555b73b25b"
      },
      "source": [
        "df.groupby(['dataset', 'tag']).size()"
      ],
      "execution_count": null,
      "outputs": [
        {
          "output_type": "execute_result",
          "data": {
            "text/plain": [
              "dataset  tag     \n",
              "drishti  Glaucoma     32\n",
              "         Normal       18\n",
              "refuge   Glaucoma     40\n",
              "         Normal      360\n",
              "dtype: int64"
            ]
          },
          "metadata": {
            "tags": []
          },
          "execution_count": 4
        }
      ]
    },
    {
      "cell_type": "markdown",
      "metadata": {
        "id": "DZ5s0DiWQSJc"
      },
      "source": [
        "# Misc"
      ]
    },
    {
      "cell_type": "code",
      "metadata": {
        "id": "fbAKtD77KSbG"
      },
      "source": [
        "H_OD = np.array([])\n",
        "H_OC = np.array([])\n",
        "W_OD = np.array([])\n",
        "W_OC = np.array([])\n",
        "for i in range(len(df)):\n",
        "  OD_mask = cv2.imread(df['path_OD_png'][i], 0)\n",
        "  OC_mask = cv2.imread(df['path_OC_png'][i], 0)\n",
        "  OD_mask,_ = cv2.findContours(OD_mask, cv2.RETR_EXTERNAL, cv2.CHAIN_APPROX_NONE)\n",
        "  OC_mask,_ = cv2.findContours(OC_mask, cv2.RETR_EXTERNAL, cv2.CHAIN_APPROX_NONE)\n",
        "  OD_mask = cv2.approxPolyDP(OD_mask[0], 3, True)\n",
        "  OC_mask = cv2.approxPolyDP(OC_mask[0], 3, True)\n",
        "  _, _, w_OD, h_OD = cv2.boundingRect(OD_mask)\n",
        "  _, _, w_OC, h_OC = cv2.boundingRect(OC_mask)\n",
        "  H_OD = np.append(H_OD, h_OD)\n",
        "  H_OC = np.append(H_OC, h_OC)\n",
        "  W_OD = np.append(W_OD, w_OD)\n",
        "  W_OC = np.append(W_OC, w_OC)"
      ],
      "execution_count": null,
      "outputs": []
    },
    {
      "cell_type": "code",
      "metadata": {
        "id": "rtAkVNBjYIql",
        "colab": {
          "base_uri": "https://localhost:8080/"
        },
        "outputId": "a727e81c-b92b-4199-a960-0f9918bb3e2c"
      },
      "source": [
        "H_OD = np.sort(H_OD, axis=0)\n",
        "H_OC = np.sort(H_OC, axis=0)\n",
        "W_OD = np.sort(W_OD, axis=0)\n",
        "W_OC = np.sort(W_OC, axis=0)\n",
        "plt.figure(figsize=(10,10))\n",
        "plt.subplot(221), \n",
        "plt.scatter(list(range(len(df))), H_OD, marker='x')\n",
        "plt.title('Height of OD')\n",
        "plt.text(np.argmax(H_OD)-150, np.max(H_OD), 'max: {}'.format(np.max(H_OD)))\n",
        "plt.xlabel('Data')\n",
        "plt.ylabel('Height')\n",
        "plt.subplot(222),\n",
        "plt.scatter(list(range(len(df))), H_OC, marker='x')\n",
        "plt.title('Height of OC')\n",
        "plt.text(np.argmax(H_OC)-150, np.max(H_OC), 'max: {}'.format(np.max(H_OC)))\n",
        "plt.xlabel('Data')\n",
        "plt.ylabel('Height')\n",
        "plt.subplot(223),\n",
        "plt.scatter(list(range(len(df))), W_OD, marker='x')\n",
        "plt.title('Width of OD')\n",
        "plt.text(np.argmax(W_OD)-150, np.max(W_OD), 'max: {}'.format(np.max(W_OD)))\n",
        "plt.xlabel('Data')\n",
        "plt.ylabel('Width')\n",
        "plt.subplot(224),\n",
        "plt.scatter(list(range(len(df))), W_OC, marker='x')\n",
        "plt.title('Width of OC')\n",
        "plt.text(np.argmax(W_OC)-150, np.max(W_OC), 'max: {}'.format(np.max(W_OC)))\n",
        "plt.xlabel('Data')\n",
        "plt.ylabel('Width')\n",
        "plt.show()"
      ],
      "execution_count": null,
      "outputs": [
        {
          "output_type": "display_data",
          "data": {
            "image/png": "[encoded data removed]",
            "text/plain": [
              "<Figure size 720x720 with 4 Axes>"
            ]
          },
          "metadata": {
            "tags": [],
            "needs_background": "light"
          }
        }
      ]
    },
    {
      "cell_type": "code",
      "metadata": {
        "id": "AtGqqlu2HKBU",
        "colab": {
          "base_uri": "https://localhost:8080/"
        },
        "outputId": "558bb5aa-5727-457a-c386-d1d6cfa89e7e"
      },
      "source": [
        "error_OD = []\n",
        "error_OC = []\n",
        "for i in range(len(df)):\n",
        "  img_OD = cv2.imread(df['path_OD_png'][5], 0)\n",
        "  img_OD,_ = ekstrakROI(df['disc_center'][5], 550, img_OD)\n",
        "  img1_OD = img_OD/255.0\n",
        "  \n",
        "  img2_OD = downscale(img1_OD)\n",
        "  img3_OD = upscale(img2_OD)\n",
        "  #img2_OD = cv2.resize(img1_OD, (256, 256), interpolation = cv2.INTER_CUBIC)\n",
        "  #img3_OD = cv2.resize(img2_OD, (550, 550), interpolation = cv2.INTER_CUBIC)\n",
        "  #\n",
        "  #img3_OD = resize(img2_OD, (550, 550), mode = 'constant', preserve_range = True)\n",
        "  \n",
        "  img3_OD = img3_OD>0.5\n",
        "\n",
        "  img_OC = cv2.imread(df['path_OC_png'][5], 0)\n",
        "  img_OC,_ = ekstrakROI(df['disc_center'][5], 550, img_OC)\n",
        "  img1_OC = img_OC/255.0\n",
        "\n",
        "  img2_OC = downscale(img1_OC)\n",
        "  img3_OC = upscale(img2_OC)\n",
        "  #img2_OC = cv2.resize(img1_OC, (256, 256), interpolation = cv2.INTER_CUBIC)\n",
        "  #img3_OC = cv2.resize(img2_OC, (550, 550), interpolation = cv2.INTER_CUBIC)\n",
        "  #\n",
        "  #img3_OC = resize(img2_OC, (550, 550), mode = 'constant', preserve_range = True)\n",
        "  \n",
        "  img3_OC = img3_OC>0.5\n",
        "\n",
        "  DSC_OD = np.sum(img3_OD[img1_OD==1.0])*2.0 / (np.sum(img3_OD) + np.sum(img1_OD))\n",
        "  DSC_OC = np.sum(img3_OC[img1_OC==1.0])*2.0 / (np.sum(img3_OC) + np.sum(img1_OC))\n",
        "\n",
        "  error_OD.append(1-DSC_OD)\n",
        "  error_OC.append(1-DSC_OC)\n",
        "\n",
        "error_OD = np.array(error_OD)\n",
        "error_OC = np.array(error_OC)\n",
        "print('Mean error dari resizing OD: {:.6f}'.format(np.mean(error_OD)))\n",
        "print('STD error dari resizing OD: {:.6f}'.format(np.std(error_OD)))\n",
        "print('Mean error dari resizing OC: {:.6f}'.format(np.mean(error_OC)))\n",
        "print('STD error dari resizing OC: {:.6f}'.format(np.std(error_OC)))"
      ],
      "execution_count": null,
      "outputs": [
        {
          "output_type": "stream",
          "text": [
            "Mean error dari resizing OD: 0.000571\n",
            "STD error dari resizing OD: 0.000000\n",
            "Mean error dari resizing OC: 0.000656\n",
            "STD error dari resizing OC: 0.000000\n"
          ],
          "name": "stdout"
        }
      ]
    },
    {
      "cell_type": "code",
      "metadata": {
        "id": "dczjL2g0dlHM",
        "colab": {
          "base_uri": "https://localhost:8080/",
          "height": 298
        },
        "outputId": "b4a643ba-ebbb-45d7-9998-20f7448487a3"
      },
      "source": [
        "img = cv2.imread(df['path'][1], 1)[:,:,1]\n",
        "center = df['disc_center'][1]\n",
        "clahe = cv2.createCLAHE(clipLimit=2.0, tileGridSize=(8,8))\n",
        "img = clahe.apply(img)\n",
        "img,_ = ekstrakROI(center, 550, img)\n",
        "img1 = downscale(img.reshape(550, 550, 1))\n",
        "img2 = resize(img, (256, 256), mode = 'constant', preserve_range = True)\n",
        "plt.figure(figsize=(15, 5))\n",
        "plt.subplot(131), plt.imshow(img, cmap='gray')\n",
        "plt.subplot(132), plt.imshow(img1.numpy().squeeze(), cmap='gray')\n",
        "plt.subplot(133), plt.imshow(img2, cmap='gray')\n",
        "plt.show()\n"
      ],
      "execution_count": null,
      "outputs": [
        {
          "output_type": "display_data",
          "data": {
            "image/png": "[encoded data removed]",
            "text/plain": [
              "<Figure size 1080x360 with 3 Axes>"
            ]
          },
          "metadata": {
            "tags": [],
            "needs_background": "light"
          }
        }
      ]
    },
    {
      "cell_type": "markdown",
      "metadata": {
        "id": "917qd3A-QbyP"
      },
      "source": [
        "# Functions"
      ]
    },
    {
      "cell_type": "code",
      "metadata": {
        "id": "MR2bPNh9Q8IX"
      },
      "source": [
        "def rectfromcenter(center, s, h, w):\n",
        "  x, y = center\n",
        "  x0 = round(x - 0.5*s)\n",
        "  x1 = round(x + 0.5*s)\n",
        "  y0 = round(y - 0.5*s)\n",
        "  y1 = round(y + 0.5*s)\n",
        "  dx = (x1 - x0) - s\n",
        "  dy = (y1 - y0) - s\n",
        "  # penanganan kasus out of image\n",
        "  if (x0 < 0):\n",
        "    x1 = x1 + (-x0)\n",
        "    x0 = 0\n",
        "    x1 -= dx\n",
        "  elif (x1 > w-1):\n",
        "    x0 = x0 - (x1-(w-1))\n",
        "    x1 = w-1\n",
        "    x0 += dx\n",
        "  else:\n",
        "    x0 += dx\n",
        "\n",
        "  if (y0 < 0):\n",
        "    y1 = y1 + (-y0)\n",
        "    y0 = 0\n",
        "    y1 -= dy\n",
        "  elif (y1 > h-1):\n",
        "    y0 = y0 - (y1-(h-1))\n",
        "    y1 = (h-1)\n",
        "    y0 += dy\n",
        "  else:\n",
        "    y0 += dy\n",
        "\n",
        "  return y0, y1, x0, x1"
      ],
      "execution_count": 4,
      "outputs": []
    },
    {
      "cell_type": "code",
      "metadata": {
        "id": "1xYPfU0IMynD"
      },
      "source": [
        "# Fungsi untuk mengekstrak ROI\n",
        "# input : list centroid, panjang sisi ROI (s), dan image \n",
        "# output : ROI image\n",
        "\n",
        "def ekstrakROI(centroid, s, img):\n",
        "  h, w = img.shape[:2]\n",
        " \n",
        "  y0, y1, x0, x1 = rectfromcenter(centroid, s, h, w)\n",
        "\n",
        "  #cropping ROI from source image\n",
        "  ROI = img[y0:y1, x0:x1]\n",
        "  koordinat = (y0, y1, x0, x1)\n",
        "\n",
        "  return ROI, koordinat"
      ],
      "execution_count": 5,
      "outputs": []
    },
    {
      "cell_type": "code",
      "metadata": {
        "id": "nL-1JlKlY_nt"
      },
      "source": [
        "def recall_m(y_true, y_pred):\n",
        "    true_positives = K.sum(K.round(K.clip(y_true * y_pred, 0, 1)))\n",
        "    possible_positives = K.sum(K.round(K.clip(y_true, 0, 1)))\n",
        "    recall = true_positives / (possible_positives + K.epsilon())\n",
        "    return recall\n",
        "\n",
        "def precision_m(y_true, y_pred):\n",
        "    true_positives = K.sum(K.round(K.clip(y_true * y_pred, 0, 1)))\n",
        "    predicted_positives = K.sum(K.round(K.clip(y_pred, 0, 1)))\n",
        "    precision = true_positives / (predicted_positives + K.epsilon())\n",
        "    return precision\n",
        "\n",
        "def fscore(y_true, y_pred):\n",
        "    precision = precision_m(y_true, y_pred)\n",
        "    recall = recall_m(y_true, y_pred)\n",
        "    return 2*((precision*recall)/(precision+recall+K.epsilon()))"
      ],
      "execution_count": 6,
      "outputs": []
    },
    {
      "cell_type": "code",
      "metadata": {
        "id": "ViwImHHABnq3"
      },
      "source": [
        "def histo(histories):\n",
        "  for i, histori in enumerate(histories):\n",
        "    plt.figure(figsize=(20, 5))\n",
        "    print('Fold-{}'.format(i+1))\n",
        "    plt.subplot(131), \n",
        "    plt.plot(histori.history[\"accuracy\"], label=\"accuracy\")\n",
        "    plt.plot(histori.history[\"val_accuracy\"], label=\"val_acc\")\n",
        "    plt.plot(np.argmax(histori.history[\"val_accuracy\"]), np.max(histori.history[\"val_accuracy\"]), marker=\"x\", color=\"r\", label=\"best model\")\n",
        "    plt.xlabel(\"Epochs\")\n",
        "    plt.ylabel(\"Accuracy\")\n",
        "    plt.legend()\n",
        "    plt.subplot(132), \n",
        "    plt.plot(histori.history[\"fscore\"], label=\"fscore\")\n",
        "    plt.plot(histori.history[\"val_fscore\"], label=\"val_fscore\")\n",
        "    plt.plot( np.argmax(histori.history[\"val_fscore\"]), np.max(histori.history[\"val_fscore\"]), marker=\"x\", color=\"r\", label=\"best model\")\n",
        "    plt.xlabel(\"Epochs\")\n",
        "    plt.ylabel(\"Fscore\")\n",
        "    plt.legend()\n",
        "    plt.subplot(133),\n",
        "    plt.plot(histori.history[\"loss\"], label=\"loss\")\n",
        "    plt.plot(histori.history[\"val_loss\"], label=\"val_loss\")\n",
        "    plt.plot( np.argmin(histori.history[\"val_loss\"]), np.min(histori.history[\"val_loss\"]), marker=\"x\", color=\"r\", label=\"best model\")\n",
        "    plt.xlabel(\"Epochs\")\n",
        "    plt.ylabel(\"log_loss\")\n",
        "    plt.legend()\n",
        "\n",
        "    plt.show()"
      ],
      "execution_count": 7,
      "outputs": []
    },
    {
      "cell_type": "code",
      "metadata": {
        "id": "qL2jr_MkC9l5"
      },
      "source": [
        "def downscale(img):\n",
        "    size = (256, 256)\n",
        "    img = tf.image.resize(img, size, method=tf.image.ResizeMethod.BICUBIC, preserve_aspect_ratio=True)\n",
        "    return img\n",
        "\n",
        "def upscale(img):\n",
        "  size = (550, 550)\n",
        "  img = tf.image.resize(img, size, method=tf.image.ResizeMethod.BICUBIC, preserve_aspect_ratio=True)\n",
        "\n",
        "  return img"
      ],
      "execution_count": 8,
      "outputs": []
    },
    {
      "cell_type": "code",
      "metadata": {
        "id": "EQOpKmxfnNuM"
      },
      "source": [
        "def conv2d_block(input_tensor, n_filters, kernel_size = 3, batchnorm = True):\n",
        "    \"\"\"Function to add 2 convolutional layers with the parameters passed to it\"\"\"\n",
        "    # first layer\n",
        "    x = Conv2D(filters = n_filters, kernel_size = (kernel_size, kernel_size),\\\n",
        "              kernel_initializer = 'he_normal', padding = 'same')(input_tensor)\n",
        "    if batchnorm:\n",
        "        x = BatchNormalization()(x)\n",
        "    x = Activation('relu')(x)\n",
        "    \n",
        "    # second layer\n",
        "    x = Conv2D(filters = n_filters, kernel_size = (kernel_size, kernel_size),\\\n",
        "              kernel_initializer = 'he_normal', padding = 'same')(input_tensor)\n",
        "    if batchnorm:\n",
        "        x = BatchNormalization()(x)\n",
        "    x = Activation('relu')(x)\n",
        "    \n",
        "    return x\n",
        "  \n",
        "def get_unet(input_img, n_filters = 16, dropout = 0.1, batchnorm = True):\n",
        "    # Contracting Path\n",
        "    \n",
        "    c1 = conv2d_block(input_img, n_filters * 1, kernel_size = 3, batchnorm = batchnorm)\n",
        "    p1 = MaxPooling2D((2, 2))(c1)\n",
        "    p1 = Dropout(dropout)(p1)\n",
        "    \n",
        "    c2 = conv2d_block(p1, n_filters * 2, kernel_size = 3, batchnorm = batchnorm)\n",
        "    p2 = MaxPooling2D((2, 2))(c2)\n",
        "    p2 = Dropout(dropout)(p2)\n",
        "    \n",
        "    c3 = conv2d_block(p2, n_filters * 4, kernel_size = 3, batchnorm = batchnorm)\n",
        "    p3 = MaxPooling2D((2, 2))(c3)\n",
        "    p3 = Dropout(dropout)(p3)\n",
        "    \n",
        "    c4 = conv2d_block(p3, n_filters * 8, kernel_size = 3, batchnorm = batchnorm)\n",
        "    p4 = MaxPooling2D((2, 2))(c4)\n",
        "    p4 = Dropout(dropout)(p4)\n",
        "    \n",
        "    c5 = conv2d_block(p4, n_filters = n_filters * 16, kernel_size = 3, batchnorm = batchnorm)\n",
        "    \n",
        "    # Expansive Path\n",
        "    u6 = Conv2DTranspose(n_filters * 8, (3, 3), strides = (2, 2), padding = 'same')(c5)\n",
        "    u6 = concatenate([u6, c4])\n",
        "    u6 = Dropout(dropout)(u6)\n",
        "    c6 = conv2d_block(u6, n_filters * 8, kernel_size = 3, batchnorm = batchnorm)\n",
        "    \n",
        "    u7 = Conv2DTranspose(n_filters * 4, (3, 3), strides = (2, 2), padding = 'same')(c6)\n",
        "    u7 = concatenate([u7, c3])\n",
        "    u7 = Dropout(dropout)(u7)\n",
        "    c7 = conv2d_block(u7, n_filters * 4, kernel_size = 3, batchnorm = batchnorm)\n",
        "    \n",
        "    u8 = Conv2DTranspose(n_filters * 2, (3, 3), strides = (2, 2), padding = 'same')(c7)\n",
        "    u8 = concatenate([u8, c2])\n",
        "    u8 = Dropout(dropout)(u8)\n",
        "    c8 = conv2d_block(u8, n_filters * 2, kernel_size = 3, batchnorm = batchnorm)\n",
        "    \n",
        "    u9 = Conv2DTranspose(n_filters * 1, (3, 3), strides = (2, 2), padding = 'same')(c8)\n",
        "    u9 = concatenate([u9, c1])\n",
        "    u9 = Dropout(dropout)(u9)\n",
        "    c9 = conv2d_block(u9, n_filters * 1, kernel_size = 3, batchnorm = batchnorm)\n",
        "    outputs = Conv2D(1, (1, 1), activation='sigmoid')(c9)\n",
        "    \n",
        "    \n",
        "    model = Model(inputs=[input_img], outputs=[outputs])\n",
        "    return model"
      ],
      "execution_count": 9,
      "outputs": []
    },
    {
      "cell_type": "code",
      "metadata": {
        "id": "zlOE8-5Sdn-O"
      },
      "source": [
        "def index_shuffle(f, random_state=4):\n",
        "  ix_dr_gl = np.array(list(range(0, 32)))\n",
        "  ix_dr_n = np.array(list(range(32, 50)))\n",
        "  ix_re_gl = np.array(list(range(50, 90)))\n",
        "  ix_re_n = np.array(list(range(90, 450)))\n",
        "  \n",
        "  random.Random(random_state).shuffle(ix_dr_gl)\n",
        "  random.Random(random_state).shuffle(ix_dr_n)\n",
        "  random.Random(random_state).shuffle(ix_re_gl)\n",
        "  random.Random(random_state).shuffle(ix_re_n)\n",
        "\n",
        "  dr_gl = np.array([0, 6, 12, 18, 25, 32]) # portion of each fold for drishti-glaucoma data\n",
        "  dr_n = np.array([0, 3, 6, 10, 14, 18]) # portion of each fold for drishti-normal data\n",
        "  re_gl = np.array([0, 8, 16, 24, 32, 40]) # portion of each fold for refuge-glaucoma data\n",
        "  re_n = np.array([0, 72, 144, 216, 288, 360]) # portion of each fold for refuge-normal data\n",
        "  \n",
        "  i = f - 1\n",
        "  # meta-index for train data\n",
        "  tr_dr_gl = list(range(dr_gl[i])) + list(range(dr_gl[i+1], 32))\n",
        "  tr_dr_n = list(range(dr_n[i])) + list(range(dr_n[i+1], 18))\n",
        "  tr_re_gl = list(range(re_gl[i])) + list(range(re_gl[i+1], 40))\n",
        "  tr_re_n = list(range(re_n[i])) + list(range(re_n[i+1], 360))\n",
        "\n",
        "  # meta-index for test data\n",
        "  te_dr_gl = list(range(dr_gl[i], dr_gl[i+1])) \n",
        "  te_dr_n = list(range(dr_n[i], dr_n[i+1]))\n",
        "  te_re_gl = list(range(re_gl[i], re_gl[i+1]))\n",
        "  te_re_n = list(range(re_n[i], re_n[i+1]))\n",
        "\n",
        "  ix_train = np.concatenate((ix_dr_gl[tr_dr_gl], ix_dr_n[tr_dr_n],\n",
        "                               ix_re_gl[tr_re_gl], ix_re_n[tr_re_n]))\n",
        "  ix_test = np.concatenate((ix_dr_gl[te_dr_gl], ix_dr_n[te_dr_n],\n",
        "                              ix_re_gl[te_re_gl],  ix_re_n[te_re_n]))\n",
        "  \n",
        "  random.Random(random_state).shuffle(ix_train)\n",
        "  random.Random(random_state).shuffle(ix_test)\n",
        "\n",
        "\n",
        "  return ix_train, ix_test"
      ],
      "execution_count": 10,
      "outputs": []
    },
    {
      "cell_type": "code",
      "metadata": {
        "id": "vMBd9VJlRQko"
      },
      "source": [
        "def data_shuffle(X, y, f, random_state=4):\n",
        "  # Mengembablikan data X dan y menjadi data yang siap untuk mentrain dan test model\n",
        "  # pada fold ke - f\n",
        "\n",
        "  ix_train, ix_test = index_shuffle(f=f)\n",
        "  X_train = X[ix_train]\n",
        "  X_test = X[ix_test]\n",
        "  y_train = y[ix_train]\n",
        "  y_test = y[ix_test]\n",
        "    \n",
        "  dataset = [X_train, X_test, y_train, y_test]\n",
        "  return dataset"
      ],
      "execution_count": 11,
      "outputs": []
    },
    {
      "cell_type": "code",
      "metadata": {
        "id": "78qFeNEIowRq"
      },
      "source": [
        "def show_examples(examples, y_examples):\n",
        "  plt.figure(figsize=(12, 4))\n",
        "  plt.grid(False)\n",
        "  for i, example in enumerate(examples):\n",
        "    h, w = example.shape[:2]\n",
        "    mask = np.array(example > 0.5, np.uint8)*255\n",
        "    gt_mask = np.array(y_examples[i] > 0, np.uint8)*255\n",
        "    DSC = np.sum(mask[gt_mask==255])*2.0 / (np.sum(mask) + np.sum(gt_mask))\n",
        "    mask = mask.squeeze()\n",
        "    gt_mask = gt_mask.squeeze()\n",
        "    mask_show = np.zeros((h, w, 3), np.uint8)\n",
        "    gt_mask_show = np.zeros((h, w, 3), np.uint8)\n",
        "\n",
        "    mask_show[:, :, 0] = mask\n",
        "    gt_mask_show[:, :, 2] = gt_mask\n",
        "    \n",
        "    plt.subplot(1, len(examples), i+1),\n",
        "    plt.imshow(mask_show,  interpolation='none')\n",
        "    plt.imshow(gt_mask_show, interpolation='none', alpha=0.35)\n",
        "    plt.text(20, 40, 'DSC: {:.3f}'.format(DSC), fontsize='small', color ='w')\n",
        "\n",
        "  plt.show()"
      ],
      "execution_count": 12,
      "outputs": []
    },
    {
      "cell_type": "code",
      "metadata": {
        "id": "XBLXRipOE2oc"
      },
      "source": [
        "def k_fold_crossval(X, y, y_ori, callbacks, tipe, k=5, random_state=4, save=0):\n",
        "  input_img = Input((256,256, 1), name='img')\n",
        "  results = []\n",
        "  fold = []\n",
        "  Loss = []\n",
        "  Accuracy = []\n",
        "  f1score = []\n",
        "  for i in tqdm_notebook(range(k)):\n",
        "    X_train, X_test, y_train, y_test = data_shuffle(X, y, f=i+1)\n",
        "    _, _, _, y_test_ori = data_shuffle(X, y_ori, f=i+1)\n",
        "\n",
        "    print('Evaluate fold ', i+1)\n",
        "    model= get_unet(input_img, n_filters = 64, dropout = 0.1, batchnorm = True)\n",
        "    model.compile(optimizer=Adam(), loss=\"binary_crossentropy\", metrics=[\"accuracy\",fscore])\n",
        "    result = model.fit(X_train, y_train, batch_size=16, epochs=50, callbacks=callbacks,\\\n",
        "                    validation_data=(X_test, y_test), verbose=0)\n",
        "    \n",
        "    results.append(result)\n",
        "    model_layer = model.layers[-1]\n",
        "    lu = Lambda(upscale, name=\"lambda_upscale\")(model_layer.output)\n",
        "    model_upscale = Model(model.input, lu, name=\"upscale_model\")\n",
        "    model_upscale.compile(loss=\"binary_crossentropy\", metrics=[\"accuracy\",fscore])\n",
        "\n",
        "\n",
        "    los = result.history['val_loss'][-1]\n",
        "    acc = result.history['val_accuracy'][-1]\n",
        "    f1 = result.history['val_fscore'][-1]\n",
        "    los_550, acc_550, f1_550 = model_upscale.evaluate(X_test, y_test_ori, verbose=0)\n",
        "    idx = list(range(len(y_test_ori)))\n",
        "    random.Random(3).shuffle(idx)\n",
        "    idx = idx[:3]\n",
        "    y_examples = y_test_ori[idx]\n",
        "    examples = model_upscale.predict(X_test[idx]) \n",
        "    if save:\n",
        "      if los_550 > max(f1score):\n",
        "        print('Saving best model from fold-', best_fold+1)\n",
        "        model_upscale.save('/content/gdrive/My Drive/Drive Tugas Akhir/Kode/model {} semantic/'.format(tipe))\n",
        "        print('Save model success!')\n",
        "    fold.append(i + 1)\n",
        "    Loss.append(los_550)\n",
        "    Accuracy.append(acc_550)\n",
        "    f1score.append(f1_550)\n",
        "    print('Fold {}\\nloss: {:.4f} - acc: {:.3f} - fscore: {:.3f}'.format(i+1, los, acc, f1))\n",
        "    print('after upscalling\\nloss: {:.4f} - acc: {:.3f} - fscore: {:.3f}'.format(los_550, acc_550, f1_550))\n",
        "    show_examples(examples, y_examples)\n",
        "\n",
        "  metrics = pd.DataFrame({'Fold': fold, 'Loss':Loss, 'Acc':Accuracy,\n",
        "                          'Fscore': f1score})\n",
        "  best_fold = np.argmax(f1score)\n",
        "  print('Best model is fold-', best_fold+1)\n",
        "\n",
        "  return results, metrics"
      ],
      "execution_count": 17,
      "outputs": []
    },
    {
      "cell_type": "code",
      "metadata": {
        "id": "jvSgdfiW6DNC"
      },
      "source": [
        "def saving_image(img, path):\n",
        "  if os.path.isfile(path):\n",
        "    os.remove(path)\n",
        "    cv2.imwrite(path, img)\n",
        "  else:\n",
        "    cv2.imwrite(path, img)"
      ],
      "execution_count": 14,
      "outputs": []
    },
    {
      "cell_type": "code",
      "metadata": {
        "id": "uTjWniAl_Xww"
      },
      "source": [
        "def lokalisasiOD(src, template_image, with_mask=False, thres_mult=8/3, \n",
        "                 clahe_image=False):\n",
        "  # Ekstrak kanal hijau\n",
        "  img = src[:,:,1]\n",
        "  h, w = img.shape[:2]\n",
        "  # CLAHE\n",
        "  clahe = cv2.createCLAHE(clipLimit =2.0, tileGridSize=(8,8))\n",
        "  cl_img = clahe.apply(img)\n",
        "\n",
        "  # print('Localizing Optic Disc...')\n",
        "  if with_mask==False:\n",
        "    result = cv2.matchTemplate(cl_img, template_image, cv2.TM_CCOEFF_NORMED)\n",
        "    \n",
        "\n",
        "  elif with_mask==True:\n",
        "    # Building mask\n",
        "    # print('Building mask...')\n",
        "    ret,_ = cv2.threshold(cl_img,0,255,cv2.THRESH_BINARY+cv2.THRESH_OTSU)\n",
        "    cons = thres_mult\n",
        "\n",
        "    # modified otsu thresholding\n",
        "    th = ret*cons\n",
        "    _, otsu_img = cv2.threshold(cl_img,th,255,cv2.THRESH_BINARY)\n",
        "\n",
        "    # Distance Map \n",
        "    dist_img = cv2.distanceTransform(otsu_img, cv2.DIST_L2, cv2.DIST_MASK_PRECISE)\n",
        "\n",
        "    # Maximum pixel at distance map\n",
        "    maxima_img = maxima(dist_img)\n",
        "    maxima_img = cv2.convertScaleAbs(maxima_img)\n",
        "\n",
        "    # Ekstrak centroid berpotensi sebagai disc center\n",
        "    centers = extractcentroids(maxima_img)\n",
        "    src = brightspot (centers, src)\n",
        "\n",
        "    mask = np.zeros([h, w], np.float32)\n",
        "    # Build mask for template matching\n",
        "    for center in centers:\n",
        "      y0, y1, x0, x1 = rectfromcenter(center, 550, h, w)\n",
        "      cv2.rectangle(mask, (x0, y0), (x1, y1), 1.0, thickness = cv2.FILLED)\n",
        "    # print('Localizing OD...')\n",
        "    \n",
        "    result = cv2.matchTemplate(cl_img, template_image, cv2.TM_CCOEFF_NORMED)\n",
        "    top = 0\n",
        "    bottom = h - result.shape[0]\n",
        "    left = 0\n",
        "    right = w - result.shape[1]\n",
        "    value = 0\n",
        "    borderType = cv2.BORDER_CONSTANT\n",
        "    result = cv2.copyMakeBorder(result, top, bottom, left, right, borderType, None, value)\n",
        "    masked = result * mask\n",
        "    #plt.imshow(masked, cmap='gray')\n",
        "\n",
        "  (minVal, maxVal, minLoc, maxLoc) = cv2.minMaxLoc(result)\n",
        "  (startX, startY) = maxLoc\n",
        "  endX = startX + template_image.shape[1]\n",
        "  endY = startY + template_image.shape[0]\n",
        "  disk_center = (round((endX+startX)/2), round((endY+startY)/2))\n",
        "\n",
        "  \n",
        "  # draw the bounding box on the image\n",
        "  if clahe_image:\n",
        "    ROI, koordinat = ekstrakROI(disk_center, 550, cl_img)\n",
        "  else:\n",
        "    ROI, koordinat = ekstrakROI(disk_center, 550, src)\n",
        "  return ROI, koordinat, disk_center\n"
      ],
      "execution_count": 15,
      "outputs": []
    },
    {
      "cell_type": "markdown",
      "metadata": {
        "id": "nsI2Zrn-Qi-p"
      },
      "source": [
        "# Acquiring data"
      ]
    },
    {
      "cell_type": "code",
      "metadata": {
        "id": "UzgQsaUNyJjt"
      },
      "source": [
        "path = \"/content/gdrive/My Drive/Drive Tugas Akhir/Dataset/Data semantic/\""
      ],
      "execution_count": null,
      "outputs": []
    },
    {
      "cell_type": "code",
      "metadata": {
        "id": "CPsUk_kRo-kT",
        "colab": {
          "base_uri": "https://localhost:8080/",
          "height": 116,
          "referenced_widgets": [
            "44996134535043c0b84428dceb286943",
            "4e51ccd73064427898c1d5b96197cf5b",
            "281fb29685cb49188e90f5ba8074c188",
            "4c18a4fd4a1043ab9b6be8e5386ddc9b",
            "574db306321e433981ccb9f4af15e2ec",
            "b5a11c79eee9441db95ef315a212e1eb",
            "41a6e04c5aa14369b534079e8cbbfd46",
            "fd7b8bcbd1ae4e5babeca3edec881e39"
          ]
        },
        "outputId": "a44d54aa-580f-4c50-ae66-6b907177f678"
      },
      "source": [
        "clahe = cv2.createCLAHE(clipLimit=2.0, tileGridSize=(8,8))\n",
        "\n",
        "for i in tqdm_notebook(range(0, len(df))):  \n",
        "  center = df['disc_center'][i]\n",
        "  img = cv2.imread(df['path'][i], 1)[:,:,1]\n",
        "  img = clahe.apply(img)\n",
        "  gt_OD = cv2.imread(df['path_OD_png'][i], 0)\n",
        "  gt_OC = cv2.imread(df['path_OC_png'][i], 0)\n",
        "\n",
        "  img,_ = ekstrakROI(center, 550, img)\n",
        "  gt_OD,_ = ekstrakROI(center, 550, gt_OD)\n",
        "  gt_OC,_ = ekstrakROI(center, 550, gt_OC)\n",
        "\n",
        "  if df['dataset'][i] == 'drishti':\n",
        "    if df['tag'][i] == 'Glaucoma':\n",
        "      saving_image(img, path+'drishti/glaucoma/image/image_{}.png'.format(i+1))    \n",
        "      saving_image(gt_OD, path+'drishti/glaucoma/gt/gtOD_{}.png'.format(i+1))\n",
        "      saving_image(gt_OC, path+'drishti/glaucoma/gt/gtOC_{}.png'.format(i+1))\n",
        "    elif df['tag'][i] == 'Normal':\n",
        "      saving_image(img, path+'drishti/normal/image/image_{}.png'.format(i+1))    \n",
        "      saving_image(gt_OD, path+'drishti/normal/gt/gtOD_{}.png'.format(i+1))\n",
        "      saving_image(gt_OC, path+'drishti/normal/gt/gtOC_{}.png'.format(i+1))\n",
        "  elif df['dataset'][i] == 'refuge':\n",
        "    if df['tag'][i] == 'Glaucoma':\n",
        "      saving_image(img, path+'refuge/glaucoma/image/image_{}.png'.format(i+1))    \n",
        "      saving_image(gt_OD, path+'refuge/glaucoma/gt/gtOD_{}.png'.format(i+1))\n",
        "      saving_image(gt_OC, path+'refuge/glaucoma/gt/gtOC_{}.png'.format(i+1))\n",
        "    elif df['tag'][i] == 'Normal':\n",
        "      saving_image(img, path+'refuge/normal/image/image_{}.png'.format(i+1))    \n",
        "      saving_image(gt_OD, path+'refuge/normal/gt/gtOD_{}.png'.format(i+1))\n",
        "      saving_image(gt_OC, path+'refuge/normal/gt/gtOC_{}.png'.format(i+1))\n",
        "    \n"
      ],
      "execution_count": null,
      "outputs": [
        {
          "output_type": "stream",
          "text": [
            "/usr/local/lib/python3.7/dist-packages/ipykernel_launcher.py:3: TqdmDeprecationWarning: This function will be removed in tqdm==5.0.0\n",
            "Please use `tqdm.notebook.tqdm` instead of `tqdm.tqdm_notebook`\n",
            "  This is separate from the ipykernel package so we can avoid doing imports until\n"
          ],
          "name": "stderr"
        },
        {
          "output_type": "display_data",
          "data": {
            "application/vnd.jupyter.widget-view+json": {
              "model_id": "44996134535043c0b84428dceb286943",
              "version_minor": 0,
              "version_major": 2
            },
            "text/plain": [
              "HBox(children=(FloatProgress(value=0.0, max=450.0), HTML(value='')))"
            ]
          },
          "metadata": {
            "tags": []
          }
        },
        {
          "output_type": "stream",
          "text": [
            "\n"
          ],
          "name": "stdout"
        }
      ]
    },
    {
      "cell_type": "code",
      "metadata": {
        "id": "bQcPI3shfGYg",
        "colab": {
          "base_uri": "https://localhost:8080/",
          "height": 136,
          "referenced_widgets": [
            "b75cc0af015840e281f91db4e9cafed7",
            "754500ca309a4b01812b330ee91b51f2",
            "4628a111c0234ded996afbae171cf646",
            "8989183d8dec4f4eada3806a6033c3a5",
            "6964efdd95594679a4cccbabc9975b09",
            "3cd7a261baef4bf28c9ba574394ed3aa",
            "0e193413c99249c2aadae8be1bf117aa",
            "3271ad92482a44da91871a8700530b90"
          ]
        },
        "outputId": "993132ac-7b87-42f7-b2ad-b99a47cc6be0"
      },
      "source": [
        "# Simple data acquirement\n",
        "path = \"/content/gdrive/My Drive/Drive Tugas Akhir/Dataset/Data semantic/\"\n",
        "X = []\n",
        "y_OD = []\n",
        "y_OC = []\n",
        "y_OD_ori = []\n",
        "y_OC_ori = []\n",
        "\n",
        "clahe = cv2.createCLAHE(clipLimit=2.0, tileGridSize=(8,8))\n",
        "for i in tqdm_notebook(range(0, len(df))):  \n",
        "  center = df['disc_center'][i]\n",
        "  img = cv2.imread(df['path'][i], 1)[:,:,1]\n",
        "  img = clahe.apply(img)\n",
        "  gt_OD_ori = cv2.imread(df['path_OD_png'][i], 0)\n",
        "  gt_OC_ori = cv2.imread(df['path_OC_png'][i], 0)\n",
        "\n",
        "  img,_ = ekstrakROI(center, 550, img)\n",
        "  gt_OD_ori,_ = ekstrakROI(center, 550, gt_OD_ori)\n",
        "  gt_OC_ori,_ = ekstrakROI(center, 550, gt_OC_ori)\n",
        "  img = (resize(img, (256, 256, 1), mode = 'constant', preserve_range = True))/255.0\n",
        "  gt_OD = (resize(gt_OD_ori, (256, 256, 1), mode = 'constant', preserve_range = True))/255.0\n",
        "  gt_OC = (resize(gt_OC_ori, (256, 256, 1), mode = 'constant', preserve_range = True))/255.0\n",
        "  gt_OD_ori = gt_OD_ori.reshape(550, 550, 1)/255.0\n",
        "  gt_OC_ori = gt_OC_ori.reshape(550, 550, 1)/255.0\n",
        "\n",
        "  # X_ori.append(img_ori/255.0)\n",
        "  X.append(img)\n",
        "  y_OD_ori.append(gt_OD_ori)\n",
        "  y_OC_ori.append(gt_OC_ori)\n",
        "  y_OD.append(gt_OD)\n",
        "  y_OC.append(gt_OC)\n",
        "\n",
        "\n",
        "X = np.array(X)\n",
        "y_OD = np.array(y_OD)\n",
        "y_OC = np.array(y_OC)\n",
        "y_OD_ori = np.array(y_OD_ori)\n",
        "y_OC_ori = np.array(y_OC_ori)"
      ],
      "execution_count": 16,
      "outputs": [
        {
          "output_type": "stream",
          "text": [
            "/usr/local/lib/python3.7/dist-packages/ipykernel_launcher.py:10: TqdmDeprecationWarning: This function will be removed in tqdm==5.0.0\n",
            "Please use `tqdm.notebook.tqdm` instead of `tqdm.tqdm_notebook`\n",
            "  # Remove the CWD from sys.path while we load stuff.\n"
          ],
          "name": "stderr"
        },
        {
          "output_type": "display_data",
          "data": {
            "application/vnd.jupyter.widget-view+json": {
              "model_id": "b75cc0af015840e281f91db4e9cafed7",
              "version_major": 2,
              "version_minor": 0
            },
            "text/plain": [
              "HBox(children=(FloatProgress(value=0.0, max=450.0), HTML(value='')))"
            ]
          },
          "metadata": {
            "tags": []
          }
        },
        {
          "output_type": "stream",
          "text": [
            "\n"
          ],
          "name": "stdout"
        }
      ]
    },
    {
      "cell_type": "code",
      "metadata": {
        "id": "9KS9-f771qlo",
        "colab": {
          "base_uri": "https://localhost:8080/",
          "height": 99,
          "referenced_widgets": [
            "7b3b20ecf0e44112a386be5c0714cf9d",
            "a4ff473736da4dbe9752c33a14f9440e",
            "a6a86eb06e054071ba8493e25683338b",
            "cdb308b240a04820b49706140d6173df",
            "88d9a2e5c170466d89b33d78c1d70a16",
            "6bf6a5b3b4de447f981fd1728d3e72fd",
            "2989795601b14a90ba1f3707f6e2db03",
            "6a6002ccf0cc4e93b7abc119576f2711"
          ]
        },
        "outputId": "f394b6ce-ea90-4db4-f85e-563cf9faebad"
      },
      "source": [
        "#Eager data acquistion\n",
        "clahe = cv2.createCLAHE(clipLimit=2.0, tileGridSize=(8,8))\n",
        "X = []\n",
        "y_OD_r = []\n",
        "y_OC_r = []\n",
        "y_OD = []\n",
        "y_OC = []\n",
        "\n",
        "X_dr_gl = []\n",
        "X_dr_n = []\n",
        "X_re_gl = []\n",
        "X_re_n = []\n",
        "y_dr_gl_OD = []\n",
        "y_dr_n_OD = []\n",
        "y_re_gl_OD = []\n",
        "y_re_n_OD = []\n",
        "y_dr_gl_OC = []\n",
        "y_dr_n_OC = []\n",
        "y_re_gl_OC = []\n",
        "y_re_n_OC = []\n",
        "\n",
        "y_dr_glo_OD = []\n",
        "y_dr_no_OD = []\n",
        "y_re_glo_OD = []\n",
        "y_re_no_OD = []\n",
        "y_dr_glo_OC = []\n",
        "y_dr_no_OC = []\n",
        "y_re_glo_OC = []\n",
        "y_re_no_OC = []\n",
        "\n",
        "for i in tqdm_notebook(range(0, len(df))):  \n",
        "  center = df['disc_center'][i]\n",
        "  img = cv2.imread(df['path'][i], 1)[:,:,1]\n",
        "  img = clahe.apply(img)\n",
        "  gt_OD_ori = cv2.imread(df['path_OD_png'][i], 0)\n",
        "  gt_OC_ori = cv2.imread(df['path_OC_png'][i], 0)\n",
        "\n",
        "  img,_ = ekstrakROI(center, 550, img)\n",
        "  gt_OD_ori,_ = ekstrakROI(center, 550, gt_OD_ori)\n",
        "  gt_OC_ori,_ = ekstrakROI(center, 550, gt_OC_ori)\n",
        "  img = (resize(img, (256, 256, 1), mode = 'constant', preserve_range = True))/255.0\n",
        "  gt_OD = (resize(gt_OD_ori, (256, 256, 1), mode = 'constant', preserve_range = True))/255.0\n",
        "  gt_OC = (resize(gt_OC_ori, (256, 256, 1), mode = 'constant', preserve_range = True))/255.0\n",
        "  gt_OD_ori = gt_OD_ori.reshape(550, 550, 1)/255.0\n",
        "  gt_OC_ori = gt_OC_ori.reshape(550, 550, 1)/255.0\n",
        "  if df['dataset'][i] == 'drishti':\n",
        "    if df['tag'][i] == 'Glaucoma':\n",
        "      X_dr_gl.append(img)\n",
        "      y_dr_gl_OD.append(gt_OD)\n",
        "      y_dr_gl_OC.append(gt_OC)\n",
        "      # y_dr_glo_OD.append(gt_OD_ori)\n",
        "      # y_dr_glo_OC.append(gt_OC_ori)\n",
        "    elif df['tag'][i] == 'Normal':\n",
        "      X_dr_n.append(img)\n",
        "      y_dr_n_OD.append(gt_OD)\n",
        "      y_dr_n_OC.append(gt_OC)\n",
        "      # y_dr_no_OD.append(gt_OD_ori)\n",
        "      # y_dr_no_OC.append(gt_OC_ori)\n",
        "  elif df['dataset'][i] == 'refuge':\n",
        "    if df['tag'][i] == 'Glaucoma':\n",
        "      X_re_gl.append(img)\n",
        "      y_re_gl_OD.append(gt_OD)\n",
        "      y_re_gl_OC.append(gt_OC)\n",
        "      # y_re_glo_OD.append(gt_OD_ori)\n",
        "      # y_re_glo_OC.append(gt_OC_ori)\n",
        "    elif df['tag'][i] == 'Normal':\n",
        "      X_re_n.append(img)\n",
        "      y_re_n_OD.append(gt_OD)\n",
        "      y_re_n_OC.append(gt_OC)\n",
        "      # y_re_no_OD.append(gt_OD_ori)\n",
        "      # y_re_no_OC.append(gt_OC_ori)\n",
        "\n",
        "X = [X_dr_gl, X_dr_n, X_re_gl, X_re_n]\n",
        "y_OD = [y_dr_gl_OD, y_dr_n_OD, y_re_gl_OD, y_re_n_OD]\n",
        "y_OC = [y_dr_gl_OC, y_dr_n_OC, y_re_gl_OC, y_re_n_OC]\n",
        "# y_OD_ori = [y_dr_glo_OD, y_dr_no_OD, y_re_glo_OD, y_re_no_OD]\n",
        "# y_OC_ori = [y_dr_glo_OC, y_dr_no_OC, y_re_glo_OC, y_re_no_OC]"
      ],
      "execution_count": null,
      "outputs": [
        {
          "output_type": "stream",
          "text": [
            "/usr/local/lib/python3.7/dist-packages/ipykernel_launcher.py:31: TqdmDeprecationWarning: This function will be removed in tqdm==5.0.0\n",
            "Please use `tqdm.notebook.tqdm` instead of `tqdm.tqdm_notebook`\n"
          ],
          "name": "stderr"
        },
        {
          "output_type": "display_data",
          "data": {
            "application/vnd.jupyter.widget-view+json": {
              "model_id": "7b3b20ecf0e44112a386be5c0714cf9d",
              "version_minor": 0,
              "version_major": 2
            },
            "text/plain": [
              "HBox(children=(FloatProgress(value=0.0, max=450.0), HTML(value='')))"
            ]
          },
          "metadata": {
            "tags": []
          }
        },
        {
          "output_type": "stream",
          "text": [
            "\n"
          ],
          "name": "stdout"
        }
      ]
    },
    {
      "cell_type": "code",
      "metadata": {
        "id": "vdbyL6p2vnl0",
        "colab": {
          "base_uri": "https://localhost:8080/",
          "height": 148,
          "referenced_widgets": [
            "af207f8854bf43ecb359bfa4e55da3ea",
            "34eb0584090646da92dc55b8263ca758",
            "5def4bc8a6ea4f6db76fc8c76fb2fe11",
            "e2dd868cc1844dc39dfcaf85815fda82",
            "a462ef4911e2427991c0f1e50e7f8a49",
            "f853377c0d8c4779a14e80a7f13de328",
            "a5b4172250fa4db89ea3fdc633dc2785",
            "11180ef1826c446192aa63efafa2e412",
            "1e6e86e45de9421aab8894755dab783c",
            "314f00d502ff4fbe9317b4d28796488e",
            "9ddf3fbbaf564ca78bf50c91b88e3817",
            "42623c65b9b74af4908f1c6d75f5999f",
            "14bb3b4b5a744e1dae6ba92fab526f80",
            "e10623b132bd458bbc1b70bbbeee23e9",
            "dab6de1fad604969a9275b89c47a0846",
            "5ed6a7ccd2f342049e49dd96b53a8556"
          ]
        },
        "outputId": "dab7a6ab-dffa-4023-9aa8-3e40b50ee744"
      },
      "source": [
        "# Data splitting for 5 fold validation\n",
        "dataset_OD = k_fold_cross_data(X, y_OD, k=1, test_size=0.2, random_state=4)\n",
        "dataset_OC = k_fold_cross_data(X, y_OC, k=1, test_size=0.2, random_state=4)"
      ],
      "execution_count": null,
      "outputs": [
        {
          "output_type": "stream",
          "text": [
            "/usr/local/lib/python3.7/dist-packages/ipykernel_launcher.py:24: TqdmDeprecationWarning: This function will be removed in tqdm==5.0.0\n",
            "Please use `tqdm.notebook.tqdm` instead of `tqdm.tqdm_notebook`\n"
          ],
          "name": "stderr"
        },
        {
          "output_type": "display_data",
          "data": {
            "application/vnd.jupyter.widget-view+json": {
              "model_id": "af207f8854bf43ecb359bfa4e55da3ea",
              "version_minor": 0,
              "version_major": 2
            },
            "text/plain": [
              "HBox(children=(FloatProgress(value=0.0, max=1.0), HTML(value='')))"
            ]
          },
          "metadata": {
            "tags": []
          }
        },
        {
          "output_type": "stream",
          "text": [
            "\n"
          ],
          "name": "stdout"
        },
        {
          "output_type": "display_data",
          "data": {
            "application/vnd.jupyter.widget-view+json": {
              "model_id": "1e6e86e45de9421aab8894755dab783c",
              "version_minor": 0,
              "version_major": 2
            },
            "text/plain": [
              "HBox(children=(FloatProgress(value=0.0, max=1.0), HTML(value='')))"
            ]
          },
          "metadata": {
            "tags": []
          }
        },
        {
          "output_type": "stream",
          "text": [
            "\n"
          ],
          "name": "stdout"
        }
      ]
    },
    {
      "cell_type": "code",
      "metadata": {
        "id": "Jnbo3GH0qOgT"
      },
      "source": [
        "# Simple data splitting\n",
        "X_train_OD1, X_test_OD1, y_train_OD1, y_test_OD1 = train_test_split(X, y_OD, \n",
        "                                                                test_size=0.2, \n",
        "                                                                random_state = 5)\n",
        "X_train_OC1, X_test_OC1, y_train_OC1, y_test_OC1 = train_test_split(X, y_OC, \n",
        "                                                                test_size=0.2, \n",
        "                                                                random_state = 5)"
      ],
      "execution_count": null,
      "outputs": []
    },
    {
      "cell_type": "code",
      "metadata": {
        "id": "7r_l9lEH4d7S"
      },
      "source": [
        "X_train_OD, X_test_OD, y_train_OD, y_test_OD = data_shuffle(X, y_OD,\n",
        "                                                            f=1, \n",
        "                                                            random_state=4)\n",
        "X_train_OC, X_test_OC, y_train_OC, y_test_OC = data_shuffle(X, y_OC,\n",
        "                                                            f=1, \n",
        "                                                            random_state=4)"
      ],
      "execution_count": null,
      "outputs": []
    },
    {
      "cell_type": "code",
      "metadata": {
        "id": "pNST6BRu3BCB"
      },
      "source": [
        "X_train_OD, X_test_OD, y_train_OD, y_test_OD = dataset_OD[0]\n",
        "X_train_OC, X_test_OC, y_train_OC, y_test_OC = dataset_OC[0]"
      ],
      "execution_count": null,
      "outputs": []
    },
    {
      "cell_type": "markdown",
      "metadata": {
        "id": "MN70qholXOQv"
      },
      "source": [
        "# Train and Test"
      ]
    },
    {
      "cell_type": "code",
      "metadata": {
        "id": "nZiEHJHAvOJk"
      },
      "source": [
        "callbacks_OD = [\n",
        "    EarlyStopping(patience=20, verbose=1),\n",
        "    ReduceLROnPlateau(factor=0.1, patience=5, min_lr=0.00001, verbose=1)\n",
        "    #ModelCheckpoint('model-OD.h5', mode='max', verbose=1, save_best_only=True, \n",
        "    #                save_weights_only=True, monitor='val_fscore')\n",
        "]\n",
        "callbacks_OC = [\n",
        "    EarlyStopping(patience=20, verbose=1),\n",
        "    ReduceLROnPlateau(factor=0.1, patience=5, min_lr=0.00001, verbose=1)\n",
        "    #ModelCheckpoint('model-OC.h5', mode='max', verbose=1, save_best_only=True, \n",
        "    #                save_weights_only=True, monitor='val_fscore')\n",
        "]"
      ],
      "execution_count": 18,
      "outputs": []
    },
    {
      "cell_type": "markdown",
      "metadata": {
        "id": "psSyyvFFw1G1"
      },
      "source": [
        "**5 Fold validation**"
      ]
    },
    {
      "cell_type": "code",
      "metadata": {
        "id": "UDK_W8wJ4C3T",
        "colab": {
          "base_uri": "https://localhost:8080/",
          "height": 1000,
          "referenced_widgets": [
            "f7d078abbdac421d9f936b2fc67b6c54",
            "e6199474b6994c298751971b82a963bd",
            "1e6ac987ebfc411d8bfbb45186aba3cb",
            "2500ca9473134708a3bad0e5d4842459",
            "f6533acf7bdd46e0a9fb482d4e7fb1e6",
            "9ef7cd384c9b43ecacada6da5b71a0a5",
            "bf5398a9d8c34f3c8f73ca9e021d01cd",
            "7620f62c58d54123b50db889f60e28d6"
          ]
        },
        "outputId": "ce4105aa-baa9-45f3-860a-1ceddf45e8ec"
      },
      "source": [
        "results_OD, metrics_OD = k_fold_crossval(X, y_OD, y_OD_ori, callbacks_OD, 'OD', \n",
        "                                         k=5, random_state=4, save=0)"
      ],
      "execution_count": 19,
      "outputs": [
        {
          "output_type": "stream",
          "text": [
            "/usr/local/lib/python3.7/dist-packages/ipykernel_launcher.py:8: TqdmDeprecationWarning: This function will be removed in tqdm==5.0.0\n",
            "Please use `tqdm.notebook.tqdm` instead of `tqdm.tqdm_notebook`\n",
            "  \n"
          ],
          "name": "stderr"
        },
        {
          "output_type": "display_data",
          "data": {
            "application/vnd.jupyter.widget-view+json": {
              "model_id": "f7d078abbdac421d9f936b2fc67b6c54",
              "version_major": 2,
              "version_minor": 0
            },
            "text/plain": [
              "HBox(children=(FloatProgress(value=0.0, max=5.0), HTML(value='')))"
            ]
          },
          "metadata": {
            "tags": []
          }
        },
        {
          "output_type": "stream",
          "text": [
            "Evaluate fold  1\n",
            "\n",
            "Epoch 00035: ReduceLROnPlateau reducing learning rate to 0.00010000000474974513.\n",
            "\n",
            "Epoch 00040: ReduceLROnPlateau reducing learning rate to 1.0000000474974514e-05.\n",
            "\n",
            "Epoch 00045: ReduceLROnPlateau reducing learning rate to 1e-05.\n",
            "Epoch 00050: early stopping\n",
            "Fold 1\n",
            "loss: 0.0961 - acc: 0.961 - fscore: 0.937\n",
            "after upscalling\n",
            "loss: 0.0959 - acc: 0.969 - fscore: 0.938\n"
          ],
          "name": "stdout"
        },
        {
          "output_type": "display_data",
          "data": {
            "image/png": "[encoded data removed]",
            "text/plain": [
              "<Figure size 864x288 with 3 Axes>"
            ]
          },
          "metadata": {
            "tags": [],
            "needs_background": "light"
          }
        },
        {
          "output_type": "stream",
          "text": [
            "Evaluate fold  2\n",
            "\n",
            "Epoch 00034: ReduceLROnPlateau reducing learning rate to 0.00010000000474974513.\n",
            "\n",
            "Epoch 00040: ReduceLROnPlateau reducing learning rate to 1.0000000474974514e-05.\n",
            "\n",
            "Epoch 00045: ReduceLROnPlateau reducing learning rate to 1e-05.\n",
            "Fold 2\n",
            "loss: 0.0894 - acc: 0.964 - fscore: 0.948\n",
            "after upscalling\n",
            "loss: 0.0892 - acc: 0.973 - fscore: 0.949\n"
          ],
          "name": "stdout"
        },
        {
          "output_type": "display_data",
          "data": {
            "image/png": "[encoded data removed]",
            "text/plain": [
              "<Figure size 864x288 with 3 Axes>"
            ]
          },
          "metadata": {
            "tags": [],
            "needs_background": "light"
          }
        },
        {
          "output_type": "stream",
          "text": [
            "Evaluate fold  3\n",
            "\n",
            "Epoch 00035: ReduceLROnPlateau reducing learning rate to 0.00010000000474974513.\n",
            "\n",
            "Epoch 00040: ReduceLROnPlateau reducing learning rate to 1.0000000474974514e-05.\n",
            "\n",
            "Epoch 00045: ReduceLROnPlateau reducing learning rate to 1e-05.\n",
            "Epoch 00050: early stopping\n",
            "Fold 3\n",
            "loss: 0.0912 - acc: 0.962 - fscore: 0.942\n",
            "after upscalling\n",
            "loss: 0.0910 - acc: 0.971 - fscore: 0.943\n"
          ],
          "name": "stdout"
        },
        {
          "output_type": "display_data",
          "data": {
            "image/png": "[encoded data removed]",
            "text/plain": [
              "<Figure size 864x288 with 3 Axes>"
            ]
          },
          "metadata": {
            "tags": [],
            "needs_background": "light"
          }
        },
        {
          "output_type": "stream",
          "text": [
            "Evaluate fold  4\n",
            "\n",
            "Epoch 00036: ReduceLROnPlateau reducing learning rate to 0.00010000000474974513.\n",
            "\n",
            "Epoch 00042: ReduceLROnPlateau reducing learning rate to 1.0000000474974514e-05.\n",
            "\n",
            "Epoch 00047: ReduceLROnPlateau reducing learning rate to 1e-05.\n",
            "Fold 4\n",
            "loss: 0.0957 - acc: 0.962 - fscore: 0.943\n",
            "after upscalling\n",
            "loss: 0.0954 - acc: 0.971 - fscore: 0.945\n"
          ],
          "name": "stdout"
        },
        {
          "output_type": "display_data",
          "data": {
            "image/png": "[encoded data removed]",
            "text/plain": [
              "<Figure size 864x288 with 3 Axes>"
            ]
          },
          "metadata": {
            "tags": [],
            "needs_background": "light"
          }
        },
        {
          "output_type": "stream",
          "text": [
            "Evaluate fold  5\n",
            "\n",
            "Epoch 00029: ReduceLROnPlateau reducing learning rate to 0.00010000000474974513.\n",
            "\n",
            "Epoch 00036: ReduceLROnPlateau reducing learning rate to 1.0000000474974514e-05.\n",
            "\n",
            "Epoch 00041: ReduceLROnPlateau reducing learning rate to 1e-05.\n",
            "WARNING:tensorflow:5 out of the last 5 calls to <function Model.make_predict_function.<locals>.predict_function at 0x7f3debc0f5f0> triggered tf.function retracing. Tracing is expensive and the excessive number of tracings could be due to (1) creating @tf.function repeatedly in a loop, (2) passing tensors with different shapes, (3) passing Python objects instead of tensors. For (1), please define your @tf.function outside of the loop. For (2), @tf.function has experimental_relax_shapes=True option that relaxes argument shapes that can avoid unnecessary retracing. For (3), please refer to https://www.tensorflow.org/guide/function#controlling_retracing and https://www.tensorflow.org/api_docs/python/tf/function for  more details.\n",
            "Fold 5\n",
            "loss: 0.0967 - acc: 0.960 - fscore: 0.939\n",
            "after upscalling\n",
            "loss: 0.0965 - acc: 0.969 - fscore: 0.940\n"
          ],
          "name": "stdout"
        },
        {
          "output_type": "display_data",
          "data": {
            "image/png": "[encoded data removed]",
            "text/plain": [
              "<Figure size 864x288 with 3 Axes>"
            ]
          },
          "metadata": {
            "tags": [],
            "needs_background": "light"
          }
        },
        {
          "output_type": "stream",
          "text": [
            "\n",
            "Best model is fold- 2\n"
          ],
          "name": "stdout"
        }
      ]
    },
    {
      "cell_type": "code",
      "metadata": {
        "id": "98_rCujNDcZL",
        "colab": {
          "base_uri": "https://localhost:8080/",
          "height": 1000,
          "referenced_widgets": [
            "4d89611d6c404a71b828002a510b0082",
            "f124acb030d04d97a926ef6db2355c6c",
            "73241cc5b6674a8ca826620c8dfd58e9",
            "4261be1364bf4ba598c83d694bcade2e",
            "24cf3ef245dc4687a1d1f53ca1578ef4",
            "8c2ad99056ac48fab6d5cfbd96798b72",
            "088ef215331b460496f527654571c004",
            "4eb9f6d41bed4625a02a8c6550c8a56e"
          ]
        },
        "outputId": "be0d29ff-a9cc-44a9-df3d-5ff6b03571a1"
      },
      "source": [
        "results_OC, metrics_OC = k_fold_crossval(X, y_OC, y_OC_ori, callbacks_OC, 'OC',\n",
        "                                         k=5, random_state=4, save=0)"
      ],
      "execution_count": null,
      "outputs": [
        {
          "output_type": "stream",
          "text": [
            "/usr/local/lib/python3.7/dist-packages/ipykernel_launcher.py:8: TqdmDeprecationWarning: This function will be removed in tqdm==5.0.0\n",
            "Please use `tqdm.notebook.tqdm` instead of `tqdm.tqdm_notebook`\n",
            "  \n"
          ],
          "name": "stderr"
        },
        {
          "output_type": "display_data",
          "data": {
            "application/vnd.jupyter.widget-view+json": {
              "model_id": "4d89611d6c404a71b828002a510b0082",
              "version_minor": 0,
              "version_major": 2
            },
            "text/plain": [
              "HBox(children=(FloatProgress(value=0.0, max=5.0), HTML(value='')))"
            ]
          },
          "metadata": {
            "tags": []
          }
        },
        {
          "output_type": "stream",
          "text": [
            "Evaluate fold  1\n",
            "\n",
            "Epoch 00019: ReduceLROnPlateau reducing learning rate to 0.00010000000474974513.\n",
            "\n",
            "Epoch 00032: ReduceLROnPlateau reducing learning rate to 1.0000000474974514e-05.\n",
            "\n",
            "Epoch 00044: ReduceLROnPlateau reducing learning rate to 1e-05.\n",
            "WARNING:tensorflow:6 out of the last 6 calls to <function Model.make_predict_function.<locals>.predict_function at 0x7f4184502c20> triggered tf.function retracing. Tracing is expensive and the excessive number of tracings could be due to (1) creating @tf.function repeatedly in a loop, (2) passing tensors with different shapes, (3) passing Python objects instead of tensors. For (1), please define your @tf.function outside of the loop. For (2), @tf.function has experimental_relax_shapes=True option that relaxes argument shapes that can avoid unnecessary retracing. For (3), please refer to https://www.tensorflow.org/guide/function#controlling_retracing and https://www.tensorflow.org/api_docs/python/tf/function for  more details.\n",
            "Fold 1\n",
            "loss: 0.0591 - acc: 0.974 - fscore: 0.841\n",
            "after upscalling\n",
            "loss: 0.0591 - acc: 0.978 - fscore: 0.844\n"
          ],
          "name": "stdout"
        },
        {
          "output_type": "display_data",
          "data": {
            "image/png": "[encoded data removed]",
            "text/plain": [
              "<Figure size 864x288 with 3 Axes>"
            ]
          },
          "metadata": {
            "tags": [],
            "needs_background": "light"
          }
        },
        {
          "output_type": "stream",
          "text": [
            "Evaluate fold  2\n",
            "\n",
            "Epoch 00009: ReduceLROnPlateau reducing learning rate to 0.00010000000474974513.\n",
            "\n",
            "Epoch 00014: ReduceLROnPlateau reducing learning rate to 1.0000000474974514e-05.\n",
            "\n",
            "Epoch 00019: ReduceLROnPlateau reducing learning rate to 1e-05.\n",
            "Fold 2\n",
            "loss: 0.0797 - acc: 0.965 - fscore: 0.768\n",
            "after upscalling\n",
            "loss: 0.0797 - acc: 0.969 - fscore: 0.772\n"
          ],
          "name": "stdout"
        },
        {
          "output_type": "display_data",
          "data": {
            "image/png": "[encoded data removed]",
            "text/plain": [
              "<Figure size 864x288 with 3 Axes>"
            ]
          },
          "metadata": {
            "tags": [],
            "needs_background": "light"
          }
        },
        {
          "output_type": "stream",
          "text": [
            "Evaluate fold  3\n",
            "\n",
            "Epoch 00037: ReduceLROnPlateau reducing learning rate to 0.00010000000474974513.\n",
            "\n",
            "Epoch 00044: ReduceLROnPlateau reducing learning rate to 1.0000000474974514e-05.\n",
            "\n",
            "Epoch 00049: ReduceLROnPlateau reducing learning rate to 1e-05.\n",
            "Fold 3\n",
            "loss: 0.0620 - acc: 0.974 - fscore: 0.857\n",
            "after upscalling\n",
            "loss: 0.0619 - acc: 0.978 - fscore: 0.860\n"
          ],
          "name": "stdout"
        },
        {
          "output_type": "display_data",
          "data": {
            "image/png": "[encoded data removed]",
            "text/plain": [
              "<Figure size 864x288 with 3 Axes>"
            ]
          },
          "metadata": {
            "tags": [],
            "needs_background": "light"
          }
        },
        {
          "output_type": "stream",
          "text": [
            "Evaluate fold  4\n",
            "\n",
            "Epoch 00024: ReduceLROnPlateau reducing learning rate to 0.00010000000474974513.\n",
            "\n",
            "Epoch 00031: ReduceLROnPlateau reducing learning rate to 1.0000000474974514e-05.\n",
            "\n",
            "Epoch 00044: ReduceLROnPlateau reducing learning rate to 1e-05.\n",
            "Fold 4\n",
            "loss: 0.0664 - acc: 0.973 - fscore: 0.857\n",
            "after upscalling\n",
            "loss: 0.0664 - acc: 0.977 - fscore: 0.860\n"
          ],
          "name": "stdout"
        },
        {
          "output_type": "display_data",
          "data": {
            "image/png": "[encoded data removed]",
            "text/plain": [
              "<Figure size 864x288 with 3 Axes>"
            ]
          },
          "metadata": {
            "tags": [],
            "needs_background": "light"
          }
        },
        {
          "output_type": "stream",
          "text": [
            "Evaluate fold  5\n",
            "\n",
            "Epoch 00020: ReduceLROnPlateau reducing learning rate to 0.00010000000474974513.\n",
            "\n",
            "Epoch 00039: ReduceLROnPlateau reducing learning rate to 1.0000000474974514e-05.\n",
            "\n",
            "Epoch 00044: ReduceLROnPlateau reducing learning rate to 1e-05.\n"
          ],
          "name": "stdout"
        }
      ]
    },
    {
      "cell_type": "code",
      "metadata": {
        "id": "Mpw1UcF5t3al"
      },
      "source": [
        "metrics_OD.describe()"
      ],
      "execution_count": null,
      "outputs": []
    },
    {
      "cell_type": "code",
      "metadata": {
        "id": "FeQHtwENErTx"
      },
      "source": [
        "metrics_OC.describe()"
      ],
      "execution_count": null,
      "outputs": []
    },
    {
      "cell_type": "code",
      "metadata": {
        "id": "mGYe8hwQC0l0"
      },
      "source": [
        "histo(results_OD)"
      ],
      "execution_count": null,
      "outputs": []
    },
    {
      "cell_type": "code",
      "metadata": {
        "id": "1cT_EYmIE5gl"
      },
      "source": [
        "histo(results_OC)"
      ],
      "execution_count": null,
      "outputs": []
    },
    {
      "cell_type": "markdown",
      "metadata": {
        "id": "_QiwPggHw9_X"
      },
      "source": [
        "**Building Model**"
      ]
    },
    {
      "cell_type": "code",
      "metadata": {
        "id": "8wc6YWO2vI21"
      },
      "source": [
        "input_img = Input((256, 256, 1), name='img')"
      ],
      "execution_count": null,
      "outputs": []
    },
    {
      "cell_type": "code",
      "metadata": {
        "id": "YfWosLL9oOU5"
      },
      "source": [
        "model_OD = get_unet(input_img, n_filters = 64, dropout = 0.1, batchnorm = True)\n",
        "model_OD.compile(optimizer=Adam(), loss=\"binary_crossentropy\", metrics=['accuracy', fscore])\n",
        "\n",
        "model_OC = get_unet(input_img, n_filters = 64, dropout = 0.1, batchnorm = True)\n",
        "model_OC.compile(optimizer=Adam(), loss=\"binary_crossentropy\", metrics=['accuracy', fscore])"
      ],
      "execution_count": null,
      "outputs": []
    },
    {
      "cell_type": "code",
      "metadata": {
        "id": "7r3b0GvUBjn1",
        "colab": {
          "base_uri": "https://localhost:8080/"
        },
        "outputId": "56a18962-a8ec-434a-d76e-89b9667e1bd5"
      },
      "source": [
        "model_OD.summary()"
      ],
      "execution_count": null,
      "outputs": [
        {
          "output_type": "stream",
          "text": [
            "Model: \"model\"\n",
            "__________________________________________________________________________________________________\n",
            "Layer (type)                    Output Shape         Param #     Connected to                     \n",
            "==================================================================================================\n",
            "img (InputLayer)                [(None, 256, 256, 1) 0                                            \n",
            "__________________________________________________________________________________________________\n",
            "conv2d_1 (Conv2D)               (None, 256, 256, 64) 640         img[0][0]                        \n",
            "__________________________________________________________________________________________________\n",
            "batch_normalization_1 (BatchNor (None, 256, 256, 64) 256         conv2d_1[0][0]                   \n",
            "__________________________________________________________________________________________________\n",
            "activation_1 (Activation)       (None, 256, 256, 64) 0           batch_normalization_1[0][0]      \n",
            "__________________________________________________________________________________________________\n",
            "max_pooling2d (MaxPooling2D)    (None, 128, 128, 64) 0           activation_1[0][0]               \n",
            "__________________________________________________________________________________________________\n",
            "dropout (Dropout)               (None, 128, 128, 64) 0           max_pooling2d[0][0]              \n",
            "__________________________________________________________________________________________________\n",
            "conv2d_3 (Conv2D)               (None, 128, 128, 128 73856       dropout[0][0]                    \n",
            "__________________________________________________________________________________________________\n",
            "batch_normalization_3 (BatchNor (None, 128, 128, 128 512         conv2d_3[0][0]                   \n",
            "__________________________________________________________________________________________________\n",
            "activation_3 (Activation)       (None, 128, 128, 128 0           batch_normalization_3[0][0]      \n",
            "__________________________________________________________________________________________________\n",
            "max_pooling2d_1 (MaxPooling2D)  (None, 64, 64, 128)  0           activation_3[0][0]               \n",
            "__________________________________________________________________________________________________\n",
            "dropout_1 (Dropout)             (None, 64, 64, 128)  0           max_pooling2d_1[0][0]            \n",
            "__________________________________________________________________________________________________\n",
            "conv2d_5 (Conv2D)               (None, 64, 64, 256)  295168      dropout_1[0][0]                  \n",
            "__________________________________________________________________________________________________\n",
            "batch_normalization_5 (BatchNor (None, 64, 64, 256)  1024        conv2d_5[0][0]                   \n",
            "__________________________________________________________________________________________________\n",
            "activation_5 (Activation)       (None, 64, 64, 256)  0           batch_normalization_5[0][0]      \n",
            "__________________________________________________________________________________________________\n",
            "max_pooling2d_2 (MaxPooling2D)  (None, 32, 32, 256)  0           activation_5[0][0]               \n",
            "__________________________________________________________________________________________________\n",
            "dropout_2 (Dropout)             (None, 32, 32, 256)  0           max_pooling2d_2[0][0]            \n",
            "__________________________________________________________________________________________________\n",
            "conv2d_7 (Conv2D)               (None, 32, 32, 512)  1180160     dropout_2[0][0]                  \n",
            "__________________________________________________________________________________________________\n",
            "batch_normalization_7 (BatchNor (None, 32, 32, 512)  2048        conv2d_7[0][0]                   \n",
            "__________________________________________________________________________________________________\n",
            "activation_7 (Activation)       (None, 32, 32, 512)  0           batch_normalization_7[0][0]      \n",
            "__________________________________________________________________________________________________\n",
            "max_pooling2d_3 (MaxPooling2D)  (None, 16, 16, 512)  0           activation_7[0][0]               \n",
            "__________________________________________________________________________________________________\n",
            "dropout_3 (Dropout)             (None, 16, 16, 512)  0           max_pooling2d_3[0][0]            \n",
            "__________________________________________________________________________________________________\n",
            "conv2d_9 (Conv2D)               (None, 16, 16, 1024) 4719616     dropout_3[0][0]                  \n",
            "__________________________________________________________________________________________________\n",
            "batch_normalization_9 (BatchNor (None, 16, 16, 1024) 4096        conv2d_9[0][0]                   \n",
            "__________________________________________________________________________________________________\n",
            "activation_9 (Activation)       (None, 16, 16, 1024) 0           batch_normalization_9[0][0]      \n",
            "__________________________________________________________________________________________________\n",
            "conv2d_transpose (Conv2DTranspo (None, 32, 32, 512)  4719104     activation_9[0][0]               \n",
            "__________________________________________________________________________________________________\n",
            "concatenate (Concatenate)       (None, 32, 32, 1024) 0           conv2d_transpose[0][0]           \n",
            "                                                                 activation_7[0][0]               \n",
            "__________________________________________________________________________________________________\n",
            "dropout_4 (Dropout)             (None, 32, 32, 1024) 0           concatenate[0][0]                \n",
            "__________________________________________________________________________________________________\n",
            "conv2d_11 (Conv2D)              (None, 32, 32, 512)  4719104     dropout_4[0][0]                  \n",
            "__________________________________________________________________________________________________\n",
            "batch_normalization_11 (BatchNo (None, 32, 32, 512)  2048        conv2d_11[0][0]                  \n",
            "__________________________________________________________________________________________________\n",
            "activation_11 (Activation)      (None, 32, 32, 512)  0           batch_normalization_11[0][0]     \n",
            "__________________________________________________________________________________________________\n",
            "conv2d_transpose_1 (Conv2DTrans (None, 64, 64, 256)  1179904     activation_11[0][0]              \n",
            "__________________________________________________________________________________________________\n",
            "concatenate_1 (Concatenate)     (None, 64, 64, 512)  0           conv2d_transpose_1[0][0]         \n",
            "                                                                 activation_5[0][0]               \n",
            "__________________________________________________________________________________________________\n",
            "dropout_5 (Dropout)             (None, 64, 64, 512)  0           concatenate_1[0][0]              \n",
            "__________________________________________________________________________________________________\n",
            "conv2d_13 (Conv2D)              (None, 64, 64, 256)  1179904     dropout_5[0][0]                  \n",
            "__________________________________________________________________________________________________\n",
            "batch_normalization_13 (BatchNo (None, 64, 64, 256)  1024        conv2d_13[0][0]                  \n",
            "__________________________________________________________________________________________________\n",
            "activation_13 (Activation)      (None, 64, 64, 256)  0           batch_normalization_13[0][0]     \n",
            "__________________________________________________________________________________________________\n",
            "conv2d_transpose_2 (Conv2DTrans (None, 128, 128, 128 295040      activation_13[0][0]              \n",
            "__________________________________________________________________________________________________\n",
            "concatenate_2 (Concatenate)     (None, 128, 128, 256 0           conv2d_transpose_2[0][0]         \n",
            "                                                                 activation_3[0][0]               \n",
            "__________________________________________________________________________________________________\n",
            "dropout_6 (Dropout)             (None, 128, 128, 256 0           concatenate_2[0][0]              \n",
            "__________________________________________________________________________________________________\n",
            "conv2d_15 (Conv2D)              (None, 128, 128, 128 295040      dropout_6[0][0]                  \n",
            "__________________________________________________________________________________________________\n",
            "batch_normalization_15 (BatchNo (None, 128, 128, 128 512         conv2d_15[0][0]                  \n",
            "__________________________________________________________________________________________________\n",
            "activation_15 (Activation)      (None, 128, 128, 128 0           batch_normalization_15[0][0]     \n",
            "__________________________________________________________________________________________________\n",
            "conv2d_transpose_3 (Conv2DTrans (None, 256, 256, 64) 73792       activation_15[0][0]              \n",
            "__________________________________________________________________________________________________\n",
            "concatenate_3 (Concatenate)     (None, 256, 256, 128 0           conv2d_transpose_3[0][0]         \n",
            "                                                                 activation_1[0][0]               \n",
            "__________________________________________________________________________________________________\n",
            "dropout_7 (Dropout)             (None, 256, 256, 128 0           concatenate_3[0][0]              \n",
            "__________________________________________________________________________________________________\n",
            "conv2d_17 (Conv2D)              (None, 256, 256, 64) 73792       dropout_7[0][0]                  \n",
            "__________________________________________________________________________________________________\n",
            "batch_normalization_17 (BatchNo (None, 256, 256, 64) 256         conv2d_17[0][0]                  \n",
            "__________________________________________________________________________________________________\n",
            "activation_17 (Activation)      (None, 256, 256, 64) 0           batch_normalization_17[0][0]     \n",
            "__________________________________________________________________________________________________\n",
            "conv2d_18 (Conv2D)              (None, 256, 256, 1)  65          activation_17[0][0]              \n",
            "==================================================================================================\n",
            "Total params: 18,816,961\n",
            "Trainable params: 18,811,073\n",
            "Non-trainable params: 5,888\n",
            "__________________________________________________________________________________________________\n"
          ],
          "name": "stdout"
        }
      ]
    },
    {
      "cell_type": "code",
      "metadata": {
        "id": "OR4WT0h61pXU"
      },
      "source": [
        "X_train_OD, X_test_OD, y_train_OD, y_test_OD = data_shuffle(X, y_OD, f=1, \n",
        "                                                            random_state=4)\n",
        "X_train_OC, X_test_OC, y_train_OC, y_test_OC = data_shuffle(X, y_OC,f=1, \n",
        "                                                            random_state=4)\n",
        "_, _, _, y_test_OD_ori = data_shuffle(X, y_OD_ori, f=1,random_state=4)\n",
        "_, _, _, y_test_OC_ori = data_shuffle(X, y_OC_ori, f=1,random_state=4)"
      ],
      "execution_count": null,
      "outputs": []
    },
    {
      "cell_type": "code",
      "metadata": {
        "id": "r2qUIpIrqeMz"
      },
      "source": [
        "for i, img in enumerate(X_train_OD[:10]):\n",
        "  img_OD = img.squeeze()\n",
        "  gt_OD = y_train_OD[i].squeeze()\n",
        "  img_OC = X_train_OC[i].squeeze()\n",
        "  gt_OC = y_train_OC[i].squeeze()\n",
        "  plt.figure(figsize=(20, 5))\n",
        "  plt.subplot(1,4,1)\n",
        "  plt.imshow(img_OD)\n",
        "  plt.subplot(1,4,2)\n",
        "  plt.imshow(gt_OD)\n",
        "  plt.subplot(1,4,3)\n",
        "  plt.imshow(img_OC)\n",
        "  plt.subplot(1,4,4)\n",
        "  plt.imshow(gt_OC)\n",
        "  plt.show()"
      ],
      "execution_count": null,
      "outputs": []
    },
    {
      "cell_type": "code",
      "metadata": {
        "id": "N6fzH1Joqye3",
        "colab": {
          "base_uri": "https://localhost:8080/"
        },
        "outputId": "0fb37422-f035-49ca-f107-1039b4f39fa6"
      },
      "source": [
        "results_OD = model_OD.fit(X_train_OD, y_train_OD, batch_size=32, epochs=100, callbacks=callbacks_OD,\\\n",
        "                    validation_data=(X_test_OD, y_test_OD))"
      ],
      "execution_count": null,
      "outputs": [
        {
          "output_type": "stream",
          "text": [
            "Epoch 1/100\n",
            "12/12 [==============================] - 25s 2s/step - loss: 0.5853 - accuracy: 0.7130 - fscore: 0.5232 - val_loss: 1009.9367 - val_accuracy: 0.2434 - val_fscore: 0.4062\n",
            "\n",
            "Epoch 00001: val_fscore improved from 0.00000 to 0.40620, saving model to model-OD.h5\n",
            "Epoch 2/100\n",
            "12/12 [==============================] - 16s 1s/step - loss: 0.2701 - accuracy: 0.8864 - fscore: 0.7720 - val_loss: 1718.8561 - val_accuracy: 0.2432 - val_fscore: 0.4061\n",
            "\n",
            "Epoch 00002: val_fscore did not improve from 0.40620\n",
            "Epoch 3/100\n",
            "12/12 [==============================] - 17s 1s/step - loss: 0.1993 - accuracy: 0.9105 - fscore: 0.8294 - val_loss: 396.2518 - val_accuracy: 0.2441 - val_fscore: 0.4064\n",
            "\n",
            "Epoch 00003: val_fscore improved from 0.40620 to 0.40641, saving model to model-OD.h5\n",
            "Epoch 4/100\n",
            "12/12 [==============================] - 17s 1s/step - loss: 0.1633 - accuracy: 0.9250 - fscore: 0.8649 - val_loss: 91.4019 - val_accuracy: 0.2673 - val_fscore: 0.4140\n",
            "\n",
            "Epoch 00004: val_fscore improved from 0.40641 to 0.41405, saving model to model-OD.h5\n",
            "Epoch 5/100\n",
            "12/12 [==============================] - 16s 1s/step - loss: 0.1538 - accuracy: 0.9292 - fscore: 0.8809 - val_loss: 39.6878 - val_accuracy: 0.3173 - val_fscore: 0.4317\n",
            "\n",
            "Epoch 00005: val_fscore improved from 0.41405 to 0.43166, saving model to model-OD.h5\n",
            "Epoch 6/100\n",
            "12/12 [==============================] - 17s 1s/step - loss: 0.1400 - accuracy: 0.9344 - fscore: 0.8859 - val_loss: 21.2996 - val_accuracy: 0.4293 - val_fscore: 0.4771\n",
            "\n",
            "Epoch 00006: val_fscore improved from 0.43166 to 0.47707, saving model to model-OD.h5\n",
            "Epoch 7/100\n",
            "12/12 [==============================] - 17s 1s/step - loss: 0.1306 - accuracy: 0.9387 - fscore: 0.8964 - val_loss: 10.4897 - val_accuracy: 0.5805 - val_fscore: 0.5551\n",
            "\n",
            "Epoch 00007: val_fscore improved from 0.47707 to 0.55505, saving model to model-OD.h5\n",
            "Epoch 8/100\n",
            "12/12 [==============================] - 17s 1s/step - loss: 0.1187 - accuracy: 0.9430 - fscore: 0.9017 - val_loss: 2.3178 - val_accuracy: 0.7553 - val_fscore: 0.6787\n",
            "\n",
            "Epoch 00008: val_fscore improved from 0.55505 to 0.67867, saving model to model-OD.h5\n",
            "Epoch 9/100\n",
            "12/12 [==============================] - 17s 1s/step - loss: 0.1091 - accuracy: 0.9463 - fscore: 0.9117 - val_loss: 4.9893 - val_accuracy: 0.6403 - val_fscore: 0.5923\n",
            "\n",
            "Epoch 00009: val_fscore did not improve from 0.67867\n",
            "Epoch 10/100\n",
            "12/12 [==============================] - 17s 1s/step - loss: 0.1107 - accuracy: 0.9452 - fscore: 0.9072 - val_loss: 2.7059 - val_accuracy: 0.6894 - val_fscore: 0.6262\n",
            "\n",
            "Epoch 00010: val_fscore did not improve from 0.67867\n",
            "Epoch 11/100\n",
            "12/12 [==============================] - 17s 1s/step - loss: 0.1075 - accuracy: 0.9472 - fscore: 0.9143 - val_loss: 1.4160 - val_accuracy: 0.7882 - val_fscore: 0.7015\n",
            "\n",
            "Epoch 00011: val_fscore improved from 0.67867 to 0.70150, saving model to model-OD.h5\n",
            "Epoch 12/100\n",
            "12/12 [==============================] - 17s 1s/step - loss: 0.0994 - accuracy: 0.9505 - fscore: 0.9208 - val_loss: 1.1991 - val_accuracy: 0.7885 - val_fscore: 0.7006\n",
            "\n",
            "Epoch 00012: val_fscore did not improve from 0.70150\n",
            "Epoch 13/100\n",
            "12/12 [==============================] - 17s 1s/step - loss: 0.0934 - accuracy: 0.9530 - fscore: 0.9247 - val_loss: 1.7986 - val_accuracy: 0.7478 - val_fscore: 0.6685\n",
            "\n",
            "Epoch 00013: val_fscore did not improve from 0.70150\n",
            "Epoch 14/100\n",
            "12/12 [==============================] - 18s 1s/step - loss: 0.0910 - accuracy: 0.9545 - fscore: 0.9266 - val_loss: 1.4327 - val_accuracy: 0.7576 - val_fscore: 0.6783\n",
            "\n",
            "Epoch 00014: val_fscore did not improve from 0.70150\n",
            "Epoch 15/100\n",
            "12/12 [==============================] - 17s 1s/step - loss: 0.0936 - accuracy: 0.9526 - fscore: 0.9254 - val_loss: 1.1829 - val_accuracy: 0.7902 - val_fscore: 0.7037\n",
            "\n",
            "Epoch 00015: val_fscore improved from 0.70150 to 0.70371, saving model to model-OD.h5\n",
            "Epoch 16/100\n",
            "12/12 [==============================] - 17s 1s/step - loss: 0.0831 - accuracy: 0.9570 - fscore: 0.9332 - val_loss: 0.5350 - val_accuracy: 0.8490 - val_fscore: 0.7568\n",
            "\n",
            "Epoch 00016: val_fscore improved from 0.70371 to 0.75677, saving model to model-OD.h5\n",
            "Epoch 17/100\n",
            "12/12 [==============================] - 17s 1s/step - loss: 0.0819 - accuracy: 0.9564 - fscore: 0.9324 - val_loss: 0.8737 - val_accuracy: 0.8126 - val_fscore: 0.7236\n",
            "\n",
            "Epoch 00017: val_fscore did not improve from 0.75677\n",
            "Epoch 18/100\n",
            "12/12 [==============================] - 18s 1s/step - loss: 0.0825 - accuracy: 0.9571 - fscore: 0.9315 - val_loss: 0.9279 - val_accuracy: 0.8140 - val_fscore: 0.7237\n",
            "\n",
            "Epoch 00018: val_fscore did not improve from 0.75677\n",
            "Epoch 19/100\n",
            "12/12 [==============================] - 17s 1s/step - loss: 0.0743 - accuracy: 0.9607 - fscore: 0.9403 - val_loss: 0.7920 - val_accuracy: 0.8218 - val_fscore: 0.7294\n",
            "\n",
            "Epoch 00019: val_fscore did not improve from 0.75677\n",
            "Epoch 20/100\n",
            "12/12 [==============================] - 17s 1s/step - loss: 0.0681 - accuracy: 0.9629 - fscore: 0.9437 - val_loss: 0.7684 - val_accuracy: 0.8207 - val_fscore: 0.7273\n",
            "\n",
            "Epoch 00020: val_fscore did not improve from 0.75677\n",
            "Epoch 21/100\n",
            "12/12 [==============================] - 17s 1s/step - loss: 0.0688 - accuracy: 0.9624 - fscore: 0.9434 - val_loss: 0.3812 - val_accuracy: 0.8722 - val_fscore: 0.7691\n",
            "\n",
            "Epoch 00021: val_fscore improved from 0.75677 to 0.76908, saving model to model-OD.h5\n",
            "Epoch 22/100\n",
            "12/12 [==============================] - 17s 1s/step - loss: 0.0676 - accuracy: 0.9625 - fscore: 0.9435 - val_loss: 0.7470 - val_accuracy: 0.8246 - val_fscore: 0.7309\n",
            "\n",
            "Epoch 00022: val_fscore did not improve from 0.76908\n",
            "Epoch 23/100\n",
            "12/12 [==============================] - 17s 1s/step - loss: 0.0714 - accuracy: 0.9610 - fscore: 0.9411 - val_loss: 0.5030 - val_accuracy: 0.8612 - val_fscore: 0.7684\n",
            "\n",
            "Epoch 00023: val_fscore did not improve from 0.76908\n",
            "Epoch 24/100\n",
            "12/12 [==============================] - 17s 1s/step - loss: 0.0620 - accuracy: 0.9649 - fscore: 0.9477 - val_loss: 0.5772 - val_accuracy: 0.8471 - val_fscore: 0.7489\n",
            "\n",
            "Epoch 00024: val_fscore did not improve from 0.76908\n",
            "Epoch 25/100\n",
            "12/12 [==============================] - 18s 1s/step - loss: 0.0670 - accuracy: 0.9627 - fscore: 0.9439 - val_loss: 0.4287 - val_accuracy: 0.8621 - val_fscore: 0.7749\n",
            "\n",
            "Epoch 00025: val_fscore improved from 0.76908 to 0.77487, saving model to model-OD.h5\n",
            "Epoch 26/100\n",
            "12/12 [==============================] - 17s 1s/step - loss: 0.0627 - accuracy: 0.9645 - fscore: 0.9472 - val_loss: 0.7120 - val_accuracy: 0.8353 - val_fscore: 0.7433\n",
            "\n",
            "Epoch 00026: ReduceLROnPlateau reducing learning rate to 0.00010000000474974513.\n",
            "\n",
            "Epoch 00026: val_fscore did not improve from 0.77487\n",
            "Epoch 27/100\n",
            "12/12 [==============================] - 18s 1s/step - loss: 0.0547 - accuracy: 0.9680 - fscore: 0.9548 - val_loss: 0.5967 - val_accuracy: 0.8473 - val_fscore: 0.7618\n",
            "\n",
            "Epoch 00027: val_fscore did not improve from 0.77487\n",
            "Epoch 28/100\n",
            "12/12 [==============================] - 17s 1s/step - loss: 0.0527 - accuracy: 0.9687 - fscore: 0.9559 - val_loss: 0.4886 - val_accuracy: 0.8621 - val_fscore: 0.7776\n",
            "\n",
            "Epoch 00028: val_fscore improved from 0.77487 to 0.77763, saving model to model-OD.h5\n",
            "Epoch 29/100\n",
            "12/12 [==============================] - 18s 1s/step - loss: 0.0491 - accuracy: 0.9704 - fscore: 0.9586 - val_loss: 0.3559 - val_accuracy: 0.8826 - val_fscore: 0.8028\n",
            "\n",
            "Epoch 00029: val_fscore improved from 0.77763 to 0.80277, saving model to model-OD.h5\n",
            "Epoch 30/100\n",
            "12/12 [==============================] - 18s 1s/step - loss: 0.0503 - accuracy: 0.9697 - fscore: 0.9579 - val_loss: 0.3203 - val_accuracy: 0.8912 - val_fscore: 0.8131\n",
            "\n",
            "Epoch 00030: val_fscore improved from 0.80277 to 0.81308, saving model to model-OD.h5\n",
            "Epoch 31/100\n",
            "12/12 [==============================] - 18s 1s/step - loss: 0.0484 - accuracy: 0.9705 - fscore: 0.9589 - val_loss: 0.2868 - val_accuracy: 0.8983 - val_fscore: 0.8222\n",
            "\n",
            "Epoch 00031: val_fscore improved from 0.81308 to 0.82219, saving model to model-OD.h5\n",
            "Epoch 32/100\n",
            "12/12 [==============================] - 17s 1s/step - loss: 0.0477 - accuracy: 0.9707 - fscore: 0.9594 - val_loss: 0.2644 - val_accuracy: 0.9041 - val_fscore: 0.8311\n",
            "\n",
            "Epoch 00032: val_fscore improved from 0.82219 to 0.83112, saving model to model-OD.h5\n",
            "Epoch 33/100\n",
            "12/12 [==============================] - 18s 1s/step - loss: 0.0466 - accuracy: 0.9713 - fscore: 0.9608 - val_loss: 0.2396 - val_accuracy: 0.9117 - val_fscore: 0.8414\n",
            "\n",
            "Epoch 00033: val_fscore improved from 0.83112 to 0.84145, saving model to model-OD.h5\n",
            "Epoch 34/100\n",
            "12/12 [==============================] - 17s 1s/step - loss: 0.0462 - accuracy: 0.9714 - fscore: 0.9614 - val_loss: 0.2182 - val_accuracy: 0.9172 - val_fscore: 0.8494\n",
            "\n",
            "Epoch 00034: val_fscore improved from 0.84145 to 0.84935, saving model to model-OD.h5\n",
            "Epoch 35/100\n",
            "12/12 [==============================] - 17s 1s/step - loss: 0.0456 - accuracy: 0.9716 - fscore: 0.9612 - val_loss: 0.2026 - val_accuracy: 0.9216 - val_fscore: 0.8574\n",
            "\n",
            "Epoch 00035: val_fscore improved from 0.84935 to 0.85739, saving model to model-OD.h5\n",
            "Epoch 36/100\n",
            "12/12 [==============================] - 17s 1s/step - loss: 0.0462 - accuracy: 0.9714 - fscore: 0.9606 - val_loss: 0.1949 - val_accuracy: 0.9245 - val_fscore: 0.8597\n",
            "\n",
            "Epoch 00036: val_fscore improved from 0.85739 to 0.85970, saving model to model-OD.h5\n",
            "Epoch 37/100\n",
            "12/12 [==============================] - 18s 1s/step - loss: 0.0463 - accuracy: 0.9712 - fscore: 0.9611 - val_loss: 0.1731 - val_accuracy: 0.9308 - val_fscore: 0.8732\n",
            "\n",
            "Epoch 00037: val_fscore improved from 0.85970 to 0.87319, saving model to model-OD.h5\n",
            "Epoch 38/100\n",
            "12/12 [==============================] - 18s 1s/step - loss: 0.0459 - accuracy: 0.9715 - fscore: 0.9609 - val_loss: 0.1700 - val_accuracy: 0.9321 - val_fscore: 0.8753\n",
            "\n",
            "Epoch 00038: val_fscore improved from 0.87319 to 0.87531, saving model to model-OD.h5\n",
            "Epoch 39/100\n",
            "12/12 [==============================] - 18s 1s/step - loss: 0.0448 - accuracy: 0.9717 - fscore: 0.9616 - val_loss: 0.1738 - val_accuracy: 0.9322 - val_fscore: 0.8726\n",
            "\n",
            "Epoch 00039: val_fscore did not improve from 0.87531\n",
            "Epoch 40/100\n",
            "12/12 [==============================] - 18s 1s/step - loss: 0.0443 - accuracy: 0.9720 - fscore: 0.9623 - val_loss: 0.1671 - val_accuracy: 0.9341 - val_fscore: 0.8763\n",
            "\n",
            "Epoch 00040: val_fscore improved from 0.87531 to 0.87629, saving model to model-OD.h5\n",
            "Epoch 41/100\n",
            "12/12 [==============================] - 17s 1s/step - loss: 0.0445 - accuracy: 0.9720 - fscore: 0.9621 - val_loss: 0.1562 - val_accuracy: 0.9373 - val_fscore: 0.8807\n",
            "\n",
            "Epoch 00041: val_fscore improved from 0.87629 to 0.88074, saving model to model-OD.h5\n",
            "Epoch 42/100\n",
            "12/12 [==============================] - 18s 1s/step - loss: 0.0434 - accuracy: 0.9724 - fscore: 0.9632 - val_loss: 0.1549 - val_accuracy: 0.9371 - val_fscore: 0.8801\n",
            "\n",
            "Epoch 00042: val_fscore did not improve from 0.88074\n",
            "Epoch 43/100\n",
            "12/12 [==============================] - 17s 1s/step - loss: 0.0438 - accuracy: 0.9722 - fscore: 0.9628 - val_loss: 0.1432 - val_accuracy: 0.9407 - val_fscore: 0.8891\n",
            "\n",
            "Epoch 00043: val_fscore improved from 0.88074 to 0.88907, saving model to model-OD.h5\n",
            "Epoch 44/100\n",
            "12/12 [==============================] - 18s 1s/step - loss: 0.0427 - accuracy: 0.9725 - fscore: 0.9638 - val_loss: 0.1450 - val_accuracy: 0.9402 - val_fscore: 0.8864\n",
            "\n",
            "Epoch 00044: val_fscore did not improve from 0.88907\n",
            "Epoch 45/100\n",
            "12/12 [==============================] - 17s 1s/step - loss: 0.0426 - accuracy: 0.9727 - fscore: 0.9635 - val_loss: 0.1770 - val_accuracy: 0.9313 - val_fscore: 0.8631\n",
            "\n",
            "Epoch 00045: val_fscore did not improve from 0.88907\n",
            "Epoch 46/100\n",
            "12/12 [==============================] - 17s 1s/step - loss: 0.0424 - accuracy: 0.9728 - fscore: 0.9639 - val_loss: 0.1533 - val_accuracy: 0.9374 - val_fscore: 0.8785\n",
            "\n",
            "Epoch 00046: val_fscore did not improve from 0.88907\n",
            "Epoch 47/100\n",
            "12/12 [==============================] - 17s 1s/step - loss: 0.0414 - accuracy: 0.9731 - fscore: 0.9641 - val_loss: 0.1531 - val_accuracy: 0.9379 - val_fscore: 0.8799\n",
            "\n",
            "Epoch 00047: val_fscore did not improve from 0.88907\n",
            "Epoch 48/100\n",
            "12/12 [==============================] - 18s 1s/step - loss: 0.0422 - accuracy: 0.9729 - fscore: 0.9640 - val_loss: 0.1571 - val_accuracy: 0.9371 - val_fscore: 0.8777\n",
            "\n",
            "Epoch 00048: ReduceLROnPlateau reducing learning rate to 1.0000000474974514e-05.\n",
            "\n",
            "Epoch 00048: val_fscore did not improve from 0.88907\n",
            "Epoch 49/100\n",
            "12/12 [==============================] - 17s 1s/step - loss: 0.0415 - accuracy: 0.9729 - fscore: 0.9640 - val_loss: 0.1487 - val_accuracy: 0.9396 - val_fscore: 0.8839\n",
            "\n",
            "Epoch 00049: val_fscore did not improve from 0.88907\n",
            "Epoch 50/100\n",
            "12/12 [==============================] - 17s 1s/step - loss: 0.0393 - accuracy: 0.9739 - fscore: 0.9658 - val_loss: 0.1432 - val_accuracy: 0.9409 - val_fscore: 0.8873\n",
            "\n",
            "Epoch 00050: val_fscore did not improve from 0.88907\n",
            "Epoch 51/100\n",
            "12/12 [==============================] - 17s 1s/step - loss: 0.0409 - accuracy: 0.9732 - fscore: 0.9644 - val_loss: 0.1394 - val_accuracy: 0.9420 - val_fscore: 0.8900\n",
            "\n",
            "Epoch 00051: val_fscore improved from 0.88907 to 0.89002, saving model to model-OD.h5\n",
            "Epoch 52/100\n",
            "12/12 [==============================] - 18s 1s/step - loss: 0.0400 - accuracy: 0.9736 - fscore: 0.9654 - val_loss: 0.1350 - val_accuracy: 0.9435 - val_fscore: 0.8936\n",
            "\n",
            "Epoch 00052: val_fscore improved from 0.89002 to 0.89364, saving model to model-OD.h5\n",
            "Epoch 53/100\n",
            "12/12 [==============================] - 17s 1s/step - loss: 0.0408 - accuracy: 0.9733 - fscore: 0.9652 - val_loss: 0.1303 - val_accuracy: 0.9448 - val_fscore: 0.8971\n",
            "\n",
            "Epoch 00053: val_fscore improved from 0.89364 to 0.89711, saving model to model-OD.h5\n",
            "Epoch 54/100\n",
            "12/12 [==============================] - 17s 1s/step - loss: 0.0391 - accuracy: 0.9739 - fscore: 0.9662 - val_loss: 0.1271 - val_accuracy: 0.9458 - val_fscore: 0.8997\n",
            "\n",
            "Epoch 00054: val_fscore improved from 0.89711 to 0.89969, saving model to model-OD.h5\n",
            "Epoch 55/100\n",
            "12/12 [==============================] - 18s 1s/step - loss: 0.0392 - accuracy: 0.9740 - fscore: 0.9662 - val_loss: 0.1244 - val_accuracy: 0.9467 - val_fscore: 0.9019\n",
            "\n",
            "Epoch 00055: val_fscore improved from 0.89969 to 0.90192, saving model to model-OD.h5\n",
            "Epoch 56/100\n",
            "12/12 [==============================] - 17s 1s/step - loss: 0.0394 - accuracy: 0.9739 - fscore: 0.9656 - val_loss: 0.1234 - val_accuracy: 0.9469 - val_fscore: 0.9025\n",
            "\n",
            "Epoch 00056: val_fscore improved from 0.90192 to 0.90253, saving model to model-OD.h5\n",
            "Epoch 57/100\n",
            "12/12 [==============================] - 18s 1s/step - loss: 0.0399 - accuracy: 0.9736 - fscore: 0.9657 - val_loss: 0.1224 - val_accuracy: 0.9471 - val_fscore: 0.9032\n",
            "\n",
            "Epoch 00057: val_fscore improved from 0.90253 to 0.90320, saving model to model-OD.h5\n",
            "Epoch 58/100\n",
            "12/12 [==============================] - 17s 1s/step - loss: 0.0394 - accuracy: 0.9739 - fscore: 0.9661 - val_loss: 0.1202 - val_accuracy: 0.9478 - val_fscore: 0.9050\n",
            "\n",
            "Epoch 00058: val_fscore improved from 0.90320 to 0.90499, saving model to model-OD.h5\n",
            "Epoch 59/100\n",
            "12/12 [==============================] - 17s 1s/step - loss: 0.0402 - accuracy: 0.9736 - fscore: 0.9653 - val_loss: 0.1222 - val_accuracy: 0.9472 - val_fscore: 0.9035\n",
            "\n",
            "Epoch 00059: val_fscore did not improve from 0.90499\n",
            "Epoch 60/100\n",
            "12/12 [==============================] - 17s 1s/step - loss: 0.0397 - accuracy: 0.9737 - fscore: 0.9657 - val_loss: 0.1248 - val_accuracy: 0.9461 - val_fscore: 0.9010\n",
            "\n",
            "Epoch 00060: val_fscore did not improve from 0.90499\n",
            "Epoch 61/100\n",
            "12/12 [==============================] - 17s 1s/step - loss: 0.0400 - accuracy: 0.9736 - fscore: 0.9660 - val_loss: 0.1242 - val_accuracy: 0.9462 - val_fscore: 0.9013\n",
            "\n",
            "Epoch 00061: val_fscore did not improve from 0.90499\n",
            "Epoch 62/100\n",
            "12/12 [==============================] - 17s 1s/step - loss: 0.0392 - accuracy: 0.9739 - fscore: 0.9661 - val_loss: 0.1221 - val_accuracy: 0.9471 - val_fscore: 0.9035\n",
            "\n",
            "Epoch 00062: val_fscore did not improve from 0.90499\n",
            "Epoch 63/100\n",
            "12/12 [==============================] - 17s 1s/step - loss: 0.0396 - accuracy: 0.9737 - fscore: 0.9659 - val_loss: 0.1225 - val_accuracy: 0.9468 - val_fscore: 0.9030\n",
            "\n",
            "Epoch 00063: ReduceLROnPlateau reducing learning rate to 1e-05.\n",
            "\n",
            "Epoch 00063: val_fscore did not improve from 0.90499\n",
            "Epoch 64/100\n",
            "12/12 [==============================] - 18s 1s/step - loss: 0.0395 - accuracy: 0.9738 - fscore: 0.9660 - val_loss: 0.1252 - val_accuracy: 0.9456 - val_fscore: 0.9003\n",
            "\n",
            "Epoch 00064: val_fscore did not improve from 0.90499\n",
            "Epoch 65/100\n",
            "12/12 [==============================] - 17s 1s/step - loss: 0.0391 - accuracy: 0.9740 - fscore: 0.9663 - val_loss: 0.1227 - val_accuracy: 0.9464 - val_fscore: 0.9024\n",
            "\n",
            "Epoch 00065: val_fscore did not improve from 0.90499\n",
            "Epoch 66/100\n",
            "12/12 [==============================] - 17s 1s/step - loss: 0.0395 - accuracy: 0.9738 - fscore: 0.9659 - val_loss: 0.1229 - val_accuracy: 0.9464 - val_fscore: 0.9024\n",
            "\n",
            "Epoch 00066: val_fscore did not improve from 0.90499\n",
            "Epoch 67/100\n",
            "12/12 [==============================] - 17s 1s/step - loss: 0.0389 - accuracy: 0.9741 - fscore: 0.9667 - val_loss: 0.1221 - val_accuracy: 0.9466 - val_fscore: 0.9031\n",
            "\n",
            "Epoch 00067: val_fscore did not improve from 0.90499\n",
            "Epoch 68/100\n",
            "12/12 [==============================] - 17s 1s/step - loss: 0.0403 - accuracy: 0.9734 - fscore: 0.9660 - val_loss: 0.1207 - val_accuracy: 0.9473 - val_fscore: 0.9047\n",
            "\n",
            "Epoch 00068: val_fscore did not improve from 0.90499\n",
            "Epoch 69/100\n",
            "12/12 [==============================] - 17s 1s/step - loss: 0.0390 - accuracy: 0.9741 - fscore: 0.9664 - val_loss: 0.1200 - val_accuracy: 0.9476 - val_fscore: 0.9054\n",
            "\n",
            "Epoch 00069: val_fscore improved from 0.90499 to 0.90539, saving model to model-OD.h5\n",
            "Epoch 70/100\n",
            "12/12 [==============================] - 17s 1s/step - loss: 0.0394 - accuracy: 0.9738 - fscore: 0.9666 - val_loss: 0.1207 - val_accuracy: 0.9473 - val_fscore: 0.9047\n",
            "\n",
            "Epoch 00070: val_fscore did not improve from 0.90539\n",
            "Epoch 71/100\n",
            "12/12 [==============================] - 17s 1s/step - loss: 0.0399 - accuracy: 0.9736 - fscore: 0.9653 - val_loss: 0.1266 - val_accuracy: 0.9451 - val_fscore: 0.8995\n",
            "\n",
            "Epoch 00071: val_fscore did not improve from 0.90539\n",
            "Epoch 72/100\n",
            "12/12 [==============================] - 18s 1s/step - loss: 0.0400 - accuracy: 0.9736 - fscore: 0.9661 - val_loss: 0.1278 - val_accuracy: 0.9446 - val_fscore: 0.8984\n",
            "\n",
            "Epoch 00072: val_fscore did not improve from 0.90539\n",
            "Epoch 73/100\n",
            "12/12 [==============================] - 17s 1s/step - loss: 0.0397 - accuracy: 0.9737 - fscore: 0.9661 - val_loss: 0.1252 - val_accuracy: 0.9457 - val_fscore: 0.9010\n",
            "\n",
            "Epoch 00073: val_fscore did not improve from 0.90539\n",
            "Epoch 74/100\n",
            "12/12 [==============================] - 18s 1s/step - loss: 0.0389 - accuracy: 0.9741 - fscore: 0.9661 - val_loss: 0.1228 - val_accuracy: 0.9469 - val_fscore: 0.9037\n",
            "\n",
            "Epoch 00074: val_fscore did not improve from 0.90539\n",
            "Epoch 75/100\n",
            "12/12 [==============================] - 17s 1s/step - loss: 0.0392 - accuracy: 0.9739 - fscore: 0.9666 - val_loss: 0.1249 - val_accuracy: 0.9457 - val_fscore: 0.9013\n",
            "\n",
            "Epoch 00075: val_fscore did not improve from 0.90539\n",
            "Epoch 76/100\n",
            "12/12 [==============================] - 17s 1s/step - loss: 0.0391 - accuracy: 0.9739 - fscore: 0.9666 - val_loss: 0.1237 - val_accuracy: 0.9462 - val_fscore: 0.9024\n",
            "\n",
            "Epoch 00076: val_fscore did not improve from 0.90539\n",
            "Epoch 77/100\n",
            "12/12 [==============================] - 17s 1s/step - loss: 0.0385 - accuracy: 0.9742 - fscore: 0.9669 - val_loss: 0.1225 - val_accuracy: 0.9468 - val_fscore: 0.9038\n",
            "\n",
            "Epoch 00077: val_fscore did not improve from 0.90539\n",
            "Epoch 78/100\n",
            "12/12 [==============================] - 18s 1s/step - loss: 0.0387 - accuracy: 0.9741 - fscore: 0.9665 - val_loss: 0.1210 - val_accuracy: 0.9474 - val_fscore: 0.9051\n",
            "\n",
            "Epoch 00078: val_fscore did not improve from 0.90539\n",
            "Epoch 79/100\n",
            "12/12 [==============================] - 17s 1s/step - loss: 0.0393 - accuracy: 0.9738 - fscore: 0.9664 - val_loss: 0.1200 - val_accuracy: 0.9477 - val_fscore: 0.9059\n",
            "\n",
            "Epoch 00079: val_fscore improved from 0.90539 to 0.90595, saving model to model-OD.h5\n",
            "Epoch 80/100\n",
            "12/12 [==============================] - 17s 1s/step - loss: 0.0384 - accuracy: 0.9741 - fscore: 0.9670 - val_loss: 0.1187 - val_accuracy: 0.9483 - val_fscore: 0.9074\n",
            "\n",
            "Epoch 00080: val_fscore improved from 0.90595 to 0.90736, saving model to model-OD.h5\n",
            "Epoch 81/100\n",
            "12/12 [==============================] - 17s 1s/step - loss: 0.0387 - accuracy: 0.9741 - fscore: 0.9664 - val_loss: 0.1230 - val_accuracy: 0.9468 - val_fscore: 0.9038\n",
            "\n",
            "Epoch 00081: val_fscore did not improve from 0.90736\n",
            "Epoch 82/100\n",
            "12/12 [==============================] - 17s 1s/step - loss: 0.0391 - accuracy: 0.9739 - fscore: 0.9668 - val_loss: 0.1218 - val_accuracy: 0.9469 - val_fscore: 0.9042\n",
            "\n",
            "Epoch 00082: val_fscore did not improve from 0.90736\n",
            "Epoch 83/100\n",
            "12/12 [==============================] - 18s 1s/step - loss: 0.0393 - accuracy: 0.9738 - fscore: 0.9665 - val_loss: 0.1213 - val_accuracy: 0.9473 - val_fscore: 0.9050\n",
            "\n",
            "Epoch 00083: val_fscore did not improve from 0.90736\n",
            "Epoch 84/100\n",
            "12/12 [==============================] - 17s 1s/step - loss: 0.0383 - accuracy: 0.9742 - fscore: 0.9664 - val_loss: 0.1262 - val_accuracy: 0.9457 - val_fscore: 0.9012\n",
            "\n",
            "Epoch 00084: val_fscore did not improve from 0.90736\n",
            "Epoch 85/100\n",
            "12/12 [==============================] - 17s 1s/step - loss: 0.0390 - accuracy: 0.9741 - fscore: 0.9663 - val_loss: 0.1222 - val_accuracy: 0.9473 - val_fscore: 0.9048\n",
            "\n",
            "Epoch 00085: val_fscore did not improve from 0.90736\n",
            "Epoch 86/100\n",
            "12/12 [==============================] - 18s 1s/step - loss: 0.0391 - accuracy: 0.9739 - fscore: 0.9661 - val_loss: 0.1199 - val_accuracy: 0.9479 - val_fscore: 0.9064\n",
            "\n",
            "Epoch 00086: val_fscore did not improve from 0.90736\n",
            "Epoch 87/100\n",
            "12/12 [==============================] - 17s 1s/step - loss: 0.0393 - accuracy: 0.9739 - fscore: 0.9664 - val_loss: 0.1191 - val_accuracy: 0.9481 - val_fscore: 0.9069\n",
            "\n",
            "Epoch 00087: val_fscore did not improve from 0.90736\n",
            "Epoch 88/100\n",
            "12/12 [==============================] - 17s 1s/step - loss: 0.0384 - accuracy: 0.9742 - fscore: 0.9667 - val_loss: 0.1205 - val_accuracy: 0.9478 - val_fscore: 0.9060\n",
            "\n",
            "Epoch 00088: val_fscore did not improve from 0.90736\n",
            "Epoch 89/100\n",
            "12/12 [==============================] - 17s 1s/step - loss: 0.0383 - accuracy: 0.9742 - fscore: 0.9666 - val_loss: 0.1244 - val_accuracy: 0.9465 - val_fscore: 0.9031\n",
            "\n",
            "Epoch 00089: val_fscore did not improve from 0.90736\n",
            "Epoch 90/100\n",
            "12/12 [==============================] - 17s 1s/step - loss: 0.0386 - accuracy: 0.9741 - fscore: 0.9669 - val_loss: 0.1258 - val_accuracy: 0.9461 - val_fscore: 0.9022\n",
            "\n",
            "Epoch 00090: val_fscore did not improve from 0.90736\n",
            "Epoch 91/100\n",
            "12/12 [==============================] - 17s 1s/step - loss: 0.0383 - accuracy: 0.9743 - fscore: 0.9673 - val_loss: 0.1276 - val_accuracy: 0.9454 - val_fscore: 0.9004\n",
            "\n",
            "Epoch 00091: val_fscore did not improve from 0.90736\n",
            "Epoch 92/100\n",
            "12/12 [==============================] - 18s 1s/step - loss: 0.0385 - accuracy: 0.9743 - fscore: 0.9670 - val_loss: 0.1231 - val_accuracy: 0.9469 - val_fscore: 0.9041\n",
            "\n",
            "Epoch 00092: val_fscore did not improve from 0.90736\n",
            "Epoch 93/100\n",
            "12/12 [==============================] - 17s 1s/step - loss: 0.0388 - accuracy: 0.9742 - fscore: 0.9667 - val_loss: 0.1233 - val_accuracy: 0.9468 - val_fscore: 0.9040\n",
            "\n",
            "Epoch 00093: val_fscore did not improve from 0.90736\n",
            "Epoch 94/100\n",
            "12/12 [==============================] - 18s 1s/step - loss: 0.0380 - accuracy: 0.9745 - fscore: 0.9673 - val_loss: 0.1223 - val_accuracy: 0.9473 - val_fscore: 0.9051\n",
            "\n",
            "Epoch 00094: val_fscore did not improve from 0.90736\n",
            "Epoch 95/100\n",
            "12/12 [==============================] - 17s 1s/step - loss: 0.0389 - accuracy: 0.9740 - fscore: 0.9666 - val_loss: 0.1221 - val_accuracy: 0.9475 - val_fscore: 0.9054\n",
            "\n",
            "Epoch 00095: val_fscore did not improve from 0.90736\n",
            "Epoch 96/100\n",
            "12/12 [==============================] - 18s 1s/step - loss: 0.0385 - accuracy: 0.9742 - fscore: 0.9671 - val_loss: 0.1236 - val_accuracy: 0.9468 - val_fscore: 0.9040\n",
            "\n",
            "Epoch 00096: val_fscore did not improve from 0.90736\n",
            "Epoch 97/100\n",
            "12/12 [==============================] - 18s 1s/step - loss: 0.0395 - accuracy: 0.9737 - fscore: 0.9659 - val_loss: 0.1308 - val_accuracy: 0.9442 - val_fscore: 0.8978\n",
            "\n",
            "Epoch 00097: val_fscore did not improve from 0.90736\n",
            "Epoch 98/100\n",
            "12/12 [==============================] - 17s 1s/step - loss: 0.0375 - accuracy: 0.9745 - fscore: 0.9676 - val_loss: 0.1271 - val_accuracy: 0.9456 - val_fscore: 0.9011\n",
            "\n",
            "Epoch 00098: val_fscore did not improve from 0.90736\n",
            "Epoch 99/100\n",
            "12/12 [==============================] - 18s 1s/step - loss: 0.0385 - accuracy: 0.9742 - fscore: 0.9666 - val_loss: 0.1238 - val_accuracy: 0.9468 - val_fscore: 0.9039\n",
            "\n",
            "Epoch 00099: val_fscore did not improve from 0.90736\n",
            "Epoch 100/100\n",
            "12/12 [==============================] - 17s 1s/step - loss: 0.0387 - accuracy: 0.9741 - fscore: 0.9667 - val_loss: 0.1181 - val_accuracy: 0.9487 - val_fscore: 0.9085\n",
            "\n",
            "Epoch 00100: val_fscore improved from 0.90736 to 0.90847, saving model to model-OD.h5\n"
          ],
          "name": "stdout"
        }
      ]
    },
    {
      "cell_type": "code",
      "metadata": {
        "id": "_MopYC6X2rep",
        "colab": {
          "base_uri": "https://localhost:8080/"
        },
        "outputId": "6a72698f-96cf-4c0b-bd63-3c7c039f7577"
      },
      "source": [
        "results_OC = model_OC.fit(X_train_OC, y_train_OC, batch_size=32, epochs=100, callbacks=callbacks_OC,\\\n",
        "                    validation_data=(X_test_OC, y_test_OC))"
      ],
      "execution_count": null,
      "outputs": [
        {
          "output_type": "stream",
          "text": [
            "Epoch 1/100\n",
            "12/12 [==============================] - 21s 1s/step - loss: 0.5746 - accuracy: 0.7262 - fscore: 0.4513 - val_loss: 2605.8665 - val_accuracy: 0.0680 - val_fscore: 0.1381\n",
            "\n",
            "Epoch 00001: val_fscore improved from -inf to 0.13810, saving model to model-OC.h5\n",
            "Epoch 2/100\n",
            "12/12 [==============================] - 17s 1s/step - loss: 0.2114 - accuracy: 0.9534 - fscore: 0.6745 - val_loss: 226.4188 - val_accuracy: 0.0730 - val_fscore: 0.1387\n",
            "\n",
            "Epoch 00002: val_fscore improved from 0.13810 to 0.13874, saving model to model-OC.h5\n",
            "Epoch 3/100\n",
            "12/12 [==============================] - 17s 1s/step - loss: 0.1787 - accuracy: 0.9547 - fscore: 0.6713 - val_loss: 142.9016 - val_accuracy: 0.0971 - val_fscore: 0.1420\n",
            "\n",
            "Epoch 00003: val_fscore improved from 0.13874 to 0.14203, saving model to model-OC.h5\n",
            "Epoch 4/100\n",
            "12/12 [==============================] - 17s 1s/step - loss: 0.1621 - accuracy: 0.9552 - fscore: 0.7025 - val_loss: 73.9061 - val_accuracy: 0.1196 - val_fscore: 0.1452\n",
            "\n",
            "Epoch 00004: val_fscore improved from 0.14203 to 0.14522, saving model to model-OC.h5\n",
            "Epoch 5/100\n",
            "12/12 [==============================] - 17s 1s/step - loss: 0.1416 - accuracy: 0.9578 - fscore: 0.7272 - val_loss: 115.4799 - val_accuracy: 0.1424 - val_fscore: 0.1485\n",
            "\n",
            "Epoch 00005: val_fscore improved from 0.14522 to 0.14846, saving model to model-OC.h5\n",
            "Epoch 6/100\n",
            "12/12 [==============================] - 17s 1s/step - loss: 0.1290 - accuracy: 0.9606 - fscore: 0.7534 - val_loss: 33.0470 - val_accuracy: 0.2351 - val_fscore: 0.1636\n",
            "\n",
            "Epoch 00006: val_fscore improved from 0.14846 to 0.16361, saving model to model-OC.h5\n",
            "Epoch 7/100\n",
            "12/12 [==============================] - 17s 1s/step - loss: 0.1180 - accuracy: 0.9625 - fscore: 0.7656 - val_loss: 60.0259 - val_accuracy: 0.2091 - val_fscore: 0.1590\n",
            "\n",
            "Epoch 00007: val_fscore did not improve from 0.16361\n",
            "Epoch 8/100\n",
            "12/12 [==============================] - 17s 1s/step - loss: 0.1151 - accuracy: 0.9598 - fscore: 0.7421 - val_loss: 42.1025 - val_accuracy: 0.1813 - val_fscore: 0.1543\n",
            "\n",
            "Epoch 00008: val_fscore did not improve from 0.16361\n",
            "Epoch 9/100\n",
            "12/12 [==============================] - 17s 1s/step - loss: 0.0993 - accuracy: 0.9652 - fscore: 0.7802 - val_loss: 30.9410 - val_accuracy: 0.1900 - val_fscore: 0.1558\n",
            "\n",
            "Epoch 00009: val_fscore did not improve from 0.16361\n",
            "Epoch 10/100\n",
            "12/12 [==============================] - 17s 1s/step - loss: 0.0919 - accuracy: 0.9671 - fscore: 0.7952 - val_loss: 19.5600 - val_accuracy: 0.2243 - val_fscore: 0.1616\n",
            "\n",
            "Epoch 00010: val_fscore did not improve from 0.16361\n",
            "Epoch 11/100\n",
            "12/12 [==============================] - 17s 1s/step - loss: 0.0951 - accuracy: 0.9641 - fscore: 0.7892 - val_loss: 20.8271 - val_accuracy: 0.2932 - val_fscore: 0.1749\n",
            "\n",
            "Epoch 00011: val_fscore improved from 0.16361 to 0.17488, saving model to model-OC.h5\n",
            "Epoch 12/100\n",
            "12/12 [==============================] - 17s 1s/step - loss: 0.0910 - accuracy: 0.9645 - fscore: 0.7965 - val_loss: 12.3418 - val_accuracy: 0.3042 - val_fscore: 0.1772\n",
            "\n",
            "Epoch 00012: val_fscore improved from 0.17488 to 0.17722, saving model to model-OC.h5\n",
            "Epoch 13/100\n",
            "12/12 [==============================] - 17s 1s/step - loss: 0.0817 - accuracy: 0.9680 - fscore: 0.8069 - val_loss: 5.5669 - val_accuracy: 0.4523 - val_fscore: 0.2157\n",
            "\n",
            "Epoch 00013: val_fscore improved from 0.17722 to 0.21571, saving model to model-OC.h5\n",
            "Epoch 14/100\n",
            "12/12 [==============================] - 17s 1s/step - loss: 0.0780 - accuracy: 0.9677 - fscore: 0.8226 - val_loss: 6.0079 - val_accuracy: 0.5011 - val_fscore: 0.2321\n",
            "\n",
            "Epoch 00014: val_fscore improved from 0.21571 to 0.23207, saving model to model-OC.h5\n",
            "Epoch 15/100\n",
            "12/12 [==============================] - 17s 1s/step - loss: 0.0754 - accuracy: 0.9687 - fscore: 0.8198 - val_loss: 2.4479 - val_accuracy: 0.6325 - val_fscore: 0.2893\n",
            "\n",
            "Epoch 00015: val_fscore improved from 0.23207 to 0.28934, saving model to model-OC.h5\n",
            "Epoch 16/100\n",
            "12/12 [==============================] - 17s 1s/step - loss: 0.0695 - accuracy: 0.9704 - fscore: 0.8303 - val_loss: 2.8111 - val_accuracy: 0.6278 - val_fscore: 0.2875\n",
            "\n",
            "Epoch 00016: val_fscore did not improve from 0.28934\n",
            "Epoch 17/100\n",
            "12/12 [==============================] - 18s 1s/step - loss: 0.0727 - accuracy: 0.9686 - fscore: 0.8276 - val_loss: 1.8231 - val_accuracy: 0.6413 - val_fscore: 0.2952\n",
            "\n",
            "Epoch 00017: val_fscore improved from 0.28934 to 0.29523, saving model to model-OC.h5\n",
            "Epoch 18/100\n",
            "12/12 [==============================] - 18s 1s/step - loss: 0.0753 - accuracy: 0.9671 - fscore: 0.8235 - val_loss: 6.9254 - val_accuracy: 0.5741 - val_fscore: 0.2611\n",
            "\n",
            "Epoch 00018: val_fscore did not improve from 0.29523\n",
            "Epoch 19/100\n",
            "12/12 [==============================] - 18s 1s/step - loss: 0.0739 - accuracy: 0.9684 - fscore: 0.8321 - val_loss: 2.6262 - val_accuracy: 0.6527 - val_fscore: 0.3019\n",
            "\n",
            "Epoch 00019: val_fscore improved from 0.29523 to 0.30195, saving model to model-OC.h5\n",
            "Epoch 20/100\n",
            "12/12 [==============================] - 17s 1s/step - loss: 0.0645 - accuracy: 0.9716 - fscore: 0.8387 - val_loss: 2.6890 - val_accuracy: 0.6551 - val_fscore: 0.3031\n",
            "\n",
            "Epoch 00020: val_fscore improved from 0.30195 to 0.30307, saving model to model-OC.h5\n",
            "Epoch 21/100\n",
            "12/12 [==============================] - 18s 1s/step - loss: 0.0667 - accuracy: 0.9705 - fscore: 0.8354 - val_loss: 3.6815 - val_accuracy: 0.6077 - val_fscore: 0.2770\n",
            "\n",
            "Epoch 00021: val_fscore did not improve from 0.30307\n",
            "Epoch 22/100\n",
            "12/12 [==============================] - 18s 1s/step - loss: 0.0577 - accuracy: 0.9733 - fscore: 0.8536 - val_loss: 1.5586 - val_accuracy: 0.7293 - val_fscore: 0.3526\n",
            "\n",
            "Epoch 00022: val_fscore improved from 0.30307 to 0.35255, saving model to model-OC.h5\n",
            "Epoch 23/100\n",
            "12/12 [==============================] - 18s 1s/step - loss: 0.0551 - accuracy: 0.9747 - fscore: 0.8580 - val_loss: 2.1328 - val_accuracy: 0.6876 - val_fscore: 0.3234\n",
            "\n",
            "Epoch 00023: val_fscore did not improve from 0.35255\n",
            "Epoch 24/100\n",
            "12/12 [==============================] - 18s 1s/step - loss: 0.0552 - accuracy: 0.9744 - fscore: 0.8604 - val_loss: 0.7198 - val_accuracy: 0.8125 - val_fscore: 0.4204\n",
            "\n",
            "Epoch 00024: val_fscore improved from 0.35255 to 0.42036, saving model to model-OC.h5\n",
            "Epoch 25/100\n",
            "12/12 [==============================] - 18s 1s/step - loss: 0.0563 - accuracy: 0.9737 - fscore: 0.8497 - val_loss: 1.2849 - val_accuracy: 0.7513 - val_fscore: 0.3647\n",
            "\n",
            "Epoch 00025: val_fscore did not improve from 0.42036\n",
            "Epoch 26/100\n",
            "12/12 [==============================] - 18s 1s/step - loss: 0.0557 - accuracy: 0.9737 - fscore: 0.8609 - val_loss: 1.1583 - val_accuracy: 0.7567 - val_fscore: 0.3724\n",
            "\n",
            "Epoch 00026: val_fscore did not improve from 0.42036\n",
            "Epoch 27/100\n",
            "12/12 [==============================] - 18s 1s/step - loss: 0.0511 - accuracy: 0.9757 - fscore: 0.8674 - val_loss: 1.4398 - val_accuracy: 0.7254 - val_fscore: 0.3476\n",
            "\n",
            "Epoch 00027: val_fscore did not improve from 0.42036\n",
            "Epoch 28/100\n",
            "12/12 [==============================] - 18s 1s/step - loss: 0.0503 - accuracy: 0.9753 - fscore: 0.8704 - val_loss: 0.7923 - val_accuracy: 0.7875 - val_fscore: 0.4008\n",
            "\n",
            "Epoch 00028: val_fscore did not improve from 0.42036\n",
            "Epoch 29/100\n",
            "12/12 [==============================] - 18s 1s/step - loss: 0.0501 - accuracy: 0.9755 - fscore: 0.8646 - val_loss: 0.6602 - val_accuracy: 0.8249 - val_fscore: 0.4454\n",
            "\n",
            "Epoch 00029: val_fscore improved from 0.42036 to 0.44535, saving model to model-OC.h5\n",
            "Epoch 30/100\n",
            "12/12 [==============================] - 18s 1s/step - loss: 0.0466 - accuracy: 0.9767 - fscore: 0.8768 - val_loss: 0.4423 - val_accuracy: 0.8780 - val_fscore: 0.5249\n",
            "\n",
            "Epoch 00030: val_fscore improved from 0.44535 to 0.52485, saving model to model-OC.h5\n",
            "Epoch 31/100\n",
            "12/12 [==============================] - 18s 1s/step - loss: 0.0510 - accuracy: 0.9750 - fscore: 0.8720 - val_loss: 0.3183 - val_accuracy: 0.8731 - val_fscore: 0.5084\n",
            "\n",
            "Epoch 00031: val_fscore did not improve from 0.52485\n",
            "Epoch 32/100\n",
            "12/12 [==============================] - 18s 1s/step - loss: 0.0476 - accuracy: 0.9765 - fscore: 0.8723 - val_loss: 0.4229 - val_accuracy: 0.8616 - val_fscore: 0.4832\n",
            "\n",
            "Epoch 00032: val_fscore did not improve from 0.52485\n",
            "Epoch 33/100\n",
            "12/12 [==============================] - 18s 1s/step - loss: 0.0432 - accuracy: 0.9783 - fscore: 0.8856 - val_loss: 0.3063 - val_accuracy: 0.8936 - val_fscore: 0.5472\n",
            "\n",
            "Epoch 00033: val_fscore improved from 0.52485 to 0.54717, saving model to model-OC.h5\n",
            "Epoch 34/100\n",
            "12/12 [==============================] - 18s 1s/step - loss: 0.0417 - accuracy: 0.9788 - fscore: 0.8887 - val_loss: 0.3096 - val_accuracy: 0.8887 - val_fscore: 0.5304\n",
            "\n",
            "Epoch 00034: val_fscore did not improve from 0.54717\n",
            "Epoch 35/100\n",
            "12/12 [==============================] - 18s 1s/step - loss: 0.0414 - accuracy: 0.9789 - fscore: 0.8837 - val_loss: 0.3861 - val_accuracy: 0.8692 - val_fscore: 0.5019\n",
            "\n",
            "Epoch 00035: val_fscore did not improve from 0.54717\n",
            "Epoch 36/100\n",
            "12/12 [==============================] - 18s 1s/step - loss: 0.0414 - accuracy: 0.9786 - fscore: 0.8926 - val_loss: 0.1462 - val_accuracy: 0.9410 - val_fscore: 0.7031\n",
            "\n",
            "Epoch 00036: val_fscore improved from 0.54717 to 0.70306, saving model to model-OC.h5\n",
            "Epoch 37/100\n",
            "12/12 [==============================] - 18s 1s/step - loss: 0.0454 - accuracy: 0.9770 - fscore: 0.8745 - val_loss: 0.2906 - val_accuracy: 0.8586 - val_fscore: 0.4953\n",
            "\n",
            "Epoch 00037: val_fscore did not improve from 0.70306\n",
            "Epoch 38/100\n",
            "12/12 [==============================] - 18s 1s/step - loss: 0.0438 - accuracy: 0.9774 - fscore: 0.8818 - val_loss: 0.4435 - val_accuracy: 0.8734 - val_fscore: 0.5235\n",
            "\n",
            "Epoch 00038: val_fscore did not improve from 0.70306\n",
            "Epoch 39/100\n",
            "12/12 [==============================] - 18s 1s/step - loss: 0.0394 - accuracy: 0.9795 - fscore: 0.8929 - val_loss: 0.3511 - val_accuracy: 0.8754 - val_fscore: 0.5232\n",
            "\n",
            "Epoch 00039: val_fscore did not improve from 0.70306\n",
            "Epoch 40/100\n",
            "12/12 [==============================] - 18s 1s/step - loss: 0.0385 - accuracy: 0.9795 - fscore: 0.8989 - val_loss: 0.1298 - val_accuracy: 0.9446 - val_fscore: 0.6927\n",
            "\n",
            "Epoch 00040: val_fscore did not improve from 0.70306\n",
            "Epoch 41/100\n",
            "12/12 [==============================] - 18s 1s/step - loss: 0.0392 - accuracy: 0.9790 - fscore: 0.8978 - val_loss: 0.2296 - val_accuracy: 0.9071 - val_fscore: 0.6015\n",
            "\n",
            "Epoch 00041: val_fscore did not improve from 0.70306\n",
            "Epoch 42/100\n",
            "12/12 [==============================] - 18s 1s/step - loss: 0.0338 - accuracy: 0.9816 - fscore: 0.9073 - val_loss: 0.1731 - val_accuracy: 0.9284 - val_fscore: 0.6573\n",
            "\n",
            "Epoch 00042: val_fscore did not improve from 0.70306\n",
            "Epoch 43/100\n",
            "12/12 [==============================] - 18s 1s/step - loss: 0.0313 - accuracy: 0.9827 - fscore: 0.9151 - val_loss: 0.2519 - val_accuracy: 0.9116 - val_fscore: 0.5985\n",
            "\n",
            "Epoch 00043: val_fscore did not improve from 0.70306\n",
            "Epoch 44/100\n",
            "12/12 [==============================] - 18s 1s/step - loss: 0.0337 - accuracy: 0.9812 - fscore: 0.9125 - val_loss: 0.0958 - val_accuracy: 0.9634 - val_fscore: 0.7324\n",
            "\n",
            "Epoch 00044: val_fscore improved from 0.70306 to 0.73237, saving model to model-OC.h5\n",
            "Epoch 45/100\n",
            "12/12 [==============================] - 18s 1s/step - loss: 0.0329 - accuracy: 0.9820 - fscore: 0.9073 - val_loss: 0.0828 - val_accuracy: 0.9652 - val_fscore: 0.7772\n",
            "\n",
            "Epoch 00045: val_fscore improved from 0.73237 to 0.77725, saving model to model-OC.h5\n",
            "Epoch 46/100\n",
            "12/12 [==============================] - 18s 1s/step - loss: 0.0318 - accuracy: 0.9818 - fscore: 0.9157 - val_loss: 0.1625 - val_accuracy: 0.9310 - val_fscore: 0.6743\n",
            "\n",
            "Epoch 00046: val_fscore did not improve from 0.77725\n",
            "Epoch 47/100\n",
            "12/12 [==============================] - 18s 1s/step - loss: 0.0329 - accuracy: 0.9815 - fscore: 0.9120 - val_loss: 0.1046 - val_accuracy: 0.9557 - val_fscore: 0.7300\n",
            "\n",
            "Epoch 00047: val_fscore did not improve from 0.77725\n",
            "Epoch 48/100\n",
            "12/12 [==============================] - 18s 1s/step - loss: 0.0291 - accuracy: 0.9832 - fscore: 0.9225 - val_loss: 0.1343 - val_accuracy: 0.9482 - val_fscore: 0.7234\n",
            "\n",
            "Epoch 00048: val_fscore did not improve from 0.77725\n",
            "Epoch 49/100\n",
            "12/12 [==============================] - 18s 1s/step - loss: 0.0300 - accuracy: 0.9827 - fscore: 0.9176 - val_loss: 0.1062 - val_accuracy: 0.9559 - val_fscore: 0.7491\n",
            "\n",
            "Epoch 00049: val_fscore did not improve from 0.77725\n",
            "Epoch 50/100\n",
            "12/12 [==============================] - 18s 1s/step - loss: 0.0359 - accuracy: 0.9804 - fscore: 0.9036 - val_loss: 0.1758 - val_accuracy: 0.9231 - val_fscore: 0.6611\n",
            "\n",
            "Epoch 00050: ReduceLROnPlateau reducing learning rate to 0.00010000000474974513.\n",
            "\n",
            "Epoch 00050: val_fscore did not improve from 0.77725\n",
            "Epoch 51/100\n",
            "12/12 [==============================] - 18s 1s/step - loss: 0.0310 - accuracy: 0.9826 - fscore: 0.9201 - val_loss: 0.0835 - val_accuracy: 0.9615 - val_fscore: 0.7938\n",
            "\n",
            "Epoch 00051: val_fscore improved from 0.77725 to 0.79383, saving model to model-OC.h5\n",
            "Epoch 52/100\n",
            "12/12 [==============================] - 18s 1s/step - loss: 0.0282 - accuracy: 0.9840 - fscore: 0.9207 - val_loss: 0.0633 - val_accuracy: 0.9710 - val_fscore: 0.8297\n",
            "\n",
            "Epoch 00052: val_fscore improved from 0.79383 to 0.82966, saving model to model-OC.h5\n",
            "Epoch 53/100\n",
            "12/12 [==============================] - 18s 1s/step - loss: 0.0255 - accuracy: 0.9850 - fscore: 0.9323 - val_loss: 0.0627 - val_accuracy: 0.9712 - val_fscore: 0.8322\n",
            "\n",
            "Epoch 00053: val_fscore improved from 0.82966 to 0.83222, saving model to model-OC.h5\n",
            "Epoch 54/100\n",
            "12/12 [==============================] - 18s 1s/step - loss: 0.0248 - accuracy: 0.9850 - fscore: 0.9312 - val_loss: 0.0635 - val_accuracy: 0.9728 - val_fscore: 0.8327\n",
            "\n",
            "Epoch 00054: val_fscore improved from 0.83222 to 0.83268, saving model to model-OC.h5\n",
            "Epoch 55/100\n",
            "12/12 [==============================] - 18s 1s/step - loss: 0.0234 - accuracy: 0.9858 - fscore: 0.9368 - val_loss: 0.0641 - val_accuracy: 0.9731 - val_fscore: 0.8337\n",
            "\n",
            "Epoch 00055: val_fscore improved from 0.83268 to 0.83374, saving model to model-OC.h5\n",
            "Epoch 56/100\n",
            "12/12 [==============================] - 18s 1s/step - loss: 0.0238 - accuracy: 0.9853 - fscore: 0.9368 - val_loss: 0.0626 - val_accuracy: 0.9735 - val_fscore: 0.8384\n",
            "\n",
            "Epoch 00056: val_fscore improved from 0.83374 to 0.83838, saving model to model-OC.h5\n",
            "Epoch 57/100\n",
            "12/12 [==============================] - 18s 1s/step - loss: 0.0231 - accuracy: 0.9856 - fscore: 0.9367 - val_loss: 0.0650 - val_accuracy: 0.9732 - val_fscore: 0.8336\n",
            "\n",
            "Epoch 00057: val_fscore did not improve from 0.83838\n",
            "Epoch 58/100\n",
            "12/12 [==============================] - 18s 1s/step - loss: 0.0223 - accuracy: 0.9860 - fscore: 0.9399 - val_loss: 0.0642 - val_accuracy: 0.9736 - val_fscore: 0.8360\n",
            "\n",
            "Epoch 00058: ReduceLROnPlateau reducing learning rate to 1.0000000474974514e-05.\n",
            "\n",
            "Epoch 00058: val_fscore did not improve from 0.83838\n",
            "Epoch 59/100\n",
            "12/12 [==============================] - 18s 1s/step - loss: 0.0219 - accuracy: 0.9862 - fscore: 0.9391 - val_loss: 0.0639 - val_accuracy: 0.9736 - val_fscore: 0.8372\n",
            "\n",
            "Epoch 00059: val_fscore did not improve from 0.83838\n",
            "Epoch 60/100\n",
            "12/12 [==============================] - 18s 1s/step - loss: 0.0219 - accuracy: 0.9861 - fscore: 0.9412 - val_loss: 0.0632 - val_accuracy: 0.9738 - val_fscore: 0.8397\n",
            "\n",
            "Epoch 00060: val_fscore improved from 0.83838 to 0.83969, saving model to model-OC.h5\n",
            "Epoch 61/100\n",
            "12/12 [==============================] - 18s 1s/step - loss: 0.0212 - accuracy: 0.9864 - fscore: 0.9429 - val_loss: 0.0627 - val_accuracy: 0.9739 - val_fscore: 0.8419\n",
            "\n",
            "Epoch 00061: val_fscore improved from 0.83969 to 0.84191, saving model to model-OC.h5\n",
            "Epoch 62/100\n",
            "12/12 [==============================] - 18s 1s/step - loss: 0.0223 - accuracy: 0.9860 - fscore: 0.9424 - val_loss: 0.0622 - val_accuracy: 0.9740 - val_fscore: 0.8435\n",
            "\n",
            "Epoch 00062: val_fscore improved from 0.84191 to 0.84347, saving model to model-OC.h5\n",
            "Epoch 63/100\n",
            "12/12 [==============================] - 18s 1s/step - loss: 0.0215 - accuracy: 0.9863 - fscore: 0.9447 - val_loss: 0.0624 - val_accuracy: 0.9740 - val_fscore: 0.8434\n",
            "\n",
            "Epoch 00063: val_fscore did not improve from 0.84347\n",
            "Epoch 64/100\n",
            "12/12 [==============================] - 18s 1s/step - loss: 0.0217 - accuracy: 0.9862 - fscore: 0.9419 - val_loss: 0.0631 - val_accuracy: 0.9739 - val_fscore: 0.8414\n",
            "\n",
            "Epoch 00064: val_fscore did not improve from 0.84347\n",
            "Epoch 65/100\n",
            "12/12 [==============================] - 18s 1s/step - loss: 0.0215 - accuracy: 0.9863 - fscore: 0.9403 - val_loss: 0.0634 - val_accuracy: 0.9737 - val_fscore: 0.8404\n",
            "\n",
            "Epoch 00065: val_fscore did not improve from 0.84347\n",
            "Epoch 66/100\n",
            "12/12 [==============================] - 18s 1s/step - loss: 0.0215 - accuracy: 0.9864 - fscore: 0.9416 - val_loss: 0.0633 - val_accuracy: 0.9738 - val_fscore: 0.8412\n",
            "\n",
            "Epoch 00066: val_fscore did not improve from 0.84347\n",
            "Epoch 67/100\n",
            "12/12 [==============================] - 18s 1s/step - loss: 0.0220 - accuracy: 0.9860 - fscore: 0.9379 - val_loss: 0.0630 - val_accuracy: 0.9739 - val_fscore: 0.8425\n",
            "\n",
            "Epoch 00067: ReduceLROnPlateau reducing learning rate to 1e-05.\n",
            "\n",
            "Epoch 00067: val_fscore did not improve from 0.84347\n",
            "Epoch 68/100\n",
            "12/12 [==============================] - 18s 1s/step - loss: 0.0211 - accuracy: 0.9865 - fscore: 0.9425 - val_loss: 0.0631 - val_accuracy: 0.9738 - val_fscore: 0.8425\n",
            "\n",
            "Epoch 00068: val_fscore did not improve from 0.84347\n",
            "Epoch 69/100\n",
            "12/12 [==============================] - 18s 1s/step - loss: 0.0211 - accuracy: 0.9864 - fscore: 0.9429 - val_loss: 0.0632 - val_accuracy: 0.9738 - val_fscore: 0.8425\n",
            "\n",
            "Epoch 00069: val_fscore did not improve from 0.84347\n",
            "Epoch 70/100\n",
            "12/12 [==============================] - 18s 1s/step - loss: 0.0215 - accuracy: 0.9863 - fscore: 0.9415 - val_loss: 0.0633 - val_accuracy: 0.9738 - val_fscore: 0.8427\n",
            "\n",
            "Epoch 00070: val_fscore did not improve from 0.84347\n",
            "Epoch 71/100\n",
            "12/12 [==============================] - 18s 1s/step - loss: 0.0216 - accuracy: 0.9863 - fscore: 0.9433 - val_loss: 0.0635 - val_accuracy: 0.9737 - val_fscore: 0.8425\n",
            "\n",
            "Epoch 00071: val_fscore did not improve from 0.84347\n",
            "Epoch 72/100\n",
            "12/12 [==============================] - 18s 1s/step - loss: 0.0218 - accuracy: 0.9863 - fscore: 0.9395 - val_loss: 0.0635 - val_accuracy: 0.9738 - val_fscore: 0.8426\n",
            "\n",
            "Epoch 00072: val_fscore did not improve from 0.84347\n",
            "Epoch 73/100\n",
            "12/12 [==============================] - 18s 1s/step - loss: 0.0210 - accuracy: 0.9865 - fscore: 0.9427 - val_loss: 0.0633 - val_accuracy: 0.9738 - val_fscore: 0.8440\n",
            "\n",
            "Epoch 00073: val_fscore improved from 0.84347 to 0.84402, saving model to model-OC.h5\n",
            "Epoch 74/100\n",
            "12/12 [==============================] - 18s 1s/step - loss: 0.0211 - accuracy: 0.9864 - fscore: 0.9425 - val_loss: 0.0634 - val_accuracy: 0.9737 - val_fscore: 0.8440\n",
            "\n",
            "Epoch 00074: val_fscore improved from 0.84402 to 0.84405, saving model to model-OC.h5\n",
            "Epoch 75/100\n",
            "12/12 [==============================] - 18s 1s/step - loss: 0.0215 - accuracy: 0.9863 - fscore: 0.9401 - val_loss: 0.0639 - val_accuracy: 0.9736 - val_fscore: 0.8428\n",
            "\n",
            "Epoch 00075: val_fscore did not improve from 0.84405\n",
            "Epoch 76/100\n",
            "12/12 [==============================] - 18s 1s/step - loss: 0.0208 - accuracy: 0.9866 - fscore: 0.9426 - val_loss: 0.0641 - val_accuracy: 0.9736 - val_fscore: 0.8431\n",
            "\n",
            "Epoch 00076: val_fscore did not improve from 0.84405\n",
            "Epoch 77/100\n",
            "12/12 [==============================] - 18s 1s/step - loss: 0.0208 - accuracy: 0.9865 - fscore: 0.9441 - val_loss: 0.0640 - val_accuracy: 0.9737 - val_fscore: 0.8435\n",
            "\n",
            "Epoch 00077: val_fscore did not improve from 0.84405\n",
            "Epoch 78/100\n",
            "12/12 [==============================] - 18s 1s/step - loss: 0.0222 - accuracy: 0.9860 - fscore: 0.9412 - val_loss: 0.0643 - val_accuracy: 0.9736 - val_fscore: 0.8430\n",
            "\n",
            "Epoch 00078: val_fscore did not improve from 0.84405\n",
            "Epoch 79/100\n",
            "12/12 [==============================] - 18s 1s/step - loss: 0.0218 - accuracy: 0.9860 - fscore: 0.9423 - val_loss: 0.0648 - val_accuracy: 0.9735 - val_fscore: 0.8419\n",
            "\n",
            "Epoch 00079: val_fscore did not improve from 0.84405\n",
            "Epoch 80/100\n",
            "12/12 [==============================] - 18s 1s/step - loss: 0.0205 - accuracy: 0.9866 - fscore: 0.9439 - val_loss: 0.0650 - val_accuracy: 0.9735 - val_fscore: 0.8413\n",
            "\n",
            "Epoch 00080: val_fscore did not improve from 0.84405\n",
            "Epoch 81/100\n",
            "12/12 [==============================] - 18s 1s/step - loss: 0.0212 - accuracy: 0.9864 - fscore: 0.9424 - val_loss: 0.0650 - val_accuracy: 0.9735 - val_fscore: 0.8416\n",
            "\n",
            "Epoch 00081: val_fscore did not improve from 0.84405\n",
            "Epoch 82/100\n",
            "12/12 [==============================] - 18s 1s/step - loss: 0.0215 - accuracy: 0.9863 - fscore: 0.9406 - val_loss: 0.0649 - val_accuracy: 0.9735 - val_fscore: 0.8421\n",
            "\n",
            "Epoch 00082: val_fscore did not improve from 0.84405\n",
            "Epoch 00082: early stopping\n"
          ],
          "name": "stdout"
        }
      ]
    },
    {
      "cell_type": "code",
      "metadata": {
        "id": "dWcAuIWnwujv",
        "colab": {
          "base_uri": "https://localhost:8080/",
          "height": 354
        },
        "outputId": "be193f9a-4845-4e1e-c09c-160ad5d0837c"
      },
      "source": [
        "histo([results_OD])"
      ],
      "execution_count": null,
      "outputs": [
        {
          "output_type": "stream",
          "text": [
            "Fold-1\n"
          ],
          "name": "stdout"
        },
        {
          "output_type": "display_data",
          "data": {
            "image/png": "[encoded data removed]",
            "text/plain": [
              "<Figure size 1440x360 with 3 Axes>"
            ]
          },
          "metadata": {
            "tags": [],
            "needs_background": "light"
          }
        }
      ]
    },
    {
      "cell_type": "code",
      "metadata": {
        "id": "x09gHvOEwwSt",
        "colab": {
          "base_uri": "https://localhost:8080/",
          "height": 354
        },
        "outputId": "f5f21e9e-321c-424e-d8bc-21fd284b6d10"
      },
      "source": [
        "histo([results_OC])"
      ],
      "execution_count": null,
      "outputs": [
        {
          "output_type": "stream",
          "text": [
            "Fold-1\n"
          ],
          "name": "stdout"
        },
        {
          "output_type": "display_data",
          "data": {
            "image/png": "[encoded data removed]",
            "text/plain": [
              "<Figure size 1440x360 with 3 Axes>"
            ]
          },
          "metadata": {
            "tags": [],
            "needs_background": "light"
          }
        }
      ]
    },
    {
      "cell_type": "code",
      "metadata": {
        "id": "WdUL14h84JA6"
      },
      "source": [
        "# Load the best model\n",
        "model_OD.load_weights('model-OD.h5')\n",
        "model_OC.load_weights('model-OC.h5')"
      ],
      "execution_count": null,
      "outputs": []
    },
    {
      "cell_type": "code",
      "metadata": {
        "id": "sU4r3ewHxUmc"
      },
      "source": [
        "# Adding Lambda layer at the end of model OD and OC\n",
        "def add_lambda(model, X_test, y_test_ori):    \n",
        "  model_layer = model.layers[-1]\n",
        "  lu = Lambda(upscale, name=\"lambda_upscale\")(model_layer.output)\n",
        "  model_upscale = Model(model.input, lu, name=\"upscale_model\")\n",
        "  model_upscale.compile(loss=\"binary_crossentropy\", metrics=[\"accuracy\",fscore])\n",
        "  model_upscale.evaluate(X_test, y_test_ori, verbose=1)\n",
        "  return model_upscale"
      ],
      "execution_count": null,
      "outputs": []
    },
    {
      "cell_type": "code",
      "metadata": {
        "id": "TW-m7TN12bGa",
        "colab": {
          "base_uri": "https://localhost:8080/"
        },
        "outputId": "3b4cdf97-261d-4cd7-aa5e-d787c1bf58d8"
      },
      "source": [
        "model_OD_up = add_lambda(model_OD, X_test_OD, y_test_OD_ori)\n",
        "model_OC_up = add_lambda(model_OC, X_test_OC, y_test_OC_ori)"
      ],
      "execution_count": null,
      "outputs": [
        {
          "output_type": "stream",
          "text": [
            "3/3 [==============================] - 4s 390ms/step - loss: 0.1141 - accuracy: 0.9576 - fscore: 0.9104\n",
            "3/3 [==============================] - 4s 388ms/step - loss: 0.0640 - accuracy: 0.9780 - fscore: 0.8369\n"
          ],
          "name": "stdout"
        }
      ]
    },
    {
      "cell_type": "code",
      "metadata": {
        "id": "Tmq3z55bBCbc",
        "colab": {
          "base_uri": "https://localhost:8080/"
        },
        "outputId": "9cf328dc-3977-40e2-cd44-e923f8c8bd65"
      },
      "source": [
        "model_OD_up.save('/content/gdrive/My Drive/Drive Tugas Akhir/Kode/model OD semantic fixed/')\n",
        "model_OC_up.save('/content/gdrive/My Drive/Drive Tugas Akhir/Kode/model OC semantic fixed/')"
      ],
      "execution_count": null,
      "outputs": [
        {
          "output_type": "stream",
          "text": [
            "INFO:tensorflow:Assets written to: /content/gdrive/My Drive/Drive Tugas Akhir/Kode/model OD semantic fixed/assets\n",
            "INFO:tensorflow:Assets written to: /content/gdrive/My Drive/Drive Tugas Akhir/Kode/model OC semantic fixed/assets\n"
          ],
          "name": "stdout"
        }
      ]
    },
    {
      "cell_type": "markdown",
      "metadata": {
        "id": "-K7uF0m3DM8H"
      },
      "source": [
        "# Inference"
      ]
    },
    {
      "cell_type": "code",
      "metadata": {
        "id": "pNhlz8CdtKwD"
      },
      "source": [
        "# load the best model\n",
        "model.load_weights('model-tgs-salt.h5')"
      ],
      "execution_count": null,
      "outputs": []
    },
    {
      "cell_type": "code",
      "metadata": {
        "id": "Yiy9It0j3iIk"
      },
      "source": [
        "model_OD_up = tf.keras.models.load_model('/content/gdrive/My Drive/Drive Tugas Akhir/Kode/model OD semantic fixed/', custom_objects={'fscore':fscore})\n",
        "model_OC_up = tf.keras.models.load_model('/content/gdrive/My Drive/Drive Tugas Akhir/Kode/model OC semantic fixed/', custom_objects={'fscore':fscore})"
      ],
      "execution_count": null,
      "outputs": []
    },
    {
      "cell_type": "code",
      "metadata": {
        "id": "Vnkg-7xAtKwE",
        "colab": {
          "base_uri": "https://localhost:8080/"
        },
        "outputId": "20ad43ab-57d1-43df-f1bf-95ead827548c"
      },
      "source": [
        "# Evaluate on validation set (this must be equals to the best log_loss)\n",
        "model_OD.evaluate(X_test_OD, y_test_OD, verbose=1)\n",
        "model_OC.evaluate(X_test_OC, y_test_OC, verbose=1)"
      ],
      "execution_count": null,
      "outputs": [
        {
          "output_type": "stream",
          "text": [
            "3/3 [==============================] - 60s 3s/step - loss: 0.1143 - accuracy: 0.9496 - fscore: 0.9092\n",
            "3/3 [==============================] - 3s 331ms/step - loss: 0.0641 - accuracy: 0.9736 - fscore: 0.8343\n"
          ],
          "name": "stdout"
        },
        {
          "output_type": "execute_result",
          "data": {
            "text/plain": [
              "[0.06344515830278397, 0.9737382531166077, 0.844048261642456]"
            ]
          },
          "metadata": {
            "tags": []
          },
          "execution_count": 30
        }
      ]
    },
    {
      "cell_type": "code",
      "metadata": {
        "id": "2ZldDVm3Mz_9",
        "colab": {
          "base_uri": "https://localhost:8080/"
        },
        "outputId": "9cd60666-4a22-483d-e9c6-d3341b13e0bd"
      },
      "source": [
        "# Evaluate on validation set (this must be equals to the best log_loss)\n",
        "model_OD_up.evaluate(X_test_OD, y_test_OD_ori, verbose=1)\n",
        "model_OC_up.evaluate(X_test_OC, y_test_OC_ori, verbose=1)"
      ],
      "execution_count": null,
      "outputs": [
        {
          "output_type": "stream",
          "text": [
            "3/3 [==============================] - 1s 388ms/step - loss: 0.1179 - accuracy: 0.9567 - fscore: 0.9097\n",
            "3/3 [==============================] - 1s 387ms/step - loss: 0.0634 - accuracy: 0.9782 - fscore: 0.8466\n"
          ],
          "name": "stdout"
        },
        {
          "output_type": "execute_result",
          "data": {
            "text/plain": [
              "[0.0633607804775238, 0.9782199263572693, 0.8466160297393799]"
            ]
          },
          "metadata": {
            "tags": []
          },
          "execution_count": 33
        }
      ]
    },
    {
      "cell_type": "code",
      "metadata": {
        "id": "8TExDD6AtKwE",
        "colab": {
          "base_uri": "https://localhost:8080/"
        },
        "outputId": "2e7edf93-ad15-4562-96b4-d91993417bbd"
      },
      "source": [
        "# Predict on train, val and test\n",
        "preds_train_OD = model_OD_up.predict(X_train_OD, verbose=1)\n",
        "preds_val_OD = model_OD_up.predict(X_test_OD, verbose=1)\n",
        "preds_train_OC = model_OC_up.predict(X_train_OC, verbose=1)\n",
        "preds_val_OC = model_OC_up.predict(X_test_OC, verbose=1)"
      ],
      "execution_count": null,
      "outputs": [
        {
          "output_type": "stream",
          "text": [
            "12/12 [==============================] - 8s 616ms/step\n",
            "3/3 [==============================] - 1s 405ms/step\n",
            "12/12 [==============================] - 6s 414ms/step\n",
            "3/3 [==============================] - 1s 407ms/step\n"
          ],
          "name": "stdout"
        }
      ]
    },
    {
      "cell_type": "code",
      "metadata": {
        "id": "sb8_268wtKwE"
      },
      "source": [
        "# Threshold predictions\n",
        "preds_train_t_OD = (preds_train_OD > 0.5).astype(np.uint8)\n",
        "preds_val_t_OD = (preds_val_OD > 0.5).astype(np.uint8)\n",
        "preds_train_t_OC = (preds_train_OC > 0.5).astype(np.uint8)\n",
        "preds_val_t_OC = (preds_val_OC > 0.5).astype(np.uint8)"
      ],
      "execution_count": null,
      "outputs": []
    },
    {
      "cell_type": "code",
      "metadata": {
        "id": "mmgGfJYQbDcI"
      },
      "source": [
        "# Circle Hough Transform Model fitting\n",
        "def ellipsTransform(mask):\n",
        "  # Select largest contour\n",
        "  cnts, _= cv2.findContours(mask, cv2.RETR_TREE, cv2.CHAIN_APPROX_SIMPLE)\n",
        "  cnts = sorted(cnts, key=cv2.contourArea, reverse=True)\n",
        "  elips = np.zeros((mask.shape[0], mask.shape[1]),np.uint8)\n",
        "  if len(cnts)>0:\n",
        "  # Ellipse fitting\n",
        "    ellipse = cv2.fitEllipse(cnts[0])\n",
        "    elips = cv2.ellipse(elips, ellipse, 255, cv2.FILLED)\n",
        "  else:\n",
        "    elips = mask\n",
        "  return elips"
      ],
      "execution_count": null,
      "outputs": []
    },
    {
      "cell_type": "code",
      "metadata": {
        "id": "8xnE6hagbbY7"
      },
      "source": [
        "def ellips_fitting(preds):\n",
        "  ellipsfitted = []\n",
        "  for mask in preds:\n",
        "    mask = mask.squeeze()\n",
        "    mask = ellipsTransform(mask)\n",
        "    mask = np.expand_dims(mask, axis=-1)\n",
        "    ellipsfitted.append(mask)\n",
        "  \n",
        "  ellipsfitted = np.array(ellipsfitted)\n",
        "  return ellipsfitted"
      ],
      "execution_count": null,
      "outputs": []
    },
    {
      "cell_type": "code",
      "metadata": {
        "id": "yRTJYALMaie7"
      },
      "source": [
        "# Ellips fitting prediction\n",
        "pred_val_el_OD = ellips_fitting(preds_val_t_OD)/255.0\n",
        "pred_val_el_OC = ellips_fitting(preds_val_t_OC)/255.0"
      ],
      "execution_count": null,
      "outputs": []
    },
    {
      "cell_type": "code",
      "metadata": {
        "id": "kK_CmN0m4_o-",
        "colab": {
          "base_uri": "https://localhost:8080/"
        },
        "outputId": "d13651f8-f56f-4442-9226-c6d11e4f2a32"
      },
      "source": [
        "# Mean Fscore calculation\n",
        "def MeanFscore(pred_val, y_test_ori):\n",
        "  Fscore = []\n",
        "  for i, mask in enumerate(pred_val):\n",
        "    mask = mask.squeeze()\n",
        "    gt = y_test_ori[i].squeeze()\n",
        "    DSC = np.sum(mask[gt==1.0])*2 / (np.sum(mask) + np.sum(gt))\n",
        "    Fscore.append(DSC)\n",
        "\n",
        "  Fscore = np.array(Fscore)\n",
        "  mean = np.mean(Fscore)\n",
        "  std = np.std(Fscore)\n",
        "  max = np.max(Fscore)\n",
        "  min = np.min(Fscore)\n",
        "  print('Mean Fscore: {:.3f} - STD Fscore: {:.3f} - max Fscore: {:.3f} - min Fscore: {:.3f}'.\\\n",
        "        format(mean, std, max, min))\n",
        "\n",
        "MeanFscore(pred_val_el_OD, y_test_OD_ori)\n",
        "MeanFscore(pred_val_el_OC, y_test_OC_ori)"
      ],
      "execution_count": null,
      "outputs": [
        {
          "output_type": "stream",
          "text": [
            "Mean Fscore: 0.924 - STD Fscore: 0.039 - max Fscore: 0.973 - min Fscore: 0.776\n",
            "Mean Fscore: 0.844 - STD Fscore: 0.082 - max Fscore: 0.960 - min Fscore: 0.486\n"
          ],
          "name": "stdout"
        }
      ]
    },
    {
      "cell_type": "code",
      "metadata": {
        "id": "114gMPCkcPQX",
        "colab": {
          "base_uri": "https://localhost:8080/"
        },
        "outputId": "ba60a685-7253-4b88-df9b-b40d13e13512"
      },
      "source": [
        "# Total Fscore calculation\n",
        "acc_m = tf.keras.metrics.BinaryAccuracy()\n",
        "loss_m = tf.keras.metrics.BinaryCrossentropy()\n",
        "\n",
        "acc_m.update_state(pred_val_el_OD, y_test_OD_ori)\n",
        "loss_m.update_state(pred_val_el_OD, y_test_OD_ori)\n",
        "\n",
        "acc = acc_m.result().numpy()\n",
        "f1 = fscore(pred_val_el_OD, y_test_OD_ori)\n",
        "loss = loss_m.result().numpy()\n",
        "print('OD segmentation')\n",
        "print('loss: {:.3f} - accuracy: {:.3f} - fscore: {:.3f}'.format(loss, acc, f1))\n",
        "\n",
        "acc_m.reset_state()\n",
        "loss_m.reset_state()\n",
        "\n",
        "acc_m.update_state(pred_val_el_OC, y_test_OC_ori)\n",
        "loss_m.update_state(pred_val_el_OC, y_test_OD_ori)\n",
        "acc = acc_m.result().numpy()\n",
        "f1 = fscore(pred_val_el_OC, y_test_OC_ori)\n",
        "loss = loss_m.result().numpy()\n",
        "print('OC segmentation')\n",
        "print('loss: {:.3f} - accuracy: {:.3f} - fscore: {:.3f}'.format(loss, acc, f1))"
      ],
      "execution_count": null,
      "outputs": [
        {
          "output_type": "stream",
          "text": [
            "OD segmentation\n",
            "loss: 0.552 - accuracy: 0.964 - fscore: 0.926\n",
            "OC segmentation\n",
            "loss: 2.810 - accuracy: 0.979 - fscore: 0.854\n"
          ],
          "name": "stdout"
        }
      ]
    },
    {
      "cell_type": "code",
      "metadata": {
        "id": "TfbllJBOtKwE"
      },
      "source": [
        "import scipy.ndimage\n",
        "import cv2\n",
        "def plot_sample(X, y, preds, binary_preds, ix=None):\n",
        "    \"\"\"Function to plot the results\"\"\"\n",
        "    if ix is None:\n",
        "        ix = random.randint(0, len(X))\n",
        "\n",
        "    has_mask = y[ix].max() > 0\n",
        "\n",
        "    fig, ax = plt.subplots(1, 4, figsize=(20, 10))\n",
        "    ax[0].imshow(X[ix, ..., 0], cmap='gray')\n",
        "    if has_mask:\n",
        "        ax[0].contour(y[ix].squeeze(), colors='k', levels=[0.5])\n",
        "    ax[0].set_title('Seismic')\n",
        "\n",
        "    ax[1].imshow(y[ix].squeeze(), cmap='gray')\n",
        "    ax[1].set_title('Salt')\n",
        "\n",
        "    ax[2].imshow(preds[ix].squeeze(), vmin=0, vmax=1)\n",
        "    if has_mask:\n",
        "        ax[2].contour(y[ix].squeeze(), colors='k', levels=[0.5])\n",
        "    ax[2].set_title('Salt Predicted')\n",
        "    \n",
        "    ax[3].imshow(binary_preds[ix].squeeze(), vmin=0, vmax=1)\n",
        "    if has_mask:\n",
        "        ax[3].contour(y[ix].squeeze(), colors='k', levels=[0.5])\n",
        "    ax[3].set_title('Salt Predicted binary');\n"
      ],
      "execution_count": null,
      "outputs": []
    },
    {
      "cell_type": "markdown",
      "metadata": {
        "id": "wd79Qk2BDb2q"
      },
      "source": [
        "# Plot image"
      ]
    },
    {
      "cell_type": "code",
      "metadata": {
        "id": "eSbQLEzntKwF",
        "colab": {
          "base_uri": "https://localhost:8080/",
          "height": 298
        },
        "outputId": "2470539d-cd84-41ac-df3a-dd8bb927eaab"
      },
      "source": [
        "# Check if training data looks all right\n",
        "plot_sample(X_test_OD, y_test_OD_ori, preds_val_OD, preds_val_t_OD, ix=30)"
      ],
      "execution_count": null,
      "outputs": [
        {
          "output_type": "display_data",
          "data": {
            "image/png": "[encoded data removed]",
            "text/plain": [
              "<Figure size 1440x720 with 4 Axes>"
            ]
          },
          "metadata": {
            "tags": [],
            "needs_background": "light"
          }
        }
      ]
    },
    {
      "cell_type": "code",
      "metadata": {
        "id": "bmRgk9M6tKwF"
      },
      "source": [
        "plot_sample(X_train_OC, y_train_OC, preds_train_OC, preds_train_t_OC, ix=30)"
      ],
      "execution_count": null,
      "outputs": []
    },
    {
      "cell_type": "code",
      "metadata": {
        "id": "IKGSDdbltKwF"
      },
      "source": [
        "plot_sample(X_train_OD, y_train_OD, preds_train_OD, preds_train_t_OD, ix=1)"
      ],
      "execution_count": null,
      "outputs": []
    },
    {
      "cell_type": "code",
      "metadata": {
        "id": "X3m7nW4AMAUH"
      },
      "source": [
        "plot_sample(X_train_OC, y_train_OC, preds_train_OC, preds_train_t_OC, ix=1)"
      ],
      "execution_count": null,
      "outputs": []
    },
    {
      "cell_type": "markdown",
      "metadata": {
        "id": "JkkOxPnb0eYm"
      },
      "source": [
        "# Saving model"
      ]
    },
    {
      "cell_type": "code",
      "metadata": {
        "id": "bCdQf2aB3duL"
      },
      "source": [
        "model_OD.save('/content/gdrive/My Drive/Drive Tugas Akhir/Kode/model OD semantic/')\n",
        "model_OC.save('/content/gdrive/My Drive/Drive Tugas Akhir/Kode/model OC semantic/')"
      ],
      "execution_count": null,
      "outputs": []
    },
    {
      "cell_type": "markdown",
      "metadata": {
        "id": "4zBCoOZe58dK"
      },
      "source": [
        ""
      ]
    }
  ]
}