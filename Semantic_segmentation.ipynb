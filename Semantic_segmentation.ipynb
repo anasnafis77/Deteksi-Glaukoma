{
  "nbformat": 4,
  "nbformat_minor": 0,
  "metadata": {
    "colab": {
      "name": "Semantic segmentation.ipynb",
      "provenance": [],
      "include_colab_link": true
    },
    "kernelspec": {
      "name": "python3",
      "display_name": "Python 3"
    },
    "language_info": {
      "name": "python"
    },
    "widgets": {
      "application/vnd.jupyter.widget-state+json": {
        "eff70b7ebd1447ae9032abbaf2b41e0d": {
          "model_module": "@jupyter-widgets/controls",
          "model_name": "HBoxModel",
          "state": {
            "_view_name": "HBoxView",
            "_dom_classes": [],
            "_model_name": "HBoxModel",
            "_view_module": "@jupyter-widgets/controls",
            "_model_module_version": "1.5.0",
            "_view_count": null,
            "_view_module_version": "1.5.0",
            "box_style": "",
            "layout": "IPY_MODEL_def88c4271804458bb83f511d46600e8",
            "_model_module": "@jupyter-widgets/controls",
            "children": [
              "IPY_MODEL_4bf3c254209f4acebd7ef1b5d9fa87a5",
              "IPY_MODEL_2326c3f5157a4a93a833540c26183873"
            ]
          }
        },
        "def88c4271804458bb83f511d46600e8": {
          "model_module": "@jupyter-widgets/base",
          "model_name": "LayoutModel",
          "state": {
            "_view_name": "LayoutView",
            "grid_template_rows": null,
            "right": null,
            "justify_content": null,
            "_view_module": "@jupyter-widgets/base",
            "overflow": null,
            "_model_module_version": "1.2.0",
            "_view_count": null,
            "flex_flow": null,
            "width": null,
            "min_width": null,
            "border": null,
            "align_items": null,
            "bottom": null,
            "_model_module": "@jupyter-widgets/base",
            "top": null,
            "grid_column": null,
            "overflow_y": null,
            "overflow_x": null,
            "grid_auto_flow": null,
            "grid_area": null,
            "grid_template_columns": null,
            "flex": null,
            "_model_name": "LayoutModel",
            "justify_items": null,
            "grid_row": null,
            "max_height": null,
            "align_content": null,
            "visibility": null,
            "align_self": null,
            "height": null,
            "min_height": null,
            "padding": null,
            "grid_auto_rows": null,
            "grid_gap": null,
            "max_width": null,
            "order": null,
            "_view_module_version": "1.2.0",
            "grid_template_areas": null,
            "object_position": null,
            "object_fit": null,
            "grid_auto_columns": null,
            "margin": null,
            "display": null,
            "left": null
          }
        },
        "4bf3c254209f4acebd7ef1b5d9fa87a5": {
          "model_module": "@jupyter-widgets/controls",
          "model_name": "FloatProgressModel",
          "state": {
            "_view_name": "ProgressView",
            "style": "IPY_MODEL_dd894f34e7f04896b2255a62a101b96b",
            "_dom_classes": [],
            "description": "100%",
            "_model_name": "FloatProgressModel",
            "bar_style": "success",
            "max": 450,
            "_view_module": "@jupyter-widgets/controls",
            "_model_module_version": "1.5.0",
            "value": 450,
            "_view_count": null,
            "_view_module_version": "1.5.0",
            "orientation": "horizontal",
            "min": 0,
            "description_tooltip": null,
            "_model_module": "@jupyter-widgets/controls",
            "layout": "IPY_MODEL_76994d679ad0469e95e97f22c00a86bd"
          }
        },
        "2326c3f5157a4a93a833540c26183873": {
          "model_module": "@jupyter-widgets/controls",
          "model_name": "HTMLModel",
          "state": {
            "_view_name": "HTMLView",
            "style": "IPY_MODEL_2078d9d26fe24bbc91f3b49c48330e8a",
            "_dom_classes": [],
            "description": "",
            "_model_name": "HTMLModel",
            "placeholder": "​",
            "_view_module": "@jupyter-widgets/controls",
            "_model_module_version": "1.5.0",
            "value": " 450/450 [13:07&lt;00:00,  1.75s/it]",
            "_view_count": null,
            "_view_module_version": "1.5.0",
            "description_tooltip": null,
            "_model_module": "@jupyter-widgets/controls",
            "layout": "IPY_MODEL_8bbf5de4117b4eb088a655dc8f073ab2"
          }
        },
        "dd894f34e7f04896b2255a62a101b96b": {
          "model_module": "@jupyter-widgets/controls",
          "model_name": "ProgressStyleModel",
          "state": {
            "_view_name": "StyleView",
            "_model_name": "ProgressStyleModel",
            "description_width": "initial",
            "_view_module": "@jupyter-widgets/base",
            "_model_module_version": "1.5.0",
            "_view_count": null,
            "_view_module_version": "1.2.0",
            "bar_color": null,
            "_model_module": "@jupyter-widgets/controls"
          }
        },
        "76994d679ad0469e95e97f22c00a86bd": {
          "model_module": "@jupyter-widgets/base",
          "model_name": "LayoutModel",
          "state": {
            "_view_name": "LayoutView",
            "grid_template_rows": null,
            "right": null,
            "justify_content": null,
            "_view_module": "@jupyter-widgets/base",
            "overflow": null,
            "_model_module_version": "1.2.0",
            "_view_count": null,
            "flex_flow": null,
            "width": null,
            "min_width": null,
            "border": null,
            "align_items": null,
            "bottom": null,
            "_model_module": "@jupyter-widgets/base",
            "top": null,
            "grid_column": null,
            "overflow_y": null,
            "overflow_x": null,
            "grid_auto_flow": null,
            "grid_area": null,
            "grid_template_columns": null,
            "flex": null,
            "_model_name": "LayoutModel",
            "justify_items": null,
            "grid_row": null,
            "max_height": null,
            "align_content": null,
            "visibility": null,
            "align_self": null,
            "height": null,
            "min_height": null,
            "padding": null,
            "grid_auto_rows": null,
            "grid_gap": null,
            "max_width": null,
            "order": null,
            "_view_module_version": "1.2.0",
            "grid_template_areas": null,
            "object_position": null,
            "object_fit": null,
            "grid_auto_columns": null,
            "margin": null,
            "display": null,
            "left": null
          }
        },
        "2078d9d26fe24bbc91f3b49c48330e8a": {
          "model_module": "@jupyter-widgets/controls",
          "model_name": "DescriptionStyleModel",
          "state": {
            "_view_name": "StyleView",
            "_model_name": "DescriptionStyleModel",
            "description_width": "",
            "_view_module": "@jupyter-widgets/base",
            "_model_module_version": "1.5.0",
            "_view_count": null,
            "_view_module_version": "1.2.0",
            "_model_module": "@jupyter-widgets/controls"
          }
        },
        "8bbf5de4117b4eb088a655dc8f073ab2": {
          "model_module": "@jupyter-widgets/base",
          "model_name": "LayoutModel",
          "state": {
            "_view_name": "LayoutView",
            "grid_template_rows": null,
            "right": null,
            "justify_content": null,
            "_view_module": "@jupyter-widgets/base",
            "overflow": null,
            "_model_module_version": "1.2.0",
            "_view_count": null,
            "flex_flow": null,
            "width": null,
            "min_width": null,
            "border": null,
            "align_items": null,
            "bottom": null,
            "_model_module": "@jupyter-widgets/base",
            "top": null,
            "grid_column": null,
            "overflow_y": null,
            "overflow_x": null,
            "grid_auto_flow": null,
            "grid_area": null,
            "grid_template_columns": null,
            "flex": null,
            "_model_name": "LayoutModel",
            "justify_items": null,
            "grid_row": null,
            "max_height": null,
            "align_content": null,
            "visibility": null,
            "align_self": null,
            "height": null,
            "min_height": null,
            "padding": null,
            "grid_auto_rows": null,
            "grid_gap": null,
            "max_width": null,
            "order": null,
            "_view_module_version": "1.2.0",
            "grid_template_areas": null,
            "object_position": null,
            "object_fit": null,
            "grid_auto_columns": null,
            "margin": null,
            "display": null,
            "left": null
          }
        },
        "ee772153e8b943dda7939c77ba99417f": {
          "model_module": "@jupyter-widgets/controls",
          "model_name": "HBoxModel",
          "state": {
            "_view_name": "HBoxView",
            "_dom_classes": [],
            "_model_name": "HBoxModel",
            "_view_module": "@jupyter-widgets/controls",
            "_model_module_version": "1.5.0",
            "_view_count": null,
            "_view_module_version": "1.5.0",
            "box_style": "",
            "layout": "IPY_MODEL_72b4a82f973e4cd7b2e40b753708db5a",
            "_model_module": "@jupyter-widgets/controls",
            "children": [
              "IPY_MODEL_37c85a3c7b7f40cfb056e5a22772ddb4",
              "IPY_MODEL_ce776e0e587c46e080577bf3089c14f0"
            ]
          }
        },
        "72b4a82f973e4cd7b2e40b753708db5a": {
          "model_module": "@jupyter-widgets/base",
          "model_name": "LayoutModel",
          "state": {
            "_view_name": "LayoutView",
            "grid_template_rows": null,
            "right": null,
            "justify_content": null,
            "_view_module": "@jupyter-widgets/base",
            "overflow": null,
            "_model_module_version": "1.2.0",
            "_view_count": null,
            "flex_flow": null,
            "width": null,
            "min_width": null,
            "border": null,
            "align_items": null,
            "bottom": null,
            "_model_module": "@jupyter-widgets/base",
            "top": null,
            "grid_column": null,
            "overflow_y": null,
            "overflow_x": null,
            "grid_auto_flow": null,
            "grid_area": null,
            "grid_template_columns": null,
            "flex": null,
            "_model_name": "LayoutModel",
            "justify_items": null,
            "grid_row": null,
            "max_height": null,
            "align_content": null,
            "visibility": null,
            "align_self": null,
            "height": null,
            "min_height": null,
            "padding": null,
            "grid_auto_rows": null,
            "grid_gap": null,
            "max_width": null,
            "order": null,
            "_view_module_version": "1.2.0",
            "grid_template_areas": null,
            "object_position": null,
            "object_fit": null,
            "grid_auto_columns": null,
            "margin": null,
            "display": null,
            "left": null
          }
        },
        "37c85a3c7b7f40cfb056e5a22772ddb4": {
          "model_module": "@jupyter-widgets/controls",
          "model_name": "FloatProgressModel",
          "state": {
            "_view_name": "ProgressView",
            "style": "IPY_MODEL_095fce295eae4a4e887735e7011f6626",
            "_dom_classes": [],
            "description": "100%",
            "_model_name": "FloatProgressModel",
            "bar_style": "success",
            "max": 450,
            "_view_module": "@jupyter-widgets/controls",
            "_model_module_version": "1.5.0",
            "value": 450,
            "_view_count": null,
            "_view_module_version": "1.5.0",
            "orientation": "horizontal",
            "min": 0,
            "description_tooltip": null,
            "_model_module": "@jupyter-widgets/controls",
            "layout": "IPY_MODEL_b37aabe3121149718370bbf91815527c"
          }
        },
        "ce776e0e587c46e080577bf3089c14f0": {
          "model_module": "@jupyter-widgets/controls",
          "model_name": "HTMLModel",
          "state": {
            "_view_name": "HTMLView",
            "style": "IPY_MODEL_327a31c85696456db5bb50a7b60b0676",
            "_dom_classes": [],
            "description": "",
            "_model_name": "HTMLModel",
            "placeholder": "​",
            "_view_module": "@jupyter-widgets/controls",
            "_model_module_version": "1.5.0",
            "value": " 450/450 [05:25&lt;00:00,  1.38it/s]",
            "_view_count": null,
            "_view_module_version": "1.5.0",
            "description_tooltip": null,
            "_model_module": "@jupyter-widgets/controls",
            "layout": "IPY_MODEL_37457852e0534db1aea76645baf835c5"
          }
        },
        "095fce295eae4a4e887735e7011f6626": {
          "model_module": "@jupyter-widgets/controls",
          "model_name": "ProgressStyleModel",
          "state": {
            "_view_name": "StyleView",
            "_model_name": "ProgressStyleModel",
            "description_width": "initial",
            "_view_module": "@jupyter-widgets/base",
            "_model_module_version": "1.5.0",
            "_view_count": null,
            "_view_module_version": "1.2.0",
            "bar_color": null,
            "_model_module": "@jupyter-widgets/controls"
          }
        },
        "b37aabe3121149718370bbf91815527c": {
          "model_module": "@jupyter-widgets/base",
          "model_name": "LayoutModel",
          "state": {
            "_view_name": "LayoutView",
            "grid_template_rows": null,
            "right": null,
            "justify_content": null,
            "_view_module": "@jupyter-widgets/base",
            "overflow": null,
            "_model_module_version": "1.2.0",
            "_view_count": null,
            "flex_flow": null,
            "width": null,
            "min_width": null,
            "border": null,
            "align_items": null,
            "bottom": null,
            "_model_module": "@jupyter-widgets/base",
            "top": null,
            "grid_column": null,
            "overflow_y": null,
            "overflow_x": null,
            "grid_auto_flow": null,
            "grid_area": null,
            "grid_template_columns": null,
            "flex": null,
            "_model_name": "LayoutModel",
            "justify_items": null,
            "grid_row": null,
            "max_height": null,
            "align_content": null,
            "visibility": null,
            "align_self": null,
            "height": null,
            "min_height": null,
            "padding": null,
            "grid_auto_rows": null,
            "grid_gap": null,
            "max_width": null,
            "order": null,
            "_view_module_version": "1.2.0",
            "grid_template_areas": null,
            "object_position": null,
            "object_fit": null,
            "grid_auto_columns": null,
            "margin": null,
            "display": null,
            "left": null
          }
        },
        "327a31c85696456db5bb50a7b60b0676": {
          "model_module": "@jupyter-widgets/controls",
          "model_name": "DescriptionStyleModel",
          "state": {
            "_view_name": "StyleView",
            "_model_name": "DescriptionStyleModel",
            "description_width": "",
            "_view_module": "@jupyter-widgets/base",
            "_model_module_version": "1.5.0",
            "_view_count": null,
            "_view_module_version": "1.2.0",
            "_model_module": "@jupyter-widgets/controls"
          }
        },
        "37457852e0534db1aea76645baf835c5": {
          "model_module": "@jupyter-widgets/base",
          "model_name": "LayoutModel",
          "state": {
            "_view_name": "LayoutView",
            "grid_template_rows": null,
            "right": null,
            "justify_content": null,
            "_view_module": "@jupyter-widgets/base",
            "overflow": null,
            "_model_module_version": "1.2.0",
            "_view_count": null,
            "flex_flow": null,
            "width": null,
            "min_width": null,
            "border": null,
            "align_items": null,
            "bottom": null,
            "_model_module": "@jupyter-widgets/base",
            "top": null,
            "grid_column": null,
            "overflow_y": null,
            "overflow_x": null,
            "grid_auto_flow": null,
            "grid_area": null,
            "grid_template_columns": null,
            "flex": null,
            "_model_name": "LayoutModel",
            "justify_items": null,
            "grid_row": null,
            "max_height": null,
            "align_content": null,
            "visibility": null,
            "align_self": null,
            "height": null,
            "min_height": null,
            "padding": null,
            "grid_auto_rows": null,
            "grid_gap": null,
            "max_width": null,
            "order": null,
            "_view_module_version": "1.2.0",
            "grid_template_areas": null,
            "object_position": null,
            "object_fit": null,
            "grid_auto_columns": null,
            "margin": null,
            "display": null,
            "left": null
          }
        },
        "192a2ddeba13487e92e01d05b80bdae1": {
          "model_module": "@jupyter-widgets/controls",
          "model_name": "HBoxModel",
          "state": {
            "_view_name": "HBoxView",
            "_dom_classes": [],
            "_model_name": "HBoxModel",
            "_view_module": "@jupyter-widgets/controls",
            "_model_module_version": "1.5.0",
            "_view_count": null,
            "_view_module_version": "1.5.0",
            "box_style": "",
            "layout": "IPY_MODEL_6a876dac0a6b4106a6172cbd4c9656d1",
            "_model_module": "@jupyter-widgets/controls",
            "children": [
              "IPY_MODEL_65f5df1a2d3943158b8c4adad6f39373",
              "IPY_MODEL_ee23de7a63c54f8b97a3770354d77c3c"
            ]
          }
        },
        "6a876dac0a6b4106a6172cbd4c9656d1": {
          "model_module": "@jupyter-widgets/base",
          "model_name": "LayoutModel",
          "state": {
            "_view_name": "LayoutView",
            "grid_template_rows": null,
            "right": null,
            "justify_content": null,
            "_view_module": "@jupyter-widgets/base",
            "overflow": null,
            "_model_module_version": "1.2.0",
            "_view_count": null,
            "flex_flow": null,
            "width": null,
            "min_width": null,
            "border": null,
            "align_items": null,
            "bottom": null,
            "_model_module": "@jupyter-widgets/base",
            "top": null,
            "grid_column": null,
            "overflow_y": null,
            "overflow_x": null,
            "grid_auto_flow": null,
            "grid_area": null,
            "grid_template_columns": null,
            "flex": null,
            "_model_name": "LayoutModel",
            "justify_items": null,
            "grid_row": null,
            "max_height": null,
            "align_content": null,
            "visibility": null,
            "align_self": null,
            "height": null,
            "min_height": null,
            "padding": null,
            "grid_auto_rows": null,
            "grid_gap": null,
            "max_width": null,
            "order": null,
            "_view_module_version": "1.2.0",
            "grid_template_areas": null,
            "object_position": null,
            "object_fit": null,
            "grid_auto_columns": null,
            "margin": null,
            "display": null,
            "left": null
          }
        },
        "65f5df1a2d3943158b8c4adad6f39373": {
          "model_module": "@jupyter-widgets/controls",
          "model_name": "FloatProgressModel",
          "state": {
            "_view_name": "ProgressView",
            "style": "IPY_MODEL_9b13be071d2d48ea9648dac6d695a215",
            "_dom_classes": [],
            "description": "100%",
            "_model_name": "FloatProgressModel",
            "bar_style": "success",
            "max": 450,
            "_view_module": "@jupyter-widgets/controls",
            "_model_module_version": "1.5.0",
            "value": 450,
            "_view_count": null,
            "_view_module_version": "1.5.0",
            "orientation": "horizontal",
            "min": 0,
            "description_tooltip": null,
            "_model_module": "@jupyter-widgets/controls",
            "layout": "IPY_MODEL_d45d00c307284898af4752e3bf51d5b0"
          }
        },
        "ee23de7a63c54f8b97a3770354d77c3c": {
          "model_module": "@jupyter-widgets/controls",
          "model_name": "HTMLModel",
          "state": {
            "_view_name": "HTMLView",
            "style": "IPY_MODEL_ebb37a2430b147dd9b9ddfdbb0d2eacd",
            "_dom_classes": [],
            "description": "",
            "_model_name": "HTMLModel",
            "placeholder": "​",
            "_view_module": "@jupyter-widgets/controls",
            "_model_module_version": "1.5.0",
            "value": " 450/450 [02:41&lt;00:00,  2.79it/s]",
            "_view_count": null,
            "_view_module_version": "1.5.0",
            "description_tooltip": null,
            "_model_module": "@jupyter-widgets/controls",
            "layout": "IPY_MODEL_4452d3c088c84c1c92412aa42b18ea71"
          }
        },
        "9b13be071d2d48ea9648dac6d695a215": {
          "model_module": "@jupyter-widgets/controls",
          "model_name": "ProgressStyleModel",
          "state": {
            "_view_name": "StyleView",
            "_model_name": "ProgressStyleModel",
            "description_width": "initial",
            "_view_module": "@jupyter-widgets/base",
            "_model_module_version": "1.5.0",
            "_view_count": null,
            "_view_module_version": "1.2.0",
            "bar_color": null,
            "_model_module": "@jupyter-widgets/controls"
          }
        },
        "d45d00c307284898af4752e3bf51d5b0": {
          "model_module": "@jupyter-widgets/base",
          "model_name": "LayoutModel",
          "state": {
            "_view_name": "LayoutView",
            "grid_template_rows": null,
            "right": null,
            "justify_content": null,
            "_view_module": "@jupyter-widgets/base",
            "overflow": null,
            "_model_module_version": "1.2.0",
            "_view_count": null,
            "flex_flow": null,
            "width": null,
            "min_width": null,
            "border": null,
            "align_items": null,
            "bottom": null,
            "_model_module": "@jupyter-widgets/base",
            "top": null,
            "grid_column": null,
            "overflow_y": null,
            "overflow_x": null,
            "grid_auto_flow": null,
            "grid_area": null,
            "grid_template_columns": null,
            "flex": null,
            "_model_name": "LayoutModel",
            "justify_items": null,
            "grid_row": null,
            "max_height": null,
            "align_content": null,
            "visibility": null,
            "align_self": null,
            "height": null,
            "min_height": null,
            "padding": null,
            "grid_auto_rows": null,
            "grid_gap": null,
            "max_width": null,
            "order": null,
            "_view_module_version": "1.2.0",
            "grid_template_areas": null,
            "object_position": null,
            "object_fit": null,
            "grid_auto_columns": null,
            "margin": null,
            "display": null,
            "left": null
          }
        },
        "ebb37a2430b147dd9b9ddfdbb0d2eacd": {
          "model_module": "@jupyter-widgets/controls",
          "model_name": "DescriptionStyleModel",
          "state": {
            "_view_name": "StyleView",
            "_model_name": "DescriptionStyleModel",
            "description_width": "",
            "_view_module": "@jupyter-widgets/base",
            "_model_module_version": "1.5.0",
            "_view_count": null,
            "_view_module_version": "1.2.0",
            "_model_module": "@jupyter-widgets/controls"
          }
        },
        "4452d3c088c84c1c92412aa42b18ea71": {
          "model_module": "@jupyter-widgets/base",
          "model_name": "LayoutModel",
          "state": {
            "_view_name": "LayoutView",
            "grid_template_rows": null,
            "right": null,
            "justify_content": null,
            "_view_module": "@jupyter-widgets/base",
            "overflow": null,
            "_model_module_version": "1.2.0",
            "_view_count": null,
            "flex_flow": null,
            "width": null,
            "min_width": null,
            "border": null,
            "align_items": null,
            "bottom": null,
            "_model_module": "@jupyter-widgets/base",
            "top": null,
            "grid_column": null,
            "overflow_y": null,
            "overflow_x": null,
            "grid_auto_flow": null,
            "grid_area": null,
            "grid_template_columns": null,
            "flex": null,
            "_model_name": "LayoutModel",
            "justify_items": null,
            "grid_row": null,
            "max_height": null,
            "align_content": null,
            "visibility": null,
            "align_self": null,
            "height": null,
            "min_height": null,
            "padding": null,
            "grid_auto_rows": null,
            "grid_gap": null,
            "max_width": null,
            "order": null,
            "_view_module_version": "1.2.0",
            "grid_template_areas": null,
            "object_position": null,
            "object_fit": null,
            "grid_auto_columns": null,
            "margin": null,
            "display": null,
            "left": null
          }
        },
        "af207f8854bf43ecb359bfa4e55da3ea": {
          "model_module": "@jupyter-widgets/controls",
          "model_name": "HBoxModel",
          "state": {
            "_view_name": "HBoxView",
            "_dom_classes": [],
            "_model_name": "HBoxModel",
            "_view_module": "@jupyter-widgets/controls",
            "_model_module_version": "1.5.0",
            "_view_count": null,
            "_view_module_version": "1.5.0",
            "box_style": "",
            "layout": "IPY_MODEL_34eb0584090646da92dc55b8263ca758",
            "_model_module": "@jupyter-widgets/controls",
            "children": [
              "IPY_MODEL_5def4bc8a6ea4f6db76fc8c76fb2fe11",
              "IPY_MODEL_e2dd868cc1844dc39dfcaf85815fda82"
            ]
          }
        },
        "34eb0584090646da92dc55b8263ca758": {
          "model_module": "@jupyter-widgets/base",
          "model_name": "LayoutModel",
          "state": {
            "_view_name": "LayoutView",
            "grid_template_rows": null,
            "right": null,
            "justify_content": null,
            "_view_module": "@jupyter-widgets/base",
            "overflow": null,
            "_model_module_version": "1.2.0",
            "_view_count": null,
            "flex_flow": null,
            "width": null,
            "min_width": null,
            "border": null,
            "align_items": null,
            "bottom": null,
            "_model_module": "@jupyter-widgets/base",
            "top": null,
            "grid_column": null,
            "overflow_y": null,
            "overflow_x": null,
            "grid_auto_flow": null,
            "grid_area": null,
            "grid_template_columns": null,
            "flex": null,
            "_model_name": "LayoutModel",
            "justify_items": null,
            "grid_row": null,
            "max_height": null,
            "align_content": null,
            "visibility": null,
            "align_self": null,
            "height": null,
            "min_height": null,
            "padding": null,
            "grid_auto_rows": null,
            "grid_gap": null,
            "max_width": null,
            "order": null,
            "_view_module_version": "1.2.0",
            "grid_template_areas": null,
            "object_position": null,
            "object_fit": null,
            "grid_auto_columns": null,
            "margin": null,
            "display": null,
            "left": null
          }
        },
        "5def4bc8a6ea4f6db76fc8c76fb2fe11": {
          "model_module": "@jupyter-widgets/controls",
          "model_name": "FloatProgressModel",
          "state": {
            "_view_name": "ProgressView",
            "style": "IPY_MODEL_a462ef4911e2427991c0f1e50e7f8a49",
            "_dom_classes": [],
            "description": "100%",
            "_model_name": "FloatProgressModel",
            "bar_style": "success",
            "max": 1,
            "_view_module": "@jupyter-widgets/controls",
            "_model_module_version": "1.5.0",
            "value": 1,
            "_view_count": null,
            "_view_module_version": "1.5.0",
            "orientation": "horizontal",
            "min": 0,
            "description_tooltip": null,
            "_model_module": "@jupyter-widgets/controls",
            "layout": "IPY_MODEL_f853377c0d8c4779a14e80a7f13de328"
          }
        },
        "e2dd868cc1844dc39dfcaf85815fda82": {
          "model_module": "@jupyter-widgets/controls",
          "model_name": "HTMLModel",
          "state": {
            "_view_name": "HTMLView",
            "style": "IPY_MODEL_a5b4172250fa4db89ea3fdc633dc2785",
            "_dom_classes": [],
            "description": "",
            "_model_name": "HTMLModel",
            "placeholder": "​",
            "_view_module": "@jupyter-widgets/controls",
            "_model_module_version": "1.5.0",
            "value": " 1/1 [02:03&lt;00:00, 123.45s/it]",
            "_view_count": null,
            "_view_module_version": "1.5.0",
            "description_tooltip": null,
            "_model_module": "@jupyter-widgets/controls",
            "layout": "IPY_MODEL_11180ef1826c446192aa63efafa2e412"
          }
        },
        "a462ef4911e2427991c0f1e50e7f8a49": {
          "model_module": "@jupyter-widgets/controls",
          "model_name": "ProgressStyleModel",
          "state": {
            "_view_name": "StyleView",
            "_model_name": "ProgressStyleModel",
            "description_width": "initial",
            "_view_module": "@jupyter-widgets/base",
            "_model_module_version": "1.5.0",
            "_view_count": null,
            "_view_module_version": "1.2.0",
            "bar_color": null,
            "_model_module": "@jupyter-widgets/controls"
          }
        },
        "f853377c0d8c4779a14e80a7f13de328": {
          "model_module": "@jupyter-widgets/base",
          "model_name": "LayoutModel",
          "state": {
            "_view_name": "LayoutView",
            "grid_template_rows": null,
            "right": null,
            "justify_content": null,
            "_view_module": "@jupyter-widgets/base",
            "overflow": null,
            "_model_module_version": "1.2.0",
            "_view_count": null,
            "flex_flow": null,
            "width": null,
            "min_width": null,
            "border": null,
            "align_items": null,
            "bottom": null,
            "_model_module": "@jupyter-widgets/base",
            "top": null,
            "grid_column": null,
            "overflow_y": null,
            "overflow_x": null,
            "grid_auto_flow": null,
            "grid_area": null,
            "grid_template_columns": null,
            "flex": null,
            "_model_name": "LayoutModel",
            "justify_items": null,
            "grid_row": null,
            "max_height": null,
            "align_content": null,
            "visibility": null,
            "align_self": null,
            "height": null,
            "min_height": null,
            "padding": null,
            "grid_auto_rows": null,
            "grid_gap": null,
            "max_width": null,
            "order": null,
            "_view_module_version": "1.2.0",
            "grid_template_areas": null,
            "object_position": null,
            "object_fit": null,
            "grid_auto_columns": null,
            "margin": null,
            "display": null,
            "left": null
          }
        },
        "a5b4172250fa4db89ea3fdc633dc2785": {
          "model_module": "@jupyter-widgets/controls",
          "model_name": "DescriptionStyleModel",
          "state": {
            "_view_name": "StyleView",
            "_model_name": "DescriptionStyleModel",
            "description_width": "",
            "_view_module": "@jupyter-widgets/base",
            "_model_module_version": "1.5.0",
            "_view_count": null,
            "_view_module_version": "1.2.0",
            "_model_module": "@jupyter-widgets/controls"
          }
        },
        "11180ef1826c446192aa63efafa2e412": {
          "model_module": "@jupyter-widgets/base",
          "model_name": "LayoutModel",
          "state": {
            "_view_name": "LayoutView",
            "grid_template_rows": null,
            "right": null,
            "justify_content": null,
            "_view_module": "@jupyter-widgets/base",
            "overflow": null,
            "_model_module_version": "1.2.0",
            "_view_count": null,
            "flex_flow": null,
            "width": null,
            "min_width": null,
            "border": null,
            "align_items": null,
            "bottom": null,
            "_model_module": "@jupyter-widgets/base",
            "top": null,
            "grid_column": null,
            "overflow_y": null,
            "overflow_x": null,
            "grid_auto_flow": null,
            "grid_area": null,
            "grid_template_columns": null,
            "flex": null,
            "_model_name": "LayoutModel",
            "justify_items": null,
            "grid_row": null,
            "max_height": null,
            "align_content": null,
            "visibility": null,
            "align_self": null,
            "height": null,
            "min_height": null,
            "padding": null,
            "grid_auto_rows": null,
            "grid_gap": null,
            "max_width": null,
            "order": null,
            "_view_module_version": "1.2.0",
            "grid_template_areas": null,
            "object_position": null,
            "object_fit": null,
            "grid_auto_columns": null,
            "margin": null,
            "display": null,
            "left": null
          }
        },
        "1e6e86e45de9421aab8894755dab783c": {
          "model_module": "@jupyter-widgets/controls",
          "model_name": "HBoxModel",
          "state": {
            "_view_name": "HBoxView",
            "_dom_classes": [],
            "_model_name": "HBoxModel",
            "_view_module": "@jupyter-widgets/controls",
            "_model_module_version": "1.5.0",
            "_view_count": null,
            "_view_module_version": "1.5.0",
            "box_style": "",
            "layout": "IPY_MODEL_314f00d502ff4fbe9317b4d28796488e",
            "_model_module": "@jupyter-widgets/controls",
            "children": [
              "IPY_MODEL_9ddf3fbbaf564ca78bf50c91b88e3817",
              "IPY_MODEL_42623c65b9b74af4908f1c6d75f5999f"
            ]
          }
        },
        "314f00d502ff4fbe9317b4d28796488e": {
          "model_module": "@jupyter-widgets/base",
          "model_name": "LayoutModel",
          "state": {
            "_view_name": "LayoutView",
            "grid_template_rows": null,
            "right": null,
            "justify_content": null,
            "_view_module": "@jupyter-widgets/base",
            "overflow": null,
            "_model_module_version": "1.2.0",
            "_view_count": null,
            "flex_flow": null,
            "width": null,
            "min_width": null,
            "border": null,
            "align_items": null,
            "bottom": null,
            "_model_module": "@jupyter-widgets/base",
            "top": null,
            "grid_column": null,
            "overflow_y": null,
            "overflow_x": null,
            "grid_auto_flow": null,
            "grid_area": null,
            "grid_template_columns": null,
            "flex": null,
            "_model_name": "LayoutModel",
            "justify_items": null,
            "grid_row": null,
            "max_height": null,
            "align_content": null,
            "visibility": null,
            "align_self": null,
            "height": null,
            "min_height": null,
            "padding": null,
            "grid_auto_rows": null,
            "grid_gap": null,
            "max_width": null,
            "order": null,
            "_view_module_version": "1.2.0",
            "grid_template_areas": null,
            "object_position": null,
            "object_fit": null,
            "grid_auto_columns": null,
            "margin": null,
            "display": null,
            "left": null
          }
        },
        "9ddf3fbbaf564ca78bf50c91b88e3817": {
          "model_module": "@jupyter-widgets/controls",
          "model_name": "FloatProgressModel",
          "state": {
            "_view_name": "ProgressView",
            "style": "IPY_MODEL_14bb3b4b5a744e1dae6ba92fab526f80",
            "_dom_classes": [],
            "description": "100%",
            "_model_name": "FloatProgressModel",
            "bar_style": "success",
            "max": 1,
            "_view_module": "@jupyter-widgets/controls",
            "_model_module_version": "1.5.0",
            "value": 1,
            "_view_count": null,
            "_view_module_version": "1.5.0",
            "orientation": "horizontal",
            "min": 0,
            "description_tooltip": null,
            "_model_module": "@jupyter-widgets/controls",
            "layout": "IPY_MODEL_e10623b132bd458bbc1b70bbbeee23e9"
          }
        },
        "42623c65b9b74af4908f1c6d75f5999f": {
          "model_module": "@jupyter-widgets/controls",
          "model_name": "HTMLModel",
          "state": {
            "_view_name": "HTMLView",
            "style": "IPY_MODEL_dab6de1fad604969a9275b89c47a0846",
            "_dom_classes": [],
            "description": "",
            "_model_name": "HTMLModel",
            "placeholder": "​",
            "_view_module": "@jupyter-widgets/controls",
            "_model_module_version": "1.5.0",
            "value": " 1/1 [00:32&lt;00:00, 32.56s/it]",
            "_view_count": null,
            "_view_module_version": "1.5.0",
            "description_tooltip": null,
            "_model_module": "@jupyter-widgets/controls",
            "layout": "IPY_MODEL_5ed6a7ccd2f342049e49dd96b53a8556"
          }
        },
        "14bb3b4b5a744e1dae6ba92fab526f80": {
          "model_module": "@jupyter-widgets/controls",
          "model_name": "ProgressStyleModel",
          "state": {
            "_view_name": "StyleView",
            "_model_name": "ProgressStyleModel",
            "description_width": "initial",
            "_view_module": "@jupyter-widgets/base",
            "_model_module_version": "1.5.0",
            "_view_count": null,
            "_view_module_version": "1.2.0",
            "bar_color": null,
            "_model_module": "@jupyter-widgets/controls"
          }
        },
        "e10623b132bd458bbc1b70bbbeee23e9": {
          "model_module": "@jupyter-widgets/base",
          "model_name": "LayoutModel",
          "state": {
            "_view_name": "LayoutView",
            "grid_template_rows": null,
            "right": null,
            "justify_content": null,
            "_view_module": "@jupyter-widgets/base",
            "overflow": null,
            "_model_module_version": "1.2.0",
            "_view_count": null,
            "flex_flow": null,
            "width": null,
            "min_width": null,
            "border": null,
            "align_items": null,
            "bottom": null,
            "_model_module": "@jupyter-widgets/base",
            "top": null,
            "grid_column": null,
            "overflow_y": null,
            "overflow_x": null,
            "grid_auto_flow": null,
            "grid_area": null,
            "grid_template_columns": null,
            "flex": null,
            "_model_name": "LayoutModel",
            "justify_items": null,
            "grid_row": null,
            "max_height": null,
            "align_content": null,
            "visibility": null,
            "align_self": null,
            "height": null,
            "min_height": null,
            "padding": null,
            "grid_auto_rows": null,
            "grid_gap": null,
            "max_width": null,
            "order": null,
            "_view_module_version": "1.2.0",
            "grid_template_areas": null,
            "object_position": null,
            "object_fit": null,
            "grid_auto_columns": null,
            "margin": null,
            "display": null,
            "left": null
          }
        },
        "dab6de1fad604969a9275b89c47a0846": {
          "model_module": "@jupyter-widgets/controls",
          "model_name": "DescriptionStyleModel",
          "state": {
            "_view_name": "StyleView",
            "_model_name": "DescriptionStyleModel",
            "description_width": "",
            "_view_module": "@jupyter-widgets/base",
            "_model_module_version": "1.5.0",
            "_view_count": null,
            "_view_module_version": "1.2.0",
            "_model_module": "@jupyter-widgets/controls"
          }
        },
        "5ed6a7ccd2f342049e49dd96b53a8556": {
          "model_module": "@jupyter-widgets/base",
          "model_name": "LayoutModel",
          "state": {
            "_view_name": "LayoutView",
            "grid_template_rows": null,
            "right": null,
            "justify_content": null,
            "_view_module": "@jupyter-widgets/base",
            "overflow": null,
            "_model_module_version": "1.2.0",
            "_view_count": null,
            "flex_flow": null,
            "width": null,
            "min_width": null,
            "border": null,
            "align_items": null,
            "bottom": null,
            "_model_module": "@jupyter-widgets/base",
            "top": null,
            "grid_column": null,
            "overflow_y": null,
            "overflow_x": null,
            "grid_auto_flow": null,
            "grid_area": null,
            "grid_template_columns": null,
            "flex": null,
            "_model_name": "LayoutModel",
            "justify_items": null,
            "grid_row": null,
            "max_height": null,
            "align_content": null,
            "visibility": null,
            "align_self": null,
            "height": null,
            "min_height": null,
            "padding": null,
            "grid_auto_rows": null,
            "grid_gap": null,
            "max_width": null,
            "order": null,
            "_view_module_version": "1.2.0",
            "grid_template_areas": null,
            "object_position": null,
            "object_fit": null,
            "grid_auto_columns": null,
            "margin": null,
            "display": null,
            "left": null
          }
        },
        "e7df54b0c9c841e8a4c173a1505f53ec": {
          "model_module": "@jupyter-widgets/controls",
          "model_name": "HBoxModel",
          "state": {
            "_view_name": "HBoxView",
            "_dom_classes": [],
            "_model_name": "HBoxModel",
            "_view_module": "@jupyter-widgets/controls",
            "_model_module_version": "1.5.0",
            "_view_count": null,
            "_view_module_version": "1.5.0",
            "box_style": "",
            "layout": "IPY_MODEL_b5d12b3daeec4e53a303a4d03e29cf7d",
            "_model_module": "@jupyter-widgets/controls",
            "children": [
              "IPY_MODEL_e35361c830d945cb9f171234e211c901",
              "IPY_MODEL_078947c299694336a3a613becedf7665"
            ]
          }
        },
        "b5d12b3daeec4e53a303a4d03e29cf7d": {
          "model_module": "@jupyter-widgets/base",
          "model_name": "LayoutModel",
          "state": {
            "_view_name": "LayoutView",
            "grid_template_rows": null,
            "right": null,
            "justify_content": null,
            "_view_module": "@jupyter-widgets/base",
            "overflow": null,
            "_model_module_version": "1.2.0",
            "_view_count": null,
            "flex_flow": null,
            "width": null,
            "min_width": null,
            "border": null,
            "align_items": null,
            "bottom": null,
            "_model_module": "@jupyter-widgets/base",
            "top": null,
            "grid_column": null,
            "overflow_y": null,
            "overflow_x": null,
            "grid_auto_flow": null,
            "grid_area": null,
            "grid_template_columns": null,
            "flex": null,
            "_model_name": "LayoutModel",
            "justify_items": null,
            "grid_row": null,
            "max_height": null,
            "align_content": null,
            "visibility": null,
            "align_self": null,
            "height": null,
            "min_height": null,
            "padding": null,
            "grid_auto_rows": null,
            "grid_gap": null,
            "max_width": null,
            "order": null,
            "_view_module_version": "1.2.0",
            "grid_template_areas": null,
            "object_position": null,
            "object_fit": null,
            "grid_auto_columns": null,
            "margin": null,
            "display": null,
            "left": null
          }
        },
        "e35361c830d945cb9f171234e211c901": {
          "model_module": "@jupyter-widgets/controls",
          "model_name": "FloatProgressModel",
          "state": {
            "_view_name": "ProgressView",
            "style": "IPY_MODEL_8edd9a1e68fa413e9b5a6190cfcaa9a8",
            "_dom_classes": [],
            "description": " 20%",
            "_model_name": "FloatProgressModel",
            "bar_style": "danger",
            "max": 5,
            "_view_module": "@jupyter-widgets/controls",
            "_model_module_version": "1.5.0",
            "value": 1,
            "_view_count": null,
            "_view_module_version": "1.5.0",
            "orientation": "horizontal",
            "min": 0,
            "description_tooltip": null,
            "_model_module": "@jupyter-widgets/controls",
            "layout": "IPY_MODEL_e34567ba0fac4ceba79613475bf4f959"
          }
        },
        "078947c299694336a3a613becedf7665": {
          "model_module": "@jupyter-widgets/controls",
          "model_name": "HTMLModel",
          "state": {
            "_view_name": "HTMLView",
            "style": "IPY_MODEL_9fdf34ed4b50410fb9569df27598bd79",
            "_dom_classes": [],
            "description": "",
            "_model_name": "HTMLModel",
            "placeholder": "​",
            "_view_module": "@jupyter-widgets/controls",
            "_model_module_version": "1.5.0",
            "value": " 1/5 [15:18&lt;56:03, 840.85s/it]",
            "_view_count": null,
            "_view_module_version": "1.5.0",
            "description_tooltip": null,
            "_model_module": "@jupyter-widgets/controls",
            "layout": "IPY_MODEL_f27e79fcd81c432ca716d7ef82c7a6c9"
          }
        },
        "8edd9a1e68fa413e9b5a6190cfcaa9a8": {
          "model_module": "@jupyter-widgets/controls",
          "model_name": "ProgressStyleModel",
          "state": {
            "_view_name": "StyleView",
            "_model_name": "ProgressStyleModel",
            "description_width": "initial",
            "_view_module": "@jupyter-widgets/base",
            "_model_module_version": "1.5.0",
            "_view_count": null,
            "_view_module_version": "1.2.0",
            "bar_color": null,
            "_model_module": "@jupyter-widgets/controls"
          }
        },
        "e34567ba0fac4ceba79613475bf4f959": {
          "model_module": "@jupyter-widgets/base",
          "model_name": "LayoutModel",
          "state": {
            "_view_name": "LayoutView",
            "grid_template_rows": null,
            "right": null,
            "justify_content": null,
            "_view_module": "@jupyter-widgets/base",
            "overflow": null,
            "_model_module_version": "1.2.0",
            "_view_count": null,
            "flex_flow": null,
            "width": null,
            "min_width": null,
            "border": null,
            "align_items": null,
            "bottom": null,
            "_model_module": "@jupyter-widgets/base",
            "top": null,
            "grid_column": null,
            "overflow_y": null,
            "overflow_x": null,
            "grid_auto_flow": null,
            "grid_area": null,
            "grid_template_columns": null,
            "flex": null,
            "_model_name": "LayoutModel",
            "justify_items": null,
            "grid_row": null,
            "max_height": null,
            "align_content": null,
            "visibility": null,
            "align_self": null,
            "height": null,
            "min_height": null,
            "padding": null,
            "grid_auto_rows": null,
            "grid_gap": null,
            "max_width": null,
            "order": null,
            "_view_module_version": "1.2.0",
            "grid_template_areas": null,
            "object_position": null,
            "object_fit": null,
            "grid_auto_columns": null,
            "margin": null,
            "display": null,
            "left": null
          }
        },
        "9fdf34ed4b50410fb9569df27598bd79": {
          "model_module": "@jupyter-widgets/controls",
          "model_name": "DescriptionStyleModel",
          "state": {
            "_view_name": "StyleView",
            "_model_name": "DescriptionStyleModel",
            "description_width": "",
            "_view_module": "@jupyter-widgets/base",
            "_model_module_version": "1.5.0",
            "_view_count": null,
            "_view_module_version": "1.2.0",
            "_model_module": "@jupyter-widgets/controls"
          }
        },
        "f27e79fcd81c432ca716d7ef82c7a6c9": {
          "model_module": "@jupyter-widgets/base",
          "model_name": "LayoutModel",
          "state": {
            "_view_name": "LayoutView",
            "grid_template_rows": null,
            "right": null,
            "justify_content": null,
            "_view_module": "@jupyter-widgets/base",
            "overflow": null,
            "_model_module_version": "1.2.0",
            "_view_count": null,
            "flex_flow": null,
            "width": null,
            "min_width": null,
            "border": null,
            "align_items": null,
            "bottom": null,
            "_model_module": "@jupyter-widgets/base",
            "top": null,
            "grid_column": null,
            "overflow_y": null,
            "overflow_x": null,
            "grid_auto_flow": null,
            "grid_area": null,
            "grid_template_columns": null,
            "flex": null,
            "_model_name": "LayoutModel",
            "justify_items": null,
            "grid_row": null,
            "max_height": null,
            "align_content": null,
            "visibility": null,
            "align_self": null,
            "height": null,
            "min_height": null,
            "padding": null,
            "grid_auto_rows": null,
            "grid_gap": null,
            "max_width": null,
            "order": null,
            "_view_module_version": "1.2.0",
            "grid_template_areas": null,
            "object_position": null,
            "object_fit": null,
            "grid_auto_columns": null,
            "margin": null,
            "display": null,
            "left": null
          }
        }
      }
    },
    "accelerator": "GPU"
  },
  "cells": [
    {
      "cell_type": "markdown",
      "metadata": {
        "id": "view-in-github",
        "colab_type": "text"
      },
      "source": [
        "<a href=\"https://colab.research.google.com/github/anasnafis77/Deteksi-Glaukoma/blob/main/Semantic_segmentation.ipynb\" target=\"_parent\"><img src=\"https://colab.research.google.com/assets/colab-badge.svg\" alt=\"Open In Colab\"/></a>"
      ]
    },
    {
      "cell_type": "code",
      "metadata": {
        "id": "pxjFeNlnmxqZ"
      },
      "source": [
        "import os\n",
        "import random\n",
        "import pandas as pd\n",
        "import numpy as np\n",
        "import matplotlib.pyplot as plt\n",
        "plt.style.use(\"ggplot\")\n",
        "%matplotlib inline\n",
        "\n",
        "from tqdm import tqdm_notebook, tnrange\n",
        "from itertools import chain\n",
        "from skimage.io import imread, imshow, concatenate_images\n",
        "from skimage.transform import resize\n",
        "from skimage.morphology import label\n",
        "from sklearn.model_selection import train_test_split\n",
        "\n",
        "import tensorflow as tf\n",
        "\n",
        "from keras.models import Model, load_model\n",
        "from keras.layers import Input, BatchNormalization, Activation, Dense, Dropout, Lambda\n",
        "from keras.layers.core import Lambda, RepeatVector, Reshape\n",
        "from keras.layers.convolutional import Conv2D, Conv2DTranspose\n",
        "from keras.layers.pooling import MaxPooling2D, GlobalMaxPool2D\n",
        "from keras.layers.merge import concatenate, add\n",
        "from keras.callbacks import EarlyStopping, ModelCheckpoint, ReduceLROnPlateau\n",
        "from keras.optimizers import Adam\n",
        "from keras.preprocessing.image import ImageDataGenerator, array_to_img, img_to_array, load_img\n",
        "import cv2\n",
        "from google.colab import drive\n",
        "from keras import backend as K\n",
        "from PIL import Image"
      ],
      "execution_count": 1,
      "outputs": []
    },
    {
      "cell_type": "code",
      "metadata": {
        "id": "Ldp-PGUmmLmB",
        "colab": {
          "base_uri": "https://localhost:8080/"
        },
        "outputId": "c9fb0403-12bc-4677-b7d3-11848b998880"
      },
      "source": [
        "drive.mount('/content/gdrive')"
      ],
      "execution_count": 2,
      "outputs": [
        {
          "output_type": "stream",
          "text": [
            "Mounted at /content/gdrive\n"
          ],
          "name": "stdout"
        }
      ]
    },
    {
      "cell_type": "code",
      "metadata": {
        "id": "3qvjBZNTmumf"
      },
      "source": [
        "df = pd.read_json('/content/gdrive/My Drive/Drive Tugas Akhir/Kode/dataframe.json')"
      ],
      "execution_count": 3,
      "outputs": []
    },
    {
      "cell_type": "code",
      "metadata": {
        "id": "HvgBk0_oKqIh",
        "colab": {
          "base_uri": "https://localhost:8080/"
        },
        "outputId": "1a6df32c-ab6e-45a0-8c33-70e63e9fbdf6"
      },
      "source": [
        "df[df['dataset']=='refuge'].groupby(['tag']).size()"
      ],
      "execution_count": null,
      "outputs": [
        {
          "output_type": "stream",
          "text": [
            "<pandas.core.groupby.generic.DataFrameGroupBy object at 0x7fe5566ac8d0>\n"
          ],
          "name": "stdout"
        }
      ]
    },
    {
      "cell_type": "markdown",
      "metadata": {
        "id": "DZ5s0DiWQSJc"
      },
      "source": [
        "# Misc"
      ]
    },
    {
      "cell_type": "code",
      "metadata": {
        "id": "fbAKtD77KSbG"
      },
      "source": [
        "H_OD = np.array([])\n",
        "H_OC = np.array([])\n",
        "W_OD = np.array([])\n",
        "W_OC = np.array([])\n",
        "for i in range(len(df)):\n",
        "  OD_mask = cv2.imread(df['path_OD_png'][i], 0)\n",
        "  OC_mask = cv2.imread(df['path_OC_png'][i], 0)\n",
        "  OD_mask,_ = cv2.findContours(OD_mask, cv2.RETR_EXTERNAL, cv2.CHAIN_APPROX_NONE)\n",
        "  OC_mask,_ = cv2.findContours(OC_mask, cv2.RETR_EXTERNAL, cv2.CHAIN_APPROX_NONE)\n",
        "  OD_mask = cv2.approxPolyDP(OD_mask[0], 3, True)\n",
        "  OC_mask = cv2.approxPolyDP(OC_mask[0], 3, True)\n",
        "  _, _, w_OD, h_OD = cv2.boundingRect(OD_mask)\n",
        "  _, _, w_OC, h_OC = cv2.boundingRect(OC_mask)\n",
        "  H_OD = np.append(H_OD, h_OD)\n",
        "  H_OC = np.append(H_OC, h_OC)\n",
        "  W_OD = np.append(W_OD, w_OD)\n",
        "  W_OC = np.append(W_OC, w_OC)"
      ],
      "execution_count": null,
      "outputs": []
    },
    {
      "cell_type": "code",
      "metadata": {
        "id": "rtAkVNBjYIql",
        "colab": {
          "base_uri": "https://localhost:8080/"
        },
        "outputId": "a727e81c-b92b-4199-a960-0f9918bb3e2c"
      },
      "source": [
        "H_OD = np.sort(H_OD, axis=0)\n",
        "H_OC = np.sort(H_OC, axis=0)\n",
        "W_OD = np.sort(W_OD, axis=0)\n",
        "W_OC = np.sort(W_OC, axis=0)\n",
        "plt.figure(figsize=(10,10))\n",
        "plt.subplot(221), \n",
        "plt.scatter(list(range(len(df))), H_OD, marker='x')\n",
        "plt.title('Height of OD')\n",
        "plt.text(np.argmax(H_OD)-150, np.max(H_OD), 'max: {}'.format(np.max(H_OD)))\n",
        "plt.xlabel('Data')\n",
        "plt.ylabel('Height')\n",
        "plt.subplot(222),\n",
        "plt.scatter(list(range(len(df))), H_OC, marker='x')\n",
        "plt.title('Height of OC')\n",
        "plt.text(np.argmax(H_OC)-150, np.max(H_OC), 'max: {}'.format(np.max(H_OC)))\n",
        "plt.xlabel('Data')\n",
        "plt.ylabel('Height')\n",
        "plt.subplot(223),\n",
        "plt.scatter(list(range(len(df))), W_OD, marker='x')\n",
        "plt.title('Width of OD')\n",
        "plt.text(np.argmax(W_OD)-150, np.max(W_OD), 'max: {}'.format(np.max(W_OD)))\n",
        "plt.xlabel('Data')\n",
        "plt.ylabel('Width')\n",
        "plt.subplot(224),\n",
        "plt.scatter(list(range(len(df))), W_OC, marker='x')\n",
        "plt.title('Width of OC')\n",
        "plt.text(np.argmax(W_OC)-150, np.max(W_OC), 'max: {}'.format(np.max(W_OC)))\n",
        "plt.xlabel('Data')\n",
        "plt.ylabel('Width')\n",
        "plt.show()"
      ],
      "execution_count": null,
      "outputs": [
        {
          "output_type": "display_data",
          "data": {
            "image/png": "[encoded data removed]",
            "text/plain": [
              "<Figure size 720x720 with 4 Axes>"
            ]
          },
          "metadata": {
            "tags": [],
            "needs_background": "light"
          }
        }
      ]
    },
    {
      "cell_type": "code",
      "metadata": {
        "id": "AtGqqlu2HKBU"
      },
      "source": [
        "error_OD = []\n",
        "error_OC = []\n",
        "for i in range(len(df)):\n",
        "  img_OD = cv2.imread(df['path_OD_png'][5], 0)\n",
        "  img_OD,_ = ekstrakROI(df['disc_center'][5], 550, img_OD)\n",
        "  img1_OD = img_OD/255.0\n",
        "  img2_OD = resize(img1_OD, (256, 256), mode = 'constant', preserve_range = True)\n",
        "  img3_OD = cv2.resize(img2_OD, (550, 550), interpolation = cv2.INTER_CUBIC)\n",
        "  #img3 = resize(img2, (550, 550), mode='constant', preserve_range=True)\n",
        "  img3_OD = img3_OD>0.5\n",
        "\n",
        "  img_OC = cv2.imread(df['path_OC_png'][5], 0)\n",
        "  img_OC,_ = ekstrakROI(df['disc_center'][5], 550, img_OC)\n",
        "  img1_OC = img_OC/255.0\n",
        "  img2_OC = resize(img1_OC, (256, 256), mode = 'constant', preserve_range = True)\n",
        "  img3_OC = cv2.resize(img2_OC, (550, 550), interpolation = cv2.INTER_CUBIC)\n",
        "  #img3 = resize(img2, (550, 550), mode='constant', preserve_range=True)\n",
        "  img3_OC = img3_OC>0.5\n",
        "\n",
        "  DSC_OD = np.sum(img3_OD[img1_OD==1.0])*2.0 / (np.sum(img3_OD) + np.sum(img1_OD))\n",
        "  DSC_OC = np.sum(img3_OC[img1_OC==1.0])*2.0 / (np.sum(img3_OC) + np.sum(img1_OC))\n",
        "\n",
        "  error_OD.append(1-DSC_OD)\n",
        "  error_OC.append(1-DSC_OC)\n",
        "\n",
        "error_OD = np.array(error_OD)\n",
        "error_OC = np.array(error_OC)\n",
        "print('Mean error dari resizing OD: {:.6f}'.format(np.mean(error_OD)))\n",
        "print('STD error dari resizing OD: {:.6f}'.format(np.std(error_OD)))\n",
        "print('Mean error dari resizing OC: {:.6f}'.format(np.mean(error_OC)))\n",
        "print('STD error dari resizing OC: {:.6f}'.format(np.std(error_OC)))"
      ],
      "execution_count": null,
      "outputs": []
    },
    {
      "cell_type": "markdown",
      "metadata": {
        "id": "917qd3A-QbyP"
      },
      "source": [
        "# Functions"
      ]
    },
    {
      "cell_type": "code",
      "metadata": {
        "id": "MR2bPNh9Q8IX"
      },
      "source": [
        "def rectfromcenter(center, s, h, w):\n",
        "  x, y = center\n",
        "  x0 = round(x - 0.5*s)\n",
        "  x1 = round(x + 0.5*s)\n",
        "  y0 = round(y - 0.5*s)\n",
        "  y1 = round(y + 0.5*s)\n",
        "  dx = (x1 - x0) - s\n",
        "  dy = (y1 - y0) - s\n",
        "  # penanganan kasus out of image\n",
        "  if (x0 < 0):\n",
        "    x1 = x1 + (-x0)\n",
        "    x0 = 0\n",
        "    x1 -= dx\n",
        "  elif (x1 > w-1):\n",
        "    x0 = x0 - (x1-(w-1))\n",
        "    x1 = w-1\n",
        "    x0 += dx\n",
        "  else:\n",
        "    x0 += dx\n",
        "\n",
        "  if (y0 < 0):\n",
        "    y1 = y1 + (-y0)\n",
        "    y0 = 0\n",
        "    y1 -= dy\n",
        "  elif (y1 > h-1):\n",
        "    y0 = y0 - (y1-(h-1))\n",
        "    y1 = (h-1)\n",
        "    y0 += dy\n",
        "  else:\n",
        "    y0 += dy\n",
        "\n",
        "  return y0, y1, x0, x1"
      ],
      "execution_count": 4,
      "outputs": []
    },
    {
      "cell_type": "code",
      "metadata": {
        "id": "1xYPfU0IMynD"
      },
      "source": [
        "# Fungsi untuk mengekstrak ROI\n",
        "# input : list centroid, panjang sisi ROI (s), dan image \n",
        "# output : ROI image\n",
        "\n",
        "def ekstrakROI(centroid, s, img):\n",
        "  h, w = img.shape[:2]\n",
        " \n",
        "  y0, y1, x0, x1 = rectfromcenter(centroid, s, h, w)\n",
        "\n",
        "  #cropping ROI from source image\n",
        "  ROI = img[y0:y1, x0:x1]\n",
        "  koordinat = (y0, y1, x0, x1)\n",
        "\n",
        "  return ROI, koordinat"
      ],
      "execution_count": 5,
      "outputs": []
    },
    {
      "cell_type": "code",
      "metadata": {
        "id": "nL-1JlKlY_nt"
      },
      "source": [
        "def recall_m(y_true, y_pred):\n",
        "    true_positives = K.sum(K.round(K.clip(y_true * y_pred, 0, 1)))\n",
        "    possible_positives = K.sum(K.round(K.clip(y_true, 0, 1)))\n",
        "    recall = true_positives / (possible_positives + K.epsilon())\n",
        "    return recall\n",
        "\n",
        "def precision_m(y_true, y_pred):\n",
        "    true_positives = K.sum(K.round(K.clip(y_true * y_pred, 0, 1)))\n",
        "    predicted_positives = K.sum(K.round(K.clip(y_pred, 0, 1)))\n",
        "    precision = true_positives / (predicted_positives + K.epsilon())\n",
        "    return precision\n",
        "\n",
        "def fscore(y_true, y_pred):\n",
        "    precision = precision_m(y_true, y_pred)\n",
        "    recall = recall_m(y_true, y_pred)\n",
        "    return 2*((precision*recall)/(precision+recall+K.epsilon()))"
      ],
      "execution_count": 6,
      "outputs": []
    },
    {
      "cell_type": "code",
      "metadata": {
        "id": "ViwImHHABnq3"
      },
      "source": [
        "def histo(histories):\n",
        "  for i, histori in enumerate(histories):\n",
        "    plt.figure(figsize=(20, 5))\n",
        "    print('Fold-{}'.format(i+1))\n",
        "    plt.subplot(131), \n",
        "    plt.plot(histori.history[\"accuracy\"], label=\"accuracy\")\n",
        "    plt.plot(histori.history[\"val_accuracy\"], label=\"val_acc\")\n",
        "    plt.plot(np.argmax(histori.history[\"val_accuracy\"]), np.max(histori.history[\"val_accuracy\"]), marker=\"x\", color=\"r\", label=\"best model\")\n",
        "    plt.xlabel(\"Epochs\")\n",
        "    plt.ylabel(\"Accuracy\")\n",
        "    plt.legend()\n",
        "    plt.subplot(132), \n",
        "    plt.plot(histori.history[\"fscore\"], label=\"fscore\")\n",
        "    plt.plot(histori.history[\"val_fscore\"], label=\"val_fscore\")\n",
        "    plt.plot( np.argmax(histori.history[\"val_fscore\"]), np.max(histori.history[\"val_fscore\"]), marker=\"x\", color=\"r\", label=\"best model\")\n",
        "    plt.xlabel(\"Epochs\")\n",
        "    plt.ylabel(\"Fscore\")\n",
        "    plt.legend()\n",
        "    plt.subplot(133),\n",
        "    plt.plot(histori.history[\"loss\"], label=\"loss\")\n",
        "    plt.plot(histori.history[\"val_loss\"], label=\"val_loss\")\n",
        "    plt.plot( np.argmin(histori.history[\"val_loss\"]), np.min(histori.history[\"val_loss\"]), marker=\"x\", color=\"r\", label=\"best model\")\n",
        "    plt.xlabel(\"Epochs\")\n",
        "    plt.ylabel(\"log_loss\")\n",
        "    plt.legend()\n",
        "\n",
        "    plt.show()"
      ],
      "execution_count": 7,
      "outputs": []
    },
    {
      "cell_type": "code",
      "metadata": {
        "id": "qL2jr_MkC9l5"
      },
      "source": [
        "def downscale(img):\n",
        "  size = (256, 256)\n",
        "  img = tf.image.resize(img, size, method=tf.image.ResizeMethod.BICUBIC, preserve_aspect_ratio=True)\n",
        "  return img\n",
        "\n",
        "def upscale(img):\n",
        "  size = (550, 550)\n",
        "  img = tf.image.resize(img, size, method=tf.image.ResizeMethod.BICUBIC, preserve_aspect_ratio=True)\n",
        "  return img"
      ],
      "execution_count": 8,
      "outputs": []
    },
    {
      "cell_type": "code",
      "metadata": {
        "id": "EQOpKmxfnNuM"
      },
      "source": [
        "def conv2d_block(input_tensor, n_filters, kernel_size = 3, batchnorm = True):\n",
        "    \"\"\"Function to add 2 convolutional layers with the parameters passed to it\"\"\"\n",
        "    # first layer\n",
        "    x = Conv2D(filters = n_filters, kernel_size = (kernel_size, kernel_size),\\\n",
        "              kernel_initializer = 'he_normal', padding = 'same')(input_tensor)\n",
        "    if batchnorm:\n",
        "        x = BatchNormalization()(x)\n",
        "    x = Activation('relu')(x)\n",
        "    \n",
        "    # second layer\n",
        "    x = Conv2D(filters = n_filters, kernel_size = (kernel_size, kernel_size),\\\n",
        "              kernel_initializer = 'he_normal', padding = 'same')(input_tensor)\n",
        "    if batchnorm:\n",
        "        x = BatchNormalization()(x)\n",
        "    x = Activation('relu')(x)\n",
        "    \n",
        "    return x\n",
        "  \n",
        "def get_unet(input_img, n_filters = 16, dropout = 0.1, batchnorm = True):\n",
        "    # Contracting Path\n",
        "    li = Lambda(downscale, name=\"lambda_input\")(input_img)\n",
        "    c1 = conv2d_block(li, n_filters * 1, kernel_size = 3, batchnorm = batchnorm)\n",
        "    p1 = MaxPooling2D((2, 2))(c1)\n",
        "    p1 = Dropout(dropout)(p1)\n",
        "    \n",
        "    c2 = conv2d_block(p1, n_filters * 2, kernel_size = 3, batchnorm = batchnorm)\n",
        "    p2 = MaxPooling2D((2, 2))(c2)\n",
        "    p2 = Dropout(dropout)(p2)\n",
        "    \n",
        "    c3 = conv2d_block(p2, n_filters * 4, kernel_size = 3, batchnorm = batchnorm)\n",
        "    p3 = MaxPooling2D((2, 2))(c3)\n",
        "    p3 = Dropout(dropout)(p3)\n",
        "    \n",
        "    c4 = conv2d_block(p3, n_filters * 8, kernel_size = 3, batchnorm = batchnorm)\n",
        "    p4 = MaxPooling2D((2, 2))(c4)\n",
        "    p4 = Dropout(dropout)(p4)\n",
        "    \n",
        "    c5 = conv2d_block(p4, n_filters = n_filters * 16, kernel_size = 3, batchnorm = batchnorm)\n",
        "    \n",
        "    # Expansive Path\n",
        "    u6 = Conv2DTranspose(n_filters * 8, (3, 3), strides = (2, 2), padding = 'same')(c5)\n",
        "    u6 = concatenate([u6, c4])\n",
        "    u6 = Dropout(dropout)(u6)\n",
        "    c6 = conv2d_block(u6, n_filters * 8, kernel_size = 3, batchnorm = batchnorm)\n",
        "    \n",
        "    u7 = Conv2DTranspose(n_filters * 4, (3, 3), strides = (2, 2), padding = 'same')(c6)\n",
        "    u7 = concatenate([u7, c3])\n",
        "    u7 = Dropout(dropout)(u7)\n",
        "    c7 = conv2d_block(u7, n_filters * 4, kernel_size = 3, batchnorm = batchnorm)\n",
        "    \n",
        "    u8 = Conv2DTranspose(n_filters * 2, (3, 3), strides = (2, 2), padding = 'same')(c7)\n",
        "    u8 = concatenate([u8, c2])\n",
        "    u8 = Dropout(dropout)(u8)\n",
        "    c8 = conv2d_block(u8, n_filters * 2, kernel_size = 3, batchnorm = batchnorm)\n",
        "    \n",
        "    u9 = Conv2DTranspose(n_filters * 1, (3, 3), strides = (2, 2), padding = 'same')(c8)\n",
        "    u9 = concatenate([u9, c1])\n",
        "    u9 = Dropout(dropout)(u9)\n",
        "    c9 = conv2d_block(u9, n_filters * 1, kernel_size = 3, batchnorm = batchnorm)\n",
        "    outputs = Conv2D(1, (1, 1), activation='sigmoid')(c9)\n",
        "    lo = Lambda(upscale, name=\"lambda_output\")(outputs)\n",
        "    \n",
        "    \n",
        "    model = Model(inputs=[input_img], outputs=[lo])\n",
        "    return model"
      ],
      "execution_count": 9,
      "outputs": []
    },
    {
      "cell_type": "code",
      "metadata": {
        "id": "zlOE8-5Sdn-O"
      },
      "source": [
        "def index_shuffle(ix, k=5, random_state=4):\n",
        "  ix_dr_gl = np.array(ix[0])\n",
        "  ix_dr_n = np.array(ix[1])\n",
        "  ix_re_gl = np.array(ix[2])\n",
        "  ix_re_n = np.array(ix[3])\n",
        "\n",
        "  random.Random(random_state).shuffle(ix_dr_gl)\n",
        "  random.Random(random_state).shuffle(ix_dr_n)\n",
        "  random.Random(random_state).shuffle(ix_re_gl)\n",
        "  random.Random(random_state).shuffle(ix_re_n)\n",
        "\n",
        "  dr_gl = np.array([0, 6, 12, 18, 25, 32]) # portion of each fold for drishti-glaucoma data\n",
        "  dr_n = np.array([0, 3, 6, 10, 14, 18]) # portion of each fold for drishti-normal data\n",
        "  re_gl = np.array([0, 8, 16, 24, 32, 40]) # portion of each fold for refuge-glaucoma data\n",
        "  re_n = np.array([0, 72, 144, 216, 288, 360]) # portion of each fold for refuge-normal data\n",
        "  \n",
        "  ix_dataset = []\n",
        "  for i in range(k):\n",
        "    # meta-index for train data\n",
        "    tr_dr_gl = list(range(dr_gl[i])) + list(range(dr_gl[i+1], 32))\n",
        "    tr_dr_n = list(range(dr_n[i])) + list(range(dr_n[i+1], 18))\n",
        "    tr_re_gl = list(range(re_gl[i])) + list(range(re_gl[i+1], 40))\n",
        "    tr_re_n = list(range(re_n[i])) + list(range(re_n[i+1], 360))\n",
        "\n",
        "    # meta-index for test data\n",
        "    te_dr_gl = list(range(dr_gl[i], dr_gl[i+1])) \n",
        "    te_dr_n = list(range(dr_n[i], dr_n[i+1]))\n",
        "    te_re_gl = list(range(re_gl[i], re_gl[i+1]))\n",
        "    te_re_n = list(range(re_n[i], re_n[i+1]))\n",
        "\n",
        "    ix_train = np.concatenate((ix_dr_gl[tr_dr_gl], ix_dr_n[tr_dr_n], ix_re_gl[tr_re_gl], ix_re_n[tr_re_n]))\n",
        "    ix_test = np.concatenate((ix_dr_gl[te_dr_gl], ix_dr_n[te_dr_n], ix_re_gl[te_re_gl],  ix_re_n[te_re_n]))\n",
        "\n",
        "    random.Random(random_state).shuffle(ix_train)\n",
        "    random.Random(random_state).shuffle(ix_test)\n",
        "\n",
        "    ix_dataset.append([ix_train, ix_test])\n",
        "  \n",
        "  return ix_dataset"
      ],
      "execution_count": 10,
      "outputs": []
    },
    {
      "cell_type": "code",
      "metadata": {
        "id": "vMBd9VJlRQko"
      },
      "source": [
        "def k_fold_cross_data(X, y, k=5, test_size=0.2, random_state=4):\n",
        "  X_dr_gl = np.array(X[0])\n",
        "  X_dr_n = np.array(X[1])\n",
        "  X_re_gl = np.array(X[2])\n",
        "  X_re_n = np.array(X[3])\n",
        "  y_dr_gl = np.array(y[0])\n",
        "  y_dr_n = np.array(y[1])\n",
        "  y_re_gl = np.array(y[2])\n",
        "  y_re_n = np.array(y[3])\n",
        "  random.Random(random_state).shuffle(X_dr_gl)\n",
        "  random.Random(random_state).shuffle(X_dr_n)\n",
        "  random.Random(random_state).shuffle(X_re_gl)\n",
        "  random.Random(random_state).shuffle(X_re_n)\n",
        "  random.Random(random_state).shuffle(y_dr_gl)\n",
        "  random.Random(random_state).shuffle(y_dr_n)\n",
        "  random.Random(random_state).shuffle(y_re_gl)\n",
        "  random.Random(random_state).shuffle(y_re_n)\n",
        "  dr_gl = np.array([0, 6, 12, 18, 25, 32]) # portion of each fold for drishti-glaucoma data\n",
        "  dr_n = np.array([0, 3, 6, 10, 14, 18]) # portion of each fold for drishti-normal data\n",
        "  re_gl = np.array([0, 8, 16, 24, 32, 40]) # portion of each fold for refuge-glaucoma data\n",
        "  re_n = np.array([0, 72, 144, 216, 288, 360]) # portion of each fold for refuge-normal data\n",
        "  \n",
        "  dataset = []\n",
        "  for i in tqdm_notebook(range(k)):\n",
        "    # index of dataset-label for train data\n",
        "    tr_dr_gl = list(range(dr_gl[i])) + list(range(dr_gl[i+1], 32))\n",
        "    tr_dr_n = list(range(dr_n[i])) + list(range(dr_n[i+1], 18))\n",
        "    tr_re_gl = list(range(re_gl[i])) + list(range(re_gl[i+1], 40))\n",
        "    tr_re_n = list(range(re_n[i])) + list(range(re_n[i+1], 360))\n",
        "\n",
        "    # index of dataset-label for test data\n",
        "    te_dr_gl = list(range(dr_gl[i], dr_gl[i+1])) \n",
        "    te_dr_n = list(range(dr_n[i], dr_n[i+1]))\n",
        "    te_re_gl = list(range(re_gl[i], re_gl[i+1]))\n",
        "    te_re_n = list(range(re_n[i], re_n[i+1]))\n",
        "\n",
        "    X_train = np.concatenate((X_dr_gl[tr_dr_gl], X_dr_n[tr_dr_n], \n",
        "                             X_re_gl[tr_re_gl], X_re_n[tr_re_n]))\n",
        "    X_test = np.concatenate((X_dr_gl[te_dr_gl], X_dr_n[te_dr_n], \n",
        "                             X_re_gl[te_re_gl], X_re_n[te_re_n]))\n",
        "    y_train = np.concatenate((y_dr_gl[tr_dr_gl], y_dr_n[tr_dr_n], \n",
        "                             y_re_gl[tr_re_gl], y_re_n[tr_re_n]))\n",
        "    y_test = np.concatenate((y_dr_gl[te_dr_gl], y_dr_n[te_dr_n], \n",
        "                             y_re_gl[te_re_gl], y_re_n[te_re_n]))\n",
        "    \n",
        "    random.Random(random_state).shuffle(X_train)\n",
        "    random.Random(random_state).shuffle(X_test)\n",
        "    random.Random(random_state).shuffle(y_train)\n",
        "    random.Random(random_state).shuffle(y_test)\n",
        "    dataset.append([X_train, X_test, y_train, y_test])\n",
        "  \n",
        "  return dataset"
      ],
      "execution_count": 11,
      "outputs": []
    },
    {
      "cell_type": "code",
      "metadata": {
        "id": "UwjPII-iHcuN"
      },
      "source": [
        "def gray2rgb(gray_image):\n",
        "  h, w = gray_image.shape[:2]\n",
        "  gray_image = gray_image.squeeze()\n",
        "  rgb_image = np.zeros((h, w, 3), np.uint8)\n",
        "  rgb_image[:, :, 0] = gray_image\n",
        "  rgb_image[:, :, 1] = gray_image\n",
        "  rgb_image[:, :, 2] = gray_image\n",
        "  return rgb_image"
      ],
      "execution_count": 12,
      "outputs": []
    },
    {
      "cell_type": "code",
      "metadata": {
        "id": "78qFeNEIowRq"
      },
      "source": [
        "def show_examples(examples, y_examples):\n",
        "  plt.figure(figsize=(12, 4))\n",
        "  for i, example in enumerate(examples):\n",
        "    h, w = example.shape[:2]\n",
        "    mask = np.array(example > 0.5, np.uint8)*255\n",
        "    gt_mask = np.array(y_examples[i] > 0, np.uint8)*255\n",
        "    DSC = np.sum(mask[gt_mask==255])*2.0 / (np.sum(mask) + np.sum(gt_mask))\n",
        "    mask = mask.squeeze()\n",
        "    gt_mask = gt_mask.squeeze()\n",
        "    mask_show = np.zeros((h, w, 3), np.uint8)\n",
        "    gt_mask_show = np.zeros((h, w, 3), np.uint8)\n",
        "\n",
        "    mask_show[:, :, 0] = mask\n",
        "    gt_mask_show[:, :, 2] = gt_mask\n",
        "    \n",
        "    plt.subplot(1, len(examples), i+1),\n",
        "    plt.imshow(mask_show,  interpolation='none')\n",
        "    plt.imshow(gt_mask_show, interpolation='none', alpha=0.35)\n",
        "    plt.text(20, 20, 'DSC: {:.3f}'.format(DSC), fontsize='small', color ='w')\n",
        "\n",
        "  plt.show()"
      ],
      "execution_count": 54,
      "outputs": []
    },
    {
      "cell_type": "code",
      "metadata": {
        "id": "XBLXRipOE2oc"
      },
      "source": [
        "def k_fold_crossval(X, y, ix, callbacks, tipe, k=5, test_size=0.2, random_state=4,\n",
        "                    verbose=0, save=0):\n",
        "  ix_dataset = index_shuffle(ix, k=k, random_state=random_state)\n",
        "  input_img = Input((550, 550, 1), name='img')\n",
        "  results = []\n",
        "  fold = []\n",
        "  Loss = []\n",
        "  Accuracy = []\n",
        "  f1score = []\n",
        "  models= []\n",
        "  for i in tqdm_notebook(range(k)):\n",
        "    # index of dataset-label for train data\n",
        "\n",
        "    ix_train, ix_test = ix_dataset[i]\n",
        "\n",
        "    print('Evaluate fold ', i+1)\n",
        "    model= get_unet(input_img, n_filters = 64, dropout = 0.1, batchnorm = True)\n",
        "    model.compile(optimizer=Adam(), loss=\"binary_crossentropy\", metrics=[\"accuracy\",fscore])\n",
        "    result = model.fit(X[ix_train], y[ix_train], batch_size=32, epochs=100, callbacks=callbacks,\\\n",
        "                    validation_data=(X[ix_test], y[ix_test]), verbose=verbose)\n",
        "    results.append(result)\n",
        "    los = result.history['val_loss'][-1]\n",
        "    acc = result.history['val_accuracy'][-1]\n",
        "    f1 = result.history['val_fscore'][-1]\n",
        "\n",
        "    ix_example = list(range(len(ix_test)))\n",
        "    random.Random(random_state).shuffle(ix_example)\n",
        "    ix_example = ix_example[:3]\n",
        "    y_examples = y[ix_test][ix_example]\n",
        "    examples = model.predict(X[ix_test][ix_example])                                                    \n",
        "\n",
        "    fold.append(i + 1)\n",
        "    Loss.append(los)\n",
        "    Accuracy.append(acc)\n",
        "    f1score.append(f1)\n",
        "    models.append(model)\n",
        "    print('Fold {}: loss: {:.4f} - acc: {:.3f} - fscore: {:.3f}'.format(i+1, los, acc, f1))\n",
        "    show_examples(examples, y_examples)\n",
        "\n",
        "  metrics = pd.DataFrame({'Fold': fold, 'Loss':Loss, 'Acc':Accuracy,\n",
        "                          'Fscore': f1score})\n",
        "  \n",
        "\n",
        "  best_fold = np.argmax(f1score)\n",
        "  print('Best model is fold-', best_fold+1)\n",
        "  if save:\n",
        "    print('Saving best model from fold-', best_fold+1)\n",
        "    models[best_fold].save('/content/gdrive/My Drive/Drive Tugas Akhir/Kode/model {} semantic/'.format(tipe))\n",
        "    print('Save model success!')\n",
        "  return results, metrics"
      ],
      "execution_count": 55,
      "outputs": []
    },
    {
      "cell_type": "code",
      "metadata": {
        "id": "jvSgdfiW6DNC"
      },
      "source": [
        "def saving_image(img, path):\n",
        "  if os.path.isfile(path):\n",
        "    os.remove(path)\n",
        "    cv2.imwrite(path, img)\n",
        "  else:\n",
        "    cv2.imwrite(path, img)"
      ],
      "execution_count": 15,
      "outputs": []
    },
    {
      "cell_type": "markdown",
      "metadata": {
        "id": "nsI2Zrn-Qi-p"
      },
      "source": [
        "# Acquiring data"
      ]
    },
    {
      "cell_type": "code",
      "metadata": {
        "id": "UzgQsaUNyJjt"
      },
      "source": [
        "path = \"/content/gdrive/My Drive/Drive Tugas Akhir/Dataset/Data semantic/\""
      ],
      "execution_count": null,
      "outputs": []
    },
    {
      "cell_type": "code",
      "metadata": {
        "id": "CPsUk_kRo-kT",
        "colab": {
          "base_uri": "https://localhost:8080/",
          "height": 133,
          "referenced_widgets": [
            "eff70b7ebd1447ae9032abbaf2b41e0d",
            "def88c4271804458bb83f511d46600e8",
            "4bf3c254209f4acebd7ef1b5d9fa87a5",
            "2326c3f5157a4a93a833540c26183873",
            "dd894f34e7f04896b2255a62a101b96b",
            "76994d679ad0469e95e97f22c00a86bd",
            "2078d9d26fe24bbc91f3b49c48330e8a",
            "8bbf5de4117b4eb088a655dc8f073ab2"
          ]
        },
        "outputId": "b89854a0-7ad1-4206-b0fa-4190b098d3d0"
      },
      "source": [
        "clahe = cv2.createCLAHE(clipLimit=2.0, tileGridSize=(8,8))\n",
        "\n",
        "for i in tqdm_notebook(range(0, len(df))):  \n",
        "  center = df['disc_center'][i]\n",
        "  img = cv2.imread(df['path'][i], 1)[:,:,1]\n",
        "  img = clahe.apply(img)/255.0\n",
        "  gt_OD = cv2.imread(df['path_OD_png'][i], 0)/255.0\n",
        "  gt_OC = cv2.imread(df['path_OC_png'][i], 0)/255.0\n",
        "\n",
        "  img,_ = ekstrakROI(center, 550, img)\n",
        "  gt_OD,_ = ekstrakROI(center, 550, gt_OD)\n",
        "  gt_OC,_ = ekstrakROI(center, 550, gt_OC)\n",
        "\n",
        "\n",
        "  if df['dataset'][i] == 'drishti':\n",
        "    if df['tag'][i] == 'Glaucoma':\n",
        "      saving_image(img, path+'drishti/glaucoma/image/image_{}.png'.format(i+1))    \n",
        "      saving_image(gt_OD, path+'drishti/glaucoma/gt/gtOD_{}.png'.format(i+1))\n",
        "      saving_image(gt_OC, path+'drishti/glaucoma/gt/gtOC_{}.png'.format(i+1))\n",
        "    elif df['tag'][i] == 'Normal':\n",
        "      saving_image(img, path+'drishti/normal/image/image_{}.png'.format(i+1))    \n",
        "      saving_image(gt_OD, path+'drishti/normal/gt/gtOD_{}.png'.format(i+1))\n",
        "      saving_image(gt_OC, path+'drishti/normal/gt/gtOC_{}.png'.format(i+1))\n",
        "  elif df['dataset'][i] == 'refuge':\n",
        "    if df['tag'][i] == 'Glaucoma':\n",
        "      saving_image(img, path+'refuge/glaucoma/image/image_{}.png'.format(i+1))    \n",
        "      saving_image(gt_OD, path+'refuge/glaucoma/gt/gtOD_{}.png'.format(i+1))\n",
        "      saving_image(gt_OC, path+'refuge/glaucoma/gt/gtOC_{}.png'.format(i+1))\n",
        "    elif df['tag'][i] == 'Normal':\n",
        "      saving_image(img, path+'refuge/normal/image/image_{}.png'.format(i+1))    \n",
        "      saving_image(gt_OD, path+'refuge/normal/gt/gtOD_{}.png'.format(i+1))\n",
        "      saving_image(gt_OC, path+'refuge/normal/gt/gtOC_{}.png'.format(i+1))\n",
        "    \n"
      ],
      "execution_count": null,
      "outputs": [
        {
          "output_type": "stream",
          "text": [
            "\n"
          ],
          "name": "stdout"
        },
        {
          "output_type": "stream",
          "text": [
            "/usr/local/lib/python3.7/dist-packages/ipykernel_launcher.py:3: TqdmDeprecationWarning: This function will be removed in tqdm==5.0.0\n",
            "Please use `tqdm.notebook.tqdm` instead of `tqdm.tqdm_notebook`\n",
            "  This is separate from the ipykernel package so we can avoid doing imports until\n"
          ],
          "name": "stderr"
        },
        {
          "output_type": "display_data",
          "data": {
            "application/vnd.jupyter.widget-view+json": {
              "model_id": "eff70b7ebd1447ae9032abbaf2b41e0d",
              "version_major": 2,
              "version_minor": 0
            },
            "text/plain": [
              "HBox(children=(FloatProgress(value=0.0, max=450.0), HTML(value='')))"
            ]
          },
          "metadata": {
            "tags": []
          }
        },
        {
          "output_type": "stream",
          "text": [
            "\n"
          ],
          "name": "stdout"
        }
      ]
    },
    {
      "cell_type": "code",
      "metadata": {
        "id": "bQcPI3shfGYg",
        "outputId": "d6cee6d3-ff54-4c2d-f822-af0eb0ab3422",
        "colab": {
          "base_uri": "https://localhost:8080/",
          "height": 116,
          "referenced_widgets": [
            "ee772153e8b943dda7939c77ba99417f",
            "72b4a82f973e4cd7b2e40b753708db5a",
            "37c85a3c7b7f40cfb056e5a22772ddb4",
            "ce776e0e587c46e080577bf3089c14f0",
            "095fce295eae4a4e887735e7011f6626",
            "b37aabe3121149718370bbf91815527c",
            "327a31c85696456db5bb50a7b60b0676",
            "37457852e0534db1aea76645baf835c5"
          ]
        }
      },
      "source": [
        "# Simple data aquirement\n",
        "path = \"/content/gdrive/My Drive/Drive Tugas Akhir/Dataset/Data semantic/\"\n",
        "X = []\n",
        "y_OD = []\n",
        "y_OC = []\n",
        "ix_dr_gl = []\n",
        "ix_dr_n = []\n",
        "ix_re_gl = []\n",
        "ix_re_n = []\n",
        "for i in tqdm_notebook(range(0, len(df))):  \n",
        "  if df['dataset'][i] == 'drishti':\n",
        "    if df['tag'][i] == 'Glaucoma':\n",
        "      img = cv2.imread(path+'drishti/glaucoma/image/image_{}.png'.format(i+1), 0)\n",
        "      gt_OD = cv2.imread(path+'drishti/glaucoma/gt/gtOD_{}.png'.format(i+1), 0)\n",
        "      gt_OC = cv2.imread(path+'drishti/glaucoma/gt/gtOC_{}.png'.format(i+1), 0)\n",
        "      X.append(img)\n",
        "      y_OD.append(gt_OD)\n",
        "      y_OC.append(gt_OC)\n",
        "      ix_dr_gl.append(i)\n",
        "\n",
        "    elif df['tag'][i] == 'Normal':\n",
        "      img = cv2.imread(path+'drishti/normal/image/image_{}.png'.format(i+1), 0)   \n",
        "      gt_OD = cv2.imread(path+'drishti/normal/gt/gtOD_{}.png'.format(i+1), 0)\n",
        "      gt_OC = cv2.imread(path+'drishti/normal/gt/gtOC_{}.png'.format(i+1), 0)\n",
        "      X.append(img)\n",
        "      y_OD.append(gt_OD)\n",
        "      y_OC.append(gt_OC)\n",
        "      ix_dr_n.append(i)\n",
        "\n",
        "  elif df['dataset'][i] == 'refuge':\n",
        "    if df['tag'][i] == 'Glaucoma':\n",
        "      img = cv2.imread(path+'refuge/glaucoma/image/image_{}.png'.format(i+1), 0)   \n",
        "      gt_OD  = cv2.imread(path+'refuge/glaucoma/gt/gtOD_{}.png'.format(i+1), 0)\n",
        "      gt_OC  = cv2.imread(path+'refuge/glaucoma/gt/gtOC_{}.png'.format(i+1), 0)\n",
        "      X.append(img)\n",
        "      y_OD.append(gt_OD)\n",
        "      y_OC.append(gt_OC)\n",
        "      ix_re_gl.append(i)\n",
        "    elif df['tag'][i] == 'Normal':\n",
        "      img = cv2.imread(path+'refuge/normal/image/image_{}.png'.format(i+1), 0)   \n",
        "      gt_OD  = cv2.imread(path+'refuge/normal/gt/gtOD_{}.png'.format(i+1), 0)\n",
        "      gt_OC  = cv2.imread(path+'refuge/normal/gt/gtOC_{}.png'.format(i+1), 0)\n",
        "      X.append(img)\n",
        "      y_OD.append(gt_OD)\n",
        "      y_OC.append(gt_OC)\n",
        "      ix_re_n.append(i)\n",
        "\n",
        "ix = [ix_dr_gl, ix_dr_n, ix_re_gl, ix_re_n]\n",
        "X = np.array(X)\n",
        "y_OD = np.array(y_OD)\n",
        "y_OC = np.array(y_OC)\n",
        "X = np.expand_dims(X, axis=3)\n",
        "y_OD = np.expand_dims(y_OD, axis=3)\n",
        "y_OC = np.expand_dims(y_OC, axis=3)"
      ],
      "execution_count": 16,
      "outputs": [
        {
          "output_type": "stream",
          "text": [
            "/usr/local/lib/python3.7/dist-packages/ipykernel_launcher.py:10: TqdmDeprecationWarning: This function will be removed in tqdm==5.0.0\n",
            "Please use `tqdm.notebook.tqdm` instead of `tqdm.tqdm_notebook`\n",
            "  # Remove the CWD from sys.path while we load stuff.\n"
          ],
          "name": "stderr"
        },
        {
          "output_type": "display_data",
          "data": {
            "application/vnd.jupyter.widget-view+json": {
              "model_id": "ee772153e8b943dda7939c77ba99417f",
              "version_minor": 0,
              "version_major": 2
            },
            "text/plain": [
              "HBox(children=(FloatProgress(value=0.0, max=450.0), HTML(value='')))"
            ]
          },
          "metadata": {
            "tags": []
          }
        },
        {
          "output_type": "stream",
          "text": [
            "\n"
          ],
          "name": "stdout"
        }
      ]
    },
    {
      "cell_type": "code",
      "metadata": {
        "id": "9KS9-f771qlo",
        "colab": {
          "base_uri": "https://localhost:8080/",
          "height": 116,
          "referenced_widgets": [
            "192a2ddeba13487e92e01d05b80bdae1",
            "6a876dac0a6b4106a6172cbd4c9656d1",
            "65f5df1a2d3943158b8c4adad6f39373",
            "ee23de7a63c54f8b97a3770354d77c3c",
            "9b13be071d2d48ea9648dac6d695a215",
            "d45d00c307284898af4752e3bf51d5b0",
            "ebb37a2430b147dd9b9ddfdbb0d2eacd",
            "4452d3c088c84c1c92412aa42b18ea71"
          ]
        },
        "outputId": "dcac478d-27d5-43e6-d0f4-de359b31cc18"
      },
      "source": [
        "# Data Acquirement for 5 fold cross validation\n",
        "\n",
        "X_dr_gl = []\n",
        "X_dr_n = []\n",
        "X_re_gl = []\n",
        "X_re_n = []\n",
        "y_dr_gl_OD = []\n",
        "y_dr_n_OD = []\n",
        "y_re_gl_OD = []\n",
        "y_re_n_OD = []\n",
        "y_dr_gl_OC = []\n",
        "y_dr_n_OC = []\n",
        "y_re_gl_OC = []\n",
        "y_re_n_OC = []\n",
        "for i in tqdm_notebook(range(0, len(df))):  \n",
        "  if df['dataset'][i] == 'drishti':\n",
        "    if df['tag'][i] == 'Glaucoma':\n",
        "      img = cv2.imread(path+'drishti/glaucoma/image/image_{}.png'.format(i+1), 0)\n",
        "      gt_OD = cv2.imread(path+'drishti/glaucoma/gt/gtOD_{}.png'.format(i+1), 0)\n",
        "      gt_OC = cv2.imread(path+'drishti/glaucoma/gt/gtOC_{}.png'.format(i+1), 0)\n",
        "      X_dr_gl.append(img)\n",
        "      y_dr_gl_OD.append(gt_OD)\n",
        "      y_dr_gl_OC.append(gt_OC)\n",
        "\n",
        "    elif df['tag'][i] == 'Normal':\n",
        "      img = cv2.imread(path+'drishti/normal/image/image_{}.png'.format(i+1), 0)   \n",
        "      gt_OD = cv2.imread(path+'drishti/normal/gt/gtOD_{}.png'.format(i+1), 0)\n",
        "      gt_OC = cv2.imread(path+'drishti/normal/gt/gtOC_{}.png'.format(i+1), 0)\n",
        "      X_dr_n.append(img)\n",
        "      y_dr_n_OD.append(gt_OD)\n",
        "      y_dr_n_OC.append(gt_OC)\n",
        "  elif df['dataset'][i] == 'refuge':\n",
        "    if df['tag'][i] == 'Glaucoma':\n",
        "      img = cv2.imread(path+'refuge/glaucoma/image/image_{}.png'.format(i+1), 0)   \n",
        "      gt_OD  = cv2.imread(path+'refuge/glaucoma/gt/gtOD_{}.png'.format(i+1), 0)\n",
        "      gt_OC  = cv2.imread(path+'refuge/glaucoma/gt/gtOC_{}.png'.format(i+1), 0)\n",
        "      X_re_gl.append(img)\n",
        "      y_re_gl_OD.append(gt_OD)\n",
        "      y_re_gl_OC.append(gt_OC)\n",
        "    elif df['tag'][i] == 'Normal':\n",
        "      img = cv2.imread(path+'refuge/normal/image/image_{}.png'.format(i+1), 0)   \n",
        "      gt_OD  = cv2.imread(path+'refuge/normal/gt/gtOD_{}.png'.format(i+1), 0)\n",
        "      gt_OC  = cv2.imread(path+'refuge/normal/gt/gtOC_{}.png'.format(i+1), 0)\n",
        "      X_re_n.append(img/255.0)\n",
        "      y_re_n_OD.append(gt_OD/255.0)\n",
        "      y_re_n_OC.append(gt_OC/255.0)\n",
        "\n",
        "X = [X_dr_gl, X_dr_n, X_re_gl, X_re_n]\n",
        "y_OD = [y_dr_gl_OD, y_dr_n_OD, y_re_gl_OD, y_re_n_OD]\n",
        "y_OC = [y_dr_gl_OC, y_dr_n_OC, y_re_gl_OC, y_re_n_OC]"
      ],
      "execution_count": null,
      "outputs": [
        {
          "output_type": "stream",
          "text": [
            "/usr/local/lib/python3.7/dist-packages/ipykernel_launcher.py:15: TqdmDeprecationWarning: This function will be removed in tqdm==5.0.0\n",
            "Please use `tqdm.notebook.tqdm` instead of `tqdm.tqdm_notebook`\n",
            "  from ipykernel import kernelapp as app\n"
          ],
          "name": "stderr"
        },
        {
          "output_type": "display_data",
          "data": {
            "application/vnd.jupyter.widget-view+json": {
              "model_id": "192a2ddeba13487e92e01d05b80bdae1",
              "version_minor": 0,
              "version_major": 2
            },
            "text/plain": [
              "HBox(children=(FloatProgress(value=0.0, max=450.0), HTML(value='')))"
            ]
          },
          "metadata": {
            "tags": []
          }
        },
        {
          "output_type": "stream",
          "text": [
            "\n"
          ],
          "name": "stdout"
        }
      ]
    },
    {
      "cell_type": "code",
      "metadata": {
        "id": "vdbyL6p2vnl0",
        "colab": {
          "base_uri": "https://localhost:8080/",
          "height": 148,
          "referenced_widgets": [
            "af207f8854bf43ecb359bfa4e55da3ea",
            "34eb0584090646da92dc55b8263ca758",
            "5def4bc8a6ea4f6db76fc8c76fb2fe11",
            "e2dd868cc1844dc39dfcaf85815fda82",
            "a462ef4911e2427991c0f1e50e7f8a49",
            "f853377c0d8c4779a14e80a7f13de328",
            "a5b4172250fa4db89ea3fdc633dc2785",
            "11180ef1826c446192aa63efafa2e412",
            "1e6e86e45de9421aab8894755dab783c",
            "314f00d502ff4fbe9317b4d28796488e",
            "9ddf3fbbaf564ca78bf50c91b88e3817",
            "42623c65b9b74af4908f1c6d75f5999f",
            "14bb3b4b5a744e1dae6ba92fab526f80",
            "e10623b132bd458bbc1b70bbbeee23e9",
            "dab6de1fad604969a9275b89c47a0846",
            "5ed6a7ccd2f342049e49dd96b53a8556"
          ]
        },
        "outputId": "dab7a6ab-dffa-4023-9aa8-3e40b50ee744"
      },
      "source": [
        "# Data splitting for 5 fold validation\n",
        "dataset_OD = k_fold_cross_data(X, y_OD, k=1, test_size=0.2, random_state=4)\n",
        "dataset_OC = k_fold_cross_data(X, y_OC, k=1, test_size=0.2, random_state=4)"
      ],
      "execution_count": null,
      "outputs": [
        {
          "output_type": "stream",
          "text": [
            "/usr/local/lib/python3.7/dist-packages/ipykernel_launcher.py:24: TqdmDeprecationWarning: This function will be removed in tqdm==5.0.0\n",
            "Please use `tqdm.notebook.tqdm` instead of `tqdm.tqdm_notebook`\n"
          ],
          "name": "stderr"
        },
        {
          "output_type": "display_data",
          "data": {
            "application/vnd.jupyter.widget-view+json": {
              "model_id": "af207f8854bf43ecb359bfa4e55da3ea",
              "version_minor": 0,
              "version_major": 2
            },
            "text/plain": [
              "HBox(children=(FloatProgress(value=0.0, max=1.0), HTML(value='')))"
            ]
          },
          "metadata": {
            "tags": []
          }
        },
        {
          "output_type": "stream",
          "text": [
            "\n"
          ],
          "name": "stdout"
        },
        {
          "output_type": "display_data",
          "data": {
            "application/vnd.jupyter.widget-view+json": {
              "model_id": "1e6e86e45de9421aab8894755dab783c",
              "version_minor": 0,
              "version_major": 2
            },
            "text/plain": [
              "HBox(children=(FloatProgress(value=0.0, max=1.0), HTML(value='')))"
            ]
          },
          "metadata": {
            "tags": []
          }
        },
        {
          "output_type": "stream",
          "text": [
            "\n"
          ],
          "name": "stdout"
        }
      ]
    },
    {
      "cell_type": "code",
      "metadata": {
        "id": "Jnbo3GH0qOgT"
      },
      "source": [
        "# Simple data splitting\n",
        "X_train_OD1, X_test_OD1, y_train_OD1, y_test_OD1 = train_test_split(X, y_OD, \n",
        "                                                                test_size=0.2, \n",
        "                                                                random_state = 5)\n",
        "X_train_OC1, X_test_OC1, y_train_OC1, y_test_OC1 = train_test_split(X, y_OC, \n",
        "                                                                test_size=0.2, \n",
        "                                                                random_state = 5)"
      ],
      "execution_count": null,
      "outputs": []
    },
    {
      "cell_type": "code",
      "metadata": {
        "id": "pNST6BRu3BCB"
      },
      "source": [
        "X_train_OD, X_test_OD, y_train_OD, y_test_OD = dataset_OD[0]\n",
        "X_train_OC, X_test_OC, y_train_OC, y_test_OC = dataset_OC[0]"
      ],
      "execution_count": null,
      "outputs": []
    },
    {
      "cell_type": "markdown",
      "metadata": {
        "id": "MN70qholXOQv"
      },
      "source": [
        "# Train and Test"
      ]
    },
    {
      "cell_type": "code",
      "metadata": {
        "id": "nZiEHJHAvOJk"
      },
      "source": [
        "callbacks_OD = [\n",
        "    EarlyStopping(patience=20, verbose=1),\n",
        "    ReduceLROnPlateau(factor=0.1, patience=5, min_lr=0.00001, verbose=1)\n",
        "    #ModelCheckpoint('model-OD.h5', verbose=0, save_best_only=True, save_weights_only=True)\n",
        "]\n",
        "callbacks_OC = [\n",
        "    EarlyStopping(patience=20, verbose=1),\n",
        "    ReduceLROnPlateau(factor=0.1, patience=5, min_lr=0.00001, verbose=1)\n",
        "    #ModelCheckpoint('model-OC.h5', verbose=0, save_best_only=True, save_weights_only=True)\n",
        "]"
      ],
      "execution_count": 26,
      "outputs": []
    },
    {
      "cell_type": "code",
      "metadata": {
        "id": "UDK_W8wJ4C3T",
        "colab": {
          "base_uri": "https://localhost:8080/",
          "height": 802,
          "referenced_widgets": [
            "e7df54b0c9c841e8a4c173a1505f53ec",
            "b5d12b3daeec4e53a303a4d03e29cf7d",
            "e35361c830d945cb9f171234e211c901",
            "078947c299694336a3a613becedf7665",
            "8edd9a1e68fa413e9b5a6190cfcaa9a8",
            "e34567ba0fac4ceba79613475bf4f959",
            "9fdf34ed4b50410fb9569df27598bd79",
            "f27e79fcd81c432ca716d7ef82c7a6c9"
          ]
        },
        "outputId": "c8eaa14c-1dfb-4186-aa2d-fc20fff3d6ec"
      },
      "source": [
        "results_OD, metrics_OD = k_fold_crossval(X, y_OD, ix, callbacks_OD, 'OD', k=5,\n",
        "                                         random_state=4, verbose=0, save=1)"
      ],
      "execution_count": 56,
      "outputs": [
        {
          "output_type": "stream",
          "text": [
            "/usr/local/lib/python3.7/dist-packages/ipykernel_launcher.py:11: TqdmDeprecationWarning: This function will be removed in tqdm==5.0.0\n",
            "Please use `tqdm.notebook.tqdm` instead of `tqdm.tqdm_notebook`\n",
            "  # This is added back by InteractiveShellApp.init_path()\n"
          ],
          "name": "stderr"
        },
        {
          "output_type": "display_data",
          "data": {
            "application/vnd.jupyter.widget-view+json": {
              "model_id": "e7df54b0c9c841e8a4c173a1505f53ec",
              "version_minor": 0,
              "version_major": 2
            },
            "text/plain": [
              "HBox(children=(FloatProgress(value=0.0, max=5.0), HTML(value='')))"
            ]
          },
          "metadata": {
            "tags": []
          }
        },
        {
          "output_type": "stream",
          "text": [
            "Evaluate fold  1\n",
            "\n",
            "Epoch 00006: ReduceLROnPlateau reducing learning rate to 0.00010000000474974513.\n",
            "\n",
            "Epoch 00025: ReduceLROnPlateau reducing learning rate to 1.0000000474974514e-05.\n",
            "\n",
            "Epoch 00030: ReduceLROnPlateau reducing learning rate to 1e-05.\n",
            "Epoch 00040: early stopping\n",
            "Fold 1: loss: 0.4551 - acc: 0.815 - fscore: 0.431\n"
          ],
          "name": "stdout"
        },
        {
          "output_type": "display_data",
          "data": {
            "image/png": "[encoded data removed]",
            "text/plain": [
              "<Figure size 864x288 with 3 Axes>"
            ]
          },
          "metadata": {
            "tags": [],
            "needs_background": "light"
          }
        },
        {
          "output_type": "stream",
          "text": [
            "Evaluate fold  2\n"
          ],
          "name": "stdout"
        },
        {
          "output_type": "error",
          "ename": "KeyboardInterrupt",
          "evalue": "ignored",
          "traceback": [
            "\u001b[0;31m---------------------------------------------------------------------------\u001b[0m",
            "\u001b[0;31mKeyboardInterrupt\u001b[0m                         Traceback (most recent call last)",
            "\u001b[0;32m<ipython-input-56-c94daa69ce22>\u001b[0m in \u001b[0;36m<module>\u001b[0;34m()\u001b[0m\n\u001b[1;32m      1\u001b[0m results_OD, metrics_OD = k_fold_crossval(X, y_OD, ix, callbacks_OD, 'OD', k=5,\n\u001b[0;32m----> 2\u001b[0;31m                                          random_state=4, verbose=0, save=1)\n\u001b[0m",
            "\u001b[0;32m<ipython-input-55-3c647c778098>\u001b[0m in \u001b[0;36mk_fold_crossval\u001b[0;34m(X, y, ix, callbacks, tipe, k, test_size, random_state, verbose, save)\u001b[0m\n\u001b[1;32m     17\u001b[0m     \u001b[0mmodel\u001b[0m\u001b[0;34m=\u001b[0m \u001b[0mget_unet\u001b[0m\u001b[0;34m(\u001b[0m\u001b[0minput_img\u001b[0m\u001b[0;34m,\u001b[0m \u001b[0mn_filters\u001b[0m \u001b[0;34m=\u001b[0m \u001b[0;36m64\u001b[0m\u001b[0;34m,\u001b[0m \u001b[0mdropout\u001b[0m \u001b[0;34m=\u001b[0m \u001b[0;36m0.1\u001b[0m\u001b[0;34m,\u001b[0m \u001b[0mbatchnorm\u001b[0m \u001b[0;34m=\u001b[0m \u001b[0;32mTrue\u001b[0m\u001b[0;34m)\u001b[0m\u001b[0;34m\u001b[0m\u001b[0;34m\u001b[0m\u001b[0m\n\u001b[1;32m     18\u001b[0m     \u001b[0mmodel\u001b[0m\u001b[0;34m.\u001b[0m\u001b[0mcompile\u001b[0m\u001b[0;34m(\u001b[0m\u001b[0moptimizer\u001b[0m\u001b[0;34m=\u001b[0m\u001b[0mAdam\u001b[0m\u001b[0;34m(\u001b[0m\u001b[0;34m)\u001b[0m\u001b[0;34m,\u001b[0m \u001b[0mloss\u001b[0m\u001b[0;34m=\u001b[0m\u001b[0;34m\"binary_crossentropy\"\u001b[0m\u001b[0;34m,\u001b[0m \u001b[0mmetrics\u001b[0m\u001b[0;34m=\u001b[0m\u001b[0;34m[\u001b[0m\u001b[0;34m\"accuracy\"\u001b[0m\u001b[0;34m,\u001b[0m\u001b[0mfscore\u001b[0m\u001b[0;34m]\u001b[0m\u001b[0;34m)\u001b[0m\u001b[0;34m\u001b[0m\u001b[0;34m\u001b[0m\u001b[0m\n\u001b[0;32m---> 19\u001b[0;31m     \u001b[0mresult\u001b[0m \u001b[0;34m=\u001b[0m \u001b[0mmodel\u001b[0m\u001b[0;34m.\u001b[0m\u001b[0mfit\u001b[0m\u001b[0;34m(\u001b[0m\u001b[0mX\u001b[0m\u001b[0;34m[\u001b[0m\u001b[0mix_train\u001b[0m\u001b[0;34m]\u001b[0m\u001b[0;34m,\u001b[0m \u001b[0my\u001b[0m\u001b[0;34m[\u001b[0m\u001b[0mix_train\u001b[0m\u001b[0;34m]\u001b[0m\u001b[0;34m,\u001b[0m \u001b[0mbatch_size\u001b[0m\u001b[0;34m=\u001b[0m\u001b[0;36m32\u001b[0m\u001b[0;34m,\u001b[0m \u001b[0mepochs\u001b[0m\u001b[0;34m=\u001b[0m\u001b[0;36m100\u001b[0m\u001b[0;34m,\u001b[0m \u001b[0mcallbacks\u001b[0m\u001b[0;34m=\u001b[0m\u001b[0mcallbacks\u001b[0m\u001b[0;34m,\u001b[0m                    \u001b[0mvalidation_data\u001b[0m\u001b[0;34m=\u001b[0m\u001b[0;34m(\u001b[0m\u001b[0mX\u001b[0m\u001b[0;34m[\u001b[0m\u001b[0mix_test\u001b[0m\u001b[0;34m]\u001b[0m\u001b[0;34m,\u001b[0m \u001b[0my\u001b[0m\u001b[0;34m[\u001b[0m\u001b[0mix_test\u001b[0m\u001b[0;34m]\u001b[0m\u001b[0;34m)\u001b[0m\u001b[0;34m,\u001b[0m \u001b[0mverbose\u001b[0m\u001b[0;34m=\u001b[0m\u001b[0mverbose\u001b[0m\u001b[0;34m)\u001b[0m\u001b[0;34m\u001b[0m\u001b[0;34m\u001b[0m\u001b[0m\n\u001b[0m\u001b[1;32m     20\u001b[0m     \u001b[0mresults\u001b[0m\u001b[0;34m.\u001b[0m\u001b[0mappend\u001b[0m\u001b[0;34m(\u001b[0m\u001b[0mresult\u001b[0m\u001b[0;34m)\u001b[0m\u001b[0;34m\u001b[0m\u001b[0;34m\u001b[0m\u001b[0m\n\u001b[1;32m     21\u001b[0m     \u001b[0mlos\u001b[0m \u001b[0;34m=\u001b[0m \u001b[0mresult\u001b[0m\u001b[0;34m.\u001b[0m\u001b[0mhistory\u001b[0m\u001b[0;34m[\u001b[0m\u001b[0;34m'val_loss'\u001b[0m\u001b[0;34m]\u001b[0m\u001b[0;34m[\u001b[0m\u001b[0;34m-\u001b[0m\u001b[0;36m1\u001b[0m\u001b[0;34m]\u001b[0m\u001b[0;34m\u001b[0m\u001b[0;34m\u001b[0m\u001b[0m\n",
            "\u001b[0;32m/usr/local/lib/python3.7/dist-packages/keras/engine/training.py\u001b[0m in \u001b[0;36mfit\u001b[0;34m(self, x, y, batch_size, epochs, verbose, callbacks, validation_split, validation_data, shuffle, class_weight, sample_weight, initial_epoch, steps_per_epoch, validation_steps, validation_batch_size, validation_freq, max_queue_size, workers, use_multiprocessing)\u001b[0m\n\u001b[1;32m   1156\u001b[0m                 _r=1):\n\u001b[1;32m   1157\u001b[0m               \u001b[0mcallbacks\u001b[0m\u001b[0;34m.\u001b[0m\u001b[0mon_train_batch_begin\u001b[0m\u001b[0;34m(\u001b[0m\u001b[0mstep\u001b[0m\u001b[0;34m)\u001b[0m\u001b[0;34m\u001b[0m\u001b[0;34m\u001b[0m\u001b[0m\n\u001b[0;32m-> 1158\u001b[0;31m               \u001b[0mtmp_logs\u001b[0m \u001b[0;34m=\u001b[0m \u001b[0mself\u001b[0m\u001b[0;34m.\u001b[0m\u001b[0mtrain_function\u001b[0m\u001b[0;34m(\u001b[0m\u001b[0miterator\u001b[0m\u001b[0;34m)\u001b[0m\u001b[0;34m\u001b[0m\u001b[0;34m\u001b[0m\u001b[0m\n\u001b[0m\u001b[1;32m   1159\u001b[0m               \u001b[0;32mif\u001b[0m \u001b[0mdata_handler\u001b[0m\u001b[0;34m.\u001b[0m\u001b[0mshould_sync\u001b[0m\u001b[0;34m:\u001b[0m\u001b[0;34m\u001b[0m\u001b[0;34m\u001b[0m\u001b[0m\n\u001b[1;32m   1160\u001b[0m                 \u001b[0mcontext\u001b[0m\u001b[0;34m.\u001b[0m\u001b[0masync_wait\u001b[0m\u001b[0;34m(\u001b[0m\u001b[0;34m)\u001b[0m\u001b[0;34m\u001b[0m\u001b[0;34m\u001b[0m\u001b[0m\n",
            "\u001b[0;32m/usr/local/lib/python3.7/dist-packages/tensorflow/python/eager/def_function.py\u001b[0m in \u001b[0;36m__call__\u001b[0;34m(self, *args, **kwds)\u001b[0m\n\u001b[1;32m    887\u001b[0m \u001b[0;34m\u001b[0m\u001b[0m\n\u001b[1;32m    888\u001b[0m       \u001b[0;32mwith\u001b[0m \u001b[0mOptionalXlaContext\u001b[0m\u001b[0;34m(\u001b[0m\u001b[0mself\u001b[0m\u001b[0;34m.\u001b[0m\u001b[0m_jit_compile\u001b[0m\u001b[0;34m)\u001b[0m\u001b[0;34m:\u001b[0m\u001b[0;34m\u001b[0m\u001b[0;34m\u001b[0m\u001b[0m\n\u001b[0;32m--> 889\u001b[0;31m         \u001b[0mresult\u001b[0m \u001b[0;34m=\u001b[0m \u001b[0mself\u001b[0m\u001b[0;34m.\u001b[0m\u001b[0m_call\u001b[0m\u001b[0;34m(\u001b[0m\u001b[0;34m*\u001b[0m\u001b[0margs\u001b[0m\u001b[0;34m,\u001b[0m \u001b[0;34m**\u001b[0m\u001b[0mkwds\u001b[0m\u001b[0;34m)\u001b[0m\u001b[0;34m\u001b[0m\u001b[0;34m\u001b[0m\u001b[0m\n\u001b[0m\u001b[1;32m    890\u001b[0m \u001b[0;34m\u001b[0m\u001b[0m\n\u001b[1;32m    891\u001b[0m       \u001b[0mnew_tracing_count\u001b[0m \u001b[0;34m=\u001b[0m \u001b[0mself\u001b[0m\u001b[0;34m.\u001b[0m\u001b[0mexperimental_get_tracing_count\u001b[0m\u001b[0;34m(\u001b[0m\u001b[0;34m)\u001b[0m\u001b[0;34m\u001b[0m\u001b[0;34m\u001b[0m\u001b[0m\n",
            "\u001b[0;32m/usr/local/lib/python3.7/dist-packages/tensorflow/python/eager/def_function.py\u001b[0m in \u001b[0;36m_call\u001b[0;34m(self, *args, **kwds)\u001b[0m\n\u001b[1;32m    915\u001b[0m       \u001b[0;31m# In this case we have created variables on the first call, so we run the\u001b[0m\u001b[0;34m\u001b[0m\u001b[0;34m\u001b[0m\u001b[0;34m\u001b[0m\u001b[0m\n\u001b[1;32m    916\u001b[0m       \u001b[0;31m# defunned version which is guaranteed to never create variables.\u001b[0m\u001b[0;34m\u001b[0m\u001b[0;34m\u001b[0m\u001b[0;34m\u001b[0m\u001b[0m\n\u001b[0;32m--> 917\u001b[0;31m       \u001b[0;32mreturn\u001b[0m \u001b[0mself\u001b[0m\u001b[0;34m.\u001b[0m\u001b[0m_stateless_fn\u001b[0m\u001b[0;34m(\u001b[0m\u001b[0;34m*\u001b[0m\u001b[0margs\u001b[0m\u001b[0;34m,\u001b[0m \u001b[0;34m**\u001b[0m\u001b[0mkwds\u001b[0m\u001b[0;34m)\u001b[0m  \u001b[0;31m# pylint: disable=not-callable\u001b[0m\u001b[0;34m\u001b[0m\u001b[0;34m\u001b[0m\u001b[0m\n\u001b[0m\u001b[1;32m    918\u001b[0m     \u001b[0;32melif\u001b[0m \u001b[0mself\u001b[0m\u001b[0;34m.\u001b[0m\u001b[0m_stateful_fn\u001b[0m \u001b[0;32mis\u001b[0m \u001b[0;32mnot\u001b[0m \u001b[0;32mNone\u001b[0m\u001b[0;34m:\u001b[0m\u001b[0;34m\u001b[0m\u001b[0;34m\u001b[0m\u001b[0m\n\u001b[1;32m    919\u001b[0m       \u001b[0;31m# Release the lock early so that multiple threads can perform the call\u001b[0m\u001b[0;34m\u001b[0m\u001b[0;34m\u001b[0m\u001b[0;34m\u001b[0m\u001b[0m\n",
            "\u001b[0;32m/usr/local/lib/python3.7/dist-packages/tensorflow/python/eager/function.py\u001b[0m in \u001b[0;36m__call__\u001b[0;34m(self, *args, **kwargs)\u001b[0m\n\u001b[1;32m   3022\u001b[0m        filtered_flat_args) = self._maybe_define_function(args, kwargs)\n\u001b[1;32m   3023\u001b[0m     return graph_function._call_flat(\n\u001b[0;32m-> 3024\u001b[0;31m         filtered_flat_args, captured_inputs=graph_function.captured_inputs)  # pylint: disable=protected-access\n\u001b[0m\u001b[1;32m   3025\u001b[0m \u001b[0;34m\u001b[0m\u001b[0m\n\u001b[1;32m   3026\u001b[0m   \u001b[0;34m@\u001b[0m\u001b[0mproperty\u001b[0m\u001b[0;34m\u001b[0m\u001b[0;34m\u001b[0m\u001b[0m\n",
            "\u001b[0;32m/usr/local/lib/python3.7/dist-packages/tensorflow/python/eager/function.py\u001b[0m in \u001b[0;36m_call_flat\u001b[0;34m(self, args, captured_inputs, cancellation_manager)\u001b[0m\n\u001b[1;32m   1959\u001b[0m       \u001b[0;31m# No tape is watching; skip to running the function.\u001b[0m\u001b[0;34m\u001b[0m\u001b[0;34m\u001b[0m\u001b[0;34m\u001b[0m\u001b[0m\n\u001b[1;32m   1960\u001b[0m       return self._build_call_outputs(self._inference_function.call(\n\u001b[0;32m-> 1961\u001b[0;31m           ctx, args, cancellation_manager=cancellation_manager))\n\u001b[0m\u001b[1;32m   1962\u001b[0m     forward_backward = self._select_forward_and_backward_functions(\n\u001b[1;32m   1963\u001b[0m         \u001b[0margs\u001b[0m\u001b[0;34m,\u001b[0m\u001b[0;34m\u001b[0m\u001b[0;34m\u001b[0m\u001b[0m\n",
            "\u001b[0;32m/usr/local/lib/python3.7/dist-packages/tensorflow/python/eager/function.py\u001b[0m in \u001b[0;36mcall\u001b[0;34m(self, ctx, args, cancellation_manager)\u001b[0m\n\u001b[1;32m    594\u001b[0m               \u001b[0minputs\u001b[0m\u001b[0;34m=\u001b[0m\u001b[0margs\u001b[0m\u001b[0;34m,\u001b[0m\u001b[0;34m\u001b[0m\u001b[0;34m\u001b[0m\u001b[0m\n\u001b[1;32m    595\u001b[0m               \u001b[0mattrs\u001b[0m\u001b[0;34m=\u001b[0m\u001b[0mattrs\u001b[0m\u001b[0;34m,\u001b[0m\u001b[0;34m\u001b[0m\u001b[0;34m\u001b[0m\u001b[0m\n\u001b[0;32m--> 596\u001b[0;31m               ctx=ctx)\n\u001b[0m\u001b[1;32m    597\u001b[0m         \u001b[0;32melse\u001b[0m\u001b[0;34m:\u001b[0m\u001b[0;34m\u001b[0m\u001b[0;34m\u001b[0m\u001b[0m\n\u001b[1;32m    598\u001b[0m           outputs = execute.execute_with_cancellation(\n",
            "\u001b[0;32m/usr/local/lib/python3.7/dist-packages/tensorflow/python/eager/execute.py\u001b[0m in \u001b[0;36mquick_execute\u001b[0;34m(op_name, num_outputs, inputs, attrs, ctx, name)\u001b[0m\n\u001b[1;32m     58\u001b[0m     \u001b[0mctx\u001b[0m\u001b[0;34m.\u001b[0m\u001b[0mensure_initialized\u001b[0m\u001b[0;34m(\u001b[0m\u001b[0;34m)\u001b[0m\u001b[0;34m\u001b[0m\u001b[0;34m\u001b[0m\u001b[0m\n\u001b[1;32m     59\u001b[0m     tensors = pywrap_tfe.TFE_Py_Execute(ctx._handle, device_name, op_name,\n\u001b[0;32m---> 60\u001b[0;31m                                         inputs, attrs, num_outputs)\n\u001b[0m\u001b[1;32m     61\u001b[0m   \u001b[0;32mexcept\u001b[0m \u001b[0mcore\u001b[0m\u001b[0;34m.\u001b[0m\u001b[0m_NotOkStatusException\u001b[0m \u001b[0;32mas\u001b[0m \u001b[0me\u001b[0m\u001b[0;34m:\u001b[0m\u001b[0;34m\u001b[0m\u001b[0;34m\u001b[0m\u001b[0m\n\u001b[1;32m     62\u001b[0m     \u001b[0;32mif\u001b[0m \u001b[0mname\u001b[0m \u001b[0;32mis\u001b[0m \u001b[0;32mnot\u001b[0m \u001b[0;32mNone\u001b[0m\u001b[0;34m:\u001b[0m\u001b[0;34m\u001b[0m\u001b[0;34m\u001b[0m\u001b[0m\n",
            "\u001b[0;31mKeyboardInterrupt\u001b[0m: "
          ]
        }
      ]
    },
    {
      "cell_type": "code",
      "metadata": {
        "id": "98_rCujNDcZL"
      },
      "source": [
        "results_OC, metrics_OC = k_fold_crossval(X, y_OC, callbacks_OC, 'OC', k=5, \n",
        "                                         random_state=4, verbose=0, save=1)"
      ],
      "execution_count": null,
      "outputs": []
    },
    {
      "cell_type": "code",
      "metadata": {
        "id": "8wc6YWO2vI21"
      },
      "source": [
        "input_img = Input((550,550, 1), name='img')"
      ],
      "execution_count": null,
      "outputs": []
    },
    {
      "cell_type": "code",
      "metadata": {
        "id": "YfWosLL9oOU5"
      },
      "source": [
        "model_OD = get_unet(input_img, n_filters = 64, dropout = 0.1, batchnorm = True)\n",
        "model_OD.compile(optimizer=Adam(), loss=\"binary_crossentropy\", metrics=['accuracy', fscore])\n",
        "\n",
        "model_OC = get_unet(input_img, n_filters = 64, dropout = 0.1, batchnorm = True)\n",
        "model_OC.compile(optimizer=Adam(), loss=\"binary_crossentropy\", metrics=['accuracy', fscore])"
      ],
      "execution_count": null,
      "outputs": []
    },
    {
      "cell_type": "code",
      "metadata": {
        "id": "7r3b0GvUBjn1",
        "colab": {
          "base_uri": "https://localhost:8080/"
        },
        "outputId": "46e4925f-998e-4dc7-dfec-5b13907228ab"
      },
      "source": [
        "model_OD.summary()"
      ],
      "execution_count": null,
      "outputs": [
        {
          "output_type": "stream",
          "text": [
            "Model: \"model_3\"\n",
            "__________________________________________________________________________________________________\n",
            "Layer (type)                    Output Shape         Param #     Connected to                     \n",
            "==================================================================================================\n",
            "img (InputLayer)                [(None, 550, 550, 1) 0                                            \n",
            "__________________________________________________________________________________________________\n",
            "lambda_input (Lambda)           (None, 256, 256, 1)  0           img[0][0]                        \n",
            "__________________________________________________________________________________________________\n",
            "conv2d_71 (Conv2D)              (None, 256, 256, 64) 640         lambda_input[0][0]               \n",
            "__________________________________________________________________________________________________\n",
            "batch_normalization_67 (BatchNo (None, 256, 256, 64) 256         conv2d_71[0][0]                  \n",
            "__________________________________________________________________________________________________\n",
            "activation_67 (Activation)      (None, 256, 256, 64) 0           batch_normalization_67[0][0]     \n",
            "__________________________________________________________________________________________________\n",
            "max_pooling2d_16 (MaxPooling2D) (None, 128, 128, 64) 0           activation_67[0][0]              \n",
            "__________________________________________________________________________________________________\n",
            "dropout_29 (Dropout)            (None, 128, 128, 64) 0           max_pooling2d_16[0][0]           \n",
            "__________________________________________________________________________________________________\n",
            "conv2d_73 (Conv2D)              (None, 128, 128, 128 73856       dropout_29[0][0]                 \n",
            "__________________________________________________________________________________________________\n",
            "batch_normalization_69 (BatchNo (None, 128, 128, 128 512         conv2d_73[0][0]                  \n",
            "__________________________________________________________________________________________________\n",
            "activation_69 (Activation)      (None, 128, 128, 128 0           batch_normalization_69[0][0]     \n",
            "__________________________________________________________________________________________________\n",
            "max_pooling2d_17 (MaxPooling2D) (None, 64, 64, 128)  0           activation_69[0][0]              \n",
            "__________________________________________________________________________________________________\n",
            "dropout_30 (Dropout)            (None, 64, 64, 128)  0           max_pooling2d_17[0][0]           \n",
            "__________________________________________________________________________________________________\n",
            "conv2d_75 (Conv2D)              (None, 64, 64, 256)  295168      dropout_30[0][0]                 \n",
            "__________________________________________________________________________________________________\n",
            "batch_normalization_71 (BatchNo (None, 64, 64, 256)  1024        conv2d_75[0][0]                  \n",
            "__________________________________________________________________________________________________\n",
            "activation_71 (Activation)      (None, 64, 64, 256)  0           batch_normalization_71[0][0]     \n",
            "__________________________________________________________________________________________________\n",
            "max_pooling2d_18 (MaxPooling2D) (None, 32, 32, 256)  0           activation_71[0][0]              \n",
            "__________________________________________________________________________________________________\n",
            "dropout_31 (Dropout)            (None, 32, 32, 256)  0           max_pooling2d_18[0][0]           \n",
            "__________________________________________________________________________________________________\n",
            "conv2d_77 (Conv2D)              (None, 32, 32, 512)  1180160     dropout_31[0][0]                 \n",
            "__________________________________________________________________________________________________\n",
            "batch_normalization_73 (BatchNo (None, 32, 32, 512)  2048        conv2d_77[0][0]                  \n",
            "__________________________________________________________________________________________________\n",
            "activation_73 (Activation)      (None, 32, 32, 512)  0           batch_normalization_73[0][0]     \n",
            "__________________________________________________________________________________________________\n",
            "max_pooling2d_19 (MaxPooling2D) (None, 16, 16, 512)  0           activation_73[0][0]              \n",
            "__________________________________________________________________________________________________\n",
            "dropout_32 (Dropout)            (None, 16, 16, 512)  0           max_pooling2d_19[0][0]           \n",
            "__________________________________________________________________________________________________\n",
            "conv2d_79 (Conv2D)              (None, 16, 16, 1024) 4719616     dropout_32[0][0]                 \n",
            "__________________________________________________________________________________________________\n",
            "batch_normalization_75 (BatchNo (None, 16, 16, 1024) 4096        conv2d_79[0][0]                  \n",
            "__________________________________________________________________________________________________\n",
            "activation_75 (Activation)      (None, 16, 16, 1024) 0           batch_normalization_75[0][0]     \n",
            "__________________________________________________________________________________________________\n",
            "conv2d_transpose_14 (Conv2DTran (None, 32, 32, 512)  4719104     activation_75[0][0]              \n",
            "__________________________________________________________________________________________________\n",
            "concatenate_14 (Concatenate)    (None, 32, 32, 1024) 0           conv2d_transpose_14[0][0]        \n",
            "                                                                 activation_73[0][0]              \n",
            "__________________________________________________________________________________________________\n",
            "dropout_33 (Dropout)            (None, 32, 32, 1024) 0           concatenate_14[0][0]             \n",
            "__________________________________________________________________________________________________\n",
            "conv2d_81 (Conv2D)              (None, 32, 32, 512)  4719104     dropout_33[0][0]                 \n",
            "__________________________________________________________________________________________________\n",
            "batch_normalization_77 (BatchNo (None, 32, 32, 512)  2048        conv2d_81[0][0]                  \n",
            "__________________________________________________________________________________________________\n",
            "activation_77 (Activation)      (None, 32, 32, 512)  0           batch_normalization_77[0][0]     \n",
            "__________________________________________________________________________________________________\n",
            "conv2d_transpose_15 (Conv2DTran (None, 64, 64, 256)  1179904     activation_77[0][0]              \n",
            "__________________________________________________________________________________________________\n",
            "concatenate_15 (Concatenate)    (None, 64, 64, 512)  0           conv2d_transpose_15[0][0]        \n",
            "                                                                 activation_71[0][0]              \n",
            "__________________________________________________________________________________________________\n",
            "dropout_34 (Dropout)            (None, 64, 64, 512)  0           concatenate_15[0][0]             \n",
            "__________________________________________________________________________________________________\n",
            "conv2d_83 (Conv2D)              (None, 64, 64, 256)  1179904     dropout_34[0][0]                 \n",
            "__________________________________________________________________________________________________\n",
            "batch_normalization_79 (BatchNo (None, 64, 64, 256)  1024        conv2d_83[0][0]                  \n",
            "__________________________________________________________________________________________________\n",
            "activation_79 (Activation)      (None, 64, 64, 256)  0           batch_normalization_79[0][0]     \n",
            "__________________________________________________________________________________________________\n",
            "conv2d_transpose_16 (Conv2DTran (None, 128, 128, 128 295040      activation_79[0][0]              \n",
            "__________________________________________________________________________________________________\n",
            "concatenate_16 (Concatenate)    (None, 128, 128, 256 0           conv2d_transpose_16[0][0]        \n",
            "                                                                 activation_69[0][0]              \n",
            "__________________________________________________________________________________________________\n",
            "dropout_35 (Dropout)            (None, 128, 128, 256 0           concatenate_16[0][0]             \n",
            "__________________________________________________________________________________________________\n",
            "conv2d_85 (Conv2D)              (None, 128, 128, 128 295040      dropout_35[0][0]                 \n",
            "__________________________________________________________________________________________________\n",
            "batch_normalization_81 (BatchNo (None, 128, 128, 128 512         conv2d_85[0][0]                  \n",
            "__________________________________________________________________________________________________\n",
            "activation_81 (Activation)      (None, 128, 128, 128 0           batch_normalization_81[0][0]     \n",
            "__________________________________________________________________________________________________\n",
            "conv2d_transpose_17 (Conv2DTran (None, 256, 256, 64) 73792       activation_81[0][0]              \n",
            "__________________________________________________________________________________________________\n",
            "concatenate_17 (Concatenate)    (None, 256, 256, 128 0           conv2d_transpose_17[0][0]        \n",
            "                                                                 activation_67[0][0]              \n",
            "__________________________________________________________________________________________________\n",
            "dropout_36 (Dropout)            (None, 256, 256, 128 0           concatenate_17[0][0]             \n",
            "__________________________________________________________________________________________________\n",
            "conv2d_87 (Conv2D)              (None, 256, 256, 64) 73792       dropout_36[0][0]                 \n",
            "__________________________________________________________________________________________________\n",
            "batch_normalization_83 (BatchNo (None, 256, 256, 64) 256         conv2d_87[0][0]                  \n",
            "__________________________________________________________________________________________________\n",
            "activation_83 (Activation)      (None, 256, 256, 64) 0           batch_normalization_83[0][0]     \n",
            "__________________________________________________________________________________________________\n",
            "conv2d_88 (Conv2D)              (None, 256, 256, 1)  65          activation_83[0][0]              \n",
            "__________________________________________________________________________________________________\n",
            "lambda_output (Lambda)          (None, 550, 550, 1)  0           conv2d_88[0][0]                  \n",
            "==================================================================================================\n",
            "Total params: 18,816,961\n",
            "Trainable params: 18,811,073\n",
            "Non-trainable params: 5,888\n",
            "__________________________________________________________________________________________________\n"
          ],
          "name": "stdout"
        }
      ]
    },
    {
      "cell_type": "code",
      "metadata": {
        "id": "N6fzH1Joqye3",
        "colab": {
          "base_uri": "https://localhost:8080/"
        },
        "outputId": "0432026e-4945-478d-97df-fe1c9bd40a32"
      },
      "source": [
        "results_OD = model_OD.fit(X_train_OD, y_train_OD, batch_size=20, epochs=100, callbacks=callbacks_OD,\\\n",
        "                    validation_data=(X_test_OD, y_test_OD))"
      ],
      "execution_count": null,
      "outputs": [
        {
          "output_type": "stream",
          "text": [
            "Epoch 1/100\n",
            "19/19 [==============================] - 85s 1s/step - loss: 0.5043 - accuracy: 0.7048 - fscore: 0.6498 - val_loss: 11.0731 - val_accuracy: 0.1455 - val_fscore: 0.2380\n",
            "Epoch 2/100\n",
            "19/19 [==============================] - 20s 1s/step - loss: 0.2605 - accuracy: 0.8166 - fscore: 0.7746 - val_loss: 8.3471 - val_accuracy: 0.1553 - val_fscore: 0.2399\n",
            "Epoch 3/100\n",
            "19/19 [==============================] - 20s 1s/step - loss: 0.2238 - accuracy: 0.8104 - fscore: 0.7653 - val_loss: 3.2058 - val_accuracy: 0.2923 - val_fscore: 0.2701\n",
            "Epoch 4/100\n",
            "19/19 [==============================] - 20s 1s/step - loss: 0.1841 - accuracy: 0.8285 - fscore: 0.8105 - val_loss: 3.2839 - val_accuracy: 0.2928 - val_fscore: 0.2707\n",
            "Epoch 5/100\n",
            "19/19 [==============================] - 20s 1s/step - loss: 0.1812 - accuracy: 0.8279 - fscore: 0.7933 - val_loss: 2.5999 - val_accuracy: 0.3859 - val_fscore: 0.2958\n",
            "Epoch 6/100\n",
            "19/19 [==============================] - 20s 1s/step - loss: 0.1565 - accuracy: 0.8277 - fscore: 0.8029 - val_loss: 1.1152 - val_accuracy: 0.5871 - val_fscore: 0.3815\n",
            "Epoch 7/100\n",
            "19/19 [==============================] - 20s 1s/step - loss: 0.1461 - accuracy: 0.8309 - fscore: 0.8219 - val_loss: 0.4578 - val_accuracy: 0.7389 - val_fscore: 0.6743\n",
            "Epoch 8/100\n",
            "19/19 [==============================] - 20s 1s/step - loss: 0.1465 - accuracy: 0.8383 - fscore: 0.8265 - val_loss: 0.2295 - val_accuracy: 0.8062 - val_fscore: 0.8019\n",
            "Epoch 9/100\n",
            "19/19 [==============================] - 20s 1s/step - loss: 0.1257 - accuracy: 0.8412 - fscore: 0.8370 - val_loss: 0.2601 - val_accuracy: 0.7981 - val_fscore: 0.7898\n",
            "Epoch 10/100\n",
            "19/19 [==============================] - 20s 1s/step - loss: 0.1263 - accuracy: 0.8420 - fscore: 0.8493 - val_loss: 0.1659 - val_accuracy: 0.8121 - val_fscore: 0.7471\n",
            "Epoch 11/100\n",
            "19/19 [==============================] - 20s 1s/step - loss: 0.1007 - accuracy: 0.8494 - fscore: 0.8834 - val_loss: 0.2178 - val_accuracy: 0.8133 - val_fscore: 0.7475\n",
            "Epoch 12/100\n",
            "19/19 [==============================] - 20s 1s/step - loss: 0.1225 - accuracy: 0.8447 - fscore: 0.8491 - val_loss: 0.2254 - val_accuracy: 0.8165 - val_fscore: 0.8354\n",
            "Epoch 13/100\n",
            "19/19 [==============================] - 20s 1s/step - loss: 0.1173 - accuracy: 0.8490 - fscore: 0.8636 - val_loss: 0.1759 - val_accuracy: 0.8079 - val_fscore: 0.8039\n",
            "Epoch 14/100\n",
            "19/19 [==============================] - 20s 1s/step - loss: 0.1034 - accuracy: 0.8431 - fscore: 0.8610 - val_loss: 0.1767 - val_accuracy: 0.8105 - val_fscore: 0.7507\n",
            "Epoch 15/100\n",
            "19/19 [==============================] - 20s 1s/step - loss: 0.0926 - accuracy: 0.8489 - fscore: 0.8804 - val_loss: 0.1834 - val_accuracy: 0.8020 - val_fscore: 0.6887\n",
            "Epoch 16/100\n",
            "19/19 [==============================] - 20s 1s/step - loss: 0.0770 - accuracy: 0.8569 - fscore: 0.9179 - val_loss: 0.1171 - val_accuracy: 0.8212 - val_fscore: 0.7972\n",
            "Epoch 17/100\n",
            "19/19 [==============================] - 20s 1s/step - loss: 0.0730 - accuracy: 0.8592 - fscore: 0.9199 - val_loss: 0.2478 - val_accuracy: 0.7527 - val_fscore: 0.3107\n",
            "Epoch 18/100\n",
            "19/19 [==============================] - 20s 1s/step - loss: 0.0712 - accuracy: 0.8620 - fscore: 0.9183 - val_loss: 0.2259 - val_accuracy: 0.7757 - val_fscore: 0.5028\n",
            "Epoch 19/100\n",
            "19/19 [==============================] - 20s 1s/step - loss: 0.0665 - accuracy: 0.8693 - fscore: 0.9349 - val_loss: 0.3498 - val_accuracy: 0.7335 - val_fscore: 0.0780\n",
            "Epoch 20/100\n",
            "19/19 [==============================] - 20s 1s/step - loss: 0.0732 - accuracy: 0.8590 - fscore: 0.9073 - val_loss: 0.2132 - val_accuracy: 0.7817 - val_fscore: 0.5408\n",
            "Epoch 21/100\n",
            "19/19 [==============================] - 20s 1s/step - loss: 0.0653 - accuracy: 0.8647 - fscore: 0.9278 - val_loss: 0.2702 - val_accuracy: 0.7566 - val_fscore: 0.3328\n",
            "Epoch 22/100\n",
            "19/19 [==============================] - 20s 1s/step - loss: 0.0653 - accuracy: 0.8637 - fscore: 0.9273 - val_loss: 0.2570 - val_accuracy: 0.7590 - val_fscore: 0.3549\n",
            "Epoch 23/100\n",
            "19/19 [==============================] - 20s 1s/step - loss: 0.0681 - accuracy: 0.8700 - fscore: 0.9308 - val_loss: 0.2312 - val_accuracy: 0.7695 - val_fscore: 0.4485\n",
            "Epoch 24/100\n",
            "19/19 [==============================] - 20s 1s/step - loss: 0.0617 - accuracy: 0.8655 - fscore: 0.9377 - val_loss: 0.1900 - val_accuracy: 0.7890 - val_fscore: 0.5972\n",
            "Epoch 25/100\n",
            "19/19 [==============================] - 20s 1s/step - loss: 0.0654 - accuracy: 0.8640 - fscore: 0.9264 - val_loss: 0.1774 - val_accuracy: 0.7940 - val_fscore: 0.6306\n",
            "Epoch 26/100\n",
            "19/19 [==============================] - 20s 1s/step - loss: 0.0597 - accuracy: 0.8641 - fscore: 0.9371 - val_loss: 0.1487 - val_accuracy: 0.8090 - val_fscore: 0.7233\n",
            "Epoch 27/100\n",
            "19/19 [==============================] - 20s 1s/step - loss: 0.0638 - accuracy: 0.8700 - fscore: 0.9309 - val_loss: 0.1283 - val_accuracy: 0.8188 - val_fscore: 0.7758\n",
            "Epoch 28/100\n",
            "19/19 [==============================] - 20s 1s/step - loss: 0.0613 - accuracy: 0.8622 - fscore: 0.9372 - val_loss: 0.1182 - val_accuracy: 0.8237 - val_fscore: 0.8016\n",
            "Epoch 29/100\n",
            "19/19 [==============================] - 20s 1s/step - loss: 0.0610 - accuracy: 0.8638 - fscore: 0.9334 - val_loss: 0.1067 - val_accuracy: 0.8290 - val_fscore: 0.8272\n",
            "Epoch 30/100\n",
            "19/19 [==============================] - 20s 1s/step - loss: 0.0619 - accuracy: 0.8627 - fscore: 0.9279 - val_loss: 0.1050 - val_accuracy: 0.8298 - val_fscore: 0.8318\n",
            "Epoch 31/100\n",
            "19/19 [==============================] - 20s 1s/step - loss: 0.0633 - accuracy: 0.8699 - fscore: 0.9384 - val_loss: 0.0957 - val_accuracy: 0.8345 - val_fscore: 0.8545\n",
            "Epoch 32/100\n",
            "19/19 [==============================] - 20s 1s/step - loss: 0.0599 - accuracy: 0.8632 - fscore: 0.9378 - val_loss: 0.0823 - val_accuracy: 0.8412 - val_fscore: 0.8843\n",
            "Epoch 33/100\n",
            "19/19 [==============================] - 20s 1s/step - loss: 0.0597 - accuracy: 0.8671 - fscore: 0.9375 - val_loss: 0.0836 - val_accuracy: 0.8405 - val_fscore: 0.8813\n",
            "Epoch 34/100\n",
            "19/19 [==============================] - 20s 1s/step - loss: 0.0624 - accuracy: 0.8644 - fscore: 0.9341 - val_loss: 0.0782 - val_accuracy: 0.8432 - val_fscore: 0.8925\n",
            "Epoch 35/100\n",
            "19/19 [==============================] - 20s 1s/step - loss: 0.0631 - accuracy: 0.8639 - fscore: 0.9336 - val_loss: 0.0719 - val_accuracy: 0.8463 - val_fscore: 0.9063\n",
            "Epoch 36/100\n",
            "19/19 [==============================] - 20s 1s/step - loss: 0.0634 - accuracy: 0.8641 - fscore: 0.9355 - val_loss: 0.0726 - val_accuracy: 0.8461 - val_fscore: 0.9049\n",
            "Epoch 37/100\n",
            "19/19 [==============================] - 20s 1s/step - loss: 0.0638 - accuracy: 0.8691 - fscore: 0.9377 - val_loss: 0.0690 - val_accuracy: 0.8480 - val_fscore: 0.9132\n",
            "Epoch 38/100\n",
            "19/19 [==============================] - 20s 1s/step - loss: 0.0620 - accuracy: 0.8579 - fscore: 0.9299 - val_loss: 0.0679 - val_accuracy: 0.8483 - val_fscore: 0.9145\n",
            "Epoch 39/100\n",
            "19/19 [==============================] - 20s 1s/step - loss: 0.0617 - accuracy: 0.8663 - fscore: 0.9331 - val_loss: 0.0727 - val_accuracy: 0.8462 - val_fscore: 0.9042\n",
            "Epoch 40/100\n",
            "19/19 [==============================] - 20s 1s/step - loss: 0.0639 - accuracy: 0.8684 - fscore: 0.9314 - val_loss: 0.0652 - val_accuracy: 0.8496 - val_fscore: 0.9202\n",
            "Epoch 41/100\n",
            "19/19 [==============================] - 20s 1s/step - loss: 0.0593 - accuracy: 0.8649 - fscore: 0.9389 - val_loss: 0.0634 - val_accuracy: 0.8503 - val_fscore: 0.9241\n",
            "Epoch 42/100\n",
            "19/19 [==============================] - 20s 1s/step - loss: 0.0596 - accuracy: 0.8634 - fscore: 0.9372 - val_loss: 0.0647 - val_accuracy: 0.8499 - val_fscore: 0.9215\n",
            "Epoch 43/100\n",
            "19/19 [==============================] - 20s 1s/step - loss: 0.0602 - accuracy: 0.8615 - fscore: 0.9331 - val_loss: 0.0633 - val_accuracy: 0.8509 - val_fscore: 0.9257\n",
            "Epoch 44/100\n",
            "19/19 [==============================] - 20s 1s/step - loss: 0.0630 - accuracy: 0.8668 - fscore: 0.9280 - val_loss: 0.0628 - val_accuracy: 0.8510 - val_fscore: 0.9260\n",
            "Epoch 45/100\n",
            "19/19 [==============================] - 20s 1s/step - loss: 0.0645 - accuracy: 0.8699 - fscore: 0.9354 - val_loss: 0.0629 - val_accuracy: 0.8508 - val_fscore: 0.9257\n",
            "Epoch 46/100\n",
            "19/19 [==============================] - 20s 1s/step - loss: 0.0579 - accuracy: 0.8617 - fscore: 0.9401 - val_loss: 0.0622 - val_accuracy: 0.8511 - val_fscore: 0.9274\n",
            "Epoch 47/100\n",
            "19/19 [==============================] - 20s 1s/step - loss: 0.0580 - accuracy: 0.8686 - fscore: 0.9435 - val_loss: 0.0616 - val_accuracy: 0.8513 - val_fscore: 0.9283\n",
            "Epoch 48/100\n",
            "19/19 [==============================] - 20s 1s/step - loss: 0.0624 - accuracy: 0.8732 - fscore: 0.9344 - val_loss: 0.0626 - val_accuracy: 0.8506 - val_fscore: 0.9245\n",
            "Epoch 49/100\n",
            "19/19 [==============================] - 20s 1s/step - loss: 0.0640 - accuracy: 0.8742 - fscore: 0.9334 - val_loss: 0.0632 - val_accuracy: 0.8504 - val_fscore: 0.9231\n",
            "Epoch 50/100\n",
            "19/19 [==============================] - 20s 1s/step - loss: 0.0581 - accuracy: 0.8712 - fscore: 0.9383 - val_loss: 0.0643 - val_accuracy: 0.8501 - val_fscore: 0.9210\n",
            "Epoch 51/100\n",
            "19/19 [==============================] - 20s 1s/step - loss: 0.0630 - accuracy: 0.8679 - fscore: 0.9329 - val_loss: 0.0671 - val_accuracy: 0.8488 - val_fscore: 0.9153\n",
            "Epoch 52/100\n",
            "19/19 [==============================] - 20s 1s/step - loss: 0.0600 - accuracy: 0.8669 - fscore: 0.9352 - val_loss: 0.0670 - val_accuracy: 0.8487 - val_fscore: 0.9146\n",
            "Epoch 53/100\n",
            "19/19 [==============================] - 20s 1s/step - loss: 0.0605 - accuracy: 0.8680 - fscore: 0.9332 - val_loss: 0.0663 - val_accuracy: 0.8492 - val_fscore: 0.9168\n",
            "Epoch 54/100\n",
            "19/19 [==============================] - 20s 1s/step - loss: 0.0611 - accuracy: 0.8627 - fscore: 0.9340 - val_loss: 0.0674 - val_accuracy: 0.8486 - val_fscore: 0.9140\n",
            "Epoch 55/100\n",
            "19/19 [==============================] - 20s 1s/step - loss: 0.0610 - accuracy: 0.8637 - fscore: 0.9355 - val_loss: 0.0669 - val_accuracy: 0.8490 - val_fscore: 0.9159\n",
            "Epoch 56/100\n",
            "19/19 [==============================] - 20s 1s/step - loss: 0.0609 - accuracy: 0.8649 - fscore: 0.9384 - val_loss: 0.0623 - val_accuracy: 0.8508 - val_fscore: 0.9246\n",
            "Epoch 57/100\n",
            "19/19 [==============================] - 20s 1s/step - loss: 0.0595 - accuracy: 0.8678 - fscore: 0.9402 - val_loss: 0.0624 - val_accuracy: 0.8510 - val_fscore: 0.9255\n",
            "Epoch 58/100\n",
            "19/19 [==============================] - 20s 1s/step - loss: 0.0621 - accuracy: 0.8726 - fscore: 0.9401 - val_loss: 0.0632 - val_accuracy: 0.8508 - val_fscore: 0.9243\n",
            "Epoch 59/100\n",
            "19/19 [==============================] - 20s 1s/step - loss: 0.0617 - accuracy: 0.8748 - fscore: 0.9374 - val_loss: 0.0602 - val_accuracy: 0.8517 - val_fscore: 0.9296\n",
            "Epoch 60/100\n",
            "19/19 [==============================] - 20s 1s/step - loss: 0.0573 - accuracy: 0.8630 - fscore: 0.9418 - val_loss: 0.0606 - val_accuracy: 0.8516 - val_fscore: 0.9286\n",
            "Epoch 61/100\n",
            "19/19 [==============================] - 20s 1s/step - loss: 0.0575 - accuracy: 0.8656 - fscore: 0.9368 - val_loss: 0.0627 - val_accuracy: 0.8507 - val_fscore: 0.9233\n",
            "Epoch 62/100\n",
            "19/19 [==============================] - 20s 1s/step - loss: 0.0605 - accuracy: 0.8652 - fscore: 0.9350 - val_loss: 0.0609 - val_accuracy: 0.8515 - val_fscore: 0.9273\n",
            "Epoch 63/100\n",
            "19/19 [==============================] - 20s 1s/step - loss: 0.0611 - accuracy: 0.8674 - fscore: 0.9378 - val_loss: 0.0593 - val_accuracy: 0.8524 - val_fscore: 0.9311\n",
            "Epoch 64/100\n",
            "19/19 [==============================] - 20s 1s/step - loss: 0.0571 - accuracy: 0.8650 - fscore: 0.9407 - val_loss: 0.0594 - val_accuracy: 0.8522 - val_fscore: 0.9307\n",
            "Epoch 65/100\n",
            "19/19 [==============================] - 20s 1s/step - loss: 0.0600 - accuracy: 0.8678 - fscore: 0.9338 - val_loss: 0.0599 - val_accuracy: 0.8523 - val_fscore: 0.9311\n",
            "Epoch 66/100\n",
            "19/19 [==============================] - 20s 1s/step - loss: 0.0621 - accuracy: 0.8637 - fscore: 0.9325 - val_loss: 0.0594 - val_accuracy: 0.8521 - val_fscore: 0.9308\n",
            "Epoch 67/100\n",
            "19/19 [==============================] - 20s 1s/step - loss: 0.0553 - accuracy: 0.8664 - fscore: 0.9450 - val_loss: 0.0592 - val_accuracy: 0.8522 - val_fscore: 0.9314\n",
            "Epoch 68/100\n",
            "19/19 [==============================] - 20s 1s/step - loss: 0.0592 - accuracy: 0.8692 - fscore: 0.9357 - val_loss: 0.0601 - val_accuracy: 0.8517 - val_fscore: 0.9282\n",
            "Epoch 69/100\n",
            "19/19 [==============================] - 20s 1s/step - loss: 0.0560 - accuracy: 0.8629 - fscore: 0.9367 - val_loss: 0.0590 - val_accuracy: 0.8521 - val_fscore: 0.9301\n",
            "Epoch 70/100\n",
            "19/19 [==============================] - 20s 1s/step - loss: 0.0582 - accuracy: 0.8721 - fscore: 0.9419 - val_loss: 0.0591 - val_accuracy: 0.8521 - val_fscore: 0.9301\n",
            "Epoch 71/100\n",
            "19/19 [==============================] - 20s 1s/step - loss: 0.0573 - accuracy: 0.8729 - fscore: 0.9444 - val_loss: 0.0596 - val_accuracy: 0.8518 - val_fscore: 0.9286\n",
            "Epoch 72/100\n",
            "19/19 [==============================] - 20s 1s/step - loss: 0.0570 - accuracy: 0.8702 - fscore: 0.9440 - val_loss: 0.0584 - val_accuracy: 0.8523 - val_fscore: 0.9316\n",
            "Epoch 73/100\n",
            "19/19 [==============================] - 20s 1s/step - loss: 0.0607 - accuracy: 0.8649 - fscore: 0.9301 - val_loss: 0.0590 - val_accuracy: 0.8519 - val_fscore: 0.9284\n",
            "Epoch 74/100\n",
            "19/19 [==============================] - 20s 1s/step - loss: 0.0586 - accuracy: 0.8695 - fscore: 0.9397 - val_loss: 0.0611 - val_accuracy: 0.8510 - val_fscore: 0.9242\n",
            "Epoch 75/100\n",
            "19/19 [==============================] - 20s 1s/step - loss: 0.0601 - accuracy: 0.8742 - fscore: 0.9410 - val_loss: 0.0606 - val_accuracy: 0.8512 - val_fscore: 0.9254\n",
            "Epoch 76/100\n",
            "19/19 [==============================] - 20s 1s/step - loss: 0.0598 - accuracy: 0.8717 - fscore: 0.9352 - val_loss: 0.0610 - val_accuracy: 0.8510 - val_fscore: 0.9240\n",
            "Epoch 77/100\n",
            "19/19 [==============================] - 20s 1s/step - loss: 0.0577 - accuracy: 0.8712 - fscore: 0.9373 - val_loss: 0.0615 - val_accuracy: 0.8507 - val_fscore: 0.9228\n",
            "Epoch 78/100\n",
            "19/19 [==============================] - 20s 1s/step - loss: 0.0570 - accuracy: 0.8719 - fscore: 0.9386 - val_loss: 0.0625 - val_accuracy: 0.8503 - val_fscore: 0.9206\n",
            "Epoch 79/100\n",
            "19/19 [==============================] - 20s 1s/step - loss: 0.0588 - accuracy: 0.8738 - fscore: 0.9311 - val_loss: 0.0632 - val_accuracy: 0.8500 - val_fscore: 0.9192\n",
            "Epoch 80/100\n",
            "19/19 [==============================] - 20s 1s/step - loss: 0.0583 - accuracy: 0.8669 - fscore: 0.9344 - val_loss: 0.0654 - val_accuracy: 0.8488 - val_fscore: 0.9143\n",
            "Epoch 81/100\n",
            "19/19 [==============================] - 20s 1s/step - loss: 0.0553 - accuracy: 0.8697 - fscore: 0.9402 - val_loss: 0.0650 - val_accuracy: 0.8491 - val_fscore: 0.9155\n",
            "Epoch 82/100\n",
            "19/19 [==============================] - 20s 1s/step - loss: 0.0573 - accuracy: 0.8741 - fscore: 0.9426 - val_loss: 0.0614 - val_accuracy: 0.8509 - val_fscore: 0.9231\n",
            "Epoch 83/100\n",
            "19/19 [==============================] - 20s 1s/step - loss: 0.0566 - accuracy: 0.8668 - fscore: 0.9414 - val_loss: 0.0615 - val_accuracy: 0.8510 - val_fscore: 0.9234\n",
            "Epoch 84/100\n",
            "19/19 [==============================] - 20s 1s/step - loss: 0.0555 - accuracy: 0.8687 - fscore: 0.9396 - val_loss: 0.0624 - val_accuracy: 0.8507 - val_fscore: 0.9221\n",
            "Epoch 85/100\n",
            "19/19 [==============================] - 20s 1s/step - loss: 0.0551 - accuracy: 0.8618 - fscore: 0.9378 - val_loss: 0.0609 - val_accuracy: 0.8512 - val_fscore: 0.9239\n",
            "Epoch 86/100\n",
            "19/19 [==============================] - 20s 1s/step - loss: 0.0553 - accuracy: 0.8671 - fscore: 0.9391 - val_loss: 0.0632 - val_accuracy: 0.8503 - val_fscore: 0.9197\n",
            "Epoch 87/100\n",
            "19/19 [==============================] - 20s 1s/step - loss: 0.0562 - accuracy: 0.8712 - fscore: 0.9436 - val_loss: 0.0628 - val_accuracy: 0.8503 - val_fscore: 0.9196\n",
            "Epoch 88/100\n",
            "19/19 [==============================] - 20s 1s/step - loss: 0.0569 - accuracy: 0.8610 - fscore: 0.9373 - val_loss: 0.0587 - val_accuracy: 0.8525 - val_fscore: 0.9290\n",
            "Epoch 89/100\n",
            "19/19 [==============================] - 20s 1s/step - loss: 0.0556 - accuracy: 0.8703 - fscore: 0.9403 - val_loss: 0.0587 - val_accuracy: 0.8522 - val_fscore: 0.9286\n",
            "Epoch 90/100\n",
            "19/19 [==============================] - 20s 1s/step - loss: 0.0616 - accuracy: 0.8590 - fscore: 0.9192 - val_loss: 0.0619 - val_accuracy: 0.8506 - val_fscore: 0.9216\n",
            "Epoch 91/100\n",
            "19/19 [==============================] - 20s 1s/step - loss: 0.0580 - accuracy: 0.8711 - fscore: 0.9353 - val_loss: 0.0631 - val_accuracy: 0.8500 - val_fscore: 0.9188\n",
            "Epoch 92/100\n",
            "19/19 [==============================] - 20s 1s/step - loss: 0.0587 - accuracy: 0.8781 - fscore: 0.9441 - val_loss: 0.0605 - val_accuracy: 0.8513 - val_fscore: 0.9242\n",
            "Epoch 00092: early stopping\n"
          ],
          "name": "stdout"
        }
      ]
    },
    {
      "cell_type": "code",
      "metadata": {
        "id": "_MopYC6X2rep",
        "colab": {
          "base_uri": "https://localhost:8080/"
        },
        "outputId": "333f0be6-df5a-4f7e-9eae-0cd0f1435f7c"
      },
      "source": [
        "results_OC = model_OC.fit(X_train_OC, y_train_OC, batch_size=32, epochs=100, callbacks=callbacks_OC,\\\n",
        "                    validation_data=(X_test_OC, y_test_OC))"
      ],
      "execution_count": null,
      "outputs": [
        {
          "output_type": "stream",
          "text": [
            "Epoch 1/100\n",
            "12/12 [==============================] - ETA: 0s - loss: 0.4925 - accuracy: 0.8253 - fscore: 0.4865"
          ],
          "name": "stdout"
        }
      ]
    },
    {
      "cell_type": "code",
      "metadata": {
        "id": "Mpw1UcF5t3al"
      },
      "source": [
        "metrics_OD.describe()"
      ],
      "execution_count": null,
      "outputs": []
    },
    {
      "cell_type": "code",
      "metadata": {
        "id": "FeQHtwENErTx"
      },
      "source": [
        "metrics_OC.describe()"
      ],
      "execution_count": null,
      "outputs": []
    },
    {
      "cell_type": "code",
      "metadata": {
        "id": "mGYe8hwQC0l0"
      },
      "source": [
        "histo(results_OD)"
      ],
      "execution_count": null,
      "outputs": []
    },
    {
      "cell_type": "code",
      "metadata": {
        "id": "1cT_EYmIE5gl"
      },
      "source": [
        "histo(results_OC)"
      ],
      "execution_count": null,
      "outputs": []
    },
    {
      "cell_type": "code",
      "metadata": {
        "id": "tRdeOviy7V4e"
      },
      "source": [
        "plt.figure(figsize=(14, 7))\n",
        "plt.title(\"Learning curve\")\n",
        "\n",
        "plt.subplot(231), \n",
        "plt.plot(results_OD.history[\"accuracy\"], label=\"accuracy\")\n",
        "plt.plot(results_OD.history[\"val_accuracy\"], label=\"val_acc\")\n",
        "plt.plot(np.argmin(results_OD.history[\"val_accuracy\"]), np.max(results_OD.history[\"val_accuracy\"]), marker=\"x\", color=\"r\", label=\"best model\")\n",
        "plt.xlabel(\"Epochs\")\n",
        "plt.ylabel(\"Accuracy\")\n",
        "plt.legend()\n",
        "plt.subplot(232), \n",
        "plt.plot(results_OD.history[\"f1_m\"], label=\"fscore\")\n",
        "plt.plot(results_OD.history[\"val_f1_m\"], label=\"val_fscore\")\n",
        "plt.plot( np.argmin(results_OD.history[\"val_f1_m\"]), np.max(results_OD.history[\"val_f1_m\"]), marker=\"x\", color=\"r\", label=\"best model\")\n",
        "plt.xlabel(\"Epochs\")\n",
        "plt.ylabel(\"Fscore\")\n",
        "plt.legend()\n",
        "plt.subplot(233),\n",
        "plt.plot(results_OD.history[\"loss\"], label=\"loss\")\n",
        "plt.plot(results_OD.history[\"val_loss\"], label=\"val_loss\")\n",
        "plt.plot( np.argmin(results_OD.history[\"val_loss\"]), np.min(results_OD.history[\"val_loss\"]), marker=\"x\", color=\"r\", label=\"best model\")\n",
        "plt.xlabel(\"Epochs\")\n",
        "plt.ylabel(\"log_loss\")\n",
        "plt.legend()\n",
        "\n",
        "plt.subplot(223), \n",
        "plt.plot(results_OC.history[\"f1_m\"], label=\"f1_m\")\n",
        "plt.plot(results_OC.history[\"val_f1_m\"], label=\"val_f1_m\")\n",
        "plt.plot( np.argmin(results_OC.history[\"val_f1_m\"]), np.min(results_OC.history[\"val_f1_m\"]), marker=\"x\", color=\"r\", label=\"best model\")\n",
        "plt.xlabel(\"Epochs\")\n",
        "plt.ylabel(\"Fscore\")\n",
        "plt.legend()\n",
        "plt.title(\"Learning curve\")\n",
        "plt.subplot(224),\n",
        "plt.plot(results_OC.history[\"loss\"], label=\"loss\")\n",
        "plt.plot(results_OC.history[\"val_loss\"], label=\"val_loss\")\n",
        "plt.plot( np.argmin(results_OC.history[\"val_loss\"]), np.min(results_OC.history[\"val_loss\"]), marker=\"x\", color=\"r\", label=\"best model\")\n",
        "plt.xlabel(\"Epochs\")\n",
        "plt.ylabel(\"log_loss\")\n",
        "plt.legend()\n"
      ],
      "execution_count": null,
      "outputs": []
    },
    {
      "cell_type": "code",
      "metadata": {
        "id": "Tmq3z55bBCbc"
      },
      "source": [
        "model_OD.save('/content/gdrive/My Drive/Drive Tugas Akhir/Kode/model OD semantic/')\n",
        "model_OC.save('/content/gdrive/My Drive/Drive Tugas Akhir/Kode/model OC semantic/')"
      ],
      "execution_count": null,
      "outputs": []
    },
    {
      "cell_type": "markdown",
      "metadata": {
        "id": "-K7uF0m3DM8H"
      },
      "source": [
        "# Inference"
      ]
    },
    {
      "cell_type": "code",
      "metadata": {
        "id": "pNhlz8CdtKwD"
      },
      "source": [
        "# load the best model\n",
        "model.load_weights('model-tgs-salt.h5')"
      ],
      "execution_count": null,
      "outputs": []
    },
    {
      "cell_type": "code",
      "metadata": {
        "id": "Yiy9It0j3iIk"
      },
      "source": [
        "model_OD.load_model('/content/gdrive/My Drive/Drive Tugas Akhir/Kode/model OD semantic/')\n",
        "model_OC.load_model('/content/gdrive/My Drive/Drive Tugas Akhir/Kode/model OC semantic/')"
      ],
      "execution_count": null,
      "outputs": []
    },
    {
      "cell_type": "code",
      "metadata": {
        "id": "Vnkg-7xAtKwE"
      },
      "source": [
        "# Evaluate on validation set (this must be equals to the best log_loss)\n",
        "model_OD.evaluate(X_test_OD, y_test_OD, verbose=1)\n",
        "model_OC.evaluate(X_test_OC, y_test_OC, verbose=1)"
      ],
      "execution_count": null,
      "outputs": []
    },
    {
      "cell_type": "code",
      "metadata": {
        "id": "8TExDD6AtKwE"
      },
      "source": [
        "# Predict on train, val and test\n",
        "preds_train_OD = model_OD.predict(X_train_OD, verbose=1)\n",
        "preds_val_OD = model_OD.predict(X_test_OD, verbose=1)\n",
        "preds_train_OC = model_OC.predict(X_train_OC, verbose=1)\n",
        "preds_val_OC = model_OC.predict(X_test_OC, verbose=1)"
      ],
      "execution_count": null,
      "outputs": []
    },
    {
      "cell_type": "code",
      "metadata": {
        "id": "sb8_268wtKwE"
      },
      "source": [
        "# Threshold predictions\n",
        "preds_train_t_OD = (preds_train_OD > 0.5).astype(np.uint8)\n",
        "preds_val_t_OD = (preds_val_OD > 0.5).astype(np.uint8)\n",
        "preds_train_t_OC = (preds_train_OC > 0.5).astype(np.uint8)\n",
        "preds_val_t_OC = (preds_val_OC > 0.5).astype(np.uint8)"
      ],
      "execution_count": null,
      "outputs": []
    },
    {
      "cell_type": "code",
      "metadata": {
        "id": "TfbllJBOtKwE"
      },
      "source": [
        "import scipy.ndimage\n",
        "import cv2\n",
        "def plot_sample(X, y, preds, binary_preds, ix=None):\n",
        "    \"\"\"Function to plot the results\"\"\"\n",
        "    if ix is None:\n",
        "        ix = random.randint(0, len(X))\n",
        "\n",
        "    has_mask = y[ix].max() > 0\n",
        "\n",
        "    fig, ax = plt.subplots(1, 5, figsize=(20, 10))\n",
        "    ax[0].imshow(X[ix, ..., 0], cmap='gray')\n",
        "    if has_mask:\n",
        "        ax[0].contour(y[ix].squeeze(), colors='k', levels=[0.5])\n",
        "    ax[0].set_title('Seismic')\n",
        "\n",
        "    ax[1].imshow(y[ix].squeeze(), cmap='gray')\n",
        "    ax[1].set_title('Salt')\n",
        "\n",
        "    ax[2].imshow(preds[ix].squeeze(), vmin=0, vmax=1)\n",
        "    if has_mask:\n",
        "        ax[2].contour(y[ix].squeeze(), colors='k', levels=[0.5])\n",
        "    ax[2].set_title('Salt Predicted')\n",
        "    \n",
        "    ax[3].imshow(binary_preds[ix].squeeze(), vmin=0, vmax=1)\n",
        "    if has_mask:\n",
        "        ax[3].contour(y[ix].squeeze(), colors='k', levels=[0.5])\n",
        "    ax[3].set_title('Salt Predicted binary');\n",
        "\n",
        "    resample = cv2.resize(binary_preds[ix].squeeze(), (550, 550), interpolation = cv2.INTER_CUBIC)\n",
        "    ax[4].imshow(resample)\n",
        "    ax[4].set_title('resampled')\n",
        "    print(resample.shape)"
      ],
      "execution_count": null,
      "outputs": []
    },
    {
      "cell_type": "markdown",
      "metadata": {
        "id": "wd79Qk2BDb2q"
      },
      "source": [
        "# Plot image"
      ]
    },
    {
      "cell_type": "code",
      "metadata": {
        "id": "eSbQLEzntKwF"
      },
      "source": [
        "# Check if training data looks all right\n",
        "plot_sample(X_train_OD, y_train_OD, preds_train_OD, preds_train_t_OD, ix=30)"
      ],
      "execution_count": null,
      "outputs": []
    },
    {
      "cell_type": "code",
      "metadata": {
        "id": "bmRgk9M6tKwF"
      },
      "source": [
        "plot_sample(X_train_OC, y_train_OC, preds_train_OC, preds_train_t_OC, ix=30)"
      ],
      "execution_count": null,
      "outputs": []
    },
    {
      "cell_type": "code",
      "metadata": {
        "id": "IKGSDdbltKwF"
      },
      "source": [
        "plot_sample(X_train_OD, y_train_OD, preds_train_OD, preds_train_t_OD, ix=1)"
      ],
      "execution_count": null,
      "outputs": []
    },
    {
      "cell_type": "code",
      "metadata": {
        "id": "X3m7nW4AMAUH"
      },
      "source": [
        "plot_sample(X_train_OC, y_train_OC, preds_train_OC, preds_train_t_OC, ix=1)"
      ],
      "execution_count": null,
      "outputs": []
    },
    {
      "cell_type": "markdown",
      "metadata": {
        "id": "JkkOxPnb0eYm"
      },
      "source": [
        "# Saving model"
      ]
    },
    {
      "cell_type": "code",
      "metadata": {
        "id": "bCdQf2aB3duL"
      },
      "source": [
        "model_OD.save('/content/gdrive/My Drive/Drive Tugas Akhir/Kode/model OD semantic/')\n",
        "model_OC.save('/content/gdrive/My Drive/Drive Tugas Akhir/Kode/model OC semantic/')"
      ],
      "execution_count": null,
      "outputs": []
    },
    {
      "cell_type": "markdown",
      "metadata": {
        "id": "4zBCoOZe58dK"
      },
      "source": [
        ""
      ]
    }
  ]
}