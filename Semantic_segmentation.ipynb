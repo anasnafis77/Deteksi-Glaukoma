{
  "nbformat": 4,
  "nbformat_minor": 0,
  "metadata": {
    "colab": {
      "name": "Semantic segmentation.ipynb",
      "provenance": [],
      "include_colab_link": true
    },
    "kernelspec": {
      "name": "python3",
      "display_name": "Python 3"
    },
    "language_info": {
      "name": "python"
    },
    "accelerator": "GPU",
    "widgets": {
      "application/vnd.jupyter.widget-state+json": {
        "c7b0ad4a4f744c2dbcaf7b639da4e8e6": {
          "model_module": "@jupyter-widgets/controls",
          "model_name": "HBoxModel",
          "state": {
            "_view_name": "HBoxView",
            "_dom_classes": [],
            "_model_name": "HBoxModel",
            "_view_module": "@jupyter-widgets/controls",
            "_model_module_version": "1.5.0",
            "_view_count": null,
            "_view_module_version": "1.5.0",
            "box_style": "",
            "layout": "IPY_MODEL_bf1531a87e534f0d8610662040c37e80",
            "_model_module": "@jupyter-widgets/controls",
            "children": [
              "IPY_MODEL_c543b789d6ba4b7596ddfb33079ec4f1",
              "IPY_MODEL_bbac5c5ecff945508e55dfda8b5bbb6f"
            ]
          }
        },
        "bf1531a87e534f0d8610662040c37e80": {
          "model_module": "@jupyter-widgets/base",
          "model_name": "LayoutModel",
          "state": {
            "_view_name": "LayoutView",
            "grid_template_rows": null,
            "right": null,
            "justify_content": null,
            "_view_module": "@jupyter-widgets/base",
            "overflow": null,
            "_model_module_version": "1.2.0",
            "_view_count": null,
            "flex_flow": null,
            "width": null,
            "min_width": null,
            "border": null,
            "align_items": null,
            "bottom": null,
            "_model_module": "@jupyter-widgets/base",
            "top": null,
            "grid_column": null,
            "overflow_y": null,
            "overflow_x": null,
            "grid_auto_flow": null,
            "grid_area": null,
            "grid_template_columns": null,
            "flex": null,
            "_model_name": "LayoutModel",
            "justify_items": null,
            "grid_row": null,
            "max_height": null,
            "align_content": null,
            "visibility": null,
            "align_self": null,
            "height": null,
            "min_height": null,
            "padding": null,
            "grid_auto_rows": null,
            "grid_gap": null,
            "max_width": null,
            "order": null,
            "_view_module_version": "1.2.0",
            "grid_template_areas": null,
            "object_position": null,
            "object_fit": null,
            "grid_auto_columns": null,
            "margin": null,
            "display": null,
            "left": null
          }
        },
        "c543b789d6ba4b7596ddfb33079ec4f1": {
          "model_module": "@jupyter-widgets/controls",
          "model_name": "FloatProgressModel",
          "state": {
            "_view_name": "ProgressView",
            "style": "IPY_MODEL_0e852777d1e6458c8a1a844e9f078fda",
            "_dom_classes": [],
            "description": "100%",
            "_model_name": "FloatProgressModel",
            "bar_style": "success",
            "max": 450,
            "_view_module": "@jupyter-widgets/controls",
            "_model_module_version": "1.5.0",
            "value": 450,
            "_view_count": null,
            "_view_module_version": "1.5.0",
            "orientation": "horizontal",
            "min": 0,
            "description_tooltip": null,
            "_model_module": "@jupyter-widgets/controls",
            "layout": "IPY_MODEL_1790cf4518104dccb63f4afe57604407"
          }
        },
        "bbac5c5ecff945508e55dfda8b5bbb6f": {
          "model_module": "@jupyter-widgets/controls",
          "model_name": "HTMLModel",
          "state": {
            "_view_name": "HTMLView",
            "style": "IPY_MODEL_570f31de451643a8bf9a14d8c9632b89",
            "_dom_classes": [],
            "description": "",
            "_model_name": "HTMLModel",
            "placeholder": "​",
            "_view_module": "@jupyter-widgets/controls",
            "_model_module_version": "1.5.0",
            "value": " 450/450 [10:36&lt;00:00,  1.42s/it]",
            "_view_count": null,
            "_view_module_version": "1.5.0",
            "description_tooltip": null,
            "_model_module": "@jupyter-widgets/controls",
            "layout": "IPY_MODEL_5a17326067ed4b059aa6588212e68dfe"
          }
        },
        "0e852777d1e6458c8a1a844e9f078fda": {
          "model_module": "@jupyter-widgets/controls",
          "model_name": "ProgressStyleModel",
          "state": {
            "_view_name": "StyleView",
            "_model_name": "ProgressStyleModel",
            "description_width": "initial",
            "_view_module": "@jupyter-widgets/base",
            "_model_module_version": "1.5.0",
            "_view_count": null,
            "_view_module_version": "1.2.0",
            "bar_color": null,
            "_model_module": "@jupyter-widgets/controls"
          }
        },
        "1790cf4518104dccb63f4afe57604407": {
          "model_module": "@jupyter-widgets/base",
          "model_name": "LayoutModel",
          "state": {
            "_view_name": "LayoutView",
            "grid_template_rows": null,
            "right": null,
            "justify_content": null,
            "_view_module": "@jupyter-widgets/base",
            "overflow": null,
            "_model_module_version": "1.2.0",
            "_view_count": null,
            "flex_flow": null,
            "width": null,
            "min_width": null,
            "border": null,
            "align_items": null,
            "bottom": null,
            "_model_module": "@jupyter-widgets/base",
            "top": null,
            "grid_column": null,
            "overflow_y": null,
            "overflow_x": null,
            "grid_auto_flow": null,
            "grid_area": null,
            "grid_template_columns": null,
            "flex": null,
            "_model_name": "LayoutModel",
            "justify_items": null,
            "grid_row": null,
            "max_height": null,
            "align_content": null,
            "visibility": null,
            "align_self": null,
            "height": null,
            "min_height": null,
            "padding": null,
            "grid_auto_rows": null,
            "grid_gap": null,
            "max_width": null,
            "order": null,
            "_view_module_version": "1.2.0",
            "grid_template_areas": null,
            "object_position": null,
            "object_fit": null,
            "grid_auto_columns": null,
            "margin": null,
            "display": null,
            "left": null
          }
        },
        "570f31de451643a8bf9a14d8c9632b89": {
          "model_module": "@jupyter-widgets/controls",
          "model_name": "DescriptionStyleModel",
          "state": {
            "_view_name": "StyleView",
            "_model_name": "DescriptionStyleModel",
            "description_width": "",
            "_view_module": "@jupyter-widgets/base",
            "_model_module_version": "1.5.0",
            "_view_count": null,
            "_view_module_version": "1.2.0",
            "_model_module": "@jupyter-widgets/controls"
          }
        },
        "5a17326067ed4b059aa6588212e68dfe": {
          "model_module": "@jupyter-widgets/base",
          "model_name": "LayoutModel",
          "state": {
            "_view_name": "LayoutView",
            "grid_template_rows": null,
            "right": null,
            "justify_content": null,
            "_view_module": "@jupyter-widgets/base",
            "overflow": null,
            "_model_module_version": "1.2.0",
            "_view_count": null,
            "flex_flow": null,
            "width": null,
            "min_width": null,
            "border": null,
            "align_items": null,
            "bottom": null,
            "_model_module": "@jupyter-widgets/base",
            "top": null,
            "grid_column": null,
            "overflow_y": null,
            "overflow_x": null,
            "grid_auto_flow": null,
            "grid_area": null,
            "grid_template_columns": null,
            "flex": null,
            "_model_name": "LayoutModel",
            "justify_items": null,
            "grid_row": null,
            "max_height": null,
            "align_content": null,
            "visibility": null,
            "align_self": null,
            "height": null,
            "min_height": null,
            "padding": null,
            "grid_auto_rows": null,
            "grid_gap": null,
            "max_width": null,
            "order": null,
            "_view_module_version": "1.2.0",
            "grid_template_areas": null,
            "object_position": null,
            "object_fit": null,
            "grid_auto_columns": null,
            "margin": null,
            "display": null,
            "left": null
          }
        }
      }
    }
  },
  "cells": [
    {
      "cell_type": "markdown",
      "metadata": {
        "id": "view-in-github",
        "colab_type": "text"
      },
      "source": [
        "<a href=\"https://colab.research.google.com/github/anasnafis77/Deteksi-Glaukoma/blob/main/Semantic_segmentation.ipynb\" target=\"_parent\"><img src=\"https://colab.research.google.com/assets/colab-badge.svg\" alt=\"Open In Colab\"/></a>"
      ]
    },
    {
      "cell_type": "code",
      "metadata": {
        "id": "pxjFeNlnmxqZ"
      },
      "source": [
        "import os\n",
        "import random\n",
        "import pandas as pd\n",
        "import numpy as np\n",
        "import matplotlib.pyplot as plt\n",
        "plt.style.use(\"ggplot\")\n",
        "%matplotlib inline\n",
        "\n",
        "from tqdm import tqdm_notebook, tnrange\n",
        "from itertools import chain\n",
        "from skimage.io import imread, imshow, concatenate_images\n",
        "from skimage.transform import resize\n",
        "from skimage.morphology import label\n",
        "from sklearn.model_selection import train_test_split\n",
        "\n",
        "import tensorflow as tf\n",
        "\n",
        "from keras.models import Model, load_model\n",
        "from keras.layers import Input, BatchNormalization, Activation, Dense, Dropout\n",
        "from keras.layers.core import Lambda, RepeatVector, Reshape\n",
        "from keras.layers.convolutional import Conv2D, Conv2DTranspose\n",
        "from keras.layers.pooling import MaxPooling2D, GlobalMaxPool2D\n",
        "from keras.layers.merge import concatenate, add\n",
        "from keras.callbacks import EarlyStopping, ModelCheckpoint, ReduceLROnPlateau\n",
        "from keras.optimizers import Adam\n",
        "from keras.preprocessing.image import ImageDataGenerator, array_to_img, img_to_array, load_img\n",
        "import cv2\n",
        "from google.colab import drive\n",
        "from keras import backend as K"
      ],
      "execution_count": 1,
      "outputs": []
    },
    {
      "cell_type": "code",
      "metadata": {
        "id": "Ldp-PGUmmLmB",
        "outputId": "eb88f90b-465f-43b5-c555-92d5f9a312b7",
        "colab": {
          "base_uri": "https://localhost:8080/"
        }
      },
      "source": [
        "drive.mount('/content/gdrive')"
      ],
      "execution_count": 3,
      "outputs": [
        {
          "output_type": "stream",
          "text": [
            "Mounted at /content/gdrive\n"
          ],
          "name": "stdout"
        }
      ]
    },
    {
      "cell_type": "code",
      "metadata": {
        "id": "3qvjBZNTmumf"
      },
      "source": [
        "df = pd.read_json('/content/gdrive/My Drive/Drive Tugas Akhir/Kode/dataframe.json')"
      ],
      "execution_count": 4,
      "outputs": []
    },
    {
      "cell_type": "code",
      "metadata": {
        "id": "MR2bPNh9Q8IX"
      },
      "source": [
        "def rectfromcenter(center, s, h, w):\n",
        "  x, y = center\n",
        "  x0 = round(x - 0.5*s)\n",
        "  x1 = round(x + 0.5*s)\n",
        "  y0 = round(y - 0.5*s)\n",
        "  y1 = round(y + 0.5*s)\n",
        "  dx = (x1 - x0) - s\n",
        "  dy = (y1 - y0) - s\n",
        "  # penanganan kasus out of image\n",
        "  if (x0 < 0):\n",
        "    x1 = x1 + (-x0)\n",
        "    x0 = 0\n",
        "    x1 -= dx\n",
        "  elif (x1 > w-1):\n",
        "    x0 = x0 - (x1-(w-1))\n",
        "    x1 = w-1\n",
        "    x0 += dx\n",
        "  else:\n",
        "    x0 += dx\n",
        "\n",
        "  if (y0 < 0):\n",
        "    y1 = y1 + (-y0)\n",
        "    y0 = 0\n",
        "    y1 -= dy\n",
        "  elif (y1 > h-1):\n",
        "    y0 = y0 - (y1-(h-1))\n",
        "    y1 = (h-1)\n",
        "    y0 += dy\n",
        "  else:\n",
        "    y0 += dy\n",
        "\n",
        "  return y0, y1, x0, x1"
      ],
      "execution_count": 5,
      "outputs": []
    },
    {
      "cell_type": "code",
      "metadata": {
        "id": "1xYPfU0IMynD"
      },
      "source": [
        "# Fungsi untuk mengekstrak ROI\n",
        "# input : list centroid, panjang sisi ROI (s), dan image \n",
        "# output : ROI image\n",
        "\n",
        "def ekstrakROI(centroid, s, img):\n",
        "  h, w = img.shape[:2]\n",
        " \n",
        "  y0, y1, x0, x1 = rectfromcenter(centroid, s, h, w)\n",
        "\n",
        "  #cropping ROI from source image\n",
        "  ROI = img[y0:y1, x0:x1]\n",
        "  koordinat = (y0, y1, x0, x1)\n",
        "\n",
        "  return ROI, koordinat"
      ],
      "execution_count": 6,
      "outputs": []
    },
    {
      "cell_type": "code",
      "metadata": {
        "id": "nL-1JlKlY_nt"
      },
      "source": [
        "def recall_m(y_true, y_pred):\n",
        "    true_positives = K.sum(K.round(K.clip(y_true * y_pred, 0, 1)))\n",
        "    possible_positives = K.sum(K.round(K.clip(y_true, 0, 1)))\n",
        "    recall = true_positives / (possible_positives + K.epsilon())\n",
        "    return recall\n",
        "\n",
        "def precision_m(y_true, y_pred):\n",
        "    true_positives = K.sum(K.round(K.clip(y_true * y_pred, 0, 1)))\n",
        "    predicted_positives = K.sum(K.round(K.clip(y_pred, 0, 1)))\n",
        "    precision = true_positives / (predicted_positives + K.epsilon())\n",
        "    return precision\n",
        "\n",
        "def f1_m(y_true, y_pred):\n",
        "    precision = precision_m(y_true, y_pred)\n",
        "    recall = recall_m(y_true, y_pred)\n",
        "    return 2*((precision*recall)/(precision+recall+K.epsilon()))"
      ],
      "execution_count": 7,
      "outputs": []
    },
    {
      "cell_type": "code",
      "metadata": {
        "id": "EQOpKmxfnNuM"
      },
      "source": [
        "def conv2d_block(input_tensor, n_filters, kernel_size = 3, batchnorm = True):\n",
        "    \"\"\"Function to add 2 convolutional layers with the parameters passed to it\"\"\"\n",
        "    # first layer\n",
        "    x = Conv2D(filters = n_filters, kernel_size = (kernel_size, kernel_size),\\\n",
        "              kernel_initializer = 'he_normal', padding = 'same')(input_tensor)\n",
        "    if batchnorm:\n",
        "        x = BatchNormalization()(x)\n",
        "    x = Activation('relu')(x)\n",
        "    \n",
        "    # second layer\n",
        "    x = Conv2D(filters = n_filters, kernel_size = (kernel_size, kernel_size),\\\n",
        "              kernel_initializer = 'he_normal', padding = 'same')(input_tensor)\n",
        "    if batchnorm:\n",
        "        x = BatchNormalization()(x)\n",
        "    x = Activation('relu')(x)\n",
        "    \n",
        "    return x\n",
        "  \n",
        "def get_unet(input_img, n_filters = 16, dropout = 0.1, batchnorm = True):\n",
        "    # Contracting Path\n",
        "    c1 = conv2d_block(input_img, n_filters * 1, kernel_size = 3, batchnorm = batchnorm)\n",
        "    p1 = MaxPooling2D((2, 2))(c1)\n",
        "    p1 = Dropout(dropout)(p1)\n",
        "    \n",
        "    c2 = conv2d_block(p1, n_filters * 2, kernel_size = 3, batchnorm = batchnorm)\n",
        "    p2 = MaxPooling2D((2, 2))(c2)\n",
        "    p2 = Dropout(dropout)(p2)\n",
        "    \n",
        "    c3 = conv2d_block(p2, n_filters * 4, kernel_size = 3, batchnorm = batchnorm)\n",
        "    p3 = MaxPooling2D((2, 2))(c3)\n",
        "    p3 = Dropout(dropout)(p3)\n",
        "    \n",
        "    c4 = conv2d_block(p3, n_filters * 8, kernel_size = 3, batchnorm = batchnorm)\n",
        "    p4 = MaxPooling2D((2, 2))(c4)\n",
        "    p4 = Dropout(dropout)(p4)\n",
        "    \n",
        "    c5 = conv2d_block(p4, n_filters = n_filters * 16, kernel_size = 3, batchnorm = batchnorm)\n",
        "    \n",
        "    # Expansive Path\n",
        "    u6 = Conv2DTranspose(n_filters * 8, (3, 3), strides = (2, 2), padding = 'same')(c5)\n",
        "    u6 = concatenate([u6, c4])\n",
        "    u6 = Dropout(dropout)(u6)\n",
        "    c6 = conv2d_block(u6, n_filters * 8, kernel_size = 3, batchnorm = batchnorm)\n",
        "    \n",
        "    u7 = Conv2DTranspose(n_filters * 4, (3, 3), strides = (2, 2), padding = 'same')(c6)\n",
        "    u7 = concatenate([u7, c3])\n",
        "    u7 = Dropout(dropout)(u7)\n",
        "    c7 = conv2d_block(u7, n_filters * 4, kernel_size = 3, batchnorm = batchnorm)\n",
        "    \n",
        "    u8 = Conv2DTranspose(n_filters * 2, (3, 3), strides = (2, 2), padding = 'same')(c7)\n",
        "    u8 = concatenate([u8, c2])\n",
        "    u8 = Dropout(dropout)(u8)\n",
        "    c8 = conv2d_block(u8, n_filters * 2, kernel_size = 3, batchnorm = batchnorm)\n",
        "    \n",
        "    u9 = Conv2DTranspose(n_filters * 1, (3, 3), strides = (2, 2), padding = 'same')(c8)\n",
        "    u9 = concatenate([u9, c1])\n",
        "    u9 = Dropout(dropout)(u9)\n",
        "    c9 = conv2d_block(u9, n_filters * 1, kernel_size = 3, batchnorm = batchnorm)\n",
        "    \n",
        "    outputs = Conv2D(1, (1, 1), activation='sigmoid')(c9)\n",
        "    model = Model(inputs=[input_img], outputs=[outputs])\n",
        "    return model"
      ],
      "execution_count": 8,
      "outputs": []
    },
    {
      "cell_type": "code",
      "metadata": {
        "id": "CPsUk_kRo-kT",
        "outputId": "74edf68e-7a59-48d6-e71c-982607d7ebec",
        "colab": {
          "base_uri": "https://localhost:8080/",
          "height": 116,
          "referenced_widgets": [
            "c7b0ad4a4f744c2dbcaf7b639da4e8e6",
            "bf1531a87e534f0d8610662040c37e80",
            "c543b789d6ba4b7596ddfb33079ec4f1",
            "bbac5c5ecff945508e55dfda8b5bbb6f",
            "0e852777d1e6458c8a1a844e9f078fda",
            "1790cf4518104dccb63f4afe57604407",
            "570f31de451643a8bf9a14d8c9632b89",
            "5a17326067ed4b059aa6588212e68dfe"
          ]
        }
      },
      "source": [
        "X = []\n",
        "y_OD = []\n",
        "y_OC = []\n",
        "dataset = []\n",
        "clahe = cv2.createCLAHE(clipLimit=2.0, tileGridSize=(8,8))\n",
        "shapes = []\n",
        "for i in tqdm_notebook(range(0, len(df))):  \n",
        "  center = df['disc_center'][i]\n",
        "  img = cv2.imread(df['path'][i], 1)[:,:,1]\n",
        "  img = clahe.apply(img)\n",
        "  gt_OD = cv2.imread(df['path_OD_png'][i], 0)\n",
        "  gt_OC = cv2.imread(df['path_OC_png'][i], 0)\n",
        "\n",
        "  img,_ = ekstrakROI(center, 550, img)\n",
        "  shapes.append(img.shape)\n",
        "  gt_OD,_ = ekstrakROI(center, 550, gt_OD)\n",
        "  gt_OC,_ = ekstrakROI(center, 550, gt_OC)\n",
        "  img = resize(img, (256, 256, 1), mode = 'constant', preserve_range = True)\n",
        "  gt_OD = resize(gt_OD, (256, 256, 1), mode = 'constant', preserve_range = True)\n",
        "  gt_OC = resize(gt_OC, (256, 256, 1), mode = 'constant', preserve_range = True)\n",
        "  X.append(img/255.0)\n",
        "  y_OD.append(gt_OD/255.0)\n",
        "  y_OC.append(gt_OC/255.0)"
      ],
      "execution_count": 9,
      "outputs": [
        {
          "output_type": "stream",
          "text": [
            "/usr/local/lib/python3.7/dist-packages/ipykernel_launcher.py:7: TqdmDeprecationWarning: This function will be removed in tqdm==5.0.0\n",
            "Please use `tqdm.notebook.tqdm` instead of `tqdm.tqdm_notebook`\n",
            "  import sys\n"
          ],
          "name": "stderr"
        },
        {
          "output_type": "display_data",
          "data": {
            "application/vnd.jupyter.widget-view+json": {
              "model_id": "c7b0ad4a4f744c2dbcaf7b639da4e8e6",
              "version_minor": 0,
              "version_major": 2
            },
            "text/plain": [
              "HBox(children=(FloatProgress(value=0.0, max=450.0), HTML(value='')))"
            ]
          },
          "metadata": {
            "tags": []
          }
        },
        {
          "output_type": "stream",
          "text": [
            "\n"
          ],
          "name": "stdout"
        }
      ]
    },
    {
      "cell_type": "code",
      "metadata": {
        "id": "lTAZHziB5Eyh"
      },
      "source": [
        "X = np.array(X)\n",
        "y_OD = np.array(y_OD)\n",
        "y_OC = np.array(y_OC)"
      ],
      "execution_count": 10,
      "outputs": []
    },
    {
      "cell_type": "code",
      "metadata": {
        "id": "Jnbo3GH0qOgT"
      },
      "source": [
        "X_train_OD, X_test_OD, y_train_OD, y_test_OD = train_test_split(X, y_OD, \n",
        "                                                                test_size=0.2, \n",
        "                                                                random_state = 4)\n",
        "X_train_OC, X_test_OC, y_train_OC, y_test_OC = train_test_split(X, y_OC, \n",
        "                                                                test_size=0.2, \n",
        "                                                                random_state = 4)"
      ],
      "execution_count": null,
      "outputs": []
    },
    {
      "cell_type": "code",
      "metadata": {
        "id": "8wc6YWO2vI21"
      },
      "source": [
        "input_img = Input((256,256, 1), name='img')"
      ],
      "execution_count": 11,
      "outputs": []
    },
    {
      "cell_type": "code",
      "metadata": {
        "id": "XBLXRipOE2oc"
      },
      "source": [
        "def k_fold_cross(X, y, k, test_size=0.2):\n",
        "  X_drishti = X[:50]\n",
        "  X_refuge = X[50:]\n",
        "  y_drishti = X[:50]\n",
        "  y_refuge = X[50:]\n",
        "  random.Random(4).shuffle(X_drishti)\n",
        "  random.Random(4).shuffle(y_drishti)\n",
        "  random.Random(4).shuffle(X_refuge)\n",
        "  random.Random(4).shuffle(y_refuge)\n",
        "  ix_test =[]\n",
        "  ix_train = []\n",
        "  dataset=[]\n",
        "  for i in range(k):\n",
        "    ix_test_dris = list(range(i*10, (i+1)*10))\n",
        "    ix_test_ref = list(range(i*80, (i+1)*80))\n",
        "    ix_train_dris = list(range(0, i*10)) + list(range((i+1)*10, 50))\n",
        "    ix_train_ref = list(range(0, i*80)) + list(range((i+1)*80, 400))\n",
        "    X_test = np.concatenate((X_drishti[ix_test_dris], X_refuge[ix_test_ref]))\n",
        "    X_train = np.concatenate((X_drishti[ix_train_dris], X_refuge[ix_train_ref]))\n",
        "    y_test = np.concatenate((y_drishti[ix_test_dris], y_refuge[ix_test_ref]))\n",
        "    y_train = np.concatenate((y_drishti[ix_train_dris], y_refuge[ix_train_ref]))\n",
        "    dataset.append([X_train, X_test, y_train, y_test])\n",
        "    ix_test.append(ix_test_dris)\n",
        "    ix_train.append(ix_train_dris)\n",
        "\n",
        "  intersect=0\n",
        "  for i in range(k):\n",
        "    testing = list(range(k))\n",
        "    testing.pop(i)\n",
        "\n",
        "    for j in testing:\n",
        "      tes = list(set(ix_test[i]) & set(ix_test[j]))\n",
        "      if len(tes)>0:\n",
        "        intersect+=1\n",
        "\n",
        "  if intersect==0:\n",
        "    print('There is no intersect in dataset')\n",
        "  elif intersect>0:\n",
        "    print('there is {} intersect in testing dataset'.format(intersect))\n",
        "    \n",
        "  \n",
        "  return dataset"
      ],
      "execution_count": 12,
      "outputs": []
    },
    {
      "cell_type": "code",
      "metadata": {
        "id": "UDK_W8wJ4C3T",
        "outputId": "0166cd06-d6e5-403b-f5d3-dea5330420b6",
        "colab": {
          "base_uri": "https://localhost:8080/"
        }
      },
      "source": [
        "dataset_OD = k_fold_cross(X, y_OD, k=5)\n",
        "dataset_OC = k_fold_cross(X, y_OC, k=5)"
      ],
      "execution_count": 13,
      "outputs": [
        {
          "output_type": "stream",
          "text": [
            "There is no intersect in dataset\n",
            "There is no intersect in dataset\n"
          ],
          "name": "stdout"
        }
      ]
    },
    {
      "cell_type": "code",
      "metadata": {
        "id": "nZiEHJHAvOJk"
      },
      "source": [
        "callbacks_OD = [\n",
        "    EarlyStopping(patience=10, verbose=1),\n",
        "    ReduceLROnPlateau(factor=0.1, patience=5, min_lr=0.00001, verbose=0)\n",
        "    #ModelCheckpoint('model-OD.h5', verbose=1, save_best_only=True, save_weights_only=True)\n",
        "]\n",
        "callbacks_OC = [\n",
        "    EarlyStopping(patience=10, verbose=1),\n",
        "    ReduceLROnPlateau(factor=0.1, patience=5, min_lr=0.00001, verbose=0)\n",
        "    #ModelCheckpoint('model-OC.h5', verbose=1, save_best_only=True, save_weights_only=True)\n",
        "]"
      ],
      "execution_count": 14,
      "outputs": []
    },
    {
      "cell_type": "code",
      "metadata": {
        "id": "Q4-3Yw5YMV86"
      },
      "source": [
        "def cross_validation(datasets, callbacks):\n",
        "  results = []\n",
        "  \n",
        "  for i, dataset in enumerate(datasets):\n",
        "    X_train, X_test, y_train, y_test = dataset\n",
        "    model= get_unet(input_img, n_filters = 64, dropout = 0.1, batchnorm = True)\n",
        "    model.compile(optimizer=Adam(), loss=\"binary_crossentropy\", metrics=['accuracy', f1_m])\n",
        "    print('evaluate fold ', i+1)\n",
        "    result = model.fit(X_train, y_train, batch_size=32, epochs=100, callbacks=callbacks,\\\n",
        "                    validation_data=(X_test, y_test), verbose=0)\n",
        "    \n",
        "    results.append(result)\n",
        "  \n",
        "  print('evaluate model done')\n",
        "  return results\n"
      ],
      "execution_count": 20,
      "outputs": []
    },
    {
      "cell_type": "code",
      "metadata": {
        "id": "P77T2IkDg02F",
        "outputId": "f5fc659c-4e67-4798-e1d9-30384507ffbc",
        "colab": {
          "base_uri": "https://localhost:8080/"
        }
      },
      "source": [
        "results_OD = cross_validation(dataset_OD, callbacks_OD)\n",
        "results_OC = cross_validation(dataset_OC, callbacks_OC)"
      ],
      "execution_count": null,
      "outputs": [
        {
          "output_type": "stream",
          "text": [
            "evaluate fold  1\n"
          ],
          "name": "stdout"
        }
      ]
    },
    {
      "cell_type": "code",
      "metadata": {
        "id": "YfWosLL9oOU5"
      },
      "source": [
        "model_OD = get_unet(input_img, n_filters = 64, dropout = 0.1, batchnorm = True)\n",
        "model_OD.compile(optimizer=Adam(), loss=\"binary_crossentropy\", metrics=['accuracy', f1_m])\n",
        "\n",
        "model_OC = get_unet(input_img, n_filters = 64, dropout = 0.1, batchnorm = True)\n",
        "model_OC.compile(optimizer=Adam(), loss=\"binary_crossentropy\", metrics=['accuracy', f1_m])"
      ],
      "execution_count": null,
      "outputs": []
    },
    {
      "cell_type": "code",
      "metadata": {
        "id": "7r3b0GvUBjn1"
      },
      "source": [
        "model_OD.summary()"
      ],
      "execution_count": null,
      "outputs": []
    },
    {
      "cell_type": "code",
      "metadata": {
        "id": "N6fzH1Joqye3"
      },
      "source": [
        "results_OD = model_OD.fit(X_train_OD, y_train_OD, batch_size=32, epochs=100, callbacks=callbacks_OD,\\\n",
        "                    validation_data=(X_test_OD, y_test_OD))"
      ],
      "execution_count": null,
      "outputs": []
    },
    {
      "cell_type": "code",
      "metadata": {
        "id": "_MopYC6X2rep"
      },
      "source": [
        "results_OC = model_OC.fit(X_train_OC, y_train_OC, batch_size=32, epochs=100, callbacks=callbacks_OC,\\\n",
        "                    validation_data=(X_test_OC, y_test_OC))"
      ],
      "execution_count": null,
      "outputs": []
    },
    {
      "cell_type": "code",
      "metadata": {
        "id": "tRdeOviy7V4e"
      },
      "source": [
        "plt.figure(figsize=(14, 7))\n",
        "plt.title(\"Learning curve\")\n",
        "\n",
        "plt.subplot(231), \n",
        "plt.plot(results_OD.history[\"accuracy\"], label=\"accuracy\")\n",
        "plt.plot(results_OD.history[\"val_accuracy\"], label=\"val_acc\")\n",
        "plt.plot(np.argmin(results_OD.history[\"val_accuracy\"]), np.max(results_OD.history[\"val_accuracy\"]), marker=\"x\", color=\"r\", label=\"best model\")\n",
        "plt.xlabel(\"Epochs\")\n",
        "plt.ylabel(\"Accuracy\")\n",
        "plt.legend()\n",
        "plt.subplot(232), \n",
        "plt.plot(results_OD.history[\"f1_m\"], label=\"fscore\")\n",
        "plt.plot(results_OD.history[\"val_f1_m\"], label=\"val_fscore\")\n",
        "plt.plot( np.argmin(results_OD.history[\"val_f1_m\"]), np.max(results_OD.history[\"val_f1_m\"]), marker=\"x\", color=\"r\", label=\"best model\")\n",
        "plt.xlabel(\"Epochs\")\n",
        "plt.ylabel(\"Fscore\")\n",
        "plt.legend()\n",
        "plt.subplot(233),\n",
        "plt.plot(results_OD.history[\"loss\"], label=\"loss\")\n",
        "plt.plot(results_OD.history[\"val_loss\"], label=\"val_loss\")\n",
        "plt.plot( np.argmin(results_OD.history[\"val_loss\"]), np.min(results_OD.history[\"val_loss\"]), marker=\"x\", color=\"r\", label=\"best model\")\n",
        "plt.xlabel(\"Epochs\")\n",
        "plt.ylabel(\"log_loss\")\n",
        "plt.legend()\n",
        "\n",
        "plt.subplot(223), \n",
        "plt.plot(results_OC.history[\"f1_m\"], label=\"f1_m\")\n",
        "plt.plot(results_OC.history[\"val_f1_m\"], label=\"val_f1_m\")\n",
        "plt.plot( np.argmin(results_OC.history[\"val_f1_m\"]), np.min(results_OC.history[\"val_f1_m\"]), marker=\"x\", color=\"r\", label=\"best model\")\n",
        "plt.xlabel(\"Epochs\")\n",
        "plt.ylabel(\"Fscore\")\n",
        "plt.legend()\n",
        "plt.title(\"Learning curve\")\n",
        "plt.subplot(224),\n",
        "plt.plot(results_OC.history[\"loss\"], label=\"loss\")\n",
        "plt.plot(results_OC.history[\"val_loss\"], label=\"val_loss\")\n",
        "plt.plot( np.argmin(results_OC.history[\"val_loss\"]), np.min(results_OC.history[\"val_loss\"]), marker=\"x\", color=\"r\", label=\"best model\")\n",
        "plt.xlabel(\"Epochs\")\n",
        "plt.ylabel(\"log_loss\")\n",
        "plt.legend()\n"
      ],
      "execution_count": null,
      "outputs": []
    },
    {
      "cell_type": "code",
      "metadata": {
        "id": "Tmq3z55bBCbc"
      },
      "source": [
        "model_OD.save('/content/gdrive/My Drive/Drive Tugas Akhir/Kode/model OD semantic/')\n",
        "model_OC.save('/content/gdrive/My Drive/Drive Tugas Akhir/Kode/model OC semantic/')"
      ],
      "execution_count": null,
      "outputs": []
    },
    {
      "cell_type": "markdown",
      "metadata": {
        "id": "-K7uF0m3DM8H"
      },
      "source": [
        "# Inference"
      ]
    },
    {
      "cell_type": "code",
      "metadata": {
        "id": "pNhlz8CdtKwD"
      },
      "source": [
        "# load the best model\n",
        "model.load_weights('model-tgs-salt.h5')"
      ],
      "execution_count": null,
      "outputs": []
    },
    {
      "cell_type": "code",
      "metadata": {
        "id": "Yiy9It0j3iIk"
      },
      "source": [
        "model_OD.load_model('/content/gdrive/My Drive/Drive Tugas Akhir/Kode/model OD semantic/')\n",
        "model_OC.load_model('/content/gdrive/My Drive/Drive Tugas Akhir/Kode/model OC semantic/')"
      ],
      "execution_count": null,
      "outputs": []
    },
    {
      "cell_type": "code",
      "metadata": {
        "id": "Vnkg-7xAtKwE"
      },
      "source": [
        "# Evaluate on validation set (this must be equals to the best log_loss)\n",
        "model_OD.evaluate(X_test_OD, y_test_OD, verbose=1)\n",
        "model_OC.evaluate(X_test_OC, y_test_OC, verbose=1)"
      ],
      "execution_count": null,
      "outputs": []
    },
    {
      "cell_type": "code",
      "metadata": {
        "id": "8TExDD6AtKwE"
      },
      "source": [
        "# Predict on train, val and test\n",
        "preds_train_OD = model_OD.predict(X_train_OD, verbose=1)\n",
        "preds_val_OD = model_OD.predict(X_test_OD, verbose=1)\n",
        "preds_train_OC = model_OC.predict(X_train_OC, verbose=1)\n",
        "preds_val_OC = model_OC.predict(X_test_OC, verbose=1)"
      ],
      "execution_count": null,
      "outputs": []
    },
    {
      "cell_type": "code",
      "metadata": {
        "id": "sb8_268wtKwE"
      },
      "source": [
        "# Threshold predictions\n",
        "preds_train_t_OD = (preds_train_OD > 0.5).astype(np.uint8)\n",
        "preds_val_t_OD = (preds_val_OD > 0.5).astype(np.uint8)\n",
        "preds_train_t_OC = (preds_train_OC > 0.5).astype(np.uint8)\n",
        "preds_val_t_OC = (preds_val_OC > 0.5).astype(np.uint8)"
      ],
      "execution_count": null,
      "outputs": []
    },
    {
      "cell_type": "code",
      "metadata": {
        "id": "TfbllJBOtKwE"
      },
      "source": [
        "import scipy.ndimage\n",
        "import cv2\n",
        "def plot_sample(X, y, preds, binary_preds, ix=None):\n",
        "    \"\"\"Function to plot the results\"\"\"\n",
        "    if ix is None:\n",
        "        ix = random.randint(0, len(X))\n",
        "\n",
        "    has_mask = y[ix].max() > 0\n",
        "\n",
        "    fig, ax = plt.subplots(1, 5, figsize=(20, 10))\n",
        "    ax[0].imshow(X[ix, ..., 0], cmap='gray')\n",
        "    if has_mask:\n",
        "        ax[0].contour(y[ix].squeeze(), colors='k', levels=[0.5])\n",
        "    ax[0].set_title('Seismic')\n",
        "\n",
        "    ax[1].imshow(y[ix].squeeze(), cmap='gray')\n",
        "    ax[1].set_title('Salt')\n",
        "\n",
        "    ax[2].imshow(preds[ix].squeeze(), vmin=0, vmax=1)\n",
        "    if has_mask:\n",
        "        ax[2].contour(y[ix].squeeze(), colors='k', levels=[0.5])\n",
        "    ax[2].set_title('Salt Predicted')\n",
        "    \n",
        "    ax[3].imshow(binary_preds[ix].squeeze(), vmin=0, vmax=1)\n",
        "    if has_mask:\n",
        "        ax[3].contour(y[ix].squeeze(), colors='k', levels=[0.5])\n",
        "    ax[3].set_title('Salt Predicted binary');\n",
        "\n",
        "    resample = cv2.resize(binary_preds[ix].squeeze(), (550, 550), interpolation = cv2.INTER_CUBIC)\n",
        "    ax[4].imshow(resample)\n",
        "    ax[4].set_title('resampled')\n",
        "    print(resample.shape)"
      ],
      "execution_count": null,
      "outputs": []
    },
    {
      "cell_type": "markdown",
      "metadata": {
        "id": "wd79Qk2BDb2q"
      },
      "source": [
        "# Plot image"
      ]
    },
    {
      "cell_type": "code",
      "metadata": {
        "id": "eSbQLEzntKwF"
      },
      "source": [
        "# Check if training data looks all right\n",
        "plot_sample(X_train_OD, y_train_OD, preds_train_OD, preds_train_t_OD, ix=30)"
      ],
      "execution_count": null,
      "outputs": []
    },
    {
      "cell_type": "code",
      "metadata": {
        "id": "bmRgk9M6tKwF"
      },
      "source": [
        "plot_sample(X_train_OC, y_train_OC, preds_train_OC, preds_train_t_OC, ix=30)"
      ],
      "execution_count": null,
      "outputs": []
    },
    {
      "cell_type": "code",
      "metadata": {
        "id": "IKGSDdbltKwF"
      },
      "source": [
        "plot_sample(X_train_OD, y_train_OD, preds_train_OD, preds_train_t_OD, ix=1)"
      ],
      "execution_count": null,
      "outputs": []
    },
    {
      "cell_type": "code",
      "metadata": {
        "id": "X3m7nW4AMAUH"
      },
      "source": [
        "plot_sample(X_train_OC, y_train_OC, preds_train_OC, preds_train_t_OC, ix=1)"
      ],
      "execution_count": null,
      "outputs": []
    },
    {
      "cell_type": "markdown",
      "metadata": {
        "id": "JkkOxPnb0eYm"
      },
      "source": [
        "# Saving model"
      ]
    },
    {
      "cell_type": "code",
      "metadata": {
        "id": "bCdQf2aB3duL"
      },
      "source": [
        "model_OD.save('/content/gdrive/My Drive/Drive Tugas Akhir/Kode/model OD semantic/')\n",
        "model_OC.save('/content/gdrive/My Drive/Drive Tugas Akhir/Kode/model OC semantic/')"
      ],
      "execution_count": null,
      "outputs": []
    },
    {
      "cell_type": "markdown",
      "metadata": {
        "id": "4zBCoOZe58dK"
      },
      "source": [
        ""
      ]
    }
  ]
}