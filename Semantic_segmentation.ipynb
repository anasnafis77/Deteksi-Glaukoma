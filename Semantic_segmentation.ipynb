{
  "nbformat": 4,
  "nbformat_minor": 0,
  "metadata": {
    "colab": {
      "name": "Semantic segmentation.ipynb",
      "provenance": [],
      "include_colab_link": true
    },
    "kernelspec": {
      "name": "python3",
      "display_name": "Python 3"
    },
    "language_info": {
      "name": "python"
    },
    "widgets": {
      "application/vnd.jupyter.widget-state+json": {
        "d4f5687cef4d42099a12d40c67048d52": {
          "model_module": "@jupyter-widgets/controls",
          "model_name": "HBoxModel",
          "state": {
            "_view_name": "HBoxView",
            "_dom_classes": [],
            "_model_name": "HBoxModel",
            "_view_module": "@jupyter-widgets/controls",
            "_model_module_version": "1.5.0",
            "_view_count": null,
            "_view_module_version": "1.5.0",
            "box_style": "",
            "layout": "IPY_MODEL_7d877d7cebc5491c9c20384eaeafffc8",
            "_model_module": "@jupyter-widgets/controls",
            "children": [
              "IPY_MODEL_051e8b306f484b43bb4441af300b7836",
              "IPY_MODEL_17d3070a03114c2ba6a5f1c9fc1f38bd"
            ]
          }
        },
        "7d877d7cebc5491c9c20384eaeafffc8": {
          "model_module": "@jupyter-widgets/base",
          "model_name": "LayoutModel",
          "state": {
            "_view_name": "LayoutView",
            "grid_template_rows": null,
            "right": null,
            "justify_content": null,
            "_view_module": "@jupyter-widgets/base",
            "overflow": null,
            "_model_module_version": "1.2.0",
            "_view_count": null,
            "flex_flow": null,
            "width": null,
            "min_width": null,
            "border": null,
            "align_items": null,
            "bottom": null,
            "_model_module": "@jupyter-widgets/base",
            "top": null,
            "grid_column": null,
            "overflow_y": null,
            "overflow_x": null,
            "grid_auto_flow": null,
            "grid_area": null,
            "grid_template_columns": null,
            "flex": null,
            "_model_name": "LayoutModel",
            "justify_items": null,
            "grid_row": null,
            "max_height": null,
            "align_content": null,
            "visibility": null,
            "align_self": null,
            "height": null,
            "min_height": null,
            "padding": null,
            "grid_auto_rows": null,
            "grid_gap": null,
            "max_width": null,
            "order": null,
            "_view_module_version": "1.2.0",
            "grid_template_areas": null,
            "object_position": null,
            "object_fit": null,
            "grid_auto_columns": null,
            "margin": null,
            "display": null,
            "left": null
          }
        },
        "051e8b306f484b43bb4441af300b7836": {
          "model_module": "@jupyter-widgets/controls",
          "model_name": "FloatProgressModel",
          "state": {
            "_view_name": "ProgressView",
            "style": "IPY_MODEL_58184361254b40be89ac3dfe06aeb929",
            "_dom_classes": [],
            "description": "100%",
            "_model_name": "FloatProgressModel",
            "bar_style": "success",
            "max": 450,
            "_view_module": "@jupyter-widgets/controls",
            "_model_module_version": "1.5.0",
            "value": 450,
            "_view_count": null,
            "_view_module_version": "1.5.0",
            "orientation": "horizontal",
            "min": 0,
            "description_tooltip": null,
            "_model_module": "@jupyter-widgets/controls",
            "layout": "IPY_MODEL_99201cce04264c2f87b030019ef57d68"
          }
        },
        "17d3070a03114c2ba6a5f1c9fc1f38bd": {
          "model_module": "@jupyter-widgets/controls",
          "model_name": "HTMLModel",
          "state": {
            "_view_name": "HTMLView",
            "style": "IPY_MODEL_14aabeb35f5e4c7584f765c8d772dddb",
            "_dom_classes": [],
            "description": "",
            "_model_name": "HTMLModel",
            "placeholder": "​",
            "_view_module": "@jupyter-widgets/controls",
            "_model_module_version": "1.5.0",
            "value": " 450/450 [03:25&lt;00:00,  2.19it/s]",
            "_view_count": null,
            "_view_module_version": "1.5.0",
            "description_tooltip": null,
            "_model_module": "@jupyter-widgets/controls",
            "layout": "IPY_MODEL_d133ca4f514c472bab6badd71e464fc8"
          }
        },
        "58184361254b40be89ac3dfe06aeb929": {
          "model_module": "@jupyter-widgets/controls",
          "model_name": "ProgressStyleModel",
          "state": {
            "_view_name": "StyleView",
            "_model_name": "ProgressStyleModel",
            "description_width": "initial",
            "_view_module": "@jupyter-widgets/base",
            "_model_module_version": "1.5.0",
            "_view_count": null,
            "_view_module_version": "1.2.0",
            "bar_color": null,
            "_model_module": "@jupyter-widgets/controls"
          }
        },
        "99201cce04264c2f87b030019ef57d68": {
          "model_module": "@jupyter-widgets/base",
          "model_name": "LayoutModel",
          "state": {
            "_view_name": "LayoutView",
            "grid_template_rows": null,
            "right": null,
            "justify_content": null,
            "_view_module": "@jupyter-widgets/base",
            "overflow": null,
            "_model_module_version": "1.2.0",
            "_view_count": null,
            "flex_flow": null,
            "width": null,
            "min_width": null,
            "border": null,
            "align_items": null,
            "bottom": null,
            "_model_module": "@jupyter-widgets/base",
            "top": null,
            "grid_column": null,
            "overflow_y": null,
            "overflow_x": null,
            "grid_auto_flow": null,
            "grid_area": null,
            "grid_template_columns": null,
            "flex": null,
            "_model_name": "LayoutModel",
            "justify_items": null,
            "grid_row": null,
            "max_height": null,
            "align_content": null,
            "visibility": null,
            "align_self": null,
            "height": null,
            "min_height": null,
            "padding": null,
            "grid_auto_rows": null,
            "grid_gap": null,
            "max_width": null,
            "order": null,
            "_view_module_version": "1.2.0",
            "grid_template_areas": null,
            "object_position": null,
            "object_fit": null,
            "grid_auto_columns": null,
            "margin": null,
            "display": null,
            "left": null
          }
        },
        "14aabeb35f5e4c7584f765c8d772dddb": {
          "model_module": "@jupyter-widgets/controls",
          "model_name": "DescriptionStyleModel",
          "state": {
            "_view_name": "StyleView",
            "_model_name": "DescriptionStyleModel",
            "description_width": "",
            "_view_module": "@jupyter-widgets/base",
            "_model_module_version": "1.5.0",
            "_view_count": null,
            "_view_module_version": "1.2.0",
            "_model_module": "@jupyter-widgets/controls"
          }
        },
        "d133ca4f514c472bab6badd71e464fc8": {
          "model_module": "@jupyter-widgets/base",
          "model_name": "LayoutModel",
          "state": {
            "_view_name": "LayoutView",
            "grid_template_rows": null,
            "right": null,
            "justify_content": null,
            "_view_module": "@jupyter-widgets/base",
            "overflow": null,
            "_model_module_version": "1.2.0",
            "_view_count": null,
            "flex_flow": null,
            "width": null,
            "min_width": null,
            "border": null,
            "align_items": null,
            "bottom": null,
            "_model_module": "@jupyter-widgets/base",
            "top": null,
            "grid_column": null,
            "overflow_y": null,
            "overflow_x": null,
            "grid_auto_flow": null,
            "grid_area": null,
            "grid_template_columns": null,
            "flex": null,
            "_model_name": "LayoutModel",
            "justify_items": null,
            "grid_row": null,
            "max_height": null,
            "align_content": null,
            "visibility": null,
            "align_self": null,
            "height": null,
            "min_height": null,
            "padding": null,
            "grid_auto_rows": null,
            "grid_gap": null,
            "max_width": null,
            "order": null,
            "_view_module_version": "1.2.0",
            "grid_template_areas": null,
            "object_position": null,
            "object_fit": null,
            "grid_auto_columns": null,
            "margin": null,
            "display": null,
            "left": null
          }
        },
        "98c88b6a5c3c44568d969f31411dd582": {
          "model_module": "@jupyter-widgets/controls",
          "model_name": "HBoxModel",
          "state": {
            "_view_name": "HBoxView",
            "_dom_classes": [],
            "_model_name": "HBoxModel",
            "_view_module": "@jupyter-widgets/controls",
            "_model_module_version": "1.5.0",
            "_view_count": null,
            "_view_module_version": "1.5.0",
            "box_style": "",
            "layout": "IPY_MODEL_4c1dc8f004714670b2661479a0040002",
            "_model_module": "@jupyter-widgets/controls",
            "children": [
              "IPY_MODEL_2838dd6f0a1046a9a3a0eb1b5e1f8b2c",
              "IPY_MODEL_2d879f83afec4f3996020587d75e3b5f"
            ]
          }
        },
        "4c1dc8f004714670b2661479a0040002": {
          "model_module": "@jupyter-widgets/base",
          "model_name": "LayoutModel",
          "state": {
            "_view_name": "LayoutView",
            "grid_template_rows": null,
            "right": null,
            "justify_content": null,
            "_view_module": "@jupyter-widgets/base",
            "overflow": null,
            "_model_module_version": "1.2.0",
            "_view_count": null,
            "flex_flow": null,
            "width": null,
            "min_width": null,
            "border": null,
            "align_items": null,
            "bottom": null,
            "_model_module": "@jupyter-widgets/base",
            "top": null,
            "grid_column": null,
            "overflow_y": null,
            "overflow_x": null,
            "grid_auto_flow": null,
            "grid_area": null,
            "grid_template_columns": null,
            "flex": null,
            "_model_name": "LayoutModel",
            "justify_items": null,
            "grid_row": null,
            "max_height": null,
            "align_content": null,
            "visibility": null,
            "align_self": null,
            "height": null,
            "min_height": null,
            "padding": null,
            "grid_auto_rows": null,
            "grid_gap": null,
            "max_width": null,
            "order": null,
            "_view_module_version": "1.2.0",
            "grid_template_areas": null,
            "object_position": null,
            "object_fit": null,
            "grid_auto_columns": null,
            "margin": null,
            "display": null,
            "left": null
          }
        },
        "2838dd6f0a1046a9a3a0eb1b5e1f8b2c": {
          "model_module": "@jupyter-widgets/controls",
          "model_name": "FloatProgressModel",
          "state": {
            "_view_name": "ProgressView",
            "style": "IPY_MODEL_8af3cd053bba455e8127c2690cf21253",
            "_dom_classes": [],
            "description": " 60%",
            "_model_name": "FloatProgressModel",
            "bar_style": "",
            "max": 5,
            "_view_module": "@jupyter-widgets/controls",
            "_model_module_version": "1.5.0",
            "value": 3,
            "_view_count": null,
            "_view_module_version": "1.5.0",
            "orientation": "horizontal",
            "min": 0,
            "description_tooltip": null,
            "_model_module": "@jupyter-widgets/controls",
            "layout": "IPY_MODEL_24dc4f101e8149c3aaec24c3118c947c"
          }
        },
        "2d879f83afec4f3996020587d75e3b5f": {
          "model_module": "@jupyter-widgets/controls",
          "model_name": "HTMLModel",
          "state": {
            "_view_name": "HTMLView",
            "style": "IPY_MODEL_16ce284e9a0243fd8ffde8f7c3438b46",
            "_dom_classes": [],
            "description": "",
            "_model_name": "HTMLModel",
            "placeholder": "​",
            "_view_module": "@jupyter-widgets/controls",
            "_model_module_version": "1.5.0",
            "value": " 3/5 [41:56&lt;28:17, 848.81s/it]",
            "_view_count": null,
            "_view_module_version": "1.5.0",
            "description_tooltip": null,
            "_model_module": "@jupyter-widgets/controls",
            "layout": "IPY_MODEL_435505737aa245b8b732c2033182eb99"
          }
        },
        "8af3cd053bba455e8127c2690cf21253": {
          "model_module": "@jupyter-widgets/controls",
          "model_name": "ProgressStyleModel",
          "state": {
            "_view_name": "StyleView",
            "_model_name": "ProgressStyleModel",
            "description_width": "initial",
            "_view_module": "@jupyter-widgets/base",
            "_model_module_version": "1.5.0",
            "_view_count": null,
            "_view_module_version": "1.2.0",
            "bar_color": null,
            "_model_module": "@jupyter-widgets/controls"
          }
        },
        "24dc4f101e8149c3aaec24c3118c947c": {
          "model_module": "@jupyter-widgets/base",
          "model_name": "LayoutModel",
          "state": {
            "_view_name": "LayoutView",
            "grid_template_rows": null,
            "right": null,
            "justify_content": null,
            "_view_module": "@jupyter-widgets/base",
            "overflow": null,
            "_model_module_version": "1.2.0",
            "_view_count": null,
            "flex_flow": null,
            "width": null,
            "min_width": null,
            "border": null,
            "align_items": null,
            "bottom": null,
            "_model_module": "@jupyter-widgets/base",
            "top": null,
            "grid_column": null,
            "overflow_y": null,
            "overflow_x": null,
            "grid_auto_flow": null,
            "grid_area": null,
            "grid_template_columns": null,
            "flex": null,
            "_model_name": "LayoutModel",
            "justify_items": null,
            "grid_row": null,
            "max_height": null,
            "align_content": null,
            "visibility": null,
            "align_self": null,
            "height": null,
            "min_height": null,
            "padding": null,
            "grid_auto_rows": null,
            "grid_gap": null,
            "max_width": null,
            "order": null,
            "_view_module_version": "1.2.0",
            "grid_template_areas": null,
            "object_position": null,
            "object_fit": null,
            "grid_auto_columns": null,
            "margin": null,
            "display": null,
            "left": null
          }
        },
        "16ce284e9a0243fd8ffde8f7c3438b46": {
          "model_module": "@jupyter-widgets/controls",
          "model_name": "DescriptionStyleModel",
          "state": {
            "_view_name": "StyleView",
            "_model_name": "DescriptionStyleModel",
            "description_width": "",
            "_view_module": "@jupyter-widgets/base",
            "_model_module_version": "1.5.0",
            "_view_count": null,
            "_view_module_version": "1.2.0",
            "_model_module": "@jupyter-widgets/controls"
          }
        },
        "435505737aa245b8b732c2033182eb99": {
          "model_module": "@jupyter-widgets/base",
          "model_name": "LayoutModel",
          "state": {
            "_view_name": "LayoutView",
            "grid_template_rows": null,
            "right": null,
            "justify_content": null,
            "_view_module": "@jupyter-widgets/base",
            "overflow": null,
            "_model_module_version": "1.2.0",
            "_view_count": null,
            "flex_flow": null,
            "width": null,
            "min_width": null,
            "border": null,
            "align_items": null,
            "bottom": null,
            "_model_module": "@jupyter-widgets/base",
            "top": null,
            "grid_column": null,
            "overflow_y": null,
            "overflow_x": null,
            "grid_auto_flow": null,
            "grid_area": null,
            "grid_template_columns": null,
            "flex": null,
            "_model_name": "LayoutModel",
            "justify_items": null,
            "grid_row": null,
            "max_height": null,
            "align_content": null,
            "visibility": null,
            "align_self": null,
            "height": null,
            "min_height": null,
            "padding": null,
            "grid_auto_rows": null,
            "grid_gap": null,
            "max_width": null,
            "order": null,
            "_view_module_version": "1.2.0",
            "grid_template_areas": null,
            "object_position": null,
            "object_fit": null,
            "grid_auto_columns": null,
            "margin": null,
            "display": null,
            "left": null
          }
        }
      }
    },
    "accelerator": "GPU"
  },
  "cells": [
    {
      "cell_type": "markdown",
      "metadata": {
        "id": "view-in-github",
        "colab_type": "text"
      },
      "source": [
        "<a href=\"https://colab.research.google.com/github/anasnafis77/Deteksi-Glaukoma/blob/main/Semantic_segmentation.ipynb\" target=\"_parent\"><img src=\"https://colab.research.google.com/assets/colab-badge.svg\" alt=\"Open In Colab\"/></a>"
      ]
    },
    {
      "cell_type": "code",
      "metadata": {
        "id": "pxjFeNlnmxqZ"
      },
      "source": [
        "import os\n",
        "import random\n",
        "import pandas as pd\n",
        "import numpy as np\n",
        "import matplotlib.pyplot as plt\n",
        "plt.style.use(\"ggplot\")\n",
        "%matplotlib inline\n",
        "\n",
        "from tqdm import tqdm_notebook, tnrange\n",
        "from itertools import chain\n",
        "from skimage.io import imread, imshow, concatenate_images\n",
        "from skimage.transform import resize\n",
        "from skimage.morphology import label\n",
        "from sklearn.model_selection import train_test_split\n",
        "\n",
        "import tensorflow as tf\n",
        "\n",
        "from keras.models import Model, load_model\n",
        "from keras.layers import Input, BatchNormalization, Activation, Dense, Dropout\n",
        "from keras.layers.core import Lambda, RepeatVector, Reshape\n",
        "from keras.layers.convolutional import Conv2D, Conv2DTranspose\n",
        "from keras.layers.pooling import MaxPooling2D, GlobalMaxPool2D\n",
        "from keras.layers.merge import concatenate, add\n",
        "from keras.callbacks import EarlyStopping, ModelCheckpoint, ReduceLROnPlateau\n",
        "from keras.optimizers import Adam\n",
        "from keras.preprocessing.image import ImageDataGenerator, array_to_img, img_to_array, load_img\n",
        "import cv2\n",
        "from google.colab import drive\n",
        "from keras import backend as K"
      ],
      "execution_count": 1,
      "outputs": []
    },
    {
      "cell_type": "code",
      "metadata": {
        "id": "Ldp-PGUmmLmB",
        "colab": {
          "base_uri": "https://localhost:8080/"
        },
        "outputId": "ca991fad-8241-40fd-990a-f7a60eedb0fe"
      },
      "source": [
        "drive.mount('/content/gdrive')"
      ],
      "execution_count": 2,
      "outputs": [
        {
          "output_type": "stream",
          "text": [
            "Drive already mounted at /content/gdrive; to attempt to forcibly remount, call drive.mount(\"/content/gdrive\", force_remount=True).\n"
          ],
          "name": "stdout"
        }
      ]
    },
    {
      "cell_type": "code",
      "metadata": {
        "id": "3qvjBZNTmumf"
      },
      "source": [
        "df = pd.read_json('/content/gdrive/My Drive/Drive Tugas Akhir/Kode/dataframe.json')"
      ],
      "execution_count": 14,
      "outputs": []
    },
    {
      "cell_type": "code",
      "metadata": {
        "id": "HvgBk0_oKqIh",
        "colab": {
          "base_uri": "https://localhost:8080/"
        },
        "outputId": "694d9962-0a9c-4ced-b91c-654f034c484a"
      },
      "source": [
        "df[df['dataset']=='refuge'].groupby(['tag']).size()"
      ],
      "execution_count": null,
      "outputs": [
        {
          "output_type": "execute_result",
          "data": {
            "text/plain": [
              "tag\n",
              "Glaucoma     40\n",
              "Normal      360\n",
              "dtype: int64"
            ]
          },
          "metadata": {
            "tags": []
          },
          "execution_count": 4
        }
      ]
    },
    {
      "cell_type": "code",
      "metadata": {
        "id": "MR2bPNh9Q8IX"
      },
      "source": [
        "def rectfromcenter(center, s, h, w):\n",
        "  x, y = center\n",
        "  x0 = round(x - 0.5*s)\n",
        "  x1 = round(x + 0.5*s)\n",
        "  y0 = round(y - 0.5*s)\n",
        "  y1 = round(y + 0.5*s)\n",
        "  dx = (x1 - x0) - s\n",
        "  dy = (y1 - y0) - s\n",
        "  # penanganan kasus out of image\n",
        "  if (x0 < 0):\n",
        "    x1 = x1 + (-x0)\n",
        "    x0 = 0\n",
        "    x1 -= dx\n",
        "  elif (x1 > w-1):\n",
        "    x0 = x0 - (x1-(w-1))\n",
        "    x1 = w-1\n",
        "    x0 += dx\n",
        "  else:\n",
        "    x0 += dx\n",
        "\n",
        "  if (y0 < 0):\n",
        "    y1 = y1 + (-y0)\n",
        "    y0 = 0\n",
        "    y1 -= dy\n",
        "  elif (y1 > h-1):\n",
        "    y0 = y0 - (y1-(h-1))\n",
        "    y1 = (h-1)\n",
        "    y0 += dy\n",
        "  else:\n",
        "    y0 += dy\n",
        "\n",
        "  return y0, y1, x0, x1"
      ],
      "execution_count": 3,
      "outputs": []
    },
    {
      "cell_type": "code",
      "metadata": {
        "id": "1xYPfU0IMynD"
      },
      "source": [
        "# Fungsi untuk mengekstrak ROI\n",
        "# input : list centroid, panjang sisi ROI (s), dan image \n",
        "# output : ROI image\n",
        "\n",
        "def ekstrakROI(centroid, s, img):\n",
        "  h, w = img.shape[:2]\n",
        " \n",
        "  y0, y1, x0, x1 = rectfromcenter(centroid, s, h, w)\n",
        "\n",
        "  #cropping ROI from source image\n",
        "  ROI = img[y0:y1, x0:x1]\n",
        "  koordinat = (y0, y1, x0, x1)\n",
        "\n",
        "  return ROI, koordinat"
      ],
      "execution_count": 4,
      "outputs": []
    },
    {
      "cell_type": "code",
      "metadata": {
        "id": "nL-1JlKlY_nt"
      },
      "source": [
        "def recall_m(y_true, y_pred):\n",
        "    true_positives = K.sum(K.round(K.clip(y_true * y_pred, 0, 1)))\n",
        "    possible_positives = K.sum(K.round(K.clip(y_true, 0, 1)))\n",
        "    recall = true_positives / (possible_positives + K.epsilon())\n",
        "    return recall\n",
        "\n",
        "def precision_m(y_true, y_pred):\n",
        "    true_positives = K.sum(K.round(K.clip(y_true * y_pred, 0, 1)))\n",
        "    predicted_positives = K.sum(K.round(K.clip(y_pred, 0, 1)))\n",
        "    precision = true_positives / (predicted_positives + K.epsilon())\n",
        "    return precision\n",
        "\n",
        "def fscore(y_true, y_pred):\n",
        "    precision = precision_m(y_true, y_pred)\n",
        "    recall = recall_m(y_true, y_pred)\n",
        "    return 2*((precision*recall)/(precision+recall+K.epsilon()))"
      ],
      "execution_count": 5,
      "outputs": []
    },
    {
      "cell_type": "code",
      "metadata": {
        "id": "EQOpKmxfnNuM"
      },
      "source": [
        "def conv2d_block(input_tensor, n_filters, kernel_size = 3, batchnorm = True):\n",
        "    \"\"\"Function to add 2 convolutional layers with the parameters passed to it\"\"\"\n",
        "    # first layer\n",
        "    x = Conv2D(filters = n_filters, kernel_size = (kernel_size, kernel_size),\\\n",
        "              kernel_initializer = 'he_normal', padding = 'same')(input_tensor)\n",
        "    if batchnorm:\n",
        "        x = BatchNormalization()(x)\n",
        "    x = Activation('relu')(x)\n",
        "    \n",
        "    # second layer\n",
        "    x = Conv2D(filters = n_filters, kernel_size = (kernel_size, kernel_size),\\\n",
        "              kernel_initializer = 'he_normal', padding = 'same')(input_tensor)\n",
        "    if batchnorm:\n",
        "        x = BatchNormalization()(x)\n",
        "    x = Activation('relu')(x)\n",
        "    \n",
        "    return x\n",
        "  \n",
        "def get_unet(input_img, n_filters = 16, dropout = 0.1, batchnorm = True):\n",
        "    # Contracting Path\n",
        "    c1 = conv2d_block(input_img, n_filters * 1, kernel_size = 3, batchnorm = batchnorm)\n",
        "    p1 = MaxPooling2D((2, 2))(c1)\n",
        "    p1 = Dropout(dropout)(p1)\n",
        "    \n",
        "    c2 = conv2d_block(p1, n_filters * 2, kernel_size = 3, batchnorm = batchnorm)\n",
        "    p2 = MaxPooling2D((2, 2))(c2)\n",
        "    p2 = Dropout(dropout)(p2)\n",
        "    \n",
        "    c3 = conv2d_block(p2, n_filters * 4, kernel_size = 3, batchnorm = batchnorm)\n",
        "    p3 = MaxPooling2D((2, 2))(c3)\n",
        "    p3 = Dropout(dropout)(p3)\n",
        "    \n",
        "    c4 = conv2d_block(p3, n_filters * 8, kernel_size = 3, batchnorm = batchnorm)\n",
        "    p4 = MaxPooling2D((2, 2))(c4)\n",
        "    p4 = Dropout(dropout)(p4)\n",
        "    \n",
        "    c5 = conv2d_block(p4, n_filters = n_filters * 16, kernel_size = 3, batchnorm = batchnorm)\n",
        "    \n",
        "    # Expansive Path\n",
        "    u6 = Conv2DTranspose(n_filters * 8, (3, 3), strides = (2, 2), padding = 'same')(c5)\n",
        "    u6 = concatenate([u6, c4])\n",
        "    u6 = Dropout(dropout)(u6)\n",
        "    c6 = conv2d_block(u6, n_filters * 8, kernel_size = 3, batchnorm = batchnorm)\n",
        "    \n",
        "    u7 = Conv2DTranspose(n_filters * 4, (3, 3), strides = (2, 2), padding = 'same')(c6)\n",
        "    u7 = concatenate([u7, c3])\n",
        "    u7 = Dropout(dropout)(u7)\n",
        "    c7 = conv2d_block(u7, n_filters * 4, kernel_size = 3, batchnorm = batchnorm)\n",
        "    \n",
        "    u8 = Conv2DTranspose(n_filters * 2, (3, 3), strides = (2, 2), padding = 'same')(c7)\n",
        "    u8 = concatenate([u8, c2])\n",
        "    u8 = Dropout(dropout)(u8)\n",
        "    c8 = conv2d_block(u8, n_filters * 2, kernel_size = 3, batchnorm = batchnorm)\n",
        "    \n",
        "    u9 = Conv2DTranspose(n_filters * 1, (3, 3), strides = (2, 2), padding = 'same')(c8)\n",
        "    u9 = concatenate([u9, c1])\n",
        "    u9 = Dropout(dropout)(u9)\n",
        "    c9 = conv2d_block(u9, n_filters * 1, kernel_size = 3, batchnorm = batchnorm)\n",
        "    \n",
        "    outputs = Conv2D(1, (1, 1), activation='sigmoid')(c9)\n",
        "    model = Model(inputs=[input_img], outputs=[outputs])\n",
        "    return model"
      ],
      "execution_count": 6,
      "outputs": []
    },
    {
      "cell_type": "code",
      "metadata": {
        "id": "vMBd9VJlRQko"
      },
      "source": [
        "def k_fold_cross_data(X, y, k=5, test_size=0.2, random_state=4):\n",
        "  X_dr_gl = np.array(X[0])\n",
        "  X_dr_n = np.array(X[1])\n",
        "  X_re_gl = np.array(X[2])\n",
        "  X_re_n = np.array(X[3])\n",
        "  y_dr_gl = np.array(y[0])\n",
        "  y_dr_n = np.array(y[1])\n",
        "  y_re_gl = np.array(y[2])\n",
        "  y_re_n = np.array(y[3])\n",
        "  random.Random(random_state).shuffle(X_dr_gl)\n",
        "  random.Random(random_state).shuffle(X_dr_n)\n",
        "  random.Random(random_state).shuffle(X_re_gl)\n",
        "  random.Random(random_state).shuffle(X_re_n)\n",
        "  random.Random(random_state).shuffle(y_dr_gl)\n",
        "  random.Random(random_state).shuffle(y_dr_n)\n",
        "  random.Random(random_state).shuffle(y_re_gl)\n",
        "  random.Random(random_state).shuffle(y_re_n)\n",
        "  dr_gl = np.array([0, 6, 12, 18, 25, 32]) # portion of each fold for drishti-glaucoma data\n",
        "  dr_n = np.array([0, 3, 6, 10, 14, 18]) # portion of each fold for drishti-normal data\n",
        "  re_gl = np.array([0, 8, 16, 24, 32, 40]) # portion of each fold for refuge-glaucoma data\n",
        "  re_n = np.array([0, 72, 144, 216, 288, 360]) # portion of each fold for refuge-normal data\n",
        "  \n",
        "  dataset = []\n",
        "  for i in tqdm_notebook(range(k)):\n",
        "    # index of dataset-label for train data\n",
        "    tr_dr_gl = list(range(dr_gl[i])) + list(range(dr_gl[i+1], 32))\n",
        "    tr_dr_n = list(range(dr_n[i])) + list(range(dr_n[i+1], 18))\n",
        "    tr_re_gl = list(range(re_gl[i])) + list(range(re_gl[i+1], 40))\n",
        "    tr_re_n = list(range(re_n[i])) + list(range(re_n[i+1], 360))\n",
        "\n",
        "    # index of dataset-label for test data\n",
        "    te_dr_gl = list(range(dr_gl[i]), dr_gl[i+1]) \n",
        "    te_dr_n = list(range(dr_n[i]), dr_n[i+1])\n",
        "    te_re_gl = list(range(re_gl[i]), re_gl[i+1])\n",
        "    te_re_n = list(range(re_n[i]), re_n[i+1])\n",
        "\n",
        "    X_train = np.concatenate((X_dr_gl[tr_dr_gl], X_dr_n[tr_dr_n], \n",
        "                             X_re_gl[tr_re_gl], X_re_n[tr_re_n]))\n",
        "    X_test = np.concatenate((X_dr_gl[te_dr_gl], X_dr_n[te_dr_n], \n",
        "                             X_re_gl[te_re_gl], X_re_n[te_re_n]))\n",
        "    y_train = np.concatenate((y_dr_gl[tr_dr_gl], y_dr_n[tr_dr_n], \n",
        "                             y_re_gl[tr_re_gl], y_re_n[tr_re_n]))\n",
        "    y_test = np.concatenate((y_dr_gl[te_dr_gl], y_dr_n[te_dr_n], \n",
        "                             y_re_gl[te_re_gl], y_re_n[te_re_n]))\n",
        "    dataset.append([X_train, X_test, y_train, y_test])\n",
        "  \n",
        "  return dataset"
      ],
      "execution_count": 7,
      "outputs": []
    },
    {
      "cell_type": "code",
      "metadata": {
        "id": "NnD-klvpFSSp"
      },
      "source": [
        "def k_fold_cross_ix(df, k=5, test_size=0.2, random_state=4):\n",
        "  random.Random(random_state).shuffle(X_dr_gl)\n",
        "  random.Random(random_state).shuffle(X_dr_n)\n",
        "  random.Random(random_state).shuffle(X_re_gl)\n",
        "  random.Random(random_state).shuffle(X_re_n)\n",
        "  random.Random(random_state).shuffle(y_dr_gl)\n",
        "  random.Random(random_state).shuffle(y_dr_n)\n",
        "  random.Random(random_state).shuffle(y_re_gl)\n",
        "  random.Random(random_state).shuffle(y_re_n)\n",
        "  dr_gl = np.array([0, 6, 12, 18, 25, 32]) # portion of each fold for drishti-glaucoma data\n",
        "  dr_n = np.array([0, 3, 6, 10, 14, 18]) # portion of each fold for drishti-normal data\n",
        "  re_gl = np.array([0, 8, 16, 24, 32, 40]) # portion of each fold for refuge-glaucoma data\n",
        "  re_n = np.array([0, 72, 144, 216, 288, 360]) # portion of each fold for refuge-normal data\n",
        "  \n",
        "  dataset = []\n",
        "  for i in tqdm_notebook(range(k)):\n",
        "    # index of dataset-label for train data\n",
        "    tr_dr_gl = list(range(dr_gl[i])) + list(range(dr_gl[i+1], 32))\n",
        "    tr_dr_n = list(range(dr_n[i])) + list(range(dr_n[i+1], 18))\n",
        "    tr_re_gl = list(range(re_gl[i])) + list(range(re_gl[i+1], 40))\n",
        "    tr_re_n = list(range(re_n[i])) + list(range(re_n[i+1], 360))\n",
        "\n",
        "    # index of dataset-label for test data\n",
        "    te_dr_gl = list(range(dr_gl[i]), dr_gl[i+1]) \n",
        "    te_dr_n = list(range(dr_n[i]), dr_n[i+1])\n",
        "    te_re_gl = list(range(re_gl[i]), re_gl[i+1])\n",
        "    te_re_n = list(range(re_n[i]), re_n[i+1])\n",
        "\n",
        "    X_train = np.concatenate((X_dr_gl[tr_dr_gl], X_dr_n[tr_dr_n], \n",
        "                             X_re_gl[tr_re_gl], X_re_n[tr_re_n]))\n",
        "    X_test = np.concatenate((X_dr_gl[te_dr_gl], X_dr_n[te_dr_n], \n",
        "                             X_re_gl[te_re_gl], X_re_n[te_re_n]))\n",
        "    y_train = np.concatenate((y_dr_gl[tr_dr_gl], y_dr_n[tr_dr_n], \n",
        "                             y_re_gl[tr_re_gl], y_re_n[tr_re_n]))\n",
        "    y_test = np.concatenate((y_dr_gl[te_dr_gl], y_dr_n[te_dr_n], \n",
        "                             y_re_gl[te_re_gl], y_re_n[te_re_n]))\n",
        "    dataset.append([X_train, X_test, y_train, y_test])\n",
        "  \n",
        "  return df_train, df_test"
      ],
      "execution_count": 8,
      "outputs": []
    },
    {
      "cell_type": "code",
      "metadata": {
        "id": "DCMGzBU8bpP-"
      },
      "source": [
        "def show_examples(examples, y_examples):\n",
        "  plt.figure(figsize=(12, 4))\n",
        "  plt.grid(False)\n",
        "  for i, example in enumerate(examples):\n",
        "    h, w = example.shape[:2]\n",
        "    mask = np.array(example > 0.5, np.uint8)*255\n",
        "    gt_mask = np.array(y_examples[i] > 0, np.uint8)*255\n",
        "    DSC = np.sum(mask[gt_mask==255])*2.0 / (np.sum(mask) + np.sum(gt_mask))\n",
        "    mask = mask.squeeze()\n",
        "    gt_mask = gt_mask.squeeze()\n",
        "    mask_show = np.zeros((h, w, 3), np.uint8)\n",
        "    gt_mask_show = np.zeros((h, w, 3), np.uint8)\n",
        "\n",
        "    mask_show[:, :, 0] = mask\n",
        "    gt_mask_show[:, :, 2] = gt_mask\n",
        "    \n",
        "    plt.subplot(1, len(examples), i+1),\n",
        "    plt.imshow(mask_show,  interpolation='none')\n",
        "    plt.imshow(gt_mask_show, interpolation='none', alpha=0.35)\n",
        "    plt.text(20, 40, 'DSC: {:.3f}'.format(DSC), fontsize='small', color ='w')\n",
        "\n",
        "  plt.show()"
      ],
      "execution_count": 9,
      "outputs": []
    },
    {
      "cell_type": "code",
      "metadata": {
        "id": "EjbkBl5dikZP"
      },
      "source": [
        "def downscale(img):\n",
        "    size = (256, 256)\n",
        "    img = tf.image.resize(img, size, method=tf.image.ResizeMethod.BICUBIC, preserve_aspect_ratio=True)\n",
        "    return img\n",
        "\n",
        "def upscale(img):\n",
        "  size = (550, 550)\n",
        "  img = tf.image.resize(img, size, method=tf.image.ResizeMethod.BICUBIC, preserve_aspect_ratio=True)\n",
        "\n",
        "  return img"
      ],
      "execution_count": 10,
      "outputs": []
    },
    {
      "cell_type": "code",
      "metadata": {
        "id": "XBLXRipOE2oc"
      },
      "source": [
        "def k_fold_crossval(X, y, y_ori, callbacks, tipe, k=5, random_state=4, save=0):\n",
        "  X_dr_gl = np.array(X[0])\n",
        "  X_dr_n = np.array(X[1])\n",
        "  X_re_gl = np.array(X[2])\n",
        "  X_re_n = np.array(X[3])\n",
        "  y_dr_gl = np.array(y[0])\n",
        "  y_dr_n = np.array(y[1])\n",
        "  y_re_gl = np.array(y[2])\n",
        "  y_re_n = np.array(y[3])\n",
        "  y_dr_glo = np.array(y_ori[0])\n",
        "  y_dr_no = np.array(y_ori[1])\n",
        "  y_re_glo = np.array(y_ori[2])\n",
        "  y_re_no = np.array(y_ori[3])\n",
        "  random.Random(random_state).shuffle(X_dr_gl)\n",
        "  random.Random(random_state).shuffle(X_dr_n)\n",
        "  random.Random(random_state).shuffle(X_re_gl)\n",
        "  random.Random(random_state).shuffle(X_re_n)\n",
        "  random.Random(random_state).shuffle(y_dr_gl)\n",
        "  random.Random(random_state).shuffle(y_dr_n)\n",
        "  random.Random(random_state).shuffle(y_re_gl)\n",
        "  random.Random(random_state).shuffle(y_re_n)\n",
        "  random.Random(random_state).shuffle(y_dr_glo)\n",
        "  random.Random(random_state).shuffle(y_dr_no)\n",
        "  random.Random(random_state).shuffle(y_re_glo)\n",
        "  random.Random(random_state).shuffle(y_re_no)\n",
        "  dr_gl = np.array([0, 6, 12, 18, 25, 32]) # portion of each fold for drishti-glaucoma data\n",
        "  dr_n = np.array([0, 3, 6, 10, 14, 18]) # portion of each fold for drishti-normal data\n",
        "  re_gl = np.array([0, 8, 16, 24, 32, 40]) # portion of each fold for refuge-glaucoma data\n",
        "  re_n = np.array([0, 72, 144, 216, 288, 360]) # portion of each fold for refuge-normal data\n",
        "  input_img = Input((256,256, 1), name='img')\n",
        "  results = []\n",
        "  fold = []\n",
        "  Loss = []\n",
        "  Accuracy = []\n",
        "  f1score = []\n",
        "  models = []\n",
        "  for i in tqdm_notebook(range(k)):\n",
        "    # index of dataset-label for train data\n",
        "    tr_dr_gl = list(range(dr_gl[i])) + list(range(dr_gl[i+1], 32))\n",
        "    tr_dr_n = list(range(dr_n[i])) + list(range(dr_n[i+1], 18))\n",
        "    tr_re_gl = list(range(re_gl[i])) + list(range(re_gl[i+1], 40))\n",
        "    tr_re_n = list(range(re_n[i])) + list(range(re_n[i+1], 360))\n",
        "\n",
        "    # index of dataset-label for test data\n",
        "    te_dr_gl = list(range(dr_gl[i], dr_gl[i+1])) \n",
        "    te_dr_n = list(range(dr_n[i], dr_n[i+1]))\n",
        "    te_re_gl = list(range(re_gl[i], re_gl[i+1]))\n",
        "    te_re_n = list(range(re_n[i], re_n[i+1]))\n",
        "\n",
        "\n",
        "    X_train = np.concatenate((X_dr_gl[tr_dr_gl], X_dr_n[tr_dr_n], \n",
        "                             X_re_gl[tr_re_gl], X_re_n[tr_re_n]))\n",
        "    X_test = np.concatenate((X_dr_gl[te_dr_gl], X_dr_n[te_dr_n], \n",
        "                             X_re_gl[te_re_gl], X_re_n[te_re_n]))\n",
        "    y_train = np.concatenate((y_dr_gl[tr_dr_gl], y_dr_n[tr_dr_n], \n",
        "                             y_re_gl[tr_re_gl], y_re_n[tr_re_n]))\n",
        "    y_test = np.concatenate((y_dr_gl[te_dr_gl], y_dr_n[te_dr_n], \n",
        "                             y_re_gl[te_re_gl], y_re_n[te_re_n]))\n",
        "    y_test_ori = np.concatenate((y_dr_glo[te_dr_gl], y_dr_no[te_dr_n], \n",
        "                             y_re_glo[te_re_gl], y_re_no[te_re_n]))\n",
        "\n",
        "    random.Random(random_state).shuffle(X_train)\n",
        "    random.Random(random_state).shuffle(X_test)\n",
        "    random.Random(random_state).shuffle(y_train)\n",
        "    random.Random(random_state).shuffle(y_test)\n",
        "    random.Random(random_state).shuffle(y_test_ori)\n",
        "\n",
        "    print('Evaluate fold ', i+1)\n",
        "    model= get_unet(input_img, n_filters = 64, dropout = 0.1, batchnorm = True)\n",
        "    model.compile(optimizer=Adam(), loss=\"binary_crossentropy\", metrics=[\"accuracy\",fscore])\n",
        "    result = model.fit(X_train, y_train, batch_size=32, epochs=50, callbacks=callbacks,\\\n",
        "                    validation_data=(X_test, y_test), verbose=0)\n",
        "    \n",
        "    results.append(result)\n",
        "    model_layer = model.layers[-1]\n",
        "    lu = Lambda(upscale, name=\"lambda_upscale\")(model_layer.output)\n",
        "    model_upscale = Model(model.input, lu, name=\"upscale_model\")\n",
        "    model_upscale.compile(loss=\"binary_crossentropy\", metrics=[\"accuracy\",fscore])\n",
        "    models.append(model_upscale)\n",
        "\n",
        "    los = result.history['val_loss'][-1]\n",
        "    acc = result.history['val_accuracy'][-1]\n",
        "    f1 = result.history['val_fscore'][-1]\n",
        "    los_550, acc_550, f1_550 = model_upscale.evaluate(X_test, y_test_ori, verbose=0)\n",
        "    \n",
        "    y_examples = y_test_ori[:3]\n",
        "    examples = model_upscale.predict(X_test[:3]) \n",
        "\n",
        "    fold.append(i + 1)\n",
        "    Loss.append(los)\n",
        "    Accuracy.append(acc)\n",
        "    f1score.append(f1)\n",
        "    print('Fold {}\\nloss: {:.4f} - acc: {:.3f} - fscore: {:.3f}'.format(i+1, los, acc, f1))\n",
        "    print('after upscalling\\nloss: {:.4f} - acc: {:.3f} - fscore: {:.3f}'.format(los_550, acc_550, f1_550))\n",
        "    show_examples(examples, y_examples)\n",
        "\n",
        "  metrics = pd.DataFrame({'Fold': fold, 'Loss':Loss, 'Acc':Accuracy,\n",
        "                          'Fscore': f1score})\n",
        "  best_fold = np.argmax(f1score)\n",
        "  print('Best model is fold-', best_fold+1)\n",
        "  if save:\n",
        "    print('Saving best model from fold-', best_fold+1)\n",
        "    models[best_fold].save('/content/gdrive/My Drive/Drive Tugas Akhir/Kode/model {} semantic/'.format(tipe))\n",
        "    print('Save model success!')\n",
        "  return results, metrics"
      ],
      "execution_count": 11,
      "outputs": []
    },
    {
      "cell_type": "code",
      "metadata": {
        "id": "CPsUk_kRo-kT",
        "colab": {
          "base_uri": "https://localhost:8080/",
          "height": 99,
          "referenced_widgets": [
            "d4f5687cef4d42099a12d40c67048d52",
            "7d877d7cebc5491c9c20384eaeafffc8",
            "051e8b306f484b43bb4441af300b7836",
            "17d3070a03114c2ba6a5f1c9fc1f38bd",
            "58184361254b40be89ac3dfe06aeb929",
            "99201cce04264c2f87b030019ef57d68",
            "14aabeb35f5e4c7584f765c8d772dddb",
            "d133ca4f514c472bab6badd71e464fc8"
          ]
        },
        "outputId": "822e3a94-2500-45c7-ca90-8ec840738c41"
      },
      "source": [
        "clahe = cv2.createCLAHE(clipLimit=2.0, tileGridSize=(8,8))\n",
        "X = []\n",
        "y_OD_r = []\n",
        "y_OC_r = []\n",
        "y_OD = []\n",
        "y_OC = []\n",
        "\n",
        "X_dr_gl = []\n",
        "X_dr_n = []\n",
        "X_re_gl = []\n",
        "X_re_n = []\n",
        "y_dr_gl_OD = []\n",
        "y_dr_n_OD = []\n",
        "y_re_gl_OD = []\n",
        "y_re_n_OD = []\n",
        "y_dr_gl_OC = []\n",
        "y_dr_n_OC = []\n",
        "y_re_gl_OC = []\n",
        "y_re_n_OC = []\n",
        "\n",
        "y_dr_glr_OD = []\n",
        "y_dr_nr_OD = []\n",
        "y_re_glr_OD = []\n",
        "y_re_nr_OD = []\n",
        "y_dr_glr_OC = []\n",
        "y_dr_nr_OC = []\n",
        "y_re_glr_OC = []\n",
        "y_re_nr_OC = []\n",
        "\n",
        "for i in tqdm_notebook(range(0, len(df))):  \n",
        "  center = df['disc_center'][i]\n",
        "  img = cv2.imread(df['path'][i], 1)[:,:,1]\n",
        "  img = clahe.apply(img)\n",
        "  gt_OD = cv2.imread(df['path_OD_png'][i], 0)\n",
        "  gt_OC = cv2.imread(df['path_OC_png'][i], 0)\n",
        "\n",
        "  img,_ = ekstrakROI(center, 550, img)\n",
        "  gt_OD,_ = ekstrakROI(center, 550, gt_OD)\n",
        "  gt_OC,_ = ekstrakROI(center, 550, gt_OC)\n",
        "  img = (resize(img, (256, 256, 1), mode = 'constant', preserve_range = True))/255.0\n",
        "  gt_OD_r = (resize(gt_OD, (256, 256, 1), mode = 'constant', preserve_range = True))/255.0\n",
        "  gt_OC_r = (resize(gt_OC, (256, 256, 1), mode = 'constant', preserve_range = True))/255.0\n",
        "  gt_OD = gt_OD/255.0\n",
        "  gt_OC = gt_OC/255.0\n",
        "  if df['dataset'][i] == 'drishti':\n",
        "    if df['tag'][i] == 'Glaucoma':\n",
        "      X_dr_gl.append(img)\n",
        "      y_dr_gl_OD.append(gt_OD)\n",
        "      y_dr_gl_OC.append(gt_OC)\n",
        "      y_dr_glr_OD.append(gt_OD_r)\n",
        "      y_dr_glr_OC.append(gt_OD_r)\n",
        "    elif df['tag'][i] == 'Normal':\n",
        "      X_dr_n.append(img)\n",
        "      y_dr_n_OD.append(gt_OD)\n",
        "      y_dr_n_OC.append(gt_OC)\n",
        "      y_dr_nr_OD.append(gt_OD_r)\n",
        "      y_dr_nr_OC.append(gt_OD_r)\n",
        "  elif df['dataset'][i] == 'refuge':\n",
        "    if df['tag'][i] == 'Glaucoma':\n",
        "      X_re_gl.append(img)\n",
        "      y_re_gl_OD.append(gt_OD)\n",
        "      y_re_gl_OC.append(gt_OC)\n",
        "      y_re_glr_OD.append(gt_OD_r)\n",
        "      y_re_glr_OC.append(gt_OD_r)\n",
        "    elif df['tag'][i] == 'Normal':\n",
        "      X_re_n.append(img)\n",
        "      y_re_n_OD.append(gt_OD)\n",
        "      y_re_n_OC.append(gt_OC)\n",
        "      y_re_nr_OD.append(gt_OD_r)\n",
        "      y_re_nr_OC.append(gt_OD_r)\n",
        "\n",
        "X = [X_dr_gl, X_dr_n, X_re_gl, X_re_n]\n",
        "y_OD = [y_dr_gl_OD, y_dr_n_OD, y_re_gl_OD, y_re_n_OD]\n",
        "y_OC = [y_dr_gl_OC, y_dr_n_OC, y_re_gl_OC, y_re_n_OC]\n",
        "y_OD_r = [y_dr_glr_OD, y_dr_nr_OD, y_re_glr_OD, y_re_nr_OD]\n",
        "y_OC_r = [y_dr_glr_OC, y_dr_nr_OC, y_re_glr_OC, y_re_nr_OC]"
      ],
      "execution_count": 15,
      "outputs": [
        {
          "output_type": "stream",
          "text": [
            "/usr/local/lib/python3.7/dist-packages/ipykernel_launcher.py:30: TqdmDeprecationWarning: This function will be removed in tqdm==5.0.0\n",
            "Please use `tqdm.notebook.tqdm` instead of `tqdm.tqdm_notebook`\n"
          ],
          "name": "stderr"
        },
        {
          "output_type": "display_data",
          "data": {
            "application/vnd.jupyter.widget-view+json": {
              "model_id": "d4f5687cef4d42099a12d40c67048d52",
              "version_major": 2,
              "version_minor": 0
            },
            "text/plain": [
              "HBox(children=(FloatProgress(value=0.0, max=450.0), HTML(value='')))"
            ]
          },
          "metadata": {
            "tags": []
          }
        },
        {
          "output_type": "stream",
          "text": [
            "\n"
          ],
          "name": "stdout"
        }
      ]
    },
    {
      "cell_type": "code",
      "metadata": {
        "id": "nZiEHJHAvOJk"
      },
      "source": [
        "callbacks_OD = [\n",
        "    EarlyStopping(patience=10, verbose=1),\n",
        "    ReduceLROnPlateau(factor=0.1, patience=5, min_lr=0.00001, verbose=0)\n",
        "    #ModelCheckpoint('model-OD.h5', verbose=0, save_best_only=True, save_weights_only=True)\n",
        "]\n",
        "callbacks_OC = [\n",
        "    EarlyStopping(patience=10, verbose=1),\n",
        "    ReduceLROnPlateau(factor=0.1, patience=5, min_lr=0.00001, verbose=0)\n",
        "    #ModelCheckpoint('model-OC.h5', verbose=0, save_best_only=True, save_weights_only=True)\n",
        "]"
      ],
      "execution_count": 16,
      "outputs": []
    },
    {
      "cell_type": "code",
      "metadata": {
        "id": "vdbyL6p2vnl0"
      },
      "source": [
        "dataset_OD = k_fold_cross_data(X, y_OD, k=5, test_size=0.2, random_state=4)\n",
        "dataset_OC = k_fold_cross_data(X, y_OC, k=5, test_size=0.2, random_state=4)"
      ],
      "execution_count": null,
      "outputs": []
    },
    {
      "cell_type": "code",
      "metadata": {
        "id": "Jnbo3GH0qOgT"
      },
      "source": [
        "X_train_OD1, X_test_OD1, y_train_OD1, y_test_OD1 = train_test_split(X, y_OD, \n",
        "                                                                test_size=0.2, \n",
        "                                                                random_state = 5)\n",
        "X_train_OC1, X_test_OC1, y_train_OC1, y_test_OC1 = train_test_split(X, y_OC, \n",
        "                                                                test_size=0.2, \n",
        "                                                                random_state = 5)"
      ],
      "execution_count": null,
      "outputs": []
    },
    {
      "cell_type": "code",
      "metadata": {
        "id": "8wc6YWO2vI21"
      },
      "source": [
        "input_img = Input((256,256, 1), name='img')"
      ],
      "execution_count": 17,
      "outputs": []
    },
    {
      "cell_type": "code",
      "metadata": {
        "id": "UDK_W8wJ4C3T",
        "colab": {
          "base_uri": "https://localhost:8080/",
          "height": 1000,
          "referenced_widgets": [
            "98c88b6a5c3c44568d969f31411dd582",
            "4c1dc8f004714670b2661479a0040002",
            "2838dd6f0a1046a9a3a0eb1b5e1f8b2c",
            "2d879f83afec4f3996020587d75e3b5f",
            "8af3cd053bba455e8127c2690cf21253",
            "24dc4f101e8149c3aaec24c3118c947c",
            "16ce284e9a0243fd8ffde8f7c3438b46",
            "435505737aa245b8b732c2033182eb99"
          ]
        },
        "outputId": "5e05389c-0e6d-4ff6-b3e5-d09eb48fe2ce"
      },
      "source": [
        "results_OD, metrics_OD = k_fold_crossval(X, y_OD_r, y_OD, callbacks_OD, 'OD', \n",
        "                                         k=5, random_state=4, save=0)"
      ],
      "execution_count": null,
      "outputs": [
        {
          "output_type": "stream",
          "text": [
            "/usr/local/lib/python3.7/dist-packages/ipykernel_launcher.py:37: TqdmDeprecationWarning: This function will be removed in tqdm==5.0.0\n",
            "Please use `tqdm.notebook.tqdm` instead of `tqdm.tqdm_notebook`\n"
          ],
          "name": "stderr"
        },
        {
          "output_type": "display_data",
          "data": {
            "application/vnd.jupyter.widget-view+json": {
              "model_id": "98c88b6a5c3c44568d969f31411dd582",
              "version_major": 2,
              "version_minor": 0
            },
            "text/plain": [
              "HBox(children=(FloatProgress(value=0.0, max=5.0), HTML(value='')))"
            ]
          },
          "metadata": {
            "tags": []
          }
        },
        {
          "output_type": "stream",
          "text": [
            "Evaluate fold  1\n",
            "Fold 1\n",
            "loss: 0.1407 - acc: 0.949 - fscore: 0.927\n",
            "after upscalling\n",
            "loss: 0.1403 - acc: 0.960 - fscore: 0.928\n"
          ],
          "name": "stdout"
        },
        {
          "output_type": "display_data",
          "data": {
            "image/png": "[encoded data removed]",
            "text/plain": [
              "<Figure size 864x288 with 3 Axes>"
            ]
          },
          "metadata": {
            "tags": [],
            "needs_background": "light"
          }
        },
        {
          "output_type": "stream",
          "text": [
            "Evaluate fold  2\n",
            "Fold 2\n",
            "loss: 0.1030 - acc: 0.963 - fscore: 0.948\n",
            "after upscalling\n",
            "loss: 0.1027 - acc: 0.973 - fscore: 0.949\n"
          ],
          "name": "stdout"
        },
        {
          "output_type": "display_data",
          "data": {
            "image/png": "[encoded data removed]",
            "text/plain": [
              "<Figure size 864x288 with 3 Axes>"
            ]
          },
          "metadata": {
            "tags": [],
            "needs_background": "light"
          }
        },
        {
          "output_type": "stream",
          "text": [
            "Evaluate fold  3\n",
            "Fold 3\n",
            "loss: 0.0898 - acc: 0.965 - fscore: 0.953\n",
            "after upscalling\n",
            "loss: 0.0894 - acc: 0.975 - fscore: 0.954\n"
          ],
          "name": "stdout"
        },
        {
          "output_type": "display_data",
          "data": {
            "image/png": "[encoded data removed]",
            "text/plain": [
              "<Figure size 864x288 with 3 Axes>"
            ]
          },
          "metadata": {
            "tags": [],
            "needs_background": "light"
          }
        },
        {
          "output_type": "stream",
          "text": [
            "Evaluate fold  4\n"
          ],
          "name": "stdout"
        }
      ]
    },
    {
      "cell_type": "code",
      "metadata": {
        "id": "98_rCujNDcZL"
      },
      "source": [
        "results_OC, metrics_OC = k_fold_crossval(X, y_OC_r, y_OC, callbacks_OC, 'OC',\n",
        "                                         k=5, random_state=4, save=0)"
      ],
      "execution_count": null,
      "outputs": []
    },
    {
      "cell_type": "code",
      "metadata": {
        "id": "YfWosLL9oOU5"
      },
      "source": [
        "model_OD = get_unet(input_img, n_filters = 64, dropout = 0.1, batchnorm = True)\n",
        "model_OD.compile(optimizer=Adam(), loss=\"binary_crossentropy\", metrics=['accuracy', fscore])\n",
        "\n",
        "model_OC = get_unet(input_img, n_filters = 64, dropout = 0.1, batchnorm = True)\n",
        "model_OC.compile(optimizer=Adam(), loss=\"binary_crossentropy\", metrics=['accuracy', fscore])"
      ],
      "execution_count": null,
      "outputs": []
    },
    {
      "cell_type": "code",
      "metadata": {
        "id": "7r3b0GvUBjn1"
      },
      "source": [
        "model_OD.summary()"
      ],
      "execution_count": null,
      "outputs": []
    },
    {
      "cell_type": "code",
      "metadata": {
        "id": "N6fzH1Joqye3"
      },
      "source": [
        "results_OD = model_OD.fit(X_train_OD1, y_train_OD1, batch_size=32, epochs=100, callbacks=callbacks_OD,\\\n",
        "                    validation_data=(X_test_OD1, y_test_OD1))"
      ],
      "execution_count": null,
      "outputs": []
    },
    {
      "cell_type": "code",
      "metadata": {
        "id": "_MopYC6X2rep"
      },
      "source": [
        "results_OC = model_OC.fit(X_train_OC, y_train_OC, batch_size=32, epochs=100, callbacks=callbacks_OC,\\\n",
        "                    validation_data=(X_test_OC, y_test_OC))"
      ],
      "execution_count": null,
      "outputs": []
    },
    {
      "cell_type": "code",
      "metadata": {
        "id": "e_dw3JAtumbk"
      },
      "source": [
        "metrics_OD = np.array(metrics_OD)\n",
        "metrics_OC = np.array(metrics_OC)"
      ],
      "execution_count": null,
      "outputs": []
    },
    {
      "cell_type": "code",
      "metadata": {
        "colab": {
          "base_uri": "https://localhost:8080/"
        },
        "id": "Mpw1UcF5t3al",
        "outputId": "3a2305f2-c247-4a34-e32e-3fcf00ad4e7e"
      },
      "source": [
        "avg_loss = np.mean(metrics_OD[:, 0])\n",
        "avg_acc = np.mean(metrics_OD[:, 1])\n",
        "avg_fscore = np.mean(metrics_OD[:, 2])\n",
        "print('avearge loss: {:.2f}'.format(avg_loss))\n",
        "print('avearge accuracy: {:.2f}'.format(avg_acc))\n",
        "print('avearge fscore: {:.2f}'.format(avg_fscore))"
      ],
      "execution_count": null,
      "outputs": [
        {
          "output_type": "stream",
          "text": [
            "avearge loss: 0.12\n",
            "avearge accuracy: 0.95\n",
            "avearge fscore: 0.93\n"
          ],
          "name": "stdout"
        }
      ]
    },
    {
      "cell_type": "code",
      "metadata": {
        "colab": {
          "base_uri": "https://localhost:8080/"
        },
        "id": "FeQHtwENErTx",
        "outputId": "ecacd99f-807d-468b-f458-1300e0e41f9c"
      },
      "source": [
        "avg_loss = np.mean(metrics_OC[:, 0])\n",
        "avg_acc = np.mean(metrics_OC[:, 1])\n",
        "avg_fscore = np.mean(metrics_OC[:, 2])\n",
        "print('avearge loss: {:.2f}'.format(avg_loss))\n",
        "print('avearge accuracy: {:.2f}'.format(avg_acc))\n",
        "print('avearge fscore: {:.2f}'.format(avg_fscore))"
      ],
      "execution_count": null,
      "outputs": [
        {
          "output_type": "stream",
          "text": [
            "avearge loss: 0.04\n",
            "avearge accuracy: 0.98\n",
            "avearge fscore: 0.95\n"
          ],
          "name": "stdout"
        }
      ]
    },
    {
      "cell_type": "code",
      "metadata": {
        "id": "ViwImHHABnq3"
      },
      "source": [
        "def histo(histories):\n",
        "  for i, histori in enumerate(histories):\n",
        "    plt.figure(figsize=(20, 5))\n",
        "    print('Fold-{}'.format(i+1))\n",
        "    plt.subplot(131), \n",
        "    plt.plot(histori.history[\"accuracy\"], label=\"accuracy\")\n",
        "    plt.plot(histori.history[\"val_accuracy\"], label=\"val_acc\")\n",
        "    plt.plot(np.argmax(histori.history[\"val_accuracy\"]), np.max(histori.history[\"val_accuracy\"]), marker=\"x\", color=\"r\", label=\"best model\")\n",
        "    plt.xlabel(\"Epochs\")\n",
        "    plt.ylabel(\"Accuracy\")\n",
        "    plt.legend()\n",
        "    plt.subplot(132), \n",
        "    plt.plot(histori.history[\"fscore\"], label=\"fscore\")\n",
        "    plt.plot(histori.history[\"val_fscore\"], label=\"val_fscore\")\n",
        "    plt.plot( np.argmax(histori.history[\"val_fscore\"]), np.max(histori.history[\"val_fscore\"]), marker=\"x\", color=\"r\", label=\"best model\")\n",
        "    plt.xlabel(\"Epochs\")\n",
        "    plt.ylabel(\"Fscore\")\n",
        "    plt.legend()\n",
        "    plt.subplot(133),\n",
        "    plt.plot(histori.history[\"loss\"], label=\"loss\")\n",
        "    plt.plot(histori.history[\"val_loss\"], label=\"val_loss\")\n",
        "    plt.plot( np.argmin(histori.history[\"val_loss\"]), np.min(histori.history[\"val_loss\"]), marker=\"x\", color=\"r\", label=\"best model\")\n",
        "    plt.xlabel(\"Epochs\")\n",
        "    plt.ylabel(\"log_loss\")\n",
        "    plt.legend()\n",
        "\n",
        "    plt.show()"
      ],
      "execution_count": null,
      "outputs": []
    },
    {
      "cell_type": "code",
      "metadata": {
        "id": "EBVrdBzux-Th"
      },
      "source": [
        "metrics_OD.describe()"
      ],
      "execution_count": null,
      "outputs": []
    },
    {
      "cell_type": "code",
      "metadata": {
        "id": "QQXbjNLhx-Tp"
      },
      "source": [
        "metrics_OC.describe()"
      ],
      "execution_count": null,
      "outputs": []
    },
    {
      "cell_type": "code",
      "metadata": {
        "id": "mGYe8hwQC0l0"
      },
      "source": [
        "histo(results_OD)"
      ],
      "execution_count": null,
      "outputs": []
    },
    {
      "cell_type": "code",
      "metadata": {
        "id": "1cT_EYmIE5gl"
      },
      "source": [
        "histo(results_OC)"
      ],
      "execution_count": null,
      "outputs": []
    },
    {
      "cell_type": "code",
      "metadata": {
        "id": "tRdeOviy7V4e"
      },
      "source": [
        "plt.figure(figsize=(14, 7))\n",
        "plt.title(\"Learning curve\")\n",
        "\n",
        "plt.subplot(231), \n",
        "plt.plot(results_OD.history[\"accuracy\"], label=\"accuracy\")\n",
        "plt.plot(results_OD.history[\"val_accuracy\"], label=\"val_acc\")\n",
        "plt.plot(np.argmin(results_OD.history[\"val_accuracy\"]), np.max(results_OD.history[\"val_accuracy\"]), marker=\"x\", color=\"r\", label=\"best model\")\n",
        "plt.xlabel(\"Epochs\")\n",
        "plt.ylabel(\"Accuracy\")\n",
        "plt.legend()\n",
        "plt.subplot(232), \n",
        "plt.plot(results_OD.history[\"f1_m\"], label=\"fscore\")\n",
        "plt.plot(results_OD.history[\"val_f1_m\"], label=\"val_fscore\")\n",
        "plt.plot( np.argmin(results_OD.history[\"val_f1_m\"]), np.max(results_OD.history[\"val_f1_m\"]), marker=\"x\", color=\"r\", label=\"best model\")\n",
        "plt.xlabel(\"Epochs\")\n",
        "plt.ylabel(\"Fscore\")\n",
        "plt.legend()\n",
        "plt.subplot(233),\n",
        "plt.plot(results_OD.history[\"loss\"], label=\"loss\")\n",
        "plt.plot(results_OD.history[\"val_loss\"], label=\"val_loss\")\n",
        "plt.plot( np.argmin(results_OD.history[\"val_loss\"]), np.min(results_OD.history[\"val_loss\"]), marker=\"x\", color=\"r\", label=\"best model\")\n",
        "plt.xlabel(\"Epochs\")\n",
        "plt.ylabel(\"log_loss\")\n",
        "plt.legend()\n",
        "\n",
        "plt.subplot(223), \n",
        "plt.plot(results_OC.history[\"f1_m\"], label=\"f1_m\")\n",
        "plt.plot(results_OC.history[\"val_f1_m\"], label=\"val_f1_m\")\n",
        "plt.plot( np.argmin(results_OC.history[\"val_f1_m\"]), np.min(results_OC.history[\"val_f1_m\"]), marker=\"x\", color=\"r\", label=\"best model\")\n",
        "plt.xlabel(\"Epochs\")\n",
        "plt.ylabel(\"Fscore\")\n",
        "plt.legend()\n",
        "plt.title(\"Learning curve\")\n",
        "plt.subplot(224),\n",
        "plt.plot(results_OC.history[\"loss\"], label=\"loss\")\n",
        "plt.plot(results_OC.history[\"val_loss\"], label=\"val_loss\")\n",
        "plt.plot( np.argmin(results_OC.history[\"val_loss\"]), np.min(results_OC.history[\"val_loss\"]), marker=\"x\", color=\"r\", label=\"best model\")\n",
        "plt.xlabel(\"Epochs\")\n",
        "plt.ylabel(\"log_loss\")\n",
        "plt.legend()\n"
      ],
      "execution_count": null,
      "outputs": []
    },
    {
      "cell_type": "code",
      "metadata": {
        "id": "Tmq3z55bBCbc"
      },
      "source": [
        "model_OD.save('/content/gdrive/My Drive/Drive Tugas Akhir/Kode/model OD semantic/')\n",
        "model_OC.save('/content/gdrive/My Drive/Drive Tugas Akhir/Kode/model OC semantic/')"
      ],
      "execution_count": null,
      "outputs": []
    },
    {
      "cell_type": "markdown",
      "metadata": {
        "id": "-K7uF0m3DM8H"
      },
      "source": [
        "# Inference"
      ]
    },
    {
      "cell_type": "code",
      "metadata": {
        "id": "pNhlz8CdtKwD"
      },
      "source": [
        "# load the best model\n",
        "model.load_weights('model-tgs-salt.h5')"
      ],
      "execution_count": null,
      "outputs": []
    },
    {
      "cell_type": "code",
      "metadata": {
        "id": "Yiy9It0j3iIk"
      },
      "source": [
        "model_OD.load_model('/content/gdrive/My Drive/Drive Tugas Akhir/Kode/model OD semantic/')\n",
        "model_OC.load_model('/content/gdrive/My Drive/Drive Tugas Akhir/Kode/model OC semantic/')"
      ],
      "execution_count": null,
      "outputs": []
    },
    {
      "cell_type": "code",
      "metadata": {
        "id": "Vnkg-7xAtKwE"
      },
      "source": [
        "# Evaluate on validation set (this must be equals to the best log_loss)\n",
        "model_OD.evaluate(X_test_OD, y_test_OD, verbose=1)\n",
        "model_OC.evaluate(X_test_OC, y_test_OC, verbose=1)"
      ],
      "execution_count": null,
      "outputs": []
    },
    {
      "cell_type": "code",
      "metadata": {
        "id": "8TExDD6AtKwE"
      },
      "source": [
        "# Predict on train, val and test\n",
        "preds_train_OD = model_OD.predict(X_train_OD, verbose=1)\n",
        "preds_val_OD = model_OD.predict(X_test_OD, verbose=1)\n",
        "preds_train_OC = model_OC.predict(X_train_OC, verbose=1)\n",
        "preds_val_OC = model_OC.predict(X_test_OC, verbose=1)"
      ],
      "execution_count": null,
      "outputs": []
    },
    {
      "cell_type": "code",
      "metadata": {
        "id": "sb8_268wtKwE"
      },
      "source": [
        "# Threshold predictions\n",
        "preds_train_t_OD = (preds_train_OD > 0.5).astype(np.uint8)\n",
        "preds_val_t_OD = (preds_val_OD > 0.5).astype(np.uint8)\n",
        "preds_train_t_OC = (preds_train_OC > 0.5).astype(np.uint8)\n",
        "preds_val_t_OC = (preds_val_OC > 0.5).astype(np.uint8)"
      ],
      "execution_count": null,
      "outputs": []
    },
    {
      "cell_type": "code",
      "metadata": {
        "id": "TfbllJBOtKwE"
      },
      "source": [
        "import scipy.ndimage\n",
        "import cv2\n",
        "def plot_sample(X, y, preds, binary_preds, ix=None):\n",
        "    \"\"\"Function to plot the results\"\"\"\n",
        "    if ix is None:\n",
        "        ix = random.randint(0, len(X))\n",
        "\n",
        "    has_mask = y[ix].max() > 0\n",
        "\n",
        "    fig, ax = plt.subplots(1, 5, figsize=(20, 10))\n",
        "    ax[0].imshow(X[ix, ..., 0], cmap='gray')\n",
        "    if has_mask:\n",
        "        ax[0].contour(y[ix].squeeze(), colors='k', levels=[0.5])\n",
        "    ax[0].set_title('Seismic')\n",
        "\n",
        "    ax[1].imshow(y[ix].squeeze(), cmap='gray')\n",
        "    ax[1].set_title('Salt')\n",
        "\n",
        "    ax[2].imshow(preds[ix].squeeze(), vmin=0, vmax=1)\n",
        "    if has_mask:\n",
        "        ax[2].contour(y[ix].squeeze(), colors='k', levels=[0.5])\n",
        "    ax[2].set_title('Salt Predicted')\n",
        "    \n",
        "    ax[3].imshow(binary_preds[ix].squeeze(), vmin=0, vmax=1)\n",
        "    if has_mask:\n",
        "        ax[3].contour(y[ix].squeeze(), colors='k', levels=[0.5])\n",
        "    ax[3].set_title('Salt Predicted binary');\n",
        "\n",
        "    resample = cv2.resize(binary_preds[ix].squeeze(), (550, 550), interpolation = cv2.INTER_CUBIC)\n",
        "    ax[4].imshow(resample)\n",
        "    ax[4].set_title('resampled')\n",
        "    print(resample.shape)"
      ],
      "execution_count": null,
      "outputs": []
    },
    {
      "cell_type": "markdown",
      "metadata": {
        "id": "wd79Qk2BDb2q"
      },
      "source": [
        "# Plot image"
      ]
    },
    {
      "cell_type": "code",
      "metadata": {
        "id": "eSbQLEzntKwF"
      },
      "source": [
        "# Check if training data looks all right\n",
        "plot_sample(X_train_OD, y_train_OD, preds_train_OD, preds_train_t_OD, ix=30)"
      ],
      "execution_count": null,
      "outputs": []
    },
    {
      "cell_type": "code",
      "metadata": {
        "id": "bmRgk9M6tKwF"
      },
      "source": [
        "plot_sample(X_train_OC, y_train_OC, preds_train_OC, preds_train_t_OC, ix=30)"
      ],
      "execution_count": null,
      "outputs": []
    },
    {
      "cell_type": "code",
      "metadata": {
        "id": "IKGSDdbltKwF"
      },
      "source": [
        "plot_sample(X_train_OD, y_train_OD, preds_train_OD, preds_train_t_OD, ix=1)"
      ],
      "execution_count": null,
      "outputs": []
    },
    {
      "cell_type": "code",
      "metadata": {
        "id": "X3m7nW4AMAUH"
      },
      "source": [
        "plot_sample(X_train_OC, y_train_OC, preds_train_OC, preds_train_t_OC, ix=1)"
      ],
      "execution_count": null,
      "outputs": []
    },
    {
      "cell_type": "markdown",
      "metadata": {
        "id": "JkkOxPnb0eYm"
      },
      "source": [
        "# Saving model"
      ]
    },
    {
      "cell_type": "code",
      "metadata": {
        "id": "bCdQf2aB3duL"
      },
      "source": [
        "model_OD.save('/content/gdrive/My Drive/Drive Tugas Akhir/Kode/model OD semantic/')\n",
        "model_OC.save('/content/gdrive/My Drive/Drive Tugas Akhir/Kode/model OC semantic/')"
      ],
      "execution_count": null,
      "outputs": []
    },
    {
      "cell_type": "markdown",
      "metadata": {
        "id": "4zBCoOZe58dK"
      },
      "source": [
        ""
      ]
    }
  ]
}