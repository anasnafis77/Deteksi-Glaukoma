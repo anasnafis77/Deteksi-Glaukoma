{
  "nbformat": 4,
  "nbformat_minor": 0,
  "metadata": {
    "colab": {
      "name": "Semantic segmentation.ipynb",
      "provenance": [],
      "include_colab_link": true
    },
    "kernelspec": {
      "name": "python3",
      "display_name": "Python 3"
    },
    "language_info": {
      "name": "python"
    },
    "widgets": {
      "application/vnd.jupyter.widget-state+json": {
        "44996134535043c0b84428dceb286943": {
          "model_module": "@jupyter-widgets/controls",
          "model_name": "HBoxModel",
          "state": {
            "_view_name": "HBoxView",
            "_dom_classes": [],
            "_model_name": "HBoxModel",
            "_view_module": "@jupyter-widgets/controls",
            "_model_module_version": "1.5.0",
            "_view_count": null,
            "_view_module_version": "1.5.0",
            "box_style": "",
            "layout": "IPY_MODEL_4e51ccd73064427898c1d5b96197cf5b",
            "_model_module": "@jupyter-widgets/controls",
            "children": [
              "IPY_MODEL_281fb29685cb49188e90f5ba8074c188",
              "IPY_MODEL_4c18a4fd4a1043ab9b6be8e5386ddc9b"
            ]
          }
        },
        "4e51ccd73064427898c1d5b96197cf5b": {
          "model_module": "@jupyter-widgets/base",
          "model_name": "LayoutModel",
          "state": {
            "_view_name": "LayoutView",
            "grid_template_rows": null,
            "right": null,
            "justify_content": null,
            "_view_module": "@jupyter-widgets/base",
            "overflow": null,
            "_model_module_version": "1.2.0",
            "_view_count": null,
            "flex_flow": null,
            "width": null,
            "min_width": null,
            "border": null,
            "align_items": null,
            "bottom": null,
            "_model_module": "@jupyter-widgets/base",
            "top": null,
            "grid_column": null,
            "overflow_y": null,
            "overflow_x": null,
            "grid_auto_flow": null,
            "grid_area": null,
            "grid_template_columns": null,
            "flex": null,
            "_model_name": "LayoutModel",
            "justify_items": null,
            "grid_row": null,
            "max_height": null,
            "align_content": null,
            "visibility": null,
            "align_self": null,
            "height": null,
            "min_height": null,
            "padding": null,
            "grid_auto_rows": null,
            "grid_gap": null,
            "max_width": null,
            "order": null,
            "_view_module_version": "1.2.0",
            "grid_template_areas": null,
            "object_position": null,
            "object_fit": null,
            "grid_auto_columns": null,
            "margin": null,
            "display": null,
            "left": null
          }
        },
        "281fb29685cb49188e90f5ba8074c188": {
          "model_module": "@jupyter-widgets/controls",
          "model_name": "FloatProgressModel",
          "state": {
            "_view_name": "ProgressView",
            "style": "IPY_MODEL_574db306321e433981ccb9f4af15e2ec",
            "_dom_classes": [],
            "description": "100%",
            "_model_name": "FloatProgressModel",
            "bar_style": "success",
            "max": 450,
            "_view_module": "@jupyter-widgets/controls",
            "_model_module_version": "1.5.0",
            "value": 450,
            "_view_count": null,
            "_view_module_version": "1.5.0",
            "orientation": "horizontal",
            "min": 0,
            "description_tooltip": null,
            "_model_module": "@jupyter-widgets/controls",
            "layout": "IPY_MODEL_b5a11c79eee9441db95ef315a212e1eb"
          }
        },
        "4c18a4fd4a1043ab9b6be8e5386ddc9b": {
          "model_module": "@jupyter-widgets/controls",
          "model_name": "HTMLModel",
          "state": {
            "_view_name": "HTMLView",
            "style": "IPY_MODEL_41a6e04c5aa14369b534079e8cbbfd46",
            "_dom_classes": [],
            "description": "",
            "_model_name": "HTMLModel",
            "placeholder": "​",
            "_view_module": "@jupyter-widgets/controls",
            "_model_module_version": "1.5.0",
            "value": " 450/450 [15:24&lt;00:00,  2.05s/it]",
            "_view_count": null,
            "_view_module_version": "1.5.0",
            "description_tooltip": null,
            "_model_module": "@jupyter-widgets/controls",
            "layout": "IPY_MODEL_fd7b8bcbd1ae4e5babeca3edec881e39"
          }
        },
        "574db306321e433981ccb9f4af15e2ec": {
          "model_module": "@jupyter-widgets/controls",
          "model_name": "ProgressStyleModel",
          "state": {
            "_view_name": "StyleView",
            "_model_name": "ProgressStyleModel",
            "description_width": "initial",
            "_view_module": "@jupyter-widgets/base",
            "_model_module_version": "1.5.0",
            "_view_count": null,
            "_view_module_version": "1.2.0",
            "bar_color": null,
            "_model_module": "@jupyter-widgets/controls"
          }
        },
        "b5a11c79eee9441db95ef315a212e1eb": {
          "model_module": "@jupyter-widgets/base",
          "model_name": "LayoutModel",
          "state": {
            "_view_name": "LayoutView",
            "grid_template_rows": null,
            "right": null,
            "justify_content": null,
            "_view_module": "@jupyter-widgets/base",
            "overflow": null,
            "_model_module_version": "1.2.0",
            "_view_count": null,
            "flex_flow": null,
            "width": null,
            "min_width": null,
            "border": null,
            "align_items": null,
            "bottom": null,
            "_model_module": "@jupyter-widgets/base",
            "top": null,
            "grid_column": null,
            "overflow_y": null,
            "overflow_x": null,
            "grid_auto_flow": null,
            "grid_area": null,
            "grid_template_columns": null,
            "flex": null,
            "_model_name": "LayoutModel",
            "justify_items": null,
            "grid_row": null,
            "max_height": null,
            "align_content": null,
            "visibility": null,
            "align_self": null,
            "height": null,
            "min_height": null,
            "padding": null,
            "grid_auto_rows": null,
            "grid_gap": null,
            "max_width": null,
            "order": null,
            "_view_module_version": "1.2.0",
            "grid_template_areas": null,
            "object_position": null,
            "object_fit": null,
            "grid_auto_columns": null,
            "margin": null,
            "display": null,
            "left": null
          }
        },
        "41a6e04c5aa14369b534079e8cbbfd46": {
          "model_module": "@jupyter-widgets/controls",
          "model_name": "DescriptionStyleModel",
          "state": {
            "_view_name": "StyleView",
            "_model_name": "DescriptionStyleModel",
            "description_width": "",
            "_view_module": "@jupyter-widgets/base",
            "_model_module_version": "1.5.0",
            "_view_count": null,
            "_view_module_version": "1.2.0",
            "_model_module": "@jupyter-widgets/controls"
          }
        },
        "fd7b8bcbd1ae4e5babeca3edec881e39": {
          "model_module": "@jupyter-widgets/base",
          "model_name": "LayoutModel",
          "state": {
            "_view_name": "LayoutView",
            "grid_template_rows": null,
            "right": null,
            "justify_content": null,
            "_view_module": "@jupyter-widgets/base",
            "overflow": null,
            "_model_module_version": "1.2.0",
            "_view_count": null,
            "flex_flow": null,
            "width": null,
            "min_width": null,
            "border": null,
            "align_items": null,
            "bottom": null,
            "_model_module": "@jupyter-widgets/base",
            "top": null,
            "grid_column": null,
            "overflow_y": null,
            "overflow_x": null,
            "grid_auto_flow": null,
            "grid_area": null,
            "grid_template_columns": null,
            "flex": null,
            "_model_name": "LayoutModel",
            "justify_items": null,
            "grid_row": null,
            "max_height": null,
            "align_content": null,
            "visibility": null,
            "align_self": null,
            "height": null,
            "min_height": null,
            "padding": null,
            "grid_auto_rows": null,
            "grid_gap": null,
            "max_width": null,
            "order": null,
            "_view_module_version": "1.2.0",
            "grid_template_areas": null,
            "object_position": null,
            "object_fit": null,
            "grid_auto_columns": null,
            "margin": null,
            "display": null,
            "left": null
          }
        },
        "b278039aecf64204940f83ecc18bd33a": {
          "model_module": "@jupyter-widgets/controls",
          "model_name": "HBoxModel",
          "state": {
            "_view_name": "HBoxView",
            "_dom_classes": [],
            "_model_name": "HBoxModel",
            "_view_module": "@jupyter-widgets/controls",
            "_model_module_version": "1.5.0",
            "_view_count": null,
            "_view_module_version": "1.5.0",
            "box_style": "",
            "layout": "IPY_MODEL_42f917a9348f47deb72b20db083c84f5",
            "_model_module": "@jupyter-widgets/controls",
            "children": [
              "IPY_MODEL_a36b621626204ca0bb79ba959f24ff3d",
              "IPY_MODEL_5d40bc1c0468404e8e2479dfa5c006d4"
            ]
          }
        },
        "42f917a9348f47deb72b20db083c84f5": {
          "model_module": "@jupyter-widgets/base",
          "model_name": "LayoutModel",
          "state": {
            "_view_name": "LayoutView",
            "grid_template_rows": null,
            "right": null,
            "justify_content": null,
            "_view_module": "@jupyter-widgets/base",
            "overflow": null,
            "_model_module_version": "1.2.0",
            "_view_count": null,
            "flex_flow": null,
            "width": null,
            "min_width": null,
            "border": null,
            "align_items": null,
            "bottom": null,
            "_model_module": "@jupyter-widgets/base",
            "top": null,
            "grid_column": null,
            "overflow_y": null,
            "overflow_x": null,
            "grid_auto_flow": null,
            "grid_area": null,
            "grid_template_columns": null,
            "flex": null,
            "_model_name": "LayoutModel",
            "justify_items": null,
            "grid_row": null,
            "max_height": null,
            "align_content": null,
            "visibility": null,
            "align_self": null,
            "height": null,
            "min_height": null,
            "padding": null,
            "grid_auto_rows": null,
            "grid_gap": null,
            "max_width": null,
            "order": null,
            "_view_module_version": "1.2.0",
            "grid_template_areas": null,
            "object_position": null,
            "object_fit": null,
            "grid_auto_columns": null,
            "margin": null,
            "display": null,
            "left": null
          }
        },
        "a36b621626204ca0bb79ba959f24ff3d": {
          "model_module": "@jupyter-widgets/controls",
          "model_name": "FloatProgressModel",
          "state": {
            "_view_name": "ProgressView",
            "style": "IPY_MODEL_37c56369409c455fa475c9892d0f0a0d",
            "_dom_classes": [],
            "description": "100%",
            "_model_name": "FloatProgressModel",
            "bar_style": "success",
            "max": 450,
            "_view_module": "@jupyter-widgets/controls",
            "_model_module_version": "1.5.0",
            "value": 450,
            "_view_count": null,
            "_view_module_version": "1.5.0",
            "orientation": "horizontal",
            "min": 0,
            "description_tooltip": null,
            "_model_module": "@jupyter-widgets/controls",
            "layout": "IPY_MODEL_33ec1234550a4e9ea260b6eaf40f9297"
          }
        },
        "5d40bc1c0468404e8e2479dfa5c006d4": {
          "model_module": "@jupyter-widgets/controls",
          "model_name": "HTMLModel",
          "state": {
            "_view_name": "HTMLView",
            "style": "IPY_MODEL_d8e5a6582dfe4b94b2b061af3ad8751f",
            "_dom_classes": [],
            "description": "",
            "_model_name": "HTMLModel",
            "placeholder": "​",
            "_view_module": "@jupyter-widgets/controls",
            "_model_module_version": "1.5.0",
            "value": " 450/450 [03:56&lt;00:00,  1.90it/s]",
            "_view_count": null,
            "_view_module_version": "1.5.0",
            "description_tooltip": null,
            "_model_module": "@jupyter-widgets/controls",
            "layout": "IPY_MODEL_d0cdf264854b4d888e5823d6d744e8e3"
          }
        },
        "37c56369409c455fa475c9892d0f0a0d": {
          "model_module": "@jupyter-widgets/controls",
          "model_name": "ProgressStyleModel",
          "state": {
            "_view_name": "StyleView",
            "_model_name": "ProgressStyleModel",
            "description_width": "initial",
            "_view_module": "@jupyter-widgets/base",
            "_model_module_version": "1.5.0",
            "_view_count": null,
            "_view_module_version": "1.2.0",
            "bar_color": null,
            "_model_module": "@jupyter-widgets/controls"
          }
        },
        "33ec1234550a4e9ea260b6eaf40f9297": {
          "model_module": "@jupyter-widgets/base",
          "model_name": "LayoutModel",
          "state": {
            "_view_name": "LayoutView",
            "grid_template_rows": null,
            "right": null,
            "justify_content": null,
            "_view_module": "@jupyter-widgets/base",
            "overflow": null,
            "_model_module_version": "1.2.0",
            "_view_count": null,
            "flex_flow": null,
            "width": null,
            "min_width": null,
            "border": null,
            "align_items": null,
            "bottom": null,
            "_model_module": "@jupyter-widgets/base",
            "top": null,
            "grid_column": null,
            "overflow_y": null,
            "overflow_x": null,
            "grid_auto_flow": null,
            "grid_area": null,
            "grid_template_columns": null,
            "flex": null,
            "_model_name": "LayoutModel",
            "justify_items": null,
            "grid_row": null,
            "max_height": null,
            "align_content": null,
            "visibility": null,
            "align_self": null,
            "height": null,
            "min_height": null,
            "padding": null,
            "grid_auto_rows": null,
            "grid_gap": null,
            "max_width": null,
            "order": null,
            "_view_module_version": "1.2.0",
            "grid_template_areas": null,
            "object_position": null,
            "object_fit": null,
            "grid_auto_columns": null,
            "margin": null,
            "display": null,
            "left": null
          }
        },
        "d8e5a6582dfe4b94b2b061af3ad8751f": {
          "model_module": "@jupyter-widgets/controls",
          "model_name": "DescriptionStyleModel",
          "state": {
            "_view_name": "StyleView",
            "_model_name": "DescriptionStyleModel",
            "description_width": "",
            "_view_module": "@jupyter-widgets/base",
            "_model_module_version": "1.5.0",
            "_view_count": null,
            "_view_module_version": "1.2.0",
            "_model_module": "@jupyter-widgets/controls"
          }
        },
        "d0cdf264854b4d888e5823d6d744e8e3": {
          "model_module": "@jupyter-widgets/base",
          "model_name": "LayoutModel",
          "state": {
            "_view_name": "LayoutView",
            "grid_template_rows": null,
            "right": null,
            "justify_content": null,
            "_view_module": "@jupyter-widgets/base",
            "overflow": null,
            "_model_module_version": "1.2.0",
            "_view_count": null,
            "flex_flow": null,
            "width": null,
            "min_width": null,
            "border": null,
            "align_items": null,
            "bottom": null,
            "_model_module": "@jupyter-widgets/base",
            "top": null,
            "grid_column": null,
            "overflow_y": null,
            "overflow_x": null,
            "grid_auto_flow": null,
            "grid_area": null,
            "grid_template_columns": null,
            "flex": null,
            "_model_name": "LayoutModel",
            "justify_items": null,
            "grid_row": null,
            "max_height": null,
            "align_content": null,
            "visibility": null,
            "align_self": null,
            "height": null,
            "min_height": null,
            "padding": null,
            "grid_auto_rows": null,
            "grid_gap": null,
            "max_width": null,
            "order": null,
            "_view_module_version": "1.2.0",
            "grid_template_areas": null,
            "object_position": null,
            "object_fit": null,
            "grid_auto_columns": null,
            "margin": null,
            "display": null,
            "left": null
          }
        },
        "192a2ddeba13487e92e01d05b80bdae1": {
          "model_module": "@jupyter-widgets/controls",
          "model_name": "HBoxModel",
          "state": {
            "_view_name": "HBoxView",
            "_dom_classes": [],
            "_model_name": "HBoxModel",
            "_view_module": "@jupyter-widgets/controls",
            "_model_module_version": "1.5.0",
            "_view_count": null,
            "_view_module_version": "1.5.0",
            "box_style": "",
            "layout": "IPY_MODEL_6a876dac0a6b4106a6172cbd4c9656d1",
            "_model_module": "@jupyter-widgets/controls",
            "children": [
              "IPY_MODEL_65f5df1a2d3943158b8c4adad6f39373",
              "IPY_MODEL_ee23de7a63c54f8b97a3770354d77c3c"
            ]
          }
        },
        "6a876dac0a6b4106a6172cbd4c9656d1": {
          "model_module": "@jupyter-widgets/base",
          "model_name": "LayoutModel",
          "state": {
            "_view_name": "LayoutView",
            "grid_template_rows": null,
            "right": null,
            "justify_content": null,
            "_view_module": "@jupyter-widgets/base",
            "overflow": null,
            "_model_module_version": "1.2.0",
            "_view_count": null,
            "flex_flow": null,
            "width": null,
            "min_width": null,
            "border": null,
            "align_items": null,
            "bottom": null,
            "_model_module": "@jupyter-widgets/base",
            "top": null,
            "grid_column": null,
            "overflow_y": null,
            "overflow_x": null,
            "grid_auto_flow": null,
            "grid_area": null,
            "grid_template_columns": null,
            "flex": null,
            "_model_name": "LayoutModel",
            "justify_items": null,
            "grid_row": null,
            "max_height": null,
            "align_content": null,
            "visibility": null,
            "align_self": null,
            "height": null,
            "min_height": null,
            "padding": null,
            "grid_auto_rows": null,
            "grid_gap": null,
            "max_width": null,
            "order": null,
            "_view_module_version": "1.2.0",
            "grid_template_areas": null,
            "object_position": null,
            "object_fit": null,
            "grid_auto_columns": null,
            "margin": null,
            "display": null,
            "left": null
          }
        },
        "65f5df1a2d3943158b8c4adad6f39373": {
          "model_module": "@jupyter-widgets/controls",
          "model_name": "FloatProgressModel",
          "state": {
            "_view_name": "ProgressView",
            "style": "IPY_MODEL_9b13be071d2d48ea9648dac6d695a215",
            "_dom_classes": [],
            "description": "100%",
            "_model_name": "FloatProgressModel",
            "bar_style": "success",
            "max": 450,
            "_view_module": "@jupyter-widgets/controls",
            "_model_module_version": "1.5.0",
            "value": 450,
            "_view_count": null,
            "_view_module_version": "1.5.0",
            "orientation": "horizontal",
            "min": 0,
            "description_tooltip": null,
            "_model_module": "@jupyter-widgets/controls",
            "layout": "IPY_MODEL_d45d00c307284898af4752e3bf51d5b0"
          }
        },
        "ee23de7a63c54f8b97a3770354d77c3c": {
          "model_module": "@jupyter-widgets/controls",
          "model_name": "HTMLModel",
          "state": {
            "_view_name": "HTMLView",
            "style": "IPY_MODEL_ebb37a2430b147dd9b9ddfdbb0d2eacd",
            "_dom_classes": [],
            "description": "",
            "_model_name": "HTMLModel",
            "placeholder": "​",
            "_view_module": "@jupyter-widgets/controls",
            "_model_module_version": "1.5.0",
            "value": " 450/450 [02:41&lt;00:00,  2.79it/s]",
            "_view_count": null,
            "_view_module_version": "1.5.0",
            "description_tooltip": null,
            "_model_module": "@jupyter-widgets/controls",
            "layout": "IPY_MODEL_4452d3c088c84c1c92412aa42b18ea71"
          }
        },
        "9b13be071d2d48ea9648dac6d695a215": {
          "model_module": "@jupyter-widgets/controls",
          "model_name": "ProgressStyleModel",
          "state": {
            "_view_name": "StyleView",
            "_model_name": "ProgressStyleModel",
            "description_width": "initial",
            "_view_module": "@jupyter-widgets/base",
            "_model_module_version": "1.5.0",
            "_view_count": null,
            "_view_module_version": "1.2.0",
            "bar_color": null,
            "_model_module": "@jupyter-widgets/controls"
          }
        },
        "d45d00c307284898af4752e3bf51d5b0": {
          "model_module": "@jupyter-widgets/base",
          "model_name": "LayoutModel",
          "state": {
            "_view_name": "LayoutView",
            "grid_template_rows": null,
            "right": null,
            "justify_content": null,
            "_view_module": "@jupyter-widgets/base",
            "overflow": null,
            "_model_module_version": "1.2.0",
            "_view_count": null,
            "flex_flow": null,
            "width": null,
            "min_width": null,
            "border": null,
            "align_items": null,
            "bottom": null,
            "_model_module": "@jupyter-widgets/base",
            "top": null,
            "grid_column": null,
            "overflow_y": null,
            "overflow_x": null,
            "grid_auto_flow": null,
            "grid_area": null,
            "grid_template_columns": null,
            "flex": null,
            "_model_name": "LayoutModel",
            "justify_items": null,
            "grid_row": null,
            "max_height": null,
            "align_content": null,
            "visibility": null,
            "align_self": null,
            "height": null,
            "min_height": null,
            "padding": null,
            "grid_auto_rows": null,
            "grid_gap": null,
            "max_width": null,
            "order": null,
            "_view_module_version": "1.2.0",
            "grid_template_areas": null,
            "object_position": null,
            "object_fit": null,
            "grid_auto_columns": null,
            "margin": null,
            "display": null,
            "left": null
          }
        },
        "ebb37a2430b147dd9b9ddfdbb0d2eacd": {
          "model_module": "@jupyter-widgets/controls",
          "model_name": "DescriptionStyleModel",
          "state": {
            "_view_name": "StyleView",
            "_model_name": "DescriptionStyleModel",
            "description_width": "",
            "_view_module": "@jupyter-widgets/base",
            "_model_module_version": "1.5.0",
            "_view_count": null,
            "_view_module_version": "1.2.0",
            "_model_module": "@jupyter-widgets/controls"
          }
        },
        "4452d3c088c84c1c92412aa42b18ea71": {
          "model_module": "@jupyter-widgets/base",
          "model_name": "LayoutModel",
          "state": {
            "_view_name": "LayoutView",
            "grid_template_rows": null,
            "right": null,
            "justify_content": null,
            "_view_module": "@jupyter-widgets/base",
            "overflow": null,
            "_model_module_version": "1.2.0",
            "_view_count": null,
            "flex_flow": null,
            "width": null,
            "min_width": null,
            "border": null,
            "align_items": null,
            "bottom": null,
            "_model_module": "@jupyter-widgets/base",
            "top": null,
            "grid_column": null,
            "overflow_y": null,
            "overflow_x": null,
            "grid_auto_flow": null,
            "grid_area": null,
            "grid_template_columns": null,
            "flex": null,
            "_model_name": "LayoutModel",
            "justify_items": null,
            "grid_row": null,
            "max_height": null,
            "align_content": null,
            "visibility": null,
            "align_self": null,
            "height": null,
            "min_height": null,
            "padding": null,
            "grid_auto_rows": null,
            "grid_gap": null,
            "max_width": null,
            "order": null,
            "_view_module_version": "1.2.0",
            "grid_template_areas": null,
            "object_position": null,
            "object_fit": null,
            "grid_auto_columns": null,
            "margin": null,
            "display": null,
            "left": null
          }
        },
        "af207f8854bf43ecb359bfa4e55da3ea": {
          "model_module": "@jupyter-widgets/controls",
          "model_name": "HBoxModel",
          "state": {
            "_view_name": "HBoxView",
            "_dom_classes": [],
            "_model_name": "HBoxModel",
            "_view_module": "@jupyter-widgets/controls",
            "_model_module_version": "1.5.0",
            "_view_count": null,
            "_view_module_version": "1.5.0",
            "box_style": "",
            "layout": "IPY_MODEL_34eb0584090646da92dc55b8263ca758",
            "_model_module": "@jupyter-widgets/controls",
            "children": [
              "IPY_MODEL_5def4bc8a6ea4f6db76fc8c76fb2fe11",
              "IPY_MODEL_e2dd868cc1844dc39dfcaf85815fda82"
            ]
          }
        },
        "34eb0584090646da92dc55b8263ca758": {
          "model_module": "@jupyter-widgets/base",
          "model_name": "LayoutModel",
          "state": {
            "_view_name": "LayoutView",
            "grid_template_rows": null,
            "right": null,
            "justify_content": null,
            "_view_module": "@jupyter-widgets/base",
            "overflow": null,
            "_model_module_version": "1.2.0",
            "_view_count": null,
            "flex_flow": null,
            "width": null,
            "min_width": null,
            "border": null,
            "align_items": null,
            "bottom": null,
            "_model_module": "@jupyter-widgets/base",
            "top": null,
            "grid_column": null,
            "overflow_y": null,
            "overflow_x": null,
            "grid_auto_flow": null,
            "grid_area": null,
            "grid_template_columns": null,
            "flex": null,
            "_model_name": "LayoutModel",
            "justify_items": null,
            "grid_row": null,
            "max_height": null,
            "align_content": null,
            "visibility": null,
            "align_self": null,
            "height": null,
            "min_height": null,
            "padding": null,
            "grid_auto_rows": null,
            "grid_gap": null,
            "max_width": null,
            "order": null,
            "_view_module_version": "1.2.0",
            "grid_template_areas": null,
            "object_position": null,
            "object_fit": null,
            "grid_auto_columns": null,
            "margin": null,
            "display": null,
            "left": null
          }
        },
        "5def4bc8a6ea4f6db76fc8c76fb2fe11": {
          "model_module": "@jupyter-widgets/controls",
          "model_name": "FloatProgressModel",
          "state": {
            "_view_name": "ProgressView",
            "style": "IPY_MODEL_a462ef4911e2427991c0f1e50e7f8a49",
            "_dom_classes": [],
            "description": "100%",
            "_model_name": "FloatProgressModel",
            "bar_style": "success",
            "max": 1,
            "_view_module": "@jupyter-widgets/controls",
            "_model_module_version": "1.5.0",
            "value": 1,
            "_view_count": null,
            "_view_module_version": "1.5.0",
            "orientation": "horizontal",
            "min": 0,
            "description_tooltip": null,
            "_model_module": "@jupyter-widgets/controls",
            "layout": "IPY_MODEL_f853377c0d8c4779a14e80a7f13de328"
          }
        },
        "e2dd868cc1844dc39dfcaf85815fda82": {
          "model_module": "@jupyter-widgets/controls",
          "model_name": "HTMLModel",
          "state": {
            "_view_name": "HTMLView",
            "style": "IPY_MODEL_a5b4172250fa4db89ea3fdc633dc2785",
            "_dom_classes": [],
            "description": "",
            "_model_name": "HTMLModel",
            "placeholder": "​",
            "_view_module": "@jupyter-widgets/controls",
            "_model_module_version": "1.5.0",
            "value": " 1/1 [02:03&lt;00:00, 123.45s/it]",
            "_view_count": null,
            "_view_module_version": "1.5.0",
            "description_tooltip": null,
            "_model_module": "@jupyter-widgets/controls",
            "layout": "IPY_MODEL_11180ef1826c446192aa63efafa2e412"
          }
        },
        "a462ef4911e2427991c0f1e50e7f8a49": {
          "model_module": "@jupyter-widgets/controls",
          "model_name": "ProgressStyleModel",
          "state": {
            "_view_name": "StyleView",
            "_model_name": "ProgressStyleModel",
            "description_width": "initial",
            "_view_module": "@jupyter-widgets/base",
            "_model_module_version": "1.5.0",
            "_view_count": null,
            "_view_module_version": "1.2.0",
            "bar_color": null,
            "_model_module": "@jupyter-widgets/controls"
          }
        },
        "f853377c0d8c4779a14e80a7f13de328": {
          "model_module": "@jupyter-widgets/base",
          "model_name": "LayoutModel",
          "state": {
            "_view_name": "LayoutView",
            "grid_template_rows": null,
            "right": null,
            "justify_content": null,
            "_view_module": "@jupyter-widgets/base",
            "overflow": null,
            "_model_module_version": "1.2.0",
            "_view_count": null,
            "flex_flow": null,
            "width": null,
            "min_width": null,
            "border": null,
            "align_items": null,
            "bottom": null,
            "_model_module": "@jupyter-widgets/base",
            "top": null,
            "grid_column": null,
            "overflow_y": null,
            "overflow_x": null,
            "grid_auto_flow": null,
            "grid_area": null,
            "grid_template_columns": null,
            "flex": null,
            "_model_name": "LayoutModel",
            "justify_items": null,
            "grid_row": null,
            "max_height": null,
            "align_content": null,
            "visibility": null,
            "align_self": null,
            "height": null,
            "min_height": null,
            "padding": null,
            "grid_auto_rows": null,
            "grid_gap": null,
            "max_width": null,
            "order": null,
            "_view_module_version": "1.2.0",
            "grid_template_areas": null,
            "object_position": null,
            "object_fit": null,
            "grid_auto_columns": null,
            "margin": null,
            "display": null,
            "left": null
          }
        },
        "a5b4172250fa4db89ea3fdc633dc2785": {
          "model_module": "@jupyter-widgets/controls",
          "model_name": "DescriptionStyleModel",
          "state": {
            "_view_name": "StyleView",
            "_model_name": "DescriptionStyleModel",
            "description_width": "",
            "_view_module": "@jupyter-widgets/base",
            "_model_module_version": "1.5.0",
            "_view_count": null,
            "_view_module_version": "1.2.0",
            "_model_module": "@jupyter-widgets/controls"
          }
        },
        "11180ef1826c446192aa63efafa2e412": {
          "model_module": "@jupyter-widgets/base",
          "model_name": "LayoutModel",
          "state": {
            "_view_name": "LayoutView",
            "grid_template_rows": null,
            "right": null,
            "justify_content": null,
            "_view_module": "@jupyter-widgets/base",
            "overflow": null,
            "_model_module_version": "1.2.0",
            "_view_count": null,
            "flex_flow": null,
            "width": null,
            "min_width": null,
            "border": null,
            "align_items": null,
            "bottom": null,
            "_model_module": "@jupyter-widgets/base",
            "top": null,
            "grid_column": null,
            "overflow_y": null,
            "overflow_x": null,
            "grid_auto_flow": null,
            "grid_area": null,
            "grid_template_columns": null,
            "flex": null,
            "_model_name": "LayoutModel",
            "justify_items": null,
            "grid_row": null,
            "max_height": null,
            "align_content": null,
            "visibility": null,
            "align_self": null,
            "height": null,
            "min_height": null,
            "padding": null,
            "grid_auto_rows": null,
            "grid_gap": null,
            "max_width": null,
            "order": null,
            "_view_module_version": "1.2.0",
            "grid_template_areas": null,
            "object_position": null,
            "object_fit": null,
            "grid_auto_columns": null,
            "margin": null,
            "display": null,
            "left": null
          }
        },
        "1e6e86e45de9421aab8894755dab783c": {
          "model_module": "@jupyter-widgets/controls",
          "model_name": "HBoxModel",
          "state": {
            "_view_name": "HBoxView",
            "_dom_classes": [],
            "_model_name": "HBoxModel",
            "_view_module": "@jupyter-widgets/controls",
            "_model_module_version": "1.5.0",
            "_view_count": null,
            "_view_module_version": "1.5.0",
            "box_style": "",
            "layout": "IPY_MODEL_314f00d502ff4fbe9317b4d28796488e",
            "_model_module": "@jupyter-widgets/controls",
            "children": [
              "IPY_MODEL_9ddf3fbbaf564ca78bf50c91b88e3817",
              "IPY_MODEL_42623c65b9b74af4908f1c6d75f5999f"
            ]
          }
        },
        "314f00d502ff4fbe9317b4d28796488e": {
          "model_module": "@jupyter-widgets/base",
          "model_name": "LayoutModel",
          "state": {
            "_view_name": "LayoutView",
            "grid_template_rows": null,
            "right": null,
            "justify_content": null,
            "_view_module": "@jupyter-widgets/base",
            "overflow": null,
            "_model_module_version": "1.2.0",
            "_view_count": null,
            "flex_flow": null,
            "width": null,
            "min_width": null,
            "border": null,
            "align_items": null,
            "bottom": null,
            "_model_module": "@jupyter-widgets/base",
            "top": null,
            "grid_column": null,
            "overflow_y": null,
            "overflow_x": null,
            "grid_auto_flow": null,
            "grid_area": null,
            "grid_template_columns": null,
            "flex": null,
            "_model_name": "LayoutModel",
            "justify_items": null,
            "grid_row": null,
            "max_height": null,
            "align_content": null,
            "visibility": null,
            "align_self": null,
            "height": null,
            "min_height": null,
            "padding": null,
            "grid_auto_rows": null,
            "grid_gap": null,
            "max_width": null,
            "order": null,
            "_view_module_version": "1.2.0",
            "grid_template_areas": null,
            "object_position": null,
            "object_fit": null,
            "grid_auto_columns": null,
            "margin": null,
            "display": null,
            "left": null
          }
        },
        "9ddf3fbbaf564ca78bf50c91b88e3817": {
          "model_module": "@jupyter-widgets/controls",
          "model_name": "FloatProgressModel",
          "state": {
            "_view_name": "ProgressView",
            "style": "IPY_MODEL_14bb3b4b5a744e1dae6ba92fab526f80",
            "_dom_classes": [],
            "description": "100%",
            "_model_name": "FloatProgressModel",
            "bar_style": "success",
            "max": 1,
            "_view_module": "@jupyter-widgets/controls",
            "_model_module_version": "1.5.0",
            "value": 1,
            "_view_count": null,
            "_view_module_version": "1.5.0",
            "orientation": "horizontal",
            "min": 0,
            "description_tooltip": null,
            "_model_module": "@jupyter-widgets/controls",
            "layout": "IPY_MODEL_e10623b132bd458bbc1b70bbbeee23e9"
          }
        },
        "42623c65b9b74af4908f1c6d75f5999f": {
          "model_module": "@jupyter-widgets/controls",
          "model_name": "HTMLModel",
          "state": {
            "_view_name": "HTMLView",
            "style": "IPY_MODEL_dab6de1fad604969a9275b89c47a0846",
            "_dom_classes": [],
            "description": "",
            "_model_name": "HTMLModel",
            "placeholder": "​",
            "_view_module": "@jupyter-widgets/controls",
            "_model_module_version": "1.5.0",
            "value": " 1/1 [00:32&lt;00:00, 32.56s/it]",
            "_view_count": null,
            "_view_module_version": "1.5.0",
            "description_tooltip": null,
            "_model_module": "@jupyter-widgets/controls",
            "layout": "IPY_MODEL_5ed6a7ccd2f342049e49dd96b53a8556"
          }
        },
        "14bb3b4b5a744e1dae6ba92fab526f80": {
          "model_module": "@jupyter-widgets/controls",
          "model_name": "ProgressStyleModel",
          "state": {
            "_view_name": "StyleView",
            "_model_name": "ProgressStyleModel",
            "description_width": "initial",
            "_view_module": "@jupyter-widgets/base",
            "_model_module_version": "1.5.0",
            "_view_count": null,
            "_view_module_version": "1.2.0",
            "bar_color": null,
            "_model_module": "@jupyter-widgets/controls"
          }
        },
        "e10623b132bd458bbc1b70bbbeee23e9": {
          "model_module": "@jupyter-widgets/base",
          "model_name": "LayoutModel",
          "state": {
            "_view_name": "LayoutView",
            "grid_template_rows": null,
            "right": null,
            "justify_content": null,
            "_view_module": "@jupyter-widgets/base",
            "overflow": null,
            "_model_module_version": "1.2.0",
            "_view_count": null,
            "flex_flow": null,
            "width": null,
            "min_width": null,
            "border": null,
            "align_items": null,
            "bottom": null,
            "_model_module": "@jupyter-widgets/base",
            "top": null,
            "grid_column": null,
            "overflow_y": null,
            "overflow_x": null,
            "grid_auto_flow": null,
            "grid_area": null,
            "grid_template_columns": null,
            "flex": null,
            "_model_name": "LayoutModel",
            "justify_items": null,
            "grid_row": null,
            "max_height": null,
            "align_content": null,
            "visibility": null,
            "align_self": null,
            "height": null,
            "min_height": null,
            "padding": null,
            "grid_auto_rows": null,
            "grid_gap": null,
            "max_width": null,
            "order": null,
            "_view_module_version": "1.2.0",
            "grid_template_areas": null,
            "object_position": null,
            "object_fit": null,
            "grid_auto_columns": null,
            "margin": null,
            "display": null,
            "left": null
          }
        },
        "dab6de1fad604969a9275b89c47a0846": {
          "model_module": "@jupyter-widgets/controls",
          "model_name": "DescriptionStyleModel",
          "state": {
            "_view_name": "StyleView",
            "_model_name": "DescriptionStyleModel",
            "description_width": "",
            "_view_module": "@jupyter-widgets/base",
            "_model_module_version": "1.5.0",
            "_view_count": null,
            "_view_module_version": "1.2.0",
            "_model_module": "@jupyter-widgets/controls"
          }
        },
        "5ed6a7ccd2f342049e49dd96b53a8556": {
          "model_module": "@jupyter-widgets/base",
          "model_name": "LayoutModel",
          "state": {
            "_view_name": "LayoutView",
            "grid_template_rows": null,
            "right": null,
            "justify_content": null,
            "_view_module": "@jupyter-widgets/base",
            "overflow": null,
            "_model_module_version": "1.2.0",
            "_view_count": null,
            "flex_flow": null,
            "width": null,
            "min_width": null,
            "border": null,
            "align_items": null,
            "bottom": null,
            "_model_module": "@jupyter-widgets/base",
            "top": null,
            "grid_column": null,
            "overflow_y": null,
            "overflow_x": null,
            "grid_auto_flow": null,
            "grid_area": null,
            "grid_template_columns": null,
            "flex": null,
            "_model_name": "LayoutModel",
            "justify_items": null,
            "grid_row": null,
            "max_height": null,
            "align_content": null,
            "visibility": null,
            "align_self": null,
            "height": null,
            "min_height": null,
            "padding": null,
            "grid_auto_rows": null,
            "grid_gap": null,
            "max_width": null,
            "order": null,
            "_view_module_version": "1.2.0",
            "grid_template_areas": null,
            "object_position": null,
            "object_fit": null,
            "grid_auto_columns": null,
            "margin": null,
            "display": null,
            "left": null
          }
        },
        "fbcf8d7f8519429a9ce0f1be95d98b5e": {
          "model_module": "@jupyter-widgets/controls",
          "model_name": "HBoxModel",
          "state": {
            "_view_name": "HBoxView",
            "_dom_classes": [],
            "_model_name": "HBoxModel",
            "_view_module": "@jupyter-widgets/controls",
            "_model_module_version": "1.5.0",
            "_view_count": null,
            "_view_module_version": "1.5.0",
            "box_style": "",
            "layout": "IPY_MODEL_eb2301764aa3428e85aa720f9b74c63c",
            "_model_module": "@jupyter-widgets/controls",
            "children": [
              "IPY_MODEL_4b1276859f29458b83c43870e3eff62f",
              "IPY_MODEL_426dbc3ea47b478e8f51b123c213b507"
            ]
          }
        },
        "eb2301764aa3428e85aa720f9b74c63c": {
          "model_module": "@jupyter-widgets/base",
          "model_name": "LayoutModel",
          "state": {
            "_view_name": "LayoutView",
            "grid_template_rows": null,
            "right": null,
            "justify_content": null,
            "_view_module": "@jupyter-widgets/base",
            "overflow": null,
            "_model_module_version": "1.2.0",
            "_view_count": null,
            "flex_flow": null,
            "width": null,
            "min_width": null,
            "border": null,
            "align_items": null,
            "bottom": null,
            "_model_module": "@jupyter-widgets/base",
            "top": null,
            "grid_column": null,
            "overflow_y": null,
            "overflow_x": null,
            "grid_auto_flow": null,
            "grid_area": null,
            "grid_template_columns": null,
            "flex": null,
            "_model_name": "LayoutModel",
            "justify_items": null,
            "grid_row": null,
            "max_height": null,
            "align_content": null,
            "visibility": null,
            "align_self": null,
            "height": null,
            "min_height": null,
            "padding": null,
            "grid_auto_rows": null,
            "grid_gap": null,
            "max_width": null,
            "order": null,
            "_view_module_version": "1.2.0",
            "grid_template_areas": null,
            "object_position": null,
            "object_fit": null,
            "grid_auto_columns": null,
            "margin": null,
            "display": null,
            "left": null
          }
        },
        "4b1276859f29458b83c43870e3eff62f": {
          "model_module": "@jupyter-widgets/controls",
          "model_name": "FloatProgressModel",
          "state": {
            "_view_name": "ProgressView",
            "style": "IPY_MODEL_809d479eeb244a3e88ccaf7135dd4593",
            "_dom_classes": [],
            "description": " 80%",
            "_model_name": "FloatProgressModel",
            "bar_style": "danger",
            "max": 5,
            "_view_module": "@jupyter-widgets/controls",
            "_model_module_version": "1.5.0",
            "value": 4,
            "_view_count": null,
            "_view_module_version": "1.5.0",
            "orientation": "horizontal",
            "min": 0,
            "description_tooltip": null,
            "_model_module": "@jupyter-widgets/controls",
            "layout": "IPY_MODEL_b256dc6fb8e0459b9ac555693b6fb3af"
          }
        },
        "426dbc3ea47b478e8f51b123c213b507": {
          "model_module": "@jupyter-widgets/controls",
          "model_name": "HTMLModel",
          "state": {
            "_view_name": "HTMLView",
            "style": "IPY_MODEL_a0c1f57dbc7e4a92a4c88687204ecddc",
            "_dom_classes": [],
            "description": "",
            "_model_name": "HTMLModel",
            "placeholder": "​",
            "_view_module": "@jupyter-widgets/controls",
            "_model_module_version": "1.5.0",
            "value": " 4/5 [1:25:24&lt;19:52, 1192.99s/it]",
            "_view_count": null,
            "_view_module_version": "1.5.0",
            "description_tooltip": null,
            "_model_module": "@jupyter-widgets/controls",
            "layout": "IPY_MODEL_458c6590fd8f4d4aa2c2e852f0aae832"
          }
        },
        "809d479eeb244a3e88ccaf7135dd4593": {
          "model_module": "@jupyter-widgets/controls",
          "model_name": "ProgressStyleModel",
          "state": {
            "_view_name": "StyleView",
            "_model_name": "ProgressStyleModel",
            "description_width": "initial",
            "_view_module": "@jupyter-widgets/base",
            "_model_module_version": "1.5.0",
            "_view_count": null,
            "_view_module_version": "1.2.0",
            "bar_color": null,
            "_model_module": "@jupyter-widgets/controls"
          }
        },
        "b256dc6fb8e0459b9ac555693b6fb3af": {
          "model_module": "@jupyter-widgets/base",
          "model_name": "LayoutModel",
          "state": {
            "_view_name": "LayoutView",
            "grid_template_rows": null,
            "right": null,
            "justify_content": null,
            "_view_module": "@jupyter-widgets/base",
            "overflow": null,
            "_model_module_version": "1.2.0",
            "_view_count": null,
            "flex_flow": null,
            "width": null,
            "min_width": null,
            "border": null,
            "align_items": null,
            "bottom": null,
            "_model_module": "@jupyter-widgets/base",
            "top": null,
            "grid_column": null,
            "overflow_y": null,
            "overflow_x": null,
            "grid_auto_flow": null,
            "grid_area": null,
            "grid_template_columns": null,
            "flex": null,
            "_model_name": "LayoutModel",
            "justify_items": null,
            "grid_row": null,
            "max_height": null,
            "align_content": null,
            "visibility": null,
            "align_self": null,
            "height": null,
            "min_height": null,
            "padding": null,
            "grid_auto_rows": null,
            "grid_gap": null,
            "max_width": null,
            "order": null,
            "_view_module_version": "1.2.0",
            "grid_template_areas": null,
            "object_position": null,
            "object_fit": null,
            "grid_auto_columns": null,
            "margin": null,
            "display": null,
            "left": null
          }
        },
        "a0c1f57dbc7e4a92a4c88687204ecddc": {
          "model_module": "@jupyter-widgets/controls",
          "model_name": "DescriptionStyleModel",
          "state": {
            "_view_name": "StyleView",
            "_model_name": "DescriptionStyleModel",
            "description_width": "",
            "_view_module": "@jupyter-widgets/base",
            "_model_module_version": "1.5.0",
            "_view_count": null,
            "_view_module_version": "1.2.0",
            "_model_module": "@jupyter-widgets/controls"
          }
        },
        "458c6590fd8f4d4aa2c2e852f0aae832": {
          "model_module": "@jupyter-widgets/base",
          "model_name": "LayoutModel",
          "state": {
            "_view_name": "LayoutView",
            "grid_template_rows": null,
            "right": null,
            "justify_content": null,
            "_view_module": "@jupyter-widgets/base",
            "overflow": null,
            "_model_module_version": "1.2.0",
            "_view_count": null,
            "flex_flow": null,
            "width": null,
            "min_width": null,
            "border": null,
            "align_items": null,
            "bottom": null,
            "_model_module": "@jupyter-widgets/base",
            "top": null,
            "grid_column": null,
            "overflow_y": null,
            "overflow_x": null,
            "grid_auto_flow": null,
            "grid_area": null,
            "grid_template_columns": null,
            "flex": null,
            "_model_name": "LayoutModel",
            "justify_items": null,
            "grid_row": null,
            "max_height": null,
            "align_content": null,
            "visibility": null,
            "align_self": null,
            "height": null,
            "min_height": null,
            "padding": null,
            "grid_auto_rows": null,
            "grid_gap": null,
            "max_width": null,
            "order": null,
            "_view_module_version": "1.2.0",
            "grid_template_areas": null,
            "object_position": null,
            "object_fit": null,
            "grid_auto_columns": null,
            "margin": null,
            "display": null,
            "left": null
          }
        },
        "2da8903c13994e75a589e158f953e0a5": {
          "model_module": "@jupyter-widgets/controls",
          "model_name": "HBoxModel",
          "state": {
            "_view_name": "HBoxView",
            "_dom_classes": [],
            "_model_name": "HBoxModel",
            "_view_module": "@jupyter-widgets/controls",
            "_model_module_version": "1.5.0",
            "_view_count": null,
            "_view_module_version": "1.5.0",
            "box_style": "",
            "layout": "IPY_MODEL_dae6f4d0011e4e36b2ed471038489316",
            "_model_module": "@jupyter-widgets/controls",
            "children": [
              "IPY_MODEL_9f511560436d4abbb5d4597df396e1f0",
              "IPY_MODEL_e3b5a52e953645faa4ee4f79d34d544c"
            ]
          }
        },
        "dae6f4d0011e4e36b2ed471038489316": {
          "model_module": "@jupyter-widgets/base",
          "model_name": "LayoutModel",
          "state": {
            "_view_name": "LayoutView",
            "grid_template_rows": null,
            "right": null,
            "justify_content": null,
            "_view_module": "@jupyter-widgets/base",
            "overflow": null,
            "_model_module_version": "1.2.0",
            "_view_count": null,
            "flex_flow": null,
            "width": null,
            "min_width": null,
            "border": null,
            "align_items": null,
            "bottom": null,
            "_model_module": "@jupyter-widgets/base",
            "top": null,
            "grid_column": null,
            "overflow_y": null,
            "overflow_x": null,
            "grid_auto_flow": null,
            "grid_area": null,
            "grid_template_columns": null,
            "flex": null,
            "_model_name": "LayoutModel",
            "justify_items": null,
            "grid_row": null,
            "max_height": null,
            "align_content": null,
            "visibility": null,
            "align_self": null,
            "height": null,
            "min_height": null,
            "padding": null,
            "grid_auto_rows": null,
            "grid_gap": null,
            "max_width": null,
            "order": null,
            "_view_module_version": "1.2.0",
            "grid_template_areas": null,
            "object_position": null,
            "object_fit": null,
            "grid_auto_columns": null,
            "margin": null,
            "display": null,
            "left": null
          }
        },
        "9f511560436d4abbb5d4597df396e1f0": {
          "model_module": "@jupyter-widgets/controls",
          "model_name": "FloatProgressModel",
          "state": {
            "_view_name": "ProgressView",
            "style": "IPY_MODEL_726637e04fdd4e42a3693e9365a7df8e",
            "_dom_classes": [],
            "description": "100%",
            "_model_name": "FloatProgressModel",
            "bar_style": "success",
            "max": 5,
            "_view_module": "@jupyter-widgets/controls",
            "_model_module_version": "1.5.0",
            "value": 5,
            "_view_count": null,
            "_view_module_version": "1.5.0",
            "orientation": "horizontal",
            "min": 0,
            "description_tooltip": null,
            "_model_module": "@jupyter-widgets/controls",
            "layout": "IPY_MODEL_c1efa2d494364e9c9fd32065e55ed3a6"
          }
        },
        "e3b5a52e953645faa4ee4f79d34d544c": {
          "model_module": "@jupyter-widgets/controls",
          "model_name": "HTMLModel",
          "state": {
            "_view_name": "HTMLView",
            "style": "IPY_MODEL_9f0f923337604305849cc2f541329717",
            "_dom_classes": [],
            "description": "",
            "_model_name": "HTMLModel",
            "placeholder": "​",
            "_view_module": "@jupyter-widgets/controls",
            "_model_module_version": "1.5.0",
            "value": " 5/5 [1:49:01&lt;00:00, 1308.23s/it]",
            "_view_count": null,
            "_view_module_version": "1.5.0",
            "description_tooltip": null,
            "_model_module": "@jupyter-widgets/controls",
            "layout": "IPY_MODEL_3fe7e991e5624212b110d698996a24e7"
          }
        },
        "726637e04fdd4e42a3693e9365a7df8e": {
          "model_module": "@jupyter-widgets/controls",
          "model_name": "ProgressStyleModel",
          "state": {
            "_view_name": "StyleView",
            "_model_name": "ProgressStyleModel",
            "description_width": "initial",
            "_view_module": "@jupyter-widgets/base",
            "_model_module_version": "1.5.0",
            "_view_count": null,
            "_view_module_version": "1.2.0",
            "bar_color": null,
            "_model_module": "@jupyter-widgets/controls"
          }
        },
        "c1efa2d494364e9c9fd32065e55ed3a6": {
          "model_module": "@jupyter-widgets/base",
          "model_name": "LayoutModel",
          "state": {
            "_view_name": "LayoutView",
            "grid_template_rows": null,
            "right": null,
            "justify_content": null,
            "_view_module": "@jupyter-widgets/base",
            "overflow": null,
            "_model_module_version": "1.2.0",
            "_view_count": null,
            "flex_flow": null,
            "width": null,
            "min_width": null,
            "border": null,
            "align_items": null,
            "bottom": null,
            "_model_module": "@jupyter-widgets/base",
            "top": null,
            "grid_column": null,
            "overflow_y": null,
            "overflow_x": null,
            "grid_auto_flow": null,
            "grid_area": null,
            "grid_template_columns": null,
            "flex": null,
            "_model_name": "LayoutModel",
            "justify_items": null,
            "grid_row": null,
            "max_height": null,
            "align_content": null,
            "visibility": null,
            "align_self": null,
            "height": null,
            "min_height": null,
            "padding": null,
            "grid_auto_rows": null,
            "grid_gap": null,
            "max_width": null,
            "order": null,
            "_view_module_version": "1.2.0",
            "grid_template_areas": null,
            "object_position": null,
            "object_fit": null,
            "grid_auto_columns": null,
            "margin": null,
            "display": null,
            "left": null
          }
        },
        "9f0f923337604305849cc2f541329717": {
          "model_module": "@jupyter-widgets/controls",
          "model_name": "DescriptionStyleModel",
          "state": {
            "_view_name": "StyleView",
            "_model_name": "DescriptionStyleModel",
            "description_width": "",
            "_view_module": "@jupyter-widgets/base",
            "_model_module_version": "1.5.0",
            "_view_count": null,
            "_view_module_version": "1.2.0",
            "_model_module": "@jupyter-widgets/controls"
          }
        },
        "3fe7e991e5624212b110d698996a24e7": {
          "model_module": "@jupyter-widgets/base",
          "model_name": "LayoutModel",
          "state": {
            "_view_name": "LayoutView",
            "grid_template_rows": null,
            "right": null,
            "justify_content": null,
            "_view_module": "@jupyter-widgets/base",
            "overflow": null,
            "_model_module_version": "1.2.0",
            "_view_count": null,
            "flex_flow": null,
            "width": null,
            "min_width": null,
            "border": null,
            "align_items": null,
            "bottom": null,
            "_model_module": "@jupyter-widgets/base",
            "top": null,
            "grid_column": null,
            "overflow_y": null,
            "overflow_x": null,
            "grid_auto_flow": null,
            "grid_area": null,
            "grid_template_columns": null,
            "flex": null,
            "_model_name": "LayoutModel",
            "justify_items": null,
            "grid_row": null,
            "max_height": null,
            "align_content": null,
            "visibility": null,
            "align_self": null,
            "height": null,
            "min_height": null,
            "padding": null,
            "grid_auto_rows": null,
            "grid_gap": null,
            "max_width": null,
            "order": null,
            "_view_module_version": "1.2.0",
            "grid_template_areas": null,
            "object_position": null,
            "object_fit": null,
            "grid_auto_columns": null,
            "margin": null,
            "display": null,
            "left": null
          }
        }
      }
    },
    "accelerator": "GPU"
  },
  "cells": [
    {
      "cell_type": "markdown",
      "metadata": {
        "id": "view-in-github",
        "colab_type": "text"
      },
      "source": [
        "<a href=\"https://colab.research.google.com/github/anasnafis77/Deteksi-Glaukoma/blob/main/Semantic_segmentation.ipynb\" target=\"_parent\"><img src=\"https://colab.research.google.com/assets/colab-badge.svg\" alt=\"Open In Colab\"/></a>"
      ]
    },
    {
      "cell_type": "code",
      "metadata": {
        "id": "pxjFeNlnmxqZ"
      },
      "source": [
        "import os\n",
        "import random\n",
        "import pandas as pd\n",
        "import numpy as np\n",
        "import matplotlib.pyplot as plt\n",
        "plt.style.use(\"ggplot\")\n",
        "%matplotlib inline\n",
        "\n",
        "from tqdm import tqdm_notebook, tnrange\n",
        "from itertools import chain\n",
        "from skimage.io import imread, imshow, concatenate_images\n",
        "from skimage.transform import resize\n",
        "from skimage.morphology import label\n",
        "from sklearn.model_selection import train_test_split\n",
        "\n",
        "import tensorflow as tf\n",
        "\n",
        "from keras.models import Model, load_model\n",
        "from keras.layers import Input, BatchNormalization, Activation, Dense, Dropout, Lambda\n",
        "from keras.layers.core import Lambda, RepeatVector, Reshape\n",
        "from keras.layers.convolutional import Conv2D, Conv2DTranspose\n",
        "from keras.layers.pooling import MaxPooling2D, GlobalMaxPool2D\n",
        "from keras.layers.merge import concatenate, add\n",
        "from keras.callbacks import EarlyStopping, ModelCheckpoint, ReduceLROnPlateau\n",
        "from keras.optimizers import Adam\n",
        "from keras.preprocessing.image import ImageDataGenerator, array_to_img, img_to_array, load_img\n",
        "import cv2\n",
        "from google.colab import drive\n",
        "from keras import backend as K\n",
        "from PIL import Image"
      ],
      "execution_count": 1,
      "outputs": []
    },
    {
      "cell_type": "code",
      "metadata": {
        "id": "Ldp-PGUmmLmB",
        "colab": {
          "base_uri": "https://localhost:8080/"
        },
        "outputId": "34cfd529-d566-4463-9c93-dd5cc414cd5e"
      },
      "source": [
        "drive.mount('/content/gdrive')"
      ],
      "execution_count": null,
      "outputs": [
        {
          "output_type": "stream",
          "text": [
            "Drive already mounted at /content/gdrive; to attempt to forcibly remount, call drive.mount(\"/content/gdrive\", force_remount=True).\n"
          ],
          "name": "stdout"
        }
      ]
    },
    {
      "cell_type": "code",
      "metadata": {
        "id": "3qvjBZNTmumf"
      },
      "source": [
        "df = pd.read_json('/content/gdrive/My Drive/Drive Tugas Akhir/Kode/dataframe.json')"
      ],
      "execution_count": null,
      "outputs": []
    },
    {
      "cell_type": "code",
      "metadata": {
        "id": "HvgBk0_oKqIh",
        "colab": {
          "base_uri": "https://localhost:8080/"
        },
        "outputId": "1a6df32c-ab6e-45a0-8c33-70e63e9fbdf6"
      },
      "source": [
        "df[df['dataset']=='refuge'].groupby(['tag']).size()"
      ],
      "execution_count": null,
      "outputs": [
        {
          "output_type": "stream",
          "text": [
            "<pandas.core.groupby.generic.DataFrameGroupBy object at 0x7fe5566ac8d0>\n"
          ],
          "name": "stdout"
        }
      ]
    },
    {
      "cell_type": "markdown",
      "metadata": {
        "id": "DZ5s0DiWQSJc"
      },
      "source": [
        "# Misc"
      ]
    },
    {
      "cell_type": "code",
      "metadata": {
        "id": "fbAKtD77KSbG"
      },
      "source": [
        "H_OD = np.array([])\n",
        "H_OC = np.array([])\n",
        "W_OD = np.array([])\n",
        "W_OC = np.array([])\n",
        "for i in range(len(df)):\n",
        "  OD_mask = cv2.imread(df['path_OD_png'][i], 0)\n",
        "  OC_mask = cv2.imread(df['path_OC_png'][i], 0)\n",
        "  OD_mask,_ = cv2.findContours(OD_mask, cv2.RETR_EXTERNAL, cv2.CHAIN_APPROX_NONE)\n",
        "  OC_mask,_ = cv2.findContours(OC_mask, cv2.RETR_EXTERNAL, cv2.CHAIN_APPROX_NONE)\n",
        "  OD_mask = cv2.approxPolyDP(OD_mask[0], 3, True)\n",
        "  OC_mask = cv2.approxPolyDP(OC_mask[0], 3, True)\n",
        "  _, _, w_OD, h_OD = cv2.boundingRect(OD_mask)\n",
        "  _, _, w_OC, h_OC = cv2.boundingRect(OC_mask)\n",
        "  H_OD = np.append(H_OD, h_OD)\n",
        "  H_OC = np.append(H_OC, h_OC)\n",
        "  W_OD = np.append(W_OD, w_OD)\n",
        "  W_OC = np.append(W_OC, w_OC)"
      ],
      "execution_count": null,
      "outputs": []
    },
    {
      "cell_type": "code",
      "metadata": {
        "id": "rtAkVNBjYIql",
        "colab": {
          "base_uri": "https://localhost:8080/"
        },
        "outputId": "a727e81c-b92b-4199-a960-0f9918bb3e2c"
      },
      "source": [
        "H_OD = np.sort(H_OD, axis=0)\n",
        "H_OC = np.sort(H_OC, axis=0)\n",
        "W_OD = np.sort(W_OD, axis=0)\n",
        "W_OC = np.sort(W_OC, axis=0)\n",
        "plt.figure(figsize=(10,10))\n",
        "plt.subplot(221), \n",
        "plt.scatter(list(range(len(df))), H_OD, marker='x')\n",
        "plt.title('Height of OD')\n",
        "plt.text(np.argmax(H_OD)-150, np.max(H_OD), 'max: {}'.format(np.max(H_OD)))\n",
        "plt.xlabel('Data')\n",
        "plt.ylabel('Height')\n",
        "plt.subplot(222),\n",
        "plt.scatter(list(range(len(df))), H_OC, marker='x')\n",
        "plt.title('Height of OC')\n",
        "plt.text(np.argmax(H_OC)-150, np.max(H_OC), 'max: {}'.format(np.max(H_OC)))\n",
        "plt.xlabel('Data')\n",
        "plt.ylabel('Height')\n",
        "plt.subplot(223),\n",
        "plt.scatter(list(range(len(df))), W_OD, marker='x')\n",
        "plt.title('Width of OD')\n",
        "plt.text(np.argmax(W_OD)-150, np.max(W_OD), 'max: {}'.format(np.max(W_OD)))\n",
        "plt.xlabel('Data')\n",
        "plt.ylabel('Width')\n",
        "plt.subplot(224),\n",
        "plt.scatter(list(range(len(df))), W_OC, marker='x')\n",
        "plt.title('Width of OC')\n",
        "plt.text(np.argmax(W_OC)-150, np.max(W_OC), 'max: {}'.format(np.max(W_OC)))\n",
        "plt.xlabel('Data')\n",
        "plt.ylabel('Width')\n",
        "plt.show()"
      ],
      "execution_count": null,
      "outputs": [
        {
          "output_type": "display_data",
          "data": {
            "image/png": "[encoded data removed]",
            "text/plain": [
              "<Figure size 720x720 with 4 Axes>"
            ]
          },
          "metadata": {
            "tags": [],
            "needs_background": "light"
          }
        }
      ]
    },
    {
      "cell_type": "code",
      "metadata": {
        "id": "AtGqqlu2HKBU",
        "colab": {
          "base_uri": "https://localhost:8080/"
        },
        "outputId": "558bb5aa-5727-457a-c386-d1d6cfa89e7e"
      },
      "source": [
        "error_OD = []\n",
        "error_OC = []\n",
        "for i in range(len(df)):\n",
        "  img_OD = cv2.imread(df['path_OD_png'][5], 0)\n",
        "  img_OD,_ = ekstrakROI(df['disc_center'][5], 550, img_OD)\n",
        "  img1_OD = img_OD/255.0\n",
        "  \n",
        "  img2_OD = downscale(img1_OD)\n",
        "  img3_OD = upscale(img2_OD)\n",
        "  #img2_OD = cv2.resize(img1_OD, (256, 256), interpolation = cv2.INTER_CUBIC)\n",
        "  #img3_OD = cv2.resize(img2_OD, (550, 550), interpolation = cv2.INTER_CUBIC)\n",
        "  #\n",
        "  #img3_OD = resize(img2_OD, (550, 550), mode = 'constant', preserve_range = True)\n",
        "  \n",
        "  img3_OD = img3_OD>0.5\n",
        "\n",
        "  img_OC = cv2.imread(df['path_OC_png'][5], 0)\n",
        "  img_OC,_ = ekstrakROI(df['disc_center'][5], 550, img_OC)\n",
        "  img1_OC = img_OC/255.0\n",
        "\n",
        "  img2_OC = downscale(img1_OC)\n",
        "  img3_OC = upscale(img2_OC)\n",
        "  #img2_OC = cv2.resize(img1_OC, (256, 256), interpolation = cv2.INTER_CUBIC)\n",
        "  #img3_OC = cv2.resize(img2_OC, (550, 550), interpolation = cv2.INTER_CUBIC)\n",
        "  #\n",
        "  #img3_OC = resize(img2_OC, (550, 550), mode = 'constant', preserve_range = True)\n",
        "  \n",
        "  img3_OC = img3_OC>0.5\n",
        "\n",
        "  DSC_OD = np.sum(img3_OD[img1_OD==1.0])*2.0 / (np.sum(img3_OD) + np.sum(img1_OD))\n",
        "  DSC_OC = np.sum(img3_OC[img1_OC==1.0])*2.0 / (np.sum(img3_OC) + np.sum(img1_OC))\n",
        "\n",
        "  error_OD.append(1-DSC_OD)\n",
        "  error_OC.append(1-DSC_OC)\n",
        "\n",
        "error_OD = np.array(error_OD)\n",
        "error_OC = np.array(error_OC)\n",
        "print('Mean error dari resizing OD: {:.6f}'.format(np.mean(error_OD)))\n",
        "print('STD error dari resizing OD: {:.6f}'.format(np.std(error_OD)))\n",
        "print('Mean error dari resizing OC: {:.6f}'.format(np.mean(error_OC)))\n",
        "print('STD error dari resizing OC: {:.6f}'.format(np.std(error_OC)))"
      ],
      "execution_count": null,
      "outputs": [
        {
          "output_type": "stream",
          "text": [
            "Mean error dari resizing OD: 0.000571\n",
            "STD error dari resizing OD: 0.000000\n",
            "Mean error dari resizing OC: 0.000656\n",
            "STD error dari resizing OC: 0.000000\n"
          ],
          "name": "stdout"
        }
      ]
    },
    {
      "cell_type": "markdown",
      "metadata": {
        "id": "917qd3A-QbyP"
      },
      "source": [
        "# Functions"
      ]
    },
    {
      "cell_type": "code",
      "metadata": {
        "id": "MR2bPNh9Q8IX"
      },
      "source": [
        "def rectfromcenter(center, s, h, w):\n",
        "  x, y = center\n",
        "  x0 = round(x - 0.5*s)\n",
        "  x1 = round(x + 0.5*s)\n",
        "  y0 = round(y - 0.5*s)\n",
        "  y1 = round(y + 0.5*s)\n",
        "  dx = (x1 - x0) - s\n",
        "  dy = (y1 - y0) - s\n",
        "  # penanganan kasus out of image\n",
        "  if (x0 < 0):\n",
        "    x1 = x1 + (-x0)\n",
        "    x0 = 0\n",
        "    x1 -= dx\n",
        "  elif (x1 > w-1):\n",
        "    x0 = x0 - (x1-(w-1))\n",
        "    x1 = w-1\n",
        "    x0 += dx\n",
        "  else:\n",
        "    x0 += dx\n",
        "\n",
        "  if (y0 < 0):\n",
        "    y1 = y1 + (-y0)\n",
        "    y0 = 0\n",
        "    y1 -= dy\n",
        "  elif (y1 > h-1):\n",
        "    y0 = y0 - (y1-(h-1))\n",
        "    y1 = (h-1)\n",
        "    y0 += dy\n",
        "  else:\n",
        "    y0 += dy\n",
        "\n",
        "  return y0, y1, x0, x1"
      ],
      "execution_count": null,
      "outputs": []
    },
    {
      "cell_type": "code",
      "metadata": {
        "id": "1xYPfU0IMynD"
      },
      "source": [
        "# Fungsi untuk mengekstrak ROI\n",
        "# input : list centroid, panjang sisi ROI (s), dan image \n",
        "# output : ROI image\n",
        "\n",
        "def ekstrakROI(centroid, s, img):\n",
        "  h, w = img.shape[:2]\n",
        " \n",
        "  y0, y1, x0, x1 = rectfromcenter(centroid, s, h, w)\n",
        "\n",
        "  #cropping ROI from source image\n",
        "  ROI = img[y0:y1, x0:x1]\n",
        "  koordinat = (y0, y1, x0, x1)\n",
        "\n",
        "  return ROI, koordinat"
      ],
      "execution_count": null,
      "outputs": []
    },
    {
      "cell_type": "code",
      "metadata": {
        "id": "nL-1JlKlY_nt"
      },
      "source": [
        "def recall_m(y_true, y_pred):\n",
        "    true_positives = K.sum(K.round(K.clip(y_true * y_pred, 0, 1)))\n",
        "    possible_positives = K.sum(K.round(K.clip(y_true, 0, 1)))\n",
        "    recall = true_positives / (possible_positives + K.epsilon())\n",
        "    return recall\n",
        "\n",
        "def precision_m(y_true, y_pred):\n",
        "    true_positives = K.sum(K.round(K.clip(y_true * y_pred, 0, 1)))\n",
        "    predicted_positives = K.sum(K.round(K.clip(y_pred, 0, 1)))\n",
        "    precision = true_positives / (predicted_positives + K.epsilon())\n",
        "    return precision\n",
        "\n",
        "def fscore(y_true, y_pred):\n",
        "    precision = precision_m(y_true, y_pred)\n",
        "    recall = recall_m(y_true, y_pred)\n",
        "    return 2*((precision*recall)/(precision+recall+K.epsilon()))"
      ],
      "execution_count": null,
      "outputs": []
    },
    {
      "cell_type": "code",
      "metadata": {
        "id": "ViwImHHABnq3"
      },
      "source": [
        "def histo(histories):\n",
        "  for i, histori in enumerate(histories):\n",
        "    plt.figure(figsize=(20, 5))\n",
        "    print('Fold-{}'.format(i+1))\n",
        "    plt.subplot(131), \n",
        "    plt.plot(histori.history[\"accuracy\"], label=\"accuracy\")\n",
        "    plt.plot(histori.history[\"val_accuracy\"], label=\"val_acc\")\n",
        "    plt.plot(np.argmax(histori.history[\"val_accuracy\"]), np.max(histori.history[\"val_accuracy\"]), marker=\"x\", color=\"r\", label=\"best model\")\n",
        "    plt.xlabel(\"Epochs\")\n",
        "    plt.ylabel(\"Accuracy\")\n",
        "    plt.legend()\n",
        "    plt.subplot(132), \n",
        "    plt.plot(histori.history[\"fscore\"], label=\"fscore\")\n",
        "    plt.plot(histori.history[\"val_fscore\"], label=\"val_fscore\")\n",
        "    plt.plot( np.argmax(histori.history[\"val_fscore\"]), np.max(histori.history[\"val_fscore\"]), marker=\"x\", color=\"r\", label=\"best model\")\n",
        "    plt.xlabel(\"Epochs\")\n",
        "    plt.ylabel(\"Fscore\")\n",
        "    plt.legend()\n",
        "    plt.subplot(133),\n",
        "    plt.plot(histori.history[\"loss\"], label=\"loss\")\n",
        "    plt.plot(histori.history[\"val_loss\"], label=\"val_loss\")\n",
        "    plt.plot( np.argmin(histori.history[\"val_loss\"]), np.min(histori.history[\"val_loss\"]), marker=\"x\", color=\"r\", label=\"best model\")\n",
        "    plt.xlabel(\"Epochs\")\n",
        "    plt.ylabel(\"log_loss\")\n",
        "    plt.legend()\n",
        "\n",
        "    plt.show()"
      ],
      "execution_count": null,
      "outputs": []
    },
    {
      "cell_type": "code",
      "metadata": {
        "id": "qL2jr_MkC9l5"
      },
      "source": [
        "def downscale(img):\n",
        "    size = (256, 256)\n",
        "    img = tf.image.resize(img, size, method=tf.image.ResizeMethod.BICUBIC, preserve_aspect_ratio=True)\n",
        "    return img\n",
        "\n",
        "def upscale(img):\n",
        "  size = (550, 550)\n",
        "  img = tf.image.resize(img, size, method=tf.image.ResizeMethod.BICUBIC, preserve_aspect_ratio=True)\n",
        "\n",
        "  return img"
      ],
      "execution_count": null,
      "outputs": []
    },
    {
      "cell_type": "code",
      "metadata": {
        "id": "dczjL2g0dlHM",
        "colab": {
          "base_uri": "https://localhost:8080/",
          "height": 298
        },
        "outputId": "360274fa-6e78-4f8d-db93-28c17f85077b"
      },
      "source": [
        "img = cv2.imread(df['path'][1], 1)[:,:,1]\n",
        "center = df['disc_center'][1]\n",
        "clahe = cv2.createCLAHE(clipLimit=2.0, tileGridSize=(8,8))\n",
        "img = clahe.apply(img)\n",
        "img,_ = ekstrakROI(center, 550, img)\n",
        "img1 = downscale(img.reshape(550, 550, 1))\n",
        "img2 = resize(img, (256, 256), mode = 'constant', preserve_range = True)\n",
        "plt.figure(figsize=(15, 5))\n",
        "plt.subplot(131), plt.imshow(img, cmap='gray')\n",
        "plt.subplot(132), plt.imshow(img1.numpy().squeeze(), cmap='gray')\n",
        "plt.subplot(133), plt.imshow(img2, cmap='gray')\n",
        "plt.show()\n"
      ],
      "execution_count": null,
      "outputs": [
        {
          "output_type": "display_data",
          "data": {
            "image/png": "[encoded data removed]",
            "text/plain": [
              "<Figure size 1080x360 with 3 Axes>"
            ]
          },
          "metadata": {
            "tags": [],
            "needs_background": "light"
          }
        }
      ]
    },
    {
      "cell_type": "code",
      "metadata": {
        "id": "EQOpKmxfnNuM"
      },
      "source": [
        "def conv2d_block(input_tensor, n_filters, kernel_size = 3, batchnorm = True):\n",
        "    \"\"\"Function to add 2 convolutional layers with the parameters passed to it\"\"\"\n",
        "    # first layer\n",
        "    x = Conv2D(filters = n_filters, kernel_size = (kernel_size, kernel_size),\\\n",
        "              kernel_initializer = 'he_normal', padding = 'same')(input_tensor)\n",
        "    if batchnorm:\n",
        "        x = BatchNormalization()(x)\n",
        "    x = Activation('relu')(x)\n",
        "    \n",
        "    # second layer\n",
        "    x = Conv2D(filters = n_filters, kernel_size = (kernel_size, kernel_size),\\\n",
        "              kernel_initializer = 'he_normal', padding = 'same')(input_tensor)\n",
        "    if batchnorm:\n",
        "        x = BatchNormalization()(x)\n",
        "    x = Activation('relu')(x)\n",
        "    \n",
        "    return x\n",
        "  \n",
        "def get_unet(input_img, n_filters = 16, dropout = 0.1, batchnorm = True):\n",
        "    # Contracting Path\n",
        "    \n",
        "    c1 = conv2d_block(input_img, n_filters * 1, kernel_size = 3, batchnorm = batchnorm)\n",
        "    p1 = MaxPooling2D((2, 2))(c1)\n",
        "    p1 = Dropout(dropout)(p1)\n",
        "    \n",
        "    c2 = conv2d_block(p1, n_filters * 2, kernel_size = 3, batchnorm = batchnorm)\n",
        "    p2 = MaxPooling2D((2, 2))(c2)\n",
        "    p2 = Dropout(dropout)(p2)\n",
        "    \n",
        "    c3 = conv2d_block(p2, n_filters * 4, kernel_size = 3, batchnorm = batchnorm)\n",
        "    p3 = MaxPooling2D((2, 2))(c3)\n",
        "    p3 = Dropout(dropout)(p3)\n",
        "    \n",
        "    c4 = conv2d_block(p3, n_filters * 8, kernel_size = 3, batchnorm = batchnorm)\n",
        "    p4 = MaxPooling2D((2, 2))(c4)\n",
        "    p4 = Dropout(dropout)(p4)\n",
        "    \n",
        "    c5 = conv2d_block(p4, n_filters = n_filters * 16, kernel_size = 3, batchnorm = batchnorm)\n",
        "    \n",
        "    # Expansive Path\n",
        "    u6 = Conv2DTranspose(n_filters * 8, (3, 3), strides = (2, 2), padding = 'same')(c5)\n",
        "    u6 = concatenate([u6, c4])\n",
        "    u6 = Dropout(dropout)(u6)\n",
        "    c6 = conv2d_block(u6, n_filters * 8, kernel_size = 3, batchnorm = batchnorm)\n",
        "    \n",
        "    u7 = Conv2DTranspose(n_filters * 4, (3, 3), strides = (2, 2), padding = 'same')(c6)\n",
        "    u7 = concatenate([u7, c3])\n",
        "    u7 = Dropout(dropout)(u7)\n",
        "    c7 = conv2d_block(u7, n_filters * 4, kernel_size = 3, batchnorm = batchnorm)\n",
        "    \n",
        "    u8 = Conv2DTranspose(n_filters * 2, (3, 3), strides = (2, 2), padding = 'same')(c7)\n",
        "    u8 = concatenate([u8, c2])\n",
        "    u8 = Dropout(dropout)(u8)\n",
        "    c8 = conv2d_block(u8, n_filters * 2, kernel_size = 3, batchnorm = batchnorm)\n",
        "    \n",
        "    u9 = Conv2DTranspose(n_filters * 1, (3, 3), strides = (2, 2), padding = 'same')(c8)\n",
        "    u9 = concatenate([u9, c1])\n",
        "    u9 = Dropout(dropout)(u9)\n",
        "    c9 = conv2d_block(u9, n_filters * 1, kernel_size = 3, batchnorm = batchnorm)\n",
        "    outputs = Conv2D(1, (1, 1), activation='sigmoid')(c9)\n",
        "    \n",
        "    \n",
        "    model = Model(inputs=[input_img], outputs=[outputs])\n",
        "    return model"
      ],
      "execution_count": null,
      "outputs": []
    },
    {
      "cell_type": "code",
      "metadata": {
        "id": "zlOE8-5Sdn-O"
      },
      "source": [
        "def index_shuffle(ix, k=5, random_state=4, test=False):\n",
        "  ix_dr_gl = np.array(ix[0])\n",
        "  ix_dr_n = np.array(ix[1])\n",
        "  ix_re_gl = np.array(ix[2])\n",
        "  ix_re_n = np.array(ix[3])\n",
        "\n",
        "  random.Random(random_state).shuffle(ix_dr_gl)\n",
        "  random.Random(random_state).shuffle(ix_dr_n)\n",
        "  random.Random(random_state).shuffle(ix_re_gl)\n",
        "  random.Random(random_state).shuffle(ix_re_n)\n",
        "\n",
        "  dr_gl = np.array([0, 6, 12, 18, 25, 32]) # portion of each fold for drishti-glaucoma data\n",
        "  dr_n = np.array([0, 3, 6, 10, 14, 18]) # portion of each fold for drishti-normal data\n",
        "  re_gl = np.array([0, 8, 16, 24, 32, 40]) # portion of each fold for refuge-glaucoma data\n",
        "  re_n = np.array([0, 72, 144, 216, 288, 360]) # portion of each fold for refuge-normal data\n",
        "  \n",
        "  ix_dataset = []\n",
        "  for i in range(k):\n",
        "    # meta-index for train data\n",
        "    tr_dr_gl = list(range(dr_gl[i])) + list(range(dr_gl[i+1], 32))\n",
        "    tr_dr_n = list(range(dr_n[i])) + list(range(dr_n[i+1], 18))\n",
        "    tr_re_gl = list(range(re_gl[i])) + list(range(re_gl[i+1], 40))\n",
        "    tr_re_n = list(range(re_n[i])) + list(range(re_n[i+1], 360))\n",
        "\n",
        "    # meta-index for test data\n",
        "    te_dr_gl = list(range(dr_gl[i], dr_gl[i+1])) \n",
        "    te_dr_n = list(range(dr_n[i], dr_n[i+1]))\n",
        "    te_re_gl = list(range(re_gl[i], re_gl[i+1]))\n",
        "    te_re_n = list(range(re_n[i], re_n[i+1]))\n",
        "\n",
        "    ix_train = np.concatenate((ix_dr_gl[tr_dr_gl], ix_dr_n[tr_dr_n],\n",
        "                               ix_re_gl[tr_re_gl], ix_re_n[tr_re_n]))\n",
        "    ix_test = np.concatenate((ix_dr_gl[te_dr_gl], ix_dr_n[te_dr_n],\n",
        "                              ix_re_gl[te_re_gl],  ix_re_n[te_re_n]))\n",
        "\n",
        "    random.Random(random_state).shuffle(ix_train)\n",
        "    random.Random(random_state).shuffle(ix_test)\n",
        "\n",
        "    ix_dataset.append([ix_train, ix_test])\n",
        "\n",
        "  if test:\n",
        "    for i, idx in enumerate(ix_dataset):\n",
        "      meta = list(range(len(ix_dataset)))\n",
        "      meta.pop(i)\n",
        "      for j in meta:\n",
        "        S1 = set(idx[1])\n",
        "        S2 = set(ix_dataset[j][1])\n",
        "        if S1.intersection(S2):\n",
        "          print('Data test is inclusive!')\n",
        "        else:\n",
        "          print('Data test is exclusive!')\n",
        "    \n",
        "\n",
        "  return ix_dataset"
      ],
      "execution_count": null,
      "outputs": []
    },
    {
      "cell_type": "code",
      "metadata": {
        "id": "vMBd9VJlRQko"
      },
      "source": [
        "def k_fold_cross_data(X, y, k=5, test_size=0.2, random_state=4):\n",
        "  X_dr_gl = np.array(X[0])\n",
        "  X_dr_n = np.array(X[1])\n",
        "  X_re_gl = np.array(X[2])\n",
        "  X_re_n = np.array(X[3])\n",
        "  y_dr_gl = np.array(y[0])\n",
        "  y_dr_n = np.array(y[1])\n",
        "  y_re_gl = np.array(y[2])\n",
        "  y_re_n = np.array(y[3])\n",
        "  random.Random(random_state).shuffle(X_dr_gl)\n",
        "  random.Random(random_state).shuffle(X_dr_n)\n",
        "  random.Random(random_state).shuffle(X_re_gl)\n",
        "  random.Random(random_state).shuffle(X_re_n)\n",
        "  random.Random(random_state).shuffle(y_dr_gl)\n",
        "  random.Random(random_state).shuffle(y_dr_n)\n",
        "  random.Random(random_state).shuffle(y_re_gl)\n",
        "  random.Random(random_state).shuffle(y_re_n)\n",
        "  dr_gl = np.array([0, 6, 12, 18, 25, 32]) # portion of each fold for drishti-glaucoma data\n",
        "  dr_n = np.array([0, 3, 6, 10, 14, 18]) # portion of each fold for drishti-normal data\n",
        "  re_gl = np.array([0, 8, 16, 24, 32, 40]) # portion of each fold for refuge-glaucoma data\n",
        "  re_n = np.array([0, 72, 144, 216, 288, 360]) # portion of each fold for refuge-normal data\n",
        "  \n",
        "  dataset = []\n",
        "  for i in tqdm_notebook(range(k)):\n",
        "    # index of dataset-label for train data\n",
        "    tr_dr_gl = list(range(dr_gl[i])) + list(range(dr_gl[i+1], 32))\n",
        "    tr_dr_n = list(range(dr_n[i])) + list(range(dr_n[i+1], 18))\n",
        "    tr_re_gl = list(range(re_gl[i])) + list(range(re_gl[i+1], 40))\n",
        "    tr_re_n = list(range(re_n[i])) + list(range(re_n[i+1], 360))\n",
        "\n",
        "    # index of dataset-label for test data\n",
        "    te_dr_gl = list(range(dr_gl[i], dr_gl[i+1])) \n",
        "    te_dr_n = list(range(dr_n[i], dr_n[i+1]))\n",
        "    te_re_gl = list(range(re_gl[i], re_gl[i+1]))\n",
        "    te_re_n = list(range(re_n[i], re_n[i+1]))\n",
        "\n",
        "    X_train = np.concatenate((X_dr_gl[tr_dr_gl], X_dr_n[tr_dr_n], \n",
        "                             X_re_gl[tr_re_gl], X_re_n[tr_re_n]))\n",
        "    X_test = np.concatenate((X_dr_gl[te_dr_gl], X_dr_n[te_dr_n], \n",
        "                             X_re_gl[te_re_gl], X_re_n[te_re_n]))\n",
        "    y_train = np.concatenate((y_dr_gl[tr_dr_gl], y_dr_n[tr_dr_n], \n",
        "                             y_re_gl[tr_re_gl], y_re_n[tr_re_n]))\n",
        "    y_test = np.concatenate((y_dr_gl[te_dr_gl], y_dr_n[te_dr_n], \n",
        "                             y_re_gl[te_re_gl], y_re_n[te_re_n]))\n",
        "    \n",
        "    random.Random(random_state).shuffle(X_train)\n",
        "    random.Random(random_state).shuffle(X_test)\n",
        "    random.Random(random_state).shuffle(y_train)\n",
        "    random.Random(random_state).shuffle(y_test)\n",
        "    dataset.append([X_train, X_test, y_train, y_test])\n",
        "  \n",
        "  return dataset"
      ],
      "execution_count": null,
      "outputs": []
    },
    {
      "cell_type": "code",
      "metadata": {
        "id": "78qFeNEIowRq"
      },
      "source": [
        "def show_examples(examples, y_examples):\n",
        "  plt.figure(figsize=(12, 4))\n",
        "  plt.grid(False)\n",
        "  for i, example in enumerate(examples):\n",
        "    h, w = example.shape[:2]\n",
        "    mask = np.array(example > 0.5, np.uint8)*255\n",
        "    gt_mask = np.array(y_examples[i] > 0, np.uint8)*255\n",
        "    DSC = np.sum(mask[gt_mask==255])*2.0 / (np.sum(mask) + np.sum(gt_mask))\n",
        "    mask = mask.squeeze()\n",
        "    gt_mask = gt_mask.squeeze()\n",
        "    mask_show = np.zeros((h, w, 3), np.uint8)\n",
        "    gt_mask_show = np.zeros((h, w, 3), np.uint8)\n",
        "\n",
        "    mask_show[:, :, 0] = mask\n",
        "    gt_mask_show[:, :, 2] = gt_mask\n",
        "    \n",
        "    plt.subplot(1, len(examples), i+1),\n",
        "    plt.imshow(mask_show,  interpolation='none')\n",
        "    plt.imshow(gt_mask_show, interpolation='none', alpha=0.35)\n",
        "    plt.text(20, 40, 'DSC: {:.3f}'.format(DSC), fontsize='small', color ='w')\n",
        "\n",
        "  plt.show()"
      ],
      "execution_count": null,
      "outputs": []
    },
    {
      "cell_type": "code",
      "metadata": {
        "id": "XBLXRipOE2oc"
      },
      "source": [
        "def k_fold_crossval(X, y, y_ori, callbacks, tipe, k=5, random_state=4, save=0):\n",
        "  X_dr_gl = np.array(X[0])\n",
        "  X_dr_n = np.array(X[1])\n",
        "  X_re_gl = np.array(X[2])\n",
        "  X_re_n = np.array(X[3])\n",
        "  y_dr_gl = np.array(y[0])\n",
        "  y_dr_n = np.array(y[1])\n",
        "  y_re_gl = np.array(y[2])\n",
        "  y_re_n = np.array(y[3])\n",
        "  y_dr_glo = np.array(y_ori[0])\n",
        "  y_dr_no = np.array(y_ori[1])\n",
        "  y_re_glo = np.array(y_ori[2])\n",
        "  y_re_no = np.array(y_ori[3])\n",
        "  random.Random(random_state).shuffle(X_dr_gl)\n",
        "  random.Random(random_state).shuffle(X_dr_n)\n",
        "  random.Random(random_state).shuffle(X_re_gl)\n",
        "  random.Random(random_state).shuffle(X_re_n)\n",
        "  random.Random(random_state).shuffle(y_dr_gl)\n",
        "  random.Random(random_state).shuffle(y_dr_n)\n",
        "  random.Random(random_state).shuffle(y_re_gl)\n",
        "  random.Random(random_state).shuffle(y_re_n)\n",
        "  random.Random(random_state).shuffle(y_dr_glo)\n",
        "  random.Random(random_state).shuffle(y_dr_no)\n",
        "  random.Random(random_state).shuffle(y_re_glo)\n",
        "  random.Random(random_state).shuffle(y_re_no)\n",
        "  dr_gl = np.array([0, 6, 12, 18, 25, 32]) # portion of each fold for drishti-glaucoma data\n",
        "  dr_n = np.array([0, 3, 6, 10, 14, 18]) # portion of each fold for drishti-normal data\n",
        "  re_gl = np.array([0, 8, 16, 24, 32, 40]) # portion of each fold for refuge-glaucoma data\n",
        "  re_n = np.array([0, 72, 144, 216, 288, 360]) # portion of each fold for refuge-normal data\n",
        "  input_img = Input((256,256, 1), name='img')\n",
        "  results = []\n",
        "  fold = []\n",
        "  Loss = []\n",
        "  Accuracy = []\n",
        "  f1score = []\n",
        "  models = []\n",
        "  for i in tqdm_notebook(range(k)):\n",
        "    # index of dataset-label for train data\n",
        "    tr_dr_gl = list(range(dr_gl[i])) + list(range(dr_gl[i+1], 32))\n",
        "    tr_dr_n = list(range(dr_n[i])) + list(range(dr_n[i+1], 18))\n",
        "    tr_re_gl = list(range(re_gl[i])) + list(range(re_gl[i+1], 40))\n",
        "    tr_re_n = list(range(re_n[i])) + list(range(re_n[i+1], 360))\n",
        "\n",
        "    # index of dataset-label for test data\n",
        "    te_dr_gl = list(range(dr_gl[i], dr_gl[i+1])) \n",
        "    te_dr_n = list(range(dr_n[i], dr_n[i+1]))\n",
        "    te_re_gl = list(range(re_gl[i], re_gl[i+1]))\n",
        "    te_re_n = list(range(re_n[i], re_n[i+1]))\n",
        "\n",
        "\n",
        "    X_train = np.concatenate((X_dr_gl[tr_dr_gl], X_dr_n[tr_dr_n], \n",
        "                             X_re_gl[tr_re_gl], X_re_n[tr_re_n]))\n",
        "    X_test = np.concatenate((X_dr_gl[te_dr_gl], X_dr_n[te_dr_n], \n",
        "                             X_re_gl[te_re_gl], X_re_n[te_re_n]))\n",
        "    y_train = np.concatenate((y_dr_gl[tr_dr_gl], y_dr_n[tr_dr_n], \n",
        "                             y_re_gl[tr_re_gl], y_re_n[tr_re_n]))\n",
        "    y_test = np.concatenate((y_dr_gl[te_dr_gl], y_dr_n[te_dr_n], \n",
        "                             y_re_gl[te_re_gl], y_re_n[te_re_n]))\n",
        "    y_test_ori = np.concatenate((y_dr_glo[te_dr_gl], y_dr_no[te_dr_n], \n",
        "                             y_re_glo[te_re_gl], y_re_no[te_re_n]))\n",
        "\n",
        "    random.Random(random_state).shuffle(X_train)\n",
        "    random.Random(random_state).shuffle(X_test)\n",
        "    random.Random(random_state).shuffle(y_train)\n",
        "    random.Random(random_state).shuffle(y_test)\n",
        "    random.Random(random_state).shuffle(y_test_ori)\n",
        "\n",
        "    print('Evaluate fold ', i+1)\n",
        "    model= get_unet(input_img, n_filters = 64, dropout = 0.1, batchnorm = True)\n",
        "    model.compile(optimizer=Adam(), loss=\"binary_crossentropy\", metrics=[\"accuracy\",fscore])\n",
        "    result = model.fit(X_train, y_train, batch_size=32, epochs=50, callbacks=callbacks,\\\n",
        "                    validation_data=(X_test, y_test), verbose=0)\n",
        "    \n",
        "    results.append(result)\n",
        "    model_layer = model.layers[-1]\n",
        "    lu = Lambda(upscale, name=\"lambda_upscale\")(model_layer.output)\n",
        "    model_upscale = Model(model.input, lu, name=\"upscale_model\")\n",
        "    model_upscale.compile(loss=\"binary_crossentropy\", metrics=[\"accuracy\",fscore])\n",
        "    models.append(model_upscale)\n",
        "\n",
        "    los = result.history['val_loss'][-1]\n",
        "    acc = result.history['val_accuracy'][-1]\n",
        "    f1 = result.history['val_fscore'][-1]\n",
        "    los_550, acc_550, f1_550 = model_upscale.evaluate(X_test, y_test_ori, verbose=0)\n",
        "    \n",
        "    y_examples = y_test_ori[:3]\n",
        "    examples = model_upscale.predict(X_test[:3]) \n",
        "\n",
        "    fold.append(i + 1)\n",
        "    Loss.append(los)\n",
        "    Accuracy.append(acc)\n",
        "    f1score.append(f1)\n",
        "    print('Fold {}\\nloss: {:.4f} - acc: {:.3f} - fscore: {:.3f}'.format(i+1, los, acc, f1))\n",
        "    print('after upscalling\\nloss: {:.4f} - acc: {:.3f} - fscore: {:.3f}'.format(los_550, acc_550, f1_550))\n",
        "    show_examples(examples, y_examples)\n",
        "\n",
        "  metrics = pd.DataFrame({'Fold': fold, 'Loss':Loss, 'Acc':Accuracy,\n",
        "                          'Fscore': f1score})\n",
        "  best_fold = np.argmax(f1score)\n",
        "  print('Best model is fold-', best_fold+1)\n",
        "  if save:\n",
        "    print('Saving best model from fold-', best_fold+1)\n",
        "    models[best_fold].save('/content/gdrive/My Drive/Drive Tugas Akhir/Kode/model {} semantic/'.format(tipe))\n",
        "    print('Save model success!')\n",
        "  return results, metrics"
      ],
      "execution_count": null,
      "outputs": []
    },
    {
      "cell_type": "code",
      "metadata": {
        "id": "jvSgdfiW6DNC"
      },
      "source": [
        "def saving_image(img, path):\n",
        "  if os.path.isfile(path):\n",
        "    os.remove(path)\n",
        "    cv2.imwrite(path, img)\n",
        "  else:\n",
        "    cv2.imwrite(path, img)"
      ],
      "execution_count": null,
      "outputs": []
    },
    {
      "cell_type": "markdown",
      "metadata": {
        "id": "nsI2Zrn-Qi-p"
      },
      "source": [
        "# Acquiring data"
      ]
    },
    {
      "cell_type": "code",
      "metadata": {
        "id": "UzgQsaUNyJjt"
      },
      "source": [
        "path = \"/content/gdrive/My Drive/Drive Tugas Akhir/Dataset/Data semantic/\""
      ],
      "execution_count": null,
      "outputs": []
    },
    {
      "cell_type": "code",
      "metadata": {
        "id": "CPsUk_kRo-kT",
        "colab": {
          "base_uri": "https://localhost:8080/",
          "height": 116,
          "referenced_widgets": [
            "44996134535043c0b84428dceb286943",
            "4e51ccd73064427898c1d5b96197cf5b",
            "281fb29685cb49188e90f5ba8074c188",
            "4c18a4fd4a1043ab9b6be8e5386ddc9b",
            "574db306321e433981ccb9f4af15e2ec",
            "b5a11c79eee9441db95ef315a212e1eb",
            "41a6e04c5aa14369b534079e8cbbfd46",
            "fd7b8bcbd1ae4e5babeca3edec881e39"
          ]
        },
        "outputId": "a44d54aa-580f-4c50-ae66-6b907177f678"
      },
      "source": [
        "clahe = cv2.createCLAHE(clipLimit=2.0, tileGridSize=(8,8))\n",
        "\n",
        "for i in tqdm_notebook(range(0, len(df))):  \n",
        "  center = df['disc_center'][i]\n",
        "  img = cv2.imread(df['path'][i], 1)[:,:,1]\n",
        "  img = clahe.apply(img)\n",
        "  gt_OD = cv2.imread(df['path_OD_png'][i], 0)\n",
        "  gt_OC = cv2.imread(df['path_OC_png'][i], 0)\n",
        "\n",
        "  img,_ = ekstrakROI(center, 550, img)\n",
        "  gt_OD,_ = ekstrakROI(center, 550, gt_OD)\n",
        "  gt_OC,_ = ekstrakROI(center, 550, gt_OC)\n",
        "\n",
        "  if df['dataset'][i] == 'drishti':\n",
        "    if df['tag'][i] == 'Glaucoma':\n",
        "      saving_image(img, path+'drishti/glaucoma/image/image_{}.png'.format(i+1))    \n",
        "      saving_image(gt_OD, path+'drishti/glaucoma/gt/gtOD_{}.png'.format(i+1))\n",
        "      saving_image(gt_OC, path+'drishti/glaucoma/gt/gtOC_{}.png'.format(i+1))\n",
        "    elif df['tag'][i] == 'Normal':\n",
        "      saving_image(img, path+'drishti/normal/image/image_{}.png'.format(i+1))    \n",
        "      saving_image(gt_OD, path+'drishti/normal/gt/gtOD_{}.png'.format(i+1))\n",
        "      saving_image(gt_OC, path+'drishti/normal/gt/gtOC_{}.png'.format(i+1))\n",
        "  elif df['dataset'][i] == 'refuge':\n",
        "    if df['tag'][i] == 'Glaucoma':\n",
        "      saving_image(img, path+'refuge/glaucoma/image/image_{}.png'.format(i+1))    \n",
        "      saving_image(gt_OD, path+'refuge/glaucoma/gt/gtOD_{}.png'.format(i+1))\n",
        "      saving_image(gt_OC, path+'refuge/glaucoma/gt/gtOC_{}.png'.format(i+1))\n",
        "    elif df['tag'][i] == 'Normal':\n",
        "      saving_image(img, path+'refuge/normal/image/image_{}.png'.format(i+1))    \n",
        "      saving_image(gt_OD, path+'refuge/normal/gt/gtOD_{}.png'.format(i+1))\n",
        "      saving_image(gt_OC, path+'refuge/normal/gt/gtOC_{}.png'.format(i+1))\n",
        "    \n"
      ],
      "execution_count": null,
      "outputs": [
        {
          "output_type": "stream",
          "text": [
            "/usr/local/lib/python3.7/dist-packages/ipykernel_launcher.py:3: TqdmDeprecationWarning: This function will be removed in tqdm==5.0.0\n",
            "Please use `tqdm.notebook.tqdm` instead of `tqdm.tqdm_notebook`\n",
            "  This is separate from the ipykernel package so we can avoid doing imports until\n"
          ],
          "name": "stderr"
        },
        {
          "output_type": "display_data",
          "data": {
            "application/vnd.jupyter.widget-view+json": {
              "model_id": "44996134535043c0b84428dceb286943",
              "version_minor": 0,
              "version_major": 2
            },
            "text/plain": [
              "HBox(children=(FloatProgress(value=0.0, max=450.0), HTML(value='')))"
            ]
          },
          "metadata": {
            "tags": []
          }
        },
        {
          "output_type": "stream",
          "text": [
            "\n"
          ],
          "name": "stdout"
        }
      ]
    },
    {
      "cell_type": "code",
      "metadata": {
        "id": "bQcPI3shfGYg",
        "colab": {
          "base_uri": "https://localhost:8080/",
          "height": 116,
          "referenced_widgets": [
            "b278039aecf64204940f83ecc18bd33a",
            "42f917a9348f47deb72b20db083c84f5",
            "a36b621626204ca0bb79ba959f24ff3d",
            "5d40bc1c0468404e8e2479dfa5c006d4",
            "37c56369409c455fa475c9892d0f0a0d",
            "33ec1234550a4e9ea260b6eaf40f9297",
            "d8e5a6582dfe4b94b2b061af3ad8751f",
            "d0cdf264854b4d888e5823d6d744e8e3"
          ]
        },
        "outputId": "56789ebb-4472-4bda-f542-409d41e90c7f"
      },
      "source": [
        "# Simple data aquirement\n",
        "path = \"/content/gdrive/My Drive/Drive Tugas Akhir/Dataset/Data semantic/\"\n",
        "X = []\n",
        "X_ori = []\n",
        "y_OD = []\n",
        "y_OC = []\n",
        "y_OD_ori = []\n",
        "y_OC_ori = []\n",
        "ix_dr_gl = []\n",
        "ix_dr_n = []\n",
        "ix_re_gl = []\n",
        "ix_re_n = []\n",
        "for i in tqdm_notebook(range(0, len(df))):  \n",
        "  if df['dataset'][i] == 'drishti':\n",
        "    if df['tag'][i] == 'Glaucoma':\n",
        "      img_ori = cv2.imread(path+'drishti/glaucoma/image/image_{}.png'.format(i+1), 0).reshape(550, 550, 1)\n",
        "      gt_OD_ori = cv2.imread(path+'drishti/glaucoma/gt/gtOD_{}.png'.format(i+1), 0).reshape(550, 550, 1)\n",
        "      gt_OC_ori = cv2.imread(path+'drishti/glaucoma/gt/gtOC_{}.png'.format(i+1), 0).reshape(550, 550, 1)\n",
        "      ix_dr_gl.append(i)\n",
        "\n",
        "    elif df['tag'][i] == 'Normal':\n",
        "      img_ori = cv2.imread(path+'drishti/normal/image/image_{}.png'.format(i+1), 0).reshape(550, 550, 1) \n",
        "      gt_OD_ori = cv2.imread(path+'drishti/normal/gt/gtOD_{}.png'.format(i+1), 0).reshape(550, 550, 1)\n",
        "      gt_OC_ori = cv2.imread(path+'drishti/normal/gt/gtOC_{}.png'.format(i+1), 0).reshape(550, 550, 1)\n",
        "      ix_dr_n.append(i)\n",
        "\n",
        "  elif df['dataset'][i] == 'refuge':\n",
        "    if df['tag'][i] == 'Glaucoma':\n",
        "      img_ori = cv2.imread(path+'refuge/glaucoma/image/image_{}.png'.format(i+1), 0).reshape(550, 550, 1)    \n",
        "      gt_OD_ori  = cv2.imread(path+'refuge/glaucoma/gt/gtOD_{}.png'.format(i+1), 0).reshape(550, 550, 1) \n",
        "      gt_OC_ori  = cv2.imread(path+'refuge/glaucoma/gt/gtOC_{}.png'.format(i+1), 0).reshape(550, 550, 1) \n",
        "      ix_re_gl.append(i)\n",
        "    elif df['tag'][i] == 'Normal':\n",
        "      img_ori = cv2.imread(path+'refuge/normal/image/image_{}.png'.format(i+1), 0).reshape(550, 550, 1)    \n",
        "      gt_OD_ori  = cv2.imread(path+'refuge/normal/gt/gtOD_{}.png'.format(i+1), 0).reshape(550, 550, 1) \n",
        "      gt_OC_ori  = cv2.imread(path+'refuge/normal/gt/gtOC_{}.png'.format(i+1), 0).reshape(550, 550, 1) \n",
        "      ix_re_n.append(i)\n",
        "  \n",
        "  img = resize(img_ori, (256, 256, 1), mode = 'constant', preserve_range = True)\n",
        "  gt_OD = resize(gt_OD_ori, (256, 256, 1), mode = 'constant', preserve_range = True)\n",
        "  gt_OC = resize(gt_OC_ori, (256, 256, 1), mode = 'constant', preserve_range = True)\n",
        "  X_ori.append(img_ori/255.0)\n",
        "  X.append(img/255.0)\n",
        "  y_OD_ori.append(gt_OD_ori/255.0)\n",
        "  y_OC_ori.append(gt_OC_ori/255.0)\n",
        "  y_OD.append(gt_OD/255.0)\n",
        "  y_OC.append(gt_OC/255.0)\n",
        "\n",
        "ix = [ix_dr_gl, ix_dr_n, ix_re_gl, ix_re_n]\n",
        "X = np.array(X)\n",
        "\n",
        "y_OD = np.array(y_OD)\n",
        "y_OC = np.array(y_OC)\n",
        "y_OD_ori = np.array(y_OD_ori)\n",
        "y_OC_ori = np.array(y_OC_ori)"
      ],
      "execution_count": null,
      "outputs": [
        {
          "output_type": "stream",
          "text": [
            "/usr/local/lib/python3.7/dist-packages/ipykernel_launcher.py:13: TqdmDeprecationWarning: This function will be removed in tqdm==5.0.0\n",
            "Please use `tqdm.notebook.tqdm` instead of `tqdm.tqdm_notebook`\n",
            "  del sys.path[0]\n"
          ],
          "name": "stderr"
        },
        {
          "output_type": "display_data",
          "data": {
            "application/vnd.jupyter.widget-view+json": {
              "model_id": "b278039aecf64204940f83ecc18bd33a",
              "version_minor": 0,
              "version_major": 2
            },
            "text/plain": [
              "HBox(children=(FloatProgress(value=0.0, max=450.0), HTML(value='')))"
            ]
          },
          "metadata": {
            "tags": []
          }
        },
        {
          "output_type": "stream",
          "text": [
            "\n"
          ],
          "name": "stdout"
        }
      ]
    },
    {
      "cell_type": "code",
      "metadata": {
        "id": "9KS9-f771qlo",
        "colab": {
          "base_uri": "https://localhost:8080/",
          "height": 116,
          "referenced_widgets": [
            "192a2ddeba13487e92e01d05b80bdae1",
            "6a876dac0a6b4106a6172cbd4c9656d1",
            "65f5df1a2d3943158b8c4adad6f39373",
            "ee23de7a63c54f8b97a3770354d77c3c",
            "9b13be071d2d48ea9648dac6d695a215",
            "d45d00c307284898af4752e3bf51d5b0",
            "ebb37a2430b147dd9b9ddfdbb0d2eacd",
            "4452d3c088c84c1c92412aa42b18ea71"
          ]
        },
        "outputId": "dcac478d-27d5-43e6-d0f4-de359b31cc18"
      },
      "source": [
        "#Eager data acquistion\n",
        "clahe = cv2.createCLAHE(clipLimit=2.0, tileGridSize=(8,8))\n",
        "X = []\n",
        "y_OD_r = []\n",
        "y_OC_r = []\n",
        "y_OD = []\n",
        "y_OC = []\n",
        "\n",
        "X_dr_gl = []\n",
        "X_dr_n = []\n",
        "X_re_gl = []\n",
        "X_re_n = []\n",
        "y_dr_gl_OD = []\n",
        "y_dr_n_OD = []\n",
        "y_re_gl_OD = []\n",
        "y_re_n_OD = []\n",
        "y_dr_gl_OC = []\n",
        "y_dr_n_OC = []\n",
        "y_re_gl_OC = []\n",
        "y_re_n_OC = []\n",
        "\n",
        "y_dr_glr_OD = []\n",
        "y_dr_nr_OD = []\n",
        "y_re_glr_OD = []\n",
        "y_re_nr_OD = []\n",
        "y_dr_glr_OC = []\n",
        "y_dr_nr_OC = []\n",
        "y_re_glr_OC = []\n",
        "y_re_nr_OC = []\n",
        "\n",
        "for i in tqdm_notebook(range(0, len(df))):  \n",
        "  center = df['disc_center'][i]\n",
        "  img = cv2.imread(df['path'][i], 1)[:,:,1]\n",
        "  img = clahe.apply(img)\n",
        "  gt_OD = cv2.imread(df['path_OD_png'][i], 0)\n",
        "  gt_OC = cv2.imread(df['path_OC_png'][i], 0)\n",
        "\n",
        "  img,_ = ekstrakROI(center, 550, img)\n",
        "  gt_OD,_ = ekstrakROI(center, 550, gt_OD)\n",
        "  gt_OC,_ = ekstrakROI(center, 550, gt_OC)\n",
        "  img = (resize(img, (256, 256, 1), mode = 'constant', preserve_range = True))/255.0\n",
        "  gt_OD_r = (resize(gt_OD, (256, 256, 1), mode = 'constant', preserve_range = True))/255.0\n",
        "  gt_OC_r = (resize(gt_OC, (256, 256, 1), mode = 'constant', preserve_range = True))/255.0\n",
        "  gt_OD = gt_OD/255.0\n",
        "  gt_OC = gt_OC/255.0\n",
        "  if df['dataset'][i] == 'drishti':\n",
        "    if df['tag'][i] == 'Glaucoma':\n",
        "      X_dr_gl.append(img)\n",
        "      y_dr_gl_OD.append(gt_OD)\n",
        "      y_dr_gl_OC.append(gt_OC)\n",
        "      y_dr_glr_OD.append(gt_OD_r)\n",
        "      y_dr_glr_OC.append(gt_OD_r)\n",
        "    elif df['tag'][i] == 'Normal':\n",
        "      X_dr_n.append(img)\n",
        "      y_dr_n_OD.append(gt_OD)\n",
        "      y_dr_n_OC.append(gt_OC)\n",
        "      y_dr_nr_OD.append(gt_OD_r)\n",
        "      y_dr_nr_OC.append(gt_OD_r)\n",
        "  elif df['dataset'][i] == 'refuge':\n",
        "    if df['tag'][i] == 'Glaucoma':\n",
        "      X_re_gl.append(img)\n",
        "      y_re_gl_OD.append(gt_OD)\n",
        "      y_re_gl_OC.append(gt_OC)\n",
        "      y_re_glr_OD.append(gt_OD_r)\n",
        "      y_re_glr_OC.append(gt_OD_r)\n",
        "    elif df['tag'][i] == 'Normal':\n",
        "      X_re_n.append(img)\n",
        "      y_re_n_OD.append(gt_OD)\n",
        "      y_re_n_OC.append(gt_OC)\n",
        "      y_re_nr_OD.append(gt_OD_r)\n",
        "      y_re_nr_OC.append(gt_OD_r)\n",
        "\n",
        "X = [X_dr_gl, X_dr_n, X_re_gl, X_re_n]\n",
        "y_OD = [y_dr_gl_OD, y_dr_n_OD, y_re_gl_OD, y_re_n_OD]\n",
        "y_OC = [y_dr_gl_OC, y_dr_n_OC, y_re_gl_OC, y_re_n_OC]\n",
        "y_OD_r = [y_dr_glr_OD, y_dr_nr_OD, y_re_glr_OD, y_re_nr_OD]\n",
        "y_OC_r = [y_dr_glr_OC, y_dr_nr_OC, y_re_glr_OC, y_re_nr_OC]"
      ],
      "execution_count": null,
      "outputs": [
        {
          "output_type": "stream",
          "text": [
            "/usr/local/lib/python3.7/dist-packages/ipykernel_launcher.py:15: TqdmDeprecationWarning: This function will be removed in tqdm==5.0.0\n",
            "Please use `tqdm.notebook.tqdm` instead of `tqdm.tqdm_notebook`\n",
            "  from ipykernel import kernelapp as app\n"
          ],
          "name": "stderr"
        },
        {
          "output_type": "display_data",
          "data": {
            "application/vnd.jupyter.widget-view+json": {
              "model_id": "192a2ddeba13487e92e01d05b80bdae1",
              "version_minor": 0,
              "version_major": 2
            },
            "text/plain": [
              "HBox(children=(FloatProgress(value=0.0, max=450.0), HTML(value='')))"
            ]
          },
          "metadata": {
            "tags": []
          }
        },
        {
          "output_type": "stream",
          "text": [
            "\n"
          ],
          "name": "stdout"
        }
      ]
    },
    {
      "cell_type": "code",
      "metadata": {
        "id": "vdbyL6p2vnl0",
        "colab": {
          "base_uri": "https://localhost:8080/",
          "height": 148,
          "referenced_widgets": [
            "af207f8854bf43ecb359bfa4e55da3ea",
            "34eb0584090646da92dc55b8263ca758",
            "5def4bc8a6ea4f6db76fc8c76fb2fe11",
            "e2dd868cc1844dc39dfcaf85815fda82",
            "a462ef4911e2427991c0f1e50e7f8a49",
            "f853377c0d8c4779a14e80a7f13de328",
            "a5b4172250fa4db89ea3fdc633dc2785",
            "11180ef1826c446192aa63efafa2e412",
            "1e6e86e45de9421aab8894755dab783c",
            "314f00d502ff4fbe9317b4d28796488e",
            "9ddf3fbbaf564ca78bf50c91b88e3817",
            "42623c65b9b74af4908f1c6d75f5999f",
            "14bb3b4b5a744e1dae6ba92fab526f80",
            "e10623b132bd458bbc1b70bbbeee23e9",
            "dab6de1fad604969a9275b89c47a0846",
            "5ed6a7ccd2f342049e49dd96b53a8556"
          ]
        },
        "outputId": "dab7a6ab-dffa-4023-9aa8-3e40b50ee744"
      },
      "source": [
        "# Data splitting for 5 fold validation\n",
        "dataset_OD = k_fold_cross_data(X, y_OD, k=1, test_size=0.2, random_state=4)\n",
        "dataset_OC = k_fold_cross_data(X, y_OC, k=1, test_size=0.2, random_state=4)"
      ],
      "execution_count": null,
      "outputs": [
        {
          "output_type": "stream",
          "text": [
            "/usr/local/lib/python3.7/dist-packages/ipykernel_launcher.py:24: TqdmDeprecationWarning: This function will be removed in tqdm==5.0.0\n",
            "Please use `tqdm.notebook.tqdm` instead of `tqdm.tqdm_notebook`\n"
          ],
          "name": "stderr"
        },
        {
          "output_type": "display_data",
          "data": {
            "application/vnd.jupyter.widget-view+json": {
              "model_id": "af207f8854bf43ecb359bfa4e55da3ea",
              "version_minor": 0,
              "version_major": 2
            },
            "text/plain": [
              "HBox(children=(FloatProgress(value=0.0, max=1.0), HTML(value='')))"
            ]
          },
          "metadata": {
            "tags": []
          }
        },
        {
          "output_type": "stream",
          "text": [
            "\n"
          ],
          "name": "stdout"
        },
        {
          "output_type": "display_data",
          "data": {
            "application/vnd.jupyter.widget-view+json": {
              "model_id": "1e6e86e45de9421aab8894755dab783c",
              "version_minor": 0,
              "version_major": 2
            },
            "text/plain": [
              "HBox(children=(FloatProgress(value=0.0, max=1.0), HTML(value='')))"
            ]
          },
          "metadata": {
            "tags": []
          }
        },
        {
          "output_type": "stream",
          "text": [
            "\n"
          ],
          "name": "stdout"
        }
      ]
    },
    {
      "cell_type": "code",
      "metadata": {
        "id": "Jnbo3GH0qOgT"
      },
      "source": [
        "# Simple data splitting\n",
        "X_train_OD1, X_test_OD1, y_train_OD1, y_test_OD1 = train_test_split(X, y_OD, \n",
        "                                                                test_size=0.2, \n",
        "                                                                random_state = 5)\n",
        "X_train_OC1, X_test_OC1, y_train_OC1, y_test_OC1 = train_test_split(X, y_OC, \n",
        "                                                                test_size=0.2, \n",
        "                                                                random_state = 5)"
      ],
      "execution_count": null,
      "outputs": []
    },
    {
      "cell_type": "code",
      "metadata": {
        "id": "pNST6BRu3BCB"
      },
      "source": [
        "X_train_OD, X_test_OD, y_train_OD, y_test_OD = dataset_OD[0]\n",
        "X_train_OC, X_test_OC, y_train_OC, y_test_OC = dataset_OC[0]"
      ],
      "execution_count": null,
      "outputs": []
    },
    {
      "cell_type": "markdown",
      "metadata": {
        "id": "MN70qholXOQv"
      },
      "source": [
        "# Train and Test"
      ]
    },
    {
      "cell_type": "code",
      "metadata": {
        "id": "nZiEHJHAvOJk"
      },
      "source": [
        "callbacks_OD = [\n",
        "    EarlyStopping(patience=20, verbose=1),\n",
        "    ReduceLROnPlateau(factor=0.1, patience=5, min_lr=0.00001, verbose=1)\n",
        "    #ModelCheckpoint('model-OD.h5', verbose=0, save_best_only=True, save_weights_only=True)\n",
        "]\n",
        "callbacks_OC = [\n",
        "    EarlyStopping(patience=20, verbose=1),\n",
        "    ReduceLROnPlateau(factor=0.1, patience=5, min_lr=0.00001, verbose=1)\n",
        "    #ModelCheckpoint('model-OC.h5', verbose=0, save_best_only=True, save_weights_only=True)\n",
        "]"
      ],
      "execution_count": null,
      "outputs": []
    },
    {
      "cell_type": "code",
      "metadata": {
        "id": "UDK_W8wJ4C3T",
        "colab": {
          "base_uri": "https://localhost:8080/",
          "height": 1000,
          "referenced_widgets": [
            "fbcf8d7f8519429a9ce0f1be95d98b5e",
            "eb2301764aa3428e85aa720f9b74c63c",
            "4b1276859f29458b83c43870e3eff62f",
            "426dbc3ea47b478e8f51b123c213b507",
            "809d479eeb244a3e88ccaf7135dd4593",
            "b256dc6fb8e0459b9ac555693b6fb3af",
            "a0c1f57dbc7e4a92a4c88687204ecddc",
            "458c6590fd8f4d4aa2c2e852f0aae832"
          ]
        },
        "outputId": "12b359d4-1a8c-44d1-fcfe-f6a489448c01"
      },
      "source": [
        "results_OD, metrics_OD = k_fold_crossval(X, y_OD_r, y_OD, callbacks_OD, 'OD', \n",
        "                                         k=5, random_state=4, save=0)"
      ],
      "execution_count": null,
      "outputs": [
        {
          "output_type": "stream",
          "text": [
            "/usr/local/lib/python3.7/dist-packages/ipykernel_launcher.py:12: TqdmDeprecationWarning: This function will be removed in tqdm==5.0.0\n",
            "Please use `tqdm.notebook.tqdm` instead of `tqdm.tqdm_notebook`\n",
            "  if sys.path[0] == '':\n"
          ],
          "name": "stderr"
        },
        {
          "output_type": "display_data",
          "data": {
            "application/vnd.jupyter.widget-view+json": {
              "model_id": "fbcf8d7f8519429a9ce0f1be95d98b5e",
              "version_minor": 0,
              "version_major": 2
            },
            "text/plain": [
              "HBox(children=(FloatProgress(value=0.0, max=5.0), HTML(value='')))"
            ]
          },
          "metadata": {
            "tags": []
          }
        },
        {
          "output_type": "stream",
          "text": [
            "Evaluate fold  1\n",
            "\n",
            "Epoch 00052: ReduceLROnPlateau reducing learning rate to 0.00010000000474974513.\n",
            "\n",
            "Epoch 00057: ReduceLROnPlateau reducing learning rate to 1.0000000474974514e-05.\n",
            "\n",
            "Epoch 00062: ReduceLROnPlateau reducing learning rate to 1e-05.\n",
            "Epoch 00067: early stopping\n",
            "Fold 1\n",
            " loss: 0.1014 - acc: 0.959 - fscore: 0.933\n",
            "after upscalling\n",
            " loss: 0.1012 - acc: 0.967 - fscore: 0.934\n"
          ],
          "name": "stdout"
        },
        {
          "output_type": "display_data",
          "data": {
            "image/png": "[encoded data removed]",
            "text/plain": [
              "<Figure size 864x288 with 3 Axes>"
            ]
          },
          "metadata": {
            "tags": [],
            "needs_background": "light"
          }
        },
        {
          "output_type": "stream",
          "text": [
            "Evaluate fold  2\n",
            "\n",
            "Epoch 00011: ReduceLROnPlateau reducing learning rate to 0.00010000000474974513.\n",
            "\n",
            "Epoch 00059: ReduceLROnPlateau reducing learning rate to 1.0000000474974514e-05.\n",
            "\n",
            "Epoch 00064: ReduceLROnPlateau reducing learning rate to 1e-05.\n",
            "Epoch 00074: early stopping\n",
            "Fold 2\n",
            " loss: 0.1154 - acc: 0.948 - fscore: 0.912\n",
            "after upscalling\n",
            " loss: 0.1152 - acc: 0.956 - fscore: 0.913\n"
          ],
          "name": "stdout"
        },
        {
          "output_type": "display_data",
          "data": {
            "image/png": "[encoded data removed]",
            "text/plain": [
              "<Figure size 864x288 with 3 Axes>"
            ]
          },
          "metadata": {
            "tags": [],
            "needs_background": "light"
          }
        },
        {
          "output_type": "stream",
          "text": [
            "Evaluate fold  3\n",
            "\n",
            "Epoch 00021: ReduceLROnPlateau reducing learning rate to 0.00010000000474974513.\n",
            "\n",
            "Epoch 00057: ReduceLROnPlateau reducing learning rate to 1.0000000474974514e-05.\n",
            "\n",
            "Epoch 00062: ReduceLROnPlateau reducing learning rate to 1e-05.\n",
            "Epoch 00072: early stopping\n",
            "Fold 3\n",
            " loss: 0.1270 - acc: 0.948 - fscore: 0.908\n",
            "after upscalling\n",
            " loss: 0.1268 - acc: 0.956 - fscore: 0.909\n"
          ],
          "name": "stdout"
        },
        {
          "output_type": "display_data",
          "data": {
            "image/png": "[encoded data removed]",
            "text/plain": [
              "<Figure size 864x288 with 3 Axes>"
            ]
          },
          "metadata": {
            "tags": [],
            "needs_background": "light"
          }
        },
        {
          "output_type": "stream",
          "text": [
            "Evaluate fold  4\n",
            "\n",
            "Epoch 00042: ReduceLROnPlateau reducing learning rate to 0.00010000000474974513.\n",
            "\n",
            "Epoch 00049: ReduceLROnPlateau reducing learning rate to 1.0000000474974514e-05.\n",
            "\n",
            "Epoch 00054: ReduceLROnPlateau reducing learning rate to 1e-05.\n",
            "Epoch 00064: early stopping\n",
            "Fold 4\n",
            " loss: 0.1192 - acc: 0.952 - fscore: 0.921\n",
            "after upscalling\n",
            " loss: 0.1190 - acc: 0.961 - fscore: 0.922\n"
          ],
          "name": "stdout"
        },
        {
          "output_type": "display_data",
          "data": {
            "image/png": "[encoded data removed]",
            "text/plain": [
              "<Figure size 864x288 with 3 Axes>"
            ]
          },
          "metadata": {
            "tags": [],
            "needs_background": "light"
          }
        },
        {
          "output_type": "stream",
          "text": [
            "Evaluate fold  5\n"
          ],
          "name": "stdout"
        },
        {
          "output_type": "error",
          "ename": "ResourceExhaustedError",
          "evalue": "ignored",
          "traceback": [
            "\u001b[0;31m---------------------------------------------------------------------------\u001b[0m",
            "\u001b[0;31mResourceExhaustedError\u001b[0m                    Traceback (most recent call last)",
            "\u001b[0;32m<ipython-input-42-263697d6de3a>\u001b[0m in \u001b[0;36m<module>\u001b[0;34m()\u001b[0m\n\u001b[1;32m      1\u001b[0m results_OD, metrics_OD = k_fold_crossval(X, y_OD, y_OD_ori, ix, callbacks_OD, 'OD', k=5,\n\u001b[0;32m----> 2\u001b[0;31m                                          random_state=4, verbose=0, save=1, epoch=100)\n\u001b[0m",
            "\u001b[0;32m<ipython-input-40-ff9a1eac40e6>\u001b[0m in \u001b[0;36mk_fold_crossval\u001b[0;34m(X, y, y_ori, ix, callbacks, tipe, k, random_state, verbose, save, epoch)\u001b[0m\n\u001b[1;32m     18\u001b[0m     \u001b[0mmodel\u001b[0m\u001b[0;34m=\u001b[0m \u001b[0mget_unet\u001b[0m\u001b[0;34m(\u001b[0m\u001b[0minput_img\u001b[0m\u001b[0;34m,\u001b[0m \u001b[0mn_filters\u001b[0m \u001b[0;34m=\u001b[0m \u001b[0;36m64\u001b[0m\u001b[0;34m,\u001b[0m \u001b[0mdropout\u001b[0m \u001b[0;34m=\u001b[0m \u001b[0;36m0.1\u001b[0m\u001b[0;34m,\u001b[0m \u001b[0mbatchnorm\u001b[0m \u001b[0;34m=\u001b[0m \u001b[0;32mTrue\u001b[0m\u001b[0;34m)\u001b[0m\u001b[0;34m\u001b[0m\u001b[0;34m\u001b[0m\u001b[0m\n\u001b[1;32m     19\u001b[0m     \u001b[0mmodel\u001b[0m\u001b[0;34m.\u001b[0m\u001b[0mcompile\u001b[0m\u001b[0;34m(\u001b[0m\u001b[0moptimizer\u001b[0m\u001b[0;34m=\u001b[0m\u001b[0mAdam\u001b[0m\u001b[0;34m(\u001b[0m\u001b[0;34m)\u001b[0m\u001b[0;34m,\u001b[0m \u001b[0mloss\u001b[0m\u001b[0;34m=\u001b[0m\u001b[0;34m\"binary_crossentropy\"\u001b[0m\u001b[0;34m,\u001b[0m \u001b[0mmetrics\u001b[0m\u001b[0;34m=\u001b[0m\u001b[0;34m[\u001b[0m\u001b[0;34m\"accuracy\"\u001b[0m\u001b[0;34m,\u001b[0m\u001b[0mfscore\u001b[0m\u001b[0;34m]\u001b[0m\u001b[0;34m)\u001b[0m\u001b[0;34m\u001b[0m\u001b[0;34m\u001b[0m\u001b[0m\n\u001b[0;32m---> 20\u001b[0;31m     \u001b[0mresult\u001b[0m \u001b[0;34m=\u001b[0m \u001b[0mmodel\u001b[0m\u001b[0;34m.\u001b[0m\u001b[0mfit\u001b[0m\u001b[0;34m(\u001b[0m\u001b[0mX\u001b[0m\u001b[0;34m[\u001b[0m\u001b[0mix_train\u001b[0m\u001b[0;34m]\u001b[0m\u001b[0;34m,\u001b[0m \u001b[0my\u001b[0m\u001b[0;34m[\u001b[0m\u001b[0mix_train\u001b[0m\u001b[0;34m]\u001b[0m\u001b[0;34m,\u001b[0m \u001b[0mbatch_size\u001b[0m\u001b[0;34m=\u001b[0m\u001b[0;36m32\u001b[0m\u001b[0;34m,\u001b[0m \u001b[0mepochs\u001b[0m\u001b[0;34m=\u001b[0m\u001b[0mepoch\u001b[0m\u001b[0;34m,\u001b[0m \u001b[0mcallbacks\u001b[0m\u001b[0;34m=\u001b[0m\u001b[0mcallbacks\u001b[0m\u001b[0;34m,\u001b[0m                    \u001b[0mvalidation_data\u001b[0m\u001b[0;34m=\u001b[0m\u001b[0;34m(\u001b[0m\u001b[0mX\u001b[0m\u001b[0;34m[\u001b[0m\u001b[0mix_test\u001b[0m\u001b[0;34m]\u001b[0m\u001b[0;34m,\u001b[0m \u001b[0my\u001b[0m\u001b[0;34m[\u001b[0m\u001b[0mix_test\u001b[0m\u001b[0;34m]\u001b[0m\u001b[0;34m)\u001b[0m\u001b[0;34m,\u001b[0m \u001b[0mverbose\u001b[0m\u001b[0;34m=\u001b[0m\u001b[0mverbose\u001b[0m\u001b[0;34m)\u001b[0m\u001b[0;34m\u001b[0m\u001b[0;34m\u001b[0m\u001b[0m\n\u001b[0m\u001b[1;32m     21\u001b[0m     \u001b[0mresults\u001b[0m\u001b[0;34m.\u001b[0m\u001b[0mappend\u001b[0m\u001b[0;34m(\u001b[0m\u001b[0mresult\u001b[0m\u001b[0;34m)\u001b[0m\u001b[0;34m\u001b[0m\u001b[0;34m\u001b[0m\u001b[0m\n\u001b[1;32m     22\u001b[0m     \u001b[0mmodel_layer\u001b[0m \u001b[0;34m=\u001b[0m \u001b[0mmodel\u001b[0m\u001b[0;34m.\u001b[0m\u001b[0mlayers\u001b[0m\u001b[0;34m[\u001b[0m\u001b[0;34m-\u001b[0m\u001b[0;36m1\u001b[0m\u001b[0;34m]\u001b[0m\u001b[0;34m\u001b[0m\u001b[0;34m\u001b[0m\u001b[0m\n",
            "\u001b[0;32m/usr/local/lib/python3.7/dist-packages/keras/engine/training.py\u001b[0m in \u001b[0;36mfit\u001b[0;34m(self, x, y, batch_size, epochs, verbose, callbacks, validation_split, validation_data, shuffle, class_weight, sample_weight, initial_epoch, steps_per_epoch, validation_steps, validation_batch_size, validation_freq, max_queue_size, workers, use_multiprocessing)\u001b[0m\n\u001b[1;32m   1156\u001b[0m                 _r=1):\n\u001b[1;32m   1157\u001b[0m               \u001b[0mcallbacks\u001b[0m\u001b[0;34m.\u001b[0m\u001b[0mon_train_batch_begin\u001b[0m\u001b[0;34m(\u001b[0m\u001b[0mstep\u001b[0m\u001b[0;34m)\u001b[0m\u001b[0;34m\u001b[0m\u001b[0;34m\u001b[0m\u001b[0m\n\u001b[0;32m-> 1158\u001b[0;31m               \u001b[0mtmp_logs\u001b[0m \u001b[0;34m=\u001b[0m \u001b[0mself\u001b[0m\u001b[0;34m.\u001b[0m\u001b[0mtrain_function\u001b[0m\u001b[0;34m(\u001b[0m\u001b[0miterator\u001b[0m\u001b[0;34m)\u001b[0m\u001b[0;34m\u001b[0m\u001b[0;34m\u001b[0m\u001b[0m\n\u001b[0m\u001b[1;32m   1159\u001b[0m               \u001b[0;32mif\u001b[0m \u001b[0mdata_handler\u001b[0m\u001b[0;34m.\u001b[0m\u001b[0mshould_sync\u001b[0m\u001b[0;34m:\u001b[0m\u001b[0;34m\u001b[0m\u001b[0;34m\u001b[0m\u001b[0m\n\u001b[1;32m   1160\u001b[0m                 \u001b[0mcontext\u001b[0m\u001b[0;34m.\u001b[0m\u001b[0masync_wait\u001b[0m\u001b[0;34m(\u001b[0m\u001b[0;34m)\u001b[0m\u001b[0;34m\u001b[0m\u001b[0;34m\u001b[0m\u001b[0m\n",
            "\u001b[0;32m/usr/local/lib/python3.7/dist-packages/tensorflow/python/eager/def_function.py\u001b[0m in \u001b[0;36m__call__\u001b[0;34m(self, *args, **kwds)\u001b[0m\n\u001b[1;32m    887\u001b[0m \u001b[0;34m\u001b[0m\u001b[0m\n\u001b[1;32m    888\u001b[0m       \u001b[0;32mwith\u001b[0m \u001b[0mOptionalXlaContext\u001b[0m\u001b[0;34m(\u001b[0m\u001b[0mself\u001b[0m\u001b[0;34m.\u001b[0m\u001b[0m_jit_compile\u001b[0m\u001b[0;34m)\u001b[0m\u001b[0;34m:\u001b[0m\u001b[0;34m\u001b[0m\u001b[0;34m\u001b[0m\u001b[0m\n\u001b[0;32m--> 889\u001b[0;31m         \u001b[0mresult\u001b[0m \u001b[0;34m=\u001b[0m \u001b[0mself\u001b[0m\u001b[0;34m.\u001b[0m\u001b[0m_call\u001b[0m\u001b[0;34m(\u001b[0m\u001b[0;34m*\u001b[0m\u001b[0margs\u001b[0m\u001b[0;34m,\u001b[0m \u001b[0;34m**\u001b[0m\u001b[0mkwds\u001b[0m\u001b[0;34m)\u001b[0m\u001b[0;34m\u001b[0m\u001b[0;34m\u001b[0m\u001b[0m\n\u001b[0m\u001b[1;32m    890\u001b[0m \u001b[0;34m\u001b[0m\u001b[0m\n\u001b[1;32m    891\u001b[0m       \u001b[0mnew_tracing_count\u001b[0m \u001b[0;34m=\u001b[0m \u001b[0mself\u001b[0m\u001b[0;34m.\u001b[0m\u001b[0mexperimental_get_tracing_count\u001b[0m\u001b[0;34m(\u001b[0m\u001b[0;34m)\u001b[0m\u001b[0;34m\u001b[0m\u001b[0;34m\u001b[0m\u001b[0m\n",
            "\u001b[0;32m/usr/local/lib/python3.7/dist-packages/tensorflow/python/eager/def_function.py\u001b[0m in \u001b[0;36m_call\u001b[0;34m(self, *args, **kwds)\u001b[0m\n\u001b[1;32m    915\u001b[0m       \u001b[0;31m# In this case we have created variables on the first call, so we run the\u001b[0m\u001b[0;34m\u001b[0m\u001b[0;34m\u001b[0m\u001b[0;34m\u001b[0m\u001b[0m\n\u001b[1;32m    916\u001b[0m       \u001b[0;31m# defunned version which is guaranteed to never create variables.\u001b[0m\u001b[0;34m\u001b[0m\u001b[0;34m\u001b[0m\u001b[0;34m\u001b[0m\u001b[0m\n\u001b[0;32m--> 917\u001b[0;31m       \u001b[0;32mreturn\u001b[0m \u001b[0mself\u001b[0m\u001b[0;34m.\u001b[0m\u001b[0m_stateless_fn\u001b[0m\u001b[0;34m(\u001b[0m\u001b[0;34m*\u001b[0m\u001b[0margs\u001b[0m\u001b[0;34m,\u001b[0m \u001b[0;34m**\u001b[0m\u001b[0mkwds\u001b[0m\u001b[0;34m)\u001b[0m  \u001b[0;31m# pylint: disable=not-callable\u001b[0m\u001b[0;34m\u001b[0m\u001b[0;34m\u001b[0m\u001b[0m\n\u001b[0m\u001b[1;32m    918\u001b[0m     \u001b[0;32melif\u001b[0m \u001b[0mself\u001b[0m\u001b[0;34m.\u001b[0m\u001b[0m_stateful_fn\u001b[0m \u001b[0;32mis\u001b[0m \u001b[0;32mnot\u001b[0m \u001b[0;32mNone\u001b[0m\u001b[0;34m:\u001b[0m\u001b[0;34m\u001b[0m\u001b[0;34m\u001b[0m\u001b[0m\n\u001b[1;32m    919\u001b[0m       \u001b[0;31m# Release the lock early so that multiple threads can perform the call\u001b[0m\u001b[0;34m\u001b[0m\u001b[0;34m\u001b[0m\u001b[0;34m\u001b[0m\u001b[0m\n",
            "\u001b[0;32m/usr/local/lib/python3.7/dist-packages/tensorflow/python/eager/function.py\u001b[0m in \u001b[0;36m__call__\u001b[0;34m(self, *args, **kwargs)\u001b[0m\n\u001b[1;32m   3022\u001b[0m        filtered_flat_args) = self._maybe_define_function(args, kwargs)\n\u001b[1;32m   3023\u001b[0m     return graph_function._call_flat(\n\u001b[0;32m-> 3024\u001b[0;31m         filtered_flat_args, captured_inputs=graph_function.captured_inputs)  # pylint: disable=protected-access\n\u001b[0m\u001b[1;32m   3025\u001b[0m \u001b[0;34m\u001b[0m\u001b[0m\n\u001b[1;32m   3026\u001b[0m   \u001b[0;34m@\u001b[0m\u001b[0mproperty\u001b[0m\u001b[0;34m\u001b[0m\u001b[0;34m\u001b[0m\u001b[0m\n",
            "\u001b[0;32m/usr/local/lib/python3.7/dist-packages/tensorflow/python/eager/function.py\u001b[0m in \u001b[0;36m_call_flat\u001b[0;34m(self, args, captured_inputs, cancellation_manager)\u001b[0m\n\u001b[1;32m   1959\u001b[0m       \u001b[0;31m# No tape is watching; skip to running the function.\u001b[0m\u001b[0;34m\u001b[0m\u001b[0;34m\u001b[0m\u001b[0;34m\u001b[0m\u001b[0m\n\u001b[1;32m   1960\u001b[0m       return self._build_call_outputs(self._inference_function.call(\n\u001b[0;32m-> 1961\u001b[0;31m           ctx, args, cancellation_manager=cancellation_manager))\n\u001b[0m\u001b[1;32m   1962\u001b[0m     forward_backward = self._select_forward_and_backward_functions(\n\u001b[1;32m   1963\u001b[0m         \u001b[0margs\u001b[0m\u001b[0;34m,\u001b[0m\u001b[0;34m\u001b[0m\u001b[0;34m\u001b[0m\u001b[0m\n",
            "\u001b[0;32m/usr/local/lib/python3.7/dist-packages/tensorflow/python/eager/function.py\u001b[0m in \u001b[0;36mcall\u001b[0;34m(self, ctx, args, cancellation_manager)\u001b[0m\n\u001b[1;32m    594\u001b[0m               \u001b[0minputs\u001b[0m\u001b[0;34m=\u001b[0m\u001b[0margs\u001b[0m\u001b[0;34m,\u001b[0m\u001b[0;34m\u001b[0m\u001b[0;34m\u001b[0m\u001b[0m\n\u001b[1;32m    595\u001b[0m               \u001b[0mattrs\u001b[0m\u001b[0;34m=\u001b[0m\u001b[0mattrs\u001b[0m\u001b[0;34m,\u001b[0m\u001b[0;34m\u001b[0m\u001b[0;34m\u001b[0m\u001b[0m\n\u001b[0;32m--> 596\u001b[0;31m               ctx=ctx)\n\u001b[0m\u001b[1;32m    597\u001b[0m         \u001b[0;32melse\u001b[0m\u001b[0;34m:\u001b[0m\u001b[0;34m\u001b[0m\u001b[0;34m\u001b[0m\u001b[0m\n\u001b[1;32m    598\u001b[0m           outputs = execute.execute_with_cancellation(\n",
            "\u001b[0;32m/usr/local/lib/python3.7/dist-packages/tensorflow/python/eager/execute.py\u001b[0m in \u001b[0;36mquick_execute\u001b[0;34m(op_name, num_outputs, inputs, attrs, ctx, name)\u001b[0m\n\u001b[1;32m     58\u001b[0m     \u001b[0mctx\u001b[0m\u001b[0;34m.\u001b[0m\u001b[0mensure_initialized\u001b[0m\u001b[0;34m(\u001b[0m\u001b[0;34m)\u001b[0m\u001b[0;34m\u001b[0m\u001b[0;34m\u001b[0m\u001b[0m\n\u001b[1;32m     59\u001b[0m     tensors = pywrap_tfe.TFE_Py_Execute(ctx._handle, device_name, op_name,\n\u001b[0;32m---> 60\u001b[0;31m                                         inputs, attrs, num_outputs)\n\u001b[0m\u001b[1;32m     61\u001b[0m   \u001b[0;32mexcept\u001b[0m \u001b[0mcore\u001b[0m\u001b[0;34m.\u001b[0m\u001b[0m_NotOkStatusException\u001b[0m \u001b[0;32mas\u001b[0m \u001b[0me\u001b[0m\u001b[0;34m:\u001b[0m\u001b[0;34m\u001b[0m\u001b[0;34m\u001b[0m\u001b[0m\n\u001b[1;32m     62\u001b[0m     \u001b[0;32mif\u001b[0m \u001b[0mname\u001b[0m \u001b[0;32mis\u001b[0m \u001b[0;32mnot\u001b[0m \u001b[0;32mNone\u001b[0m\u001b[0;34m:\u001b[0m\u001b[0;34m\u001b[0m\u001b[0;34m\u001b[0m\u001b[0m\n",
            "\u001b[0;31mResourceExhaustedError\u001b[0m:  OOM when allocating tensor with shape[32,128,256,256] and type float on /job:localhost/replica:0/task:0/device:GPU:0 by allocator GPU_0_bfc\n\t [[node gradient_tape/model_14/conv2d_283/Conv2D/Conv2DBackpropInput (defined at /usr/local/lib/python3.7/dist-packages/keras/engine/training.py:774) ]]\nHint: If you want to see a list of allocated tensors when OOM happens, add report_tensor_allocations_upon_oom to RunOptions for current allocation info.\n [Op:__inference_train_function_132301]\n\nErrors may have originated from an input operation.\nInput Source operations connected to node gradient_tape/model_14/conv2d_283/Conv2D/Conv2DBackpropInput:\n model_14/conv2d_283/Conv2D/ReadVariableOp (defined at /usr/local/lib/python3.7/dist-packages/keras/layers/convolutional.py:245)\n\nFunction call stack:\ntrain_function\n"
          ]
        }
      ]
    },
    {
      "cell_type": "code",
      "metadata": {
        "id": "98_rCujNDcZL",
        "colab": {
          "base_uri": "https://localhost:8080/",
          "height": 1000,
          "referenced_widgets": [
            "2da8903c13994e75a589e158f953e0a5",
            "dae6f4d0011e4e36b2ed471038489316",
            "9f511560436d4abbb5d4597df396e1f0",
            "e3b5a52e953645faa4ee4f79d34d544c",
            "726637e04fdd4e42a3693e9365a7df8e",
            "c1efa2d494364e9c9fd32065e55ed3a6",
            "9f0f923337604305849cc2f541329717",
            "3fe7e991e5624212b110d698996a24e7"
          ]
        },
        "outputId": "ca954c8d-b84a-4649-d8b4-2eefa3a35d94"
      },
      "source": [
        "results_OC, metrics_OC = k_fold_crossval(X, y_OC_r, y_OC, callbacks_OC, 'OC',\n",
        "                                         k=5, random_state=4, save=0)"
      ],
      "execution_count": null,
      "outputs": [
        {
          "output_type": "stream",
          "text": [
            "/usr/local/lib/python3.7/dist-packages/ipykernel_launcher.py:12: TqdmDeprecationWarning: This function will be removed in tqdm==5.0.0\n",
            "Please use `tqdm.notebook.tqdm` instead of `tqdm.tqdm_notebook`\n",
            "  if sys.path[0] == '':\n"
          ],
          "name": "stderr"
        },
        {
          "output_type": "display_data",
          "data": {
            "application/vnd.jupyter.widget-view+json": {
              "model_id": "2da8903c13994e75a589e158f953e0a5",
              "version_major": 2,
              "version_minor": 0
            },
            "text/plain": [
              "HBox(children=(FloatProgress(value=0.0, max=5.0), HTML(value='')))"
            ]
          },
          "metadata": {
            "tags": []
          }
        },
        {
          "output_type": "stream",
          "text": [
            "Evaluate fold  1\n",
            "\n",
            "Epoch 00023: ReduceLROnPlateau reducing learning rate to 0.00010000000474974513.\n",
            "\n",
            "Epoch 00028: ReduceLROnPlateau reducing learning rate to 1.0000000474974514e-05.\n",
            "\n",
            "Epoch 00033: ReduceLROnPlateau reducing learning rate to 1e-05.\n",
            "Epoch 00081: early stopping\n",
            "Fold 1\n",
            " loss: 0.0679 - acc: 0.969 - fscore: 0.802\n",
            "after upscalling\n",
            " loss: 0.0678 - acc: 0.974 - fscore: 0.806\n"
          ],
          "name": "stdout"
        },
        {
          "output_type": "display_data",
          "data": {
            "image/png": "[encoded data removed]",
            "text/plain": [
              "<Figure size 864x288 with 3 Axes>"
            ]
          },
          "metadata": {
            "tags": []
          }
        },
        {
          "output_type": "stream",
          "text": [
            "Evaluate fold  2\n",
            "\n",
            "Epoch 00023: ReduceLROnPlateau reducing learning rate to 0.00010000000474974513.\n",
            "\n",
            "Epoch 00059: ReduceLROnPlateau reducing learning rate to 1.0000000474974514e-05.\n",
            "\n",
            "Epoch 00064: ReduceLROnPlateau reducing learning rate to 1e-05.\n",
            "Epoch 00074: early stopping\n",
            "Fold 2\n",
            " loss: 0.0795 - acc: 0.970 - fscore: 0.815\n",
            "after upscalling\n",
            " loss: 0.0795 - acc: 0.974 - fscore: 0.817\n"
          ],
          "name": "stdout"
        },
        {
          "output_type": "display_data",
          "data": {
            "image/png": "[encoded data removed]",
            "text/plain": [
              "<Figure size 864x288 with 3 Axes>"
            ]
          },
          "metadata": {
            "tags": []
          }
        },
        {
          "output_type": "stream",
          "text": [
            "Evaluate fold  3\n",
            "\n",
            "Epoch 00019: ReduceLROnPlateau reducing learning rate to 0.00010000000474974513.\n",
            "\n",
            "Epoch 00024: ReduceLROnPlateau reducing learning rate to 1.0000000474974514e-05.\n",
            "\n",
            "Epoch 00029: ReduceLROnPlateau reducing learning rate to 1e-05.\n",
            "Epoch 00034: early stopping\n",
            "Fold 3\n",
            " loss: 0.7540 - acc: 0.806 - fscore: 0.446\n",
            "after upscalling\n",
            " loss: 0.7528 - acc: 0.811 - fscore: 0.447\n"
          ],
          "name": "stdout"
        },
        {
          "output_type": "display_data",
          "data": {
            "image/png": "[encoded data removed]",
            "text/plain": [
              "<Figure size 864x288 with 3 Axes>"
            ]
          },
          "metadata": {
            "tags": []
          }
        },
        {
          "output_type": "stream",
          "text": [
            "Evaluate fold  4\n",
            "\n",
            "Epoch 00013: ReduceLROnPlateau reducing learning rate to 0.00010000000474974513.\n",
            "\n",
            "Epoch 00067: ReduceLROnPlateau reducing learning rate to 1.0000000474974514e-05.\n",
            "\n",
            "Epoch 00091: ReduceLROnPlateau reducing learning rate to 1e-05.\n",
            "WARNING:tensorflow:5 out of the last 5 calls to <function Model.make_predict_function.<locals>.predict_function at 0x7fd43835c830> triggered tf.function retracing. Tracing is expensive and the excessive number of tracings could be due to (1) creating @tf.function repeatedly in a loop, (2) passing tensors with different shapes, (3) passing Python objects instead of tensors. For (1), please define your @tf.function outside of the loop. For (2), @tf.function has experimental_relax_shapes=True option that relaxes argument shapes that can avoid unnecessary retracing. For (3), please refer to https://www.tensorflow.org/guide/function#controlling_retracing and https://www.tensorflow.org/api_docs/python/tf/function for  more details.\n",
            "Fold 4\n",
            " loss: 0.1048 - acc: 0.959 - fscore: 0.804\n",
            "after upscalling\n",
            " loss: 0.1046 - acc: 0.965 - fscore: 0.806\n"
          ],
          "name": "stdout"
        },
        {
          "output_type": "display_data",
          "data": {
            "image/png": "[encoded data removed]",
            "text/plain": [
              "<Figure size 864x288 with 3 Axes>"
            ]
          },
          "metadata": {
            "tags": []
          }
        },
        {
          "output_type": "stream",
          "text": [
            "Evaluate fold  5\n",
            "\n",
            "Epoch 00033: ReduceLROnPlateau reducing learning rate to 0.00010000000474974513.\n",
            "\n",
            "Epoch 00038: ReduceLROnPlateau reducing learning rate to 1.0000000474974514e-05.\n",
            "\n",
            "Epoch 00068: ReduceLROnPlateau reducing learning rate to 1e-05.\n",
            "Epoch 00083: early stopping\n",
            "WARNING:tensorflow:6 out of the last 6 calls to <function Model.make_predict_function.<locals>.predict_function at 0x7fd435111290> triggered tf.function retracing. Tracing is expensive and the excessive number of tracings could be due to (1) creating @tf.function repeatedly in a loop, (2) passing tensors with different shapes, (3) passing Python objects instead of tensors. For (1), please define your @tf.function outside of the loop. For (2), @tf.function has experimental_relax_shapes=True option that relaxes argument shapes that can avoid unnecessary retracing. For (3), please refer to https://www.tensorflow.org/guide/function#controlling_retracing and https://www.tensorflow.org/api_docs/python/tf/function for  more details.\n",
            "Fold 5\n",
            " loss: 0.0732 - acc: 0.968 - fscore: 0.797\n",
            "after upscalling\n",
            " loss: 0.0731 - acc: 0.972 - fscore: 0.799\n"
          ],
          "name": "stdout"
        },
        {
          "output_type": "display_data",
          "data": {
            "image/png": "[encoded data removed]",
            "text/plain": [
              "<Figure size 864x288 with 3 Axes>"
            ]
          },
          "metadata": {
            "tags": [],
            "needs_background": "light"
          }
        },
        {
          "output_type": "stream",
          "text": [
            "\n",
            "Best model is fold- 2\n",
            "Saving best model from fold- 2\n",
            "INFO:tensorflow:Assets written to: /content/gdrive/My Drive/Drive Tugas Akhir/Kode/model OC semantic/assets\n",
            "Save model success!\n"
          ],
          "name": "stdout"
        }
      ]
    },
    {
      "cell_type": "code",
      "metadata": {
        "id": "Mpw1UcF5t3al"
      },
      "source": [
        "metrics_OD.describe()"
      ],
      "execution_count": null,
      "outputs": []
    },
    {
      "cell_type": "code",
      "metadata": {
        "id": "FeQHtwENErTx"
      },
      "source": [
        "metrics_OC.describe()"
      ],
      "execution_count": null,
      "outputs": []
    },
    {
      "cell_type": "code",
      "metadata": {
        "id": "mGYe8hwQC0l0"
      },
      "source": [
        "histo(results_OD)"
      ],
      "execution_count": null,
      "outputs": []
    },
    {
      "cell_type": "code",
      "metadata": {
        "id": "1cT_EYmIE5gl"
      },
      "source": [
        "histo(results_OC)"
      ],
      "execution_count": null,
      "outputs": []
    },
    {
      "cell_type": "code",
      "metadata": {
        "id": "8wc6YWO2vI21"
      },
      "source": [
        "input_img = Input((550,550, 1), name='img')"
      ],
      "execution_count": null,
      "outputs": []
    },
    {
      "cell_type": "code",
      "metadata": {
        "id": "YfWosLL9oOU5"
      },
      "source": [
        "model_OD = get_unet(input_img, n_filters = 64, dropout = 0.1, batchnorm = True)\n",
        "model_OD.compile(optimizer=Adam(), loss=\"binary_crossentropy\", metrics=['accuracy', fscore])\n",
        "\n",
        "model_OC = get_unet(input_img, n_filters = 64, dropout = 0.1, batchnorm = True)\n",
        "model_OC.compile(optimizer=Adam(), loss=\"binary_crossentropy\", metrics=['accuracy', fscore])"
      ],
      "execution_count": null,
      "outputs": []
    },
    {
      "cell_type": "code",
      "metadata": {
        "id": "7r3b0GvUBjn1",
        "colab": {
          "base_uri": "https://localhost:8080/"
        },
        "outputId": "46e4925f-998e-4dc7-dfec-5b13907228ab"
      },
      "source": [
        "model_OD.summary()"
      ],
      "execution_count": null,
      "outputs": [
        {
          "output_type": "stream",
          "text": [
            "Model: \"model_3\"\n",
            "__________________________________________________________________________________________________\n",
            "Layer (type)                    Output Shape         Param #     Connected to                     \n",
            "==================================================================================================\n",
            "img (InputLayer)                [(None, 550, 550, 1) 0                                            \n",
            "__________________________________________________________________________________________________\n",
            "lambda_input (Lambda)           (None, 256, 256, 1)  0           img[0][0]                        \n",
            "__________________________________________________________________________________________________\n",
            "conv2d_71 (Conv2D)              (None, 256, 256, 64) 640         lambda_input[0][0]               \n",
            "__________________________________________________________________________________________________\n",
            "batch_normalization_67 (BatchNo (None, 256, 256, 64) 256         conv2d_71[0][0]                  \n",
            "__________________________________________________________________________________________________\n",
            "activation_67 (Activation)      (None, 256, 256, 64) 0           batch_normalization_67[0][0]     \n",
            "__________________________________________________________________________________________________\n",
            "max_pooling2d_16 (MaxPooling2D) (None, 128, 128, 64) 0           activation_67[0][0]              \n",
            "__________________________________________________________________________________________________\n",
            "dropout_29 (Dropout)            (None, 128, 128, 64) 0           max_pooling2d_16[0][0]           \n",
            "__________________________________________________________________________________________________\n",
            "conv2d_73 (Conv2D)              (None, 128, 128, 128 73856       dropout_29[0][0]                 \n",
            "__________________________________________________________________________________________________\n",
            "batch_normalization_69 (BatchNo (None, 128, 128, 128 512         conv2d_73[0][0]                  \n",
            "__________________________________________________________________________________________________\n",
            "activation_69 (Activation)      (None, 128, 128, 128 0           batch_normalization_69[0][0]     \n",
            "__________________________________________________________________________________________________\n",
            "max_pooling2d_17 (MaxPooling2D) (None, 64, 64, 128)  0           activation_69[0][0]              \n",
            "__________________________________________________________________________________________________\n",
            "dropout_30 (Dropout)            (None, 64, 64, 128)  0           max_pooling2d_17[0][0]           \n",
            "__________________________________________________________________________________________________\n",
            "conv2d_75 (Conv2D)              (None, 64, 64, 256)  295168      dropout_30[0][0]                 \n",
            "__________________________________________________________________________________________________\n",
            "batch_normalization_71 (BatchNo (None, 64, 64, 256)  1024        conv2d_75[0][0]                  \n",
            "__________________________________________________________________________________________________\n",
            "activation_71 (Activation)      (None, 64, 64, 256)  0           batch_normalization_71[0][0]     \n",
            "__________________________________________________________________________________________________\n",
            "max_pooling2d_18 (MaxPooling2D) (None, 32, 32, 256)  0           activation_71[0][0]              \n",
            "__________________________________________________________________________________________________\n",
            "dropout_31 (Dropout)            (None, 32, 32, 256)  0           max_pooling2d_18[0][0]           \n",
            "__________________________________________________________________________________________________\n",
            "conv2d_77 (Conv2D)              (None, 32, 32, 512)  1180160     dropout_31[0][0]                 \n",
            "__________________________________________________________________________________________________\n",
            "batch_normalization_73 (BatchNo (None, 32, 32, 512)  2048        conv2d_77[0][0]                  \n",
            "__________________________________________________________________________________________________\n",
            "activation_73 (Activation)      (None, 32, 32, 512)  0           batch_normalization_73[0][0]     \n",
            "__________________________________________________________________________________________________\n",
            "max_pooling2d_19 (MaxPooling2D) (None, 16, 16, 512)  0           activation_73[0][0]              \n",
            "__________________________________________________________________________________________________\n",
            "dropout_32 (Dropout)            (None, 16, 16, 512)  0           max_pooling2d_19[0][0]           \n",
            "__________________________________________________________________________________________________\n",
            "conv2d_79 (Conv2D)              (None, 16, 16, 1024) 4719616     dropout_32[0][0]                 \n",
            "__________________________________________________________________________________________________\n",
            "batch_normalization_75 (BatchNo (None, 16, 16, 1024) 4096        conv2d_79[0][0]                  \n",
            "__________________________________________________________________________________________________\n",
            "activation_75 (Activation)      (None, 16, 16, 1024) 0           batch_normalization_75[0][0]     \n",
            "__________________________________________________________________________________________________\n",
            "conv2d_transpose_14 (Conv2DTran (None, 32, 32, 512)  4719104     activation_75[0][0]              \n",
            "__________________________________________________________________________________________________\n",
            "concatenate_14 (Concatenate)    (None, 32, 32, 1024) 0           conv2d_transpose_14[0][0]        \n",
            "                                                                 activation_73[0][0]              \n",
            "__________________________________________________________________________________________________\n",
            "dropout_33 (Dropout)            (None, 32, 32, 1024) 0           concatenate_14[0][0]             \n",
            "__________________________________________________________________________________________________\n",
            "conv2d_81 (Conv2D)              (None, 32, 32, 512)  4719104     dropout_33[0][0]                 \n",
            "__________________________________________________________________________________________________\n",
            "batch_normalization_77 (BatchNo (None, 32, 32, 512)  2048        conv2d_81[0][0]                  \n",
            "__________________________________________________________________________________________________\n",
            "activation_77 (Activation)      (None, 32, 32, 512)  0           batch_normalization_77[0][0]     \n",
            "__________________________________________________________________________________________________\n",
            "conv2d_transpose_15 (Conv2DTran (None, 64, 64, 256)  1179904     activation_77[0][0]              \n",
            "__________________________________________________________________________________________________\n",
            "concatenate_15 (Concatenate)    (None, 64, 64, 512)  0           conv2d_transpose_15[0][0]        \n",
            "                                                                 activation_71[0][0]              \n",
            "__________________________________________________________________________________________________\n",
            "dropout_34 (Dropout)            (None, 64, 64, 512)  0           concatenate_15[0][0]             \n",
            "__________________________________________________________________________________________________\n",
            "conv2d_83 (Conv2D)              (None, 64, 64, 256)  1179904     dropout_34[0][0]                 \n",
            "__________________________________________________________________________________________________\n",
            "batch_normalization_79 (BatchNo (None, 64, 64, 256)  1024        conv2d_83[0][0]                  \n",
            "__________________________________________________________________________________________________\n",
            "activation_79 (Activation)      (None, 64, 64, 256)  0           batch_normalization_79[0][0]     \n",
            "__________________________________________________________________________________________________\n",
            "conv2d_transpose_16 (Conv2DTran (None, 128, 128, 128 295040      activation_79[0][0]              \n",
            "__________________________________________________________________________________________________\n",
            "concatenate_16 (Concatenate)    (None, 128, 128, 256 0           conv2d_transpose_16[0][0]        \n",
            "                                                                 activation_69[0][0]              \n",
            "__________________________________________________________________________________________________\n",
            "dropout_35 (Dropout)            (None, 128, 128, 256 0           concatenate_16[0][0]             \n",
            "__________________________________________________________________________________________________\n",
            "conv2d_85 (Conv2D)              (None, 128, 128, 128 295040      dropout_35[0][0]                 \n",
            "__________________________________________________________________________________________________\n",
            "batch_normalization_81 (BatchNo (None, 128, 128, 128 512         conv2d_85[0][0]                  \n",
            "__________________________________________________________________________________________________\n",
            "activation_81 (Activation)      (None, 128, 128, 128 0           batch_normalization_81[0][0]     \n",
            "__________________________________________________________________________________________________\n",
            "conv2d_transpose_17 (Conv2DTran (None, 256, 256, 64) 73792       activation_81[0][0]              \n",
            "__________________________________________________________________________________________________\n",
            "concatenate_17 (Concatenate)    (None, 256, 256, 128 0           conv2d_transpose_17[0][0]        \n",
            "                                                                 activation_67[0][0]              \n",
            "__________________________________________________________________________________________________\n",
            "dropout_36 (Dropout)            (None, 256, 256, 128 0           concatenate_17[0][0]             \n",
            "__________________________________________________________________________________________________\n",
            "conv2d_87 (Conv2D)              (None, 256, 256, 64) 73792       dropout_36[0][0]                 \n",
            "__________________________________________________________________________________________________\n",
            "batch_normalization_83 (BatchNo (None, 256, 256, 64) 256         conv2d_87[0][0]                  \n",
            "__________________________________________________________________________________________________\n",
            "activation_83 (Activation)      (None, 256, 256, 64) 0           batch_normalization_83[0][0]     \n",
            "__________________________________________________________________________________________________\n",
            "conv2d_88 (Conv2D)              (None, 256, 256, 1)  65          activation_83[0][0]              \n",
            "__________________________________________________________________________________________________\n",
            "lambda_output (Lambda)          (None, 550, 550, 1)  0           conv2d_88[0][0]                  \n",
            "==================================================================================================\n",
            "Total params: 18,816,961\n",
            "Trainable params: 18,811,073\n",
            "Non-trainable params: 5,888\n",
            "__________________________________________________________________________________________________\n"
          ],
          "name": "stdout"
        }
      ]
    },
    {
      "cell_type": "code",
      "metadata": {
        "id": "N6fzH1Joqye3"
      },
      "source": [
        "results_OD = model_OD.fit(X_train_OD, y_train_OD, batch_size=20, epochs=100, callbacks=callbacks_OD,\\\n",
        "                    validation_data=(X_test_OD, y_test_OD))"
      ],
      "execution_count": null,
      "outputs": []
    },
    {
      "cell_type": "code",
      "metadata": {
        "id": "_MopYC6X2rep",
        "colab": {
          "base_uri": "https://localhost:8080/"
        },
        "outputId": "333f0be6-df5a-4f7e-9eae-0cd0f1435f7c"
      },
      "source": [
        "results_OC = model_OC.fit(X_train_OC, y_train_OC, batch_size=32, epochs=100, callbacks=callbacks_OC,\\\n",
        "                    validation_data=(X_test_OC, y_test_OC))"
      ],
      "execution_count": null,
      "outputs": [
        {
          "output_type": "stream",
          "text": [
            "Epoch 1/100\n",
            "12/12 [==============================] - ETA: 0s - loss: 0.4925 - accuracy: 0.8253 - fscore: 0.4865"
          ],
          "name": "stdout"
        }
      ]
    },
    {
      "cell_type": "code",
      "metadata": {
        "id": "tRdeOviy7V4e"
      },
      "source": [
        "plt.figure(figsize=(14, 7))\n",
        "plt.title(\"Learning curve\")\n",
        "\n",
        "plt.subplot(231), \n",
        "plt.plot(results_OD.history[\"accuracy\"], label=\"accuracy\")\n",
        "plt.plot(results_OD.history[\"val_accuracy\"], label=\"val_acc\")\n",
        "plt.plot(np.argmin(results_OD.history[\"val_accuracy\"]), np.max(results_OD.history[\"val_accuracy\"]), marker=\"x\", color=\"r\", label=\"best model\")\n",
        "plt.xlabel(\"Epochs\")\n",
        "plt.ylabel(\"Accuracy\")\n",
        "plt.legend()\n",
        "plt.subplot(232), \n",
        "plt.plot(results_OD.history[\"f1_m\"], label=\"fscore\")\n",
        "plt.plot(results_OD.history[\"val_f1_m\"], label=\"val_fscore\")\n",
        "plt.plot( np.argmin(results_OD.history[\"val_f1_m\"]), np.max(results_OD.history[\"val_f1_m\"]), marker=\"x\", color=\"r\", label=\"best model\")\n",
        "plt.xlabel(\"Epochs\")\n",
        "plt.ylabel(\"Fscore\")\n",
        "plt.legend()\n",
        "plt.subplot(233),\n",
        "plt.plot(results_OD.history[\"loss\"], label=\"loss\")\n",
        "plt.plot(results_OD.history[\"val_loss\"], label=\"val_loss\")\n",
        "plt.plot( np.argmin(results_OD.history[\"val_loss\"]), np.min(results_OD.history[\"val_loss\"]), marker=\"x\", color=\"r\", label=\"best model\")\n",
        "plt.xlabel(\"Epochs\")\n",
        "plt.ylabel(\"log_loss\")\n",
        "plt.legend()\n",
        "\n",
        "plt.subplot(223), \n",
        "plt.plot(results_OC.history[\"f1_m\"], label=\"f1_m\")\n",
        "plt.plot(results_OC.history[\"val_f1_m\"], label=\"val_f1_m\")\n",
        "plt.plot( np.argmin(results_OC.history[\"val_f1_m\"]), np.min(results_OC.history[\"val_f1_m\"]), marker=\"x\", color=\"r\", label=\"best model\")\n",
        "plt.xlabel(\"Epochs\")\n",
        "plt.ylabel(\"Fscore\")\n",
        "plt.legend()\n",
        "plt.title(\"Learning curve\")\n",
        "plt.subplot(224),\n",
        "plt.plot(results_OC.history[\"loss\"], label=\"loss\")\n",
        "plt.plot(results_OC.history[\"val_loss\"], label=\"val_loss\")\n",
        "plt.plot( np.argmin(results_OC.history[\"val_loss\"]), np.min(results_OC.history[\"val_loss\"]), marker=\"x\", color=\"r\", label=\"best model\")\n",
        "plt.xlabel(\"Epochs\")\n",
        "plt.ylabel(\"log_loss\")\n",
        "plt.legend()\n"
      ],
      "execution_count": null,
      "outputs": []
    },
    {
      "cell_type": "code",
      "metadata": {
        "id": "Tmq3z55bBCbc"
      },
      "source": [
        "model_OD.save('/content/gdrive/My Drive/Drive Tugas Akhir/Kode/model OD semantic/')\n",
        "model_OC.save('/content/gdrive/My Drive/Drive Tugas Akhir/Kode/model OC semantic/')"
      ],
      "execution_count": null,
      "outputs": []
    },
    {
      "cell_type": "markdown",
      "metadata": {
        "id": "-K7uF0m3DM8H"
      },
      "source": [
        "# Inference"
      ]
    },
    {
      "cell_type": "code",
      "metadata": {
        "id": "pNhlz8CdtKwD"
      },
      "source": [
        "# load the best model\n",
        "model.load_weights('model-tgs-salt.h5')"
      ],
      "execution_count": null,
      "outputs": []
    },
    {
      "cell_type": "code",
      "metadata": {
        "id": "Yiy9It0j3iIk"
      },
      "source": [
        "model_OD.load_model('/content/gdrive/My Drive/Drive Tugas Akhir/Kode/model OD semantic/')\n",
        "model_OC.load_model('/content/gdrive/My Drive/Drive Tugas Akhir/Kode/model OC semantic/')"
      ],
      "execution_count": null,
      "outputs": []
    },
    {
      "cell_type": "code",
      "metadata": {
        "id": "Vnkg-7xAtKwE"
      },
      "source": [
        "# Evaluate on validation set (this must be equals to the best log_loss)\n",
        "model_OD.evaluate(X_test_OD, y_test_OD, verbose=1)\n",
        "model_OC.evaluate(X_test_OC, y_test_OC, verbose=1)"
      ],
      "execution_count": null,
      "outputs": []
    },
    {
      "cell_type": "code",
      "metadata": {
        "id": "8TExDD6AtKwE"
      },
      "source": [
        "# Predict on train, val and test\n",
        "preds_train_OD = model_OD.predict(X_train_OD, verbose=1)\n",
        "preds_val_OD = model_OD.predict(X_test_OD, verbose=1)\n",
        "preds_train_OC = model_OC.predict(X_train_OC, verbose=1)\n",
        "preds_val_OC = model_OC.predict(X_test_OC, verbose=1)"
      ],
      "execution_count": null,
      "outputs": []
    },
    {
      "cell_type": "code",
      "metadata": {
        "id": "sb8_268wtKwE"
      },
      "source": [
        "# Threshold predictions\n",
        "preds_train_t_OD = (preds_train_OD > 0.5).astype(np.uint8)\n",
        "preds_val_t_OD = (preds_val_OD > 0.5).astype(np.uint8)\n",
        "preds_train_t_OC = (preds_train_OC > 0.5).astype(np.uint8)\n",
        "preds_val_t_OC = (preds_val_OC > 0.5).astype(np.uint8)"
      ],
      "execution_count": null,
      "outputs": []
    },
    {
      "cell_type": "code",
      "metadata": {
        "id": "TfbllJBOtKwE"
      },
      "source": [
        "import scipy.ndimage\n",
        "import cv2\n",
        "def plot_sample(X, y, preds, binary_preds, ix=None):\n",
        "    \"\"\"Function to plot the results\"\"\"\n",
        "    if ix is None:\n",
        "        ix = random.randint(0, len(X))\n",
        "\n",
        "    has_mask = y[ix].max() > 0\n",
        "\n",
        "    fig, ax = plt.subplots(1, 5, figsize=(20, 10))\n",
        "    ax[0].imshow(X[ix, ..., 0], cmap='gray')\n",
        "    if has_mask:\n",
        "        ax[0].contour(y[ix].squeeze(), colors='k', levels=[0.5])\n",
        "    ax[0].set_title('Seismic')\n",
        "\n",
        "    ax[1].imshow(y[ix].squeeze(), cmap='gray')\n",
        "    ax[1].set_title('Salt')\n",
        "\n",
        "    ax[2].imshow(preds[ix].squeeze(), vmin=0, vmax=1)\n",
        "    if has_mask:\n",
        "        ax[2].contour(y[ix].squeeze(), colors='k', levels=[0.5])\n",
        "    ax[2].set_title('Salt Predicted')\n",
        "    \n",
        "    ax[3].imshow(binary_preds[ix].squeeze(), vmin=0, vmax=1)\n",
        "    if has_mask:\n",
        "        ax[3].contour(y[ix].squeeze(), colors='k', levels=[0.5])\n",
        "    ax[3].set_title('Salt Predicted binary');\n",
        "\n",
        "    resample = cv2.resize(binary_preds[ix].squeeze(), (550, 550), interpolation = cv2.INTER_CUBIC)\n",
        "    ax[4].imshow(resample)\n",
        "    ax[4].set_title('resampled')\n",
        "    print(resample.shape)"
      ],
      "execution_count": null,
      "outputs": []
    },
    {
      "cell_type": "markdown",
      "metadata": {
        "id": "wd79Qk2BDb2q"
      },
      "source": [
        "# Plot image"
      ]
    },
    {
      "cell_type": "code",
      "metadata": {
        "id": "eSbQLEzntKwF"
      },
      "source": [
        "# Check if training data looks all right\n",
        "plot_sample(X_train_OD, y_train_OD, preds_train_OD, preds_train_t_OD, ix=30)"
      ],
      "execution_count": null,
      "outputs": []
    },
    {
      "cell_type": "code",
      "metadata": {
        "id": "bmRgk9M6tKwF"
      },
      "source": [
        "plot_sample(X_train_OC, y_train_OC, preds_train_OC, preds_train_t_OC, ix=30)"
      ],
      "execution_count": null,
      "outputs": []
    },
    {
      "cell_type": "code",
      "metadata": {
        "id": "IKGSDdbltKwF"
      },
      "source": [
        "plot_sample(X_train_OD, y_train_OD, preds_train_OD, preds_train_t_OD, ix=1)"
      ],
      "execution_count": null,
      "outputs": []
    },
    {
      "cell_type": "code",
      "metadata": {
        "id": "X3m7nW4AMAUH"
      },
      "source": [
        "plot_sample(X_train_OC, y_train_OC, preds_train_OC, preds_train_t_OC, ix=1)"
      ],
      "execution_count": null,
      "outputs": []
    },
    {
      "cell_type": "markdown",
      "metadata": {
        "id": "JkkOxPnb0eYm"
      },
      "source": [
        "# Saving model"
      ]
    },
    {
      "cell_type": "code",
      "metadata": {
        "id": "bCdQf2aB3duL"
      },
      "source": [
        "model_OD.save('/content/gdrive/My Drive/Drive Tugas Akhir/Kode/model OD semantic/')\n",
        "model_OC.save('/content/gdrive/My Drive/Drive Tugas Akhir/Kode/model OC semantic/')"
      ],
      "execution_count": null,
      "outputs": []
    },
    {
      "cell_type": "markdown",
      "metadata": {
        "id": "4zBCoOZe58dK"
      },
      "source": [
        ""
      ]
    }
  ]
}