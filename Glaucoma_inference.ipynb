{
  "nbformat": 4,
  "nbformat_minor": 0,
  "metadata": {
    "colab": {
      "name": "Glaucoma inference.ipynb",
      "provenance": [],
      "collapsed_sections": [],
      "include_colab_link": true
    },
    "kernelspec": {
      "name": "python3",
      "display_name": "Python 3"
    },
    "language_info": {
      "name": "python"
    },
    "widgets": {
      "application/vnd.jupyter.widget-state+json": {
        "6ee80df7c1fd4164b14bd35276a20a5a": {
          "model_module": "@jupyter-widgets/controls",
          "model_name": "HBoxModel",
          "state": {
            "_view_name": "HBoxView",
            "_dom_classes": [],
            "_model_name": "HBoxModel",
            "_view_module": "@jupyter-widgets/controls",
            "_model_module_version": "1.5.0",
            "_view_count": null,
            "_view_module_version": "1.5.0",
            "box_style": "",
            "layout": "IPY_MODEL_6bca840c973846b7bce30e0907624d3a",
            "_model_module": "@jupyter-widgets/controls",
            "children": [
              "IPY_MODEL_3b4666080e144908840c434442616063",
              "IPY_MODEL_a993fe6020144d10965ad8d0ab11f52f"
            ]
          }
        },
        "6bca840c973846b7bce30e0907624d3a": {
          "model_module": "@jupyter-widgets/base",
          "model_name": "LayoutModel",
          "state": {
            "_view_name": "LayoutView",
            "grid_template_rows": null,
            "right": null,
            "justify_content": null,
            "_view_module": "@jupyter-widgets/base",
            "overflow": null,
            "_model_module_version": "1.2.0",
            "_view_count": null,
            "flex_flow": null,
            "width": null,
            "min_width": null,
            "border": null,
            "align_items": null,
            "bottom": null,
            "_model_module": "@jupyter-widgets/base",
            "top": null,
            "grid_column": null,
            "overflow_y": null,
            "overflow_x": null,
            "grid_auto_flow": null,
            "grid_area": null,
            "grid_template_columns": null,
            "flex": null,
            "_model_name": "LayoutModel",
            "justify_items": null,
            "grid_row": null,
            "max_height": null,
            "align_content": null,
            "visibility": null,
            "align_self": null,
            "height": null,
            "min_height": null,
            "padding": null,
            "grid_auto_rows": null,
            "grid_gap": null,
            "max_width": null,
            "order": null,
            "_view_module_version": "1.2.0",
            "grid_template_areas": null,
            "object_position": null,
            "object_fit": null,
            "grid_auto_columns": null,
            "margin": null,
            "display": null,
            "left": null
          }
        },
        "3b4666080e144908840c434442616063": {
          "model_module": "@jupyter-widgets/controls",
          "model_name": "FloatProgressModel",
          "state": {
            "_view_name": "ProgressView",
            "style": "IPY_MODEL_c2ed9459c36b49db93a53643af0e0ea2",
            "_dom_classes": [],
            "description": "100%",
            "_model_name": "FloatProgressModel",
            "bar_style": "success",
            "max": 450,
            "_view_module": "@jupyter-widgets/controls",
            "_model_module_version": "1.5.0",
            "value": 450,
            "_view_count": null,
            "_view_module_version": "1.5.0",
            "orientation": "horizontal",
            "min": 0,
            "description_tooltip": null,
            "_model_module": "@jupyter-widgets/controls",
            "layout": "IPY_MODEL_2957c88053da48baaa368d618ed18cd8"
          }
        },
        "a993fe6020144d10965ad8d0ab11f52f": {
          "model_module": "@jupyter-widgets/controls",
          "model_name": "HTMLModel",
          "state": {
            "_view_name": "HTMLView",
            "style": "IPY_MODEL_1ac5b74fe3b7469896bf627e9f9689a8",
            "_dom_classes": [],
            "description": "",
            "_model_name": "HTMLModel",
            "placeholder": "​",
            "_view_module": "@jupyter-widgets/controls",
            "_model_module_version": "1.5.0",
            "value": " 450/450 [04:59&lt;00:00,  1.50it/s]",
            "_view_count": null,
            "_view_module_version": "1.5.0",
            "description_tooltip": null,
            "_model_module": "@jupyter-widgets/controls",
            "layout": "IPY_MODEL_84eb2efb7bb14799a5e581edf990689e"
          }
        },
        "c2ed9459c36b49db93a53643af0e0ea2": {
          "model_module": "@jupyter-widgets/controls",
          "model_name": "ProgressStyleModel",
          "state": {
            "_view_name": "StyleView",
            "_model_name": "ProgressStyleModel",
            "description_width": "initial",
            "_view_module": "@jupyter-widgets/base",
            "_model_module_version": "1.5.0",
            "_view_count": null,
            "_view_module_version": "1.2.0",
            "bar_color": null,
            "_model_module": "@jupyter-widgets/controls"
          }
        },
        "2957c88053da48baaa368d618ed18cd8": {
          "model_module": "@jupyter-widgets/base",
          "model_name": "LayoutModel",
          "state": {
            "_view_name": "LayoutView",
            "grid_template_rows": null,
            "right": null,
            "justify_content": null,
            "_view_module": "@jupyter-widgets/base",
            "overflow": null,
            "_model_module_version": "1.2.0",
            "_view_count": null,
            "flex_flow": null,
            "width": null,
            "min_width": null,
            "border": null,
            "align_items": null,
            "bottom": null,
            "_model_module": "@jupyter-widgets/base",
            "top": null,
            "grid_column": null,
            "overflow_y": null,
            "overflow_x": null,
            "grid_auto_flow": null,
            "grid_area": null,
            "grid_template_columns": null,
            "flex": null,
            "_model_name": "LayoutModel",
            "justify_items": null,
            "grid_row": null,
            "max_height": null,
            "align_content": null,
            "visibility": null,
            "align_self": null,
            "height": null,
            "min_height": null,
            "padding": null,
            "grid_auto_rows": null,
            "grid_gap": null,
            "max_width": null,
            "order": null,
            "_view_module_version": "1.2.0",
            "grid_template_areas": null,
            "object_position": null,
            "object_fit": null,
            "grid_auto_columns": null,
            "margin": null,
            "display": null,
            "left": null
          }
        },
        "1ac5b74fe3b7469896bf627e9f9689a8": {
          "model_module": "@jupyter-widgets/controls",
          "model_name": "DescriptionStyleModel",
          "state": {
            "_view_name": "StyleView",
            "_model_name": "DescriptionStyleModel",
            "description_width": "",
            "_view_module": "@jupyter-widgets/base",
            "_model_module_version": "1.5.0",
            "_view_count": null,
            "_view_module_version": "1.2.0",
            "_model_module": "@jupyter-widgets/controls"
          }
        },
        "84eb2efb7bb14799a5e581edf990689e": {
          "model_module": "@jupyter-widgets/base",
          "model_name": "LayoutModel",
          "state": {
            "_view_name": "LayoutView",
            "grid_template_rows": null,
            "right": null,
            "justify_content": null,
            "_view_module": "@jupyter-widgets/base",
            "overflow": null,
            "_model_module_version": "1.2.0",
            "_view_count": null,
            "flex_flow": null,
            "width": null,
            "min_width": null,
            "border": null,
            "align_items": null,
            "bottom": null,
            "_model_module": "@jupyter-widgets/base",
            "top": null,
            "grid_column": null,
            "overflow_y": null,
            "overflow_x": null,
            "grid_auto_flow": null,
            "grid_area": null,
            "grid_template_columns": null,
            "flex": null,
            "_model_name": "LayoutModel",
            "justify_items": null,
            "grid_row": null,
            "max_height": null,
            "align_content": null,
            "visibility": null,
            "align_self": null,
            "height": null,
            "min_height": null,
            "padding": null,
            "grid_auto_rows": null,
            "grid_gap": null,
            "max_width": null,
            "order": null,
            "_view_module_version": "1.2.0",
            "grid_template_areas": null,
            "object_position": null,
            "object_fit": null,
            "grid_auto_columns": null,
            "margin": null,
            "display": null,
            "left": null
          }
        }
      }
    }
  },
  "cells": [
    {
      "cell_type": "markdown",
      "metadata": {
        "id": "view-in-github",
        "colab_type": "text"
      },
      "source": [
        "<a href=\"https://colab.research.google.com/github/anasnafis77/Deteksi-Glaukoma/blob/main/Glaucoma_inference.ipynb\" target=\"_parent\"><img src=\"https://colab.research.google.com/assets/colab-badge.svg\" alt=\"Open In Colab\"/></a>"
      ]
    },
    {
      "cell_type": "code",
      "metadata": {
        "colab": {
          "base_uri": "https://localhost:8080/"
        },
        "id": "uxgQlPvzAea3",
        "outputId": "b9c19db2-e6b6-4a34-91f9-7dd6063324ef"
      },
      "source": [
        "from google.colab import drive\n",
        "drive.mount('/content/gdrive')"
      ],
      "execution_count": 1,
      "outputs": [
        {
          "output_type": "stream",
          "text": [
            "Mounted at /content/gdrive\n"
          ],
          "name": "stdout"
        }
      ]
    },
    {
      "cell_type": "code",
      "metadata": {
        "id": "PzDk9MoAMRP3"
      },
      "source": [
        "import cv2\n",
        "import numpy as np\n",
        "import pandas as pd\n",
        "from tqdm import tqdm_notebook as tqdm\n",
        "from matplotlib import pyplot as plt\n"
      ],
      "execution_count": 2,
      "outputs": []
    },
    {
      "cell_type": "code",
      "metadata": {
        "id": "IbIsAzj_A5aq"
      },
      "source": [
        "path = '/content/gdrive/My Drive/Drive Tugas Akhir/Kode/'"
      ],
      "execution_count": 3,
      "outputs": []
    },
    {
      "cell_type": "code",
      "metadata": {
        "id": "omGHtIWIAq7p"
      },
      "source": [
        "df = pd.read_json(path+'dataframe_new.json')"
      ],
      "execution_count": 5,
      "outputs": []
    },
    {
      "cell_type": "code",
      "metadata": {
        "id": "XlAZ9sblA03v"
      },
      "source": [
        "def CDR_calc(OD_mask, OC_mask):\n",
        "  c_OD,_ = cv2.findContours(OD_mask, cv2.RETR_TREE, cv2.CHAIN_APPROX_NONE)\n",
        "  p_OD = cv2.approxPolyDP(c_OD[0], 3, True)\n",
        "  c_OC,_ = cv2.findContours(OC_mask, cv2.RETR_TREE, cv2.CHAIN_APPROX_NONE)\n",
        "  p_OC = cv2.approxPolyDP(c_OC[0], 3, True)\n",
        "  x_OD, y_OD, hor_OD, ver_OD = cv2.boundingRect(p_OD)\n",
        "  x_OC, y_OC, hor_OC, ver_OC = cv2.boundingRect(p_OC)\n",
        "  \n",
        "  #x1_OD = x_OD + hor_OD\n",
        "  #y1_OD = y_OD + ver_OD\n",
        "  #img_tes = OD_mask.copy()\n",
        "  #cv2.rectangle(img_tes,(x_OD, y_OD),(x1_OD, y1_OD), 255, 2)\n",
        "  #cv2.drawContours(img_tes, c_OD, 0, 128, 3)\n",
        "  #cv2.circle(img_tes, (x_OD, y_OD), 10, 128, cv2.FILLED)\n",
        "  #cv2.circle(img_tes, (x1_OD, y1_OD), 10, 128, cv2.FILLED)\n",
        "  #plt.figure(figsize=(10,10))\n",
        "  #plt.imshow(img_tes, cmap='gray')\n",
        "\n",
        "  VCDR = ver_OC/ver_OD # vertical CDR\n",
        "  HCDR = hor_OC/ hor_OD # Horizontal CDR\n",
        "  ACDR = np.sum(OC_mask == 255)/ np.sum(OD_mask == 255) # Area CDR\n",
        "  #print('VCDR : {:.3f}'.format(VCDR))\n",
        "  #print('HCDR : {:.3f}'.format(HCDR))\n",
        "  #print('ACDR : {:.3f}'.format(ACDR))\n",
        "\n",
        "  return VCDR, HCDR, ACDR\n",
        "\n",
        "def ISNT_calc(OD_mask, OC_mask):\n",
        "  NRR = OD_mask - OC_mask # Neuro Retinal Rim\n",
        "  return NRR"
      ],
      "execution_count": 6,
      "outputs": []
    },
    {
      "cell_type": "code",
      "metadata": {
        "colab": {
          "base_uri": "https://localhost:8080/",
          "height": 116,
          "referenced_widgets": [
            "6ee80df7c1fd4164b14bd35276a20a5a",
            "6bca840c973846b7bce30e0907624d3a",
            "3b4666080e144908840c434442616063",
            "a993fe6020144d10965ad8d0ab11f52f",
            "c2ed9459c36b49db93a53643af0e0ea2",
            "2957c88053da48baaa368d618ed18cd8",
            "1ac5b74fe3b7469896bf627e9f9689a8",
            "84eb2efb7bb14799a5e581edf990689e"
          ]
        },
        "id": "LihHCni4MS4e",
        "outputId": "0756e1f4-75d4-42ee-e813-d2e2b1da2d09"
      },
      "source": [
        "VCDR_gt = [] # vertical CDR perhitungan mandiri pada mask gt\n",
        "HCDR_gt = [] # horizontal CDR perhitungan mandiri pada mask gt\n",
        "ACDR_gt = [] # Areal CDR perhitungan mandiri pada mask gt\n",
        "\n",
        "for i in tqdm(range(len(df))):\n",
        "  OD_mask = cv2.imread(df['path_OD_png'][i], 0)\n",
        "  OC_mask = cv2.imread(df['path_OC_png'][i], 0)\n",
        "  VCDR, HCDR, ACDR = CDR_calc(OD_mask, OC_mask)\n",
        "  VCDR_gt.append(VCDR)\n",
        "  HCDR_gt.append(HCDR)\n",
        "  ACDR_gt.append(ACDR)\n"
      ],
      "execution_count": 8,
      "outputs": [
        {
          "output_type": "stream",
          "text": [
            "/usr/local/lib/python3.7/dist-packages/ipykernel_launcher.py:5: TqdmDeprecationWarning: This function will be removed in tqdm==5.0.0\n",
            "Please use `tqdm.notebook.tqdm` instead of `tqdm.tqdm_notebook`\n",
            "  \"\"\"\n"
          ],
          "name": "stderr"
        },
        {
          "output_type": "display_data",
          "data": {
            "application/vnd.jupyter.widget-view+json": {
              "model_id": "6ee80df7c1fd4164b14bd35276a20a5a",
              "version_minor": 0,
              "version_major": 2
            },
            "text/plain": [
              "HBox(children=(FloatProgress(value=0.0, max=450.0), HTML(value='')))"
            ]
          },
          "metadata": {
            "tags": []
          }
        },
        {
          "output_type": "stream",
          "text": [
            "\n"
          ],
          "name": "stdout"
        }
      ]
    },
    {
      "cell_type": "code",
      "metadata": {
        "id": "frqJBGL_WGcu"
      },
      "source": [
        "VCDR_gt = np.array(VCDR_gt)\n",
        "HCDR_gt = np.array(HCDR_gt)\n",
        "ACDR_gt = np.array(ACDR_gt)"
      ],
      "execution_count": 40,
      "outputs": []
    },
    {
      "cell_type": "code",
      "metadata": {
        "id": "M3v7E0rJYrSk"
      },
      "source": [
        "dr = df.loc[df['dataset']=='drishti'][['mean VCDR', 'tag']]\n",
        "re = df.loc[df['dataset']=='refuge'][['mean VCDR', 'tag']]"
      ],
      "execution_count": 27,
      "outputs": []
    },
    {
      "cell_type": "code",
      "metadata": {
        "colab": {
          "base_uri": "https://localhost:8080/",
          "height": 295
        },
        "id": "3rsU0BqEYGE5",
        "outputId": "a808b1d8-e869-469e-ca81-e8b1acc498af"
      },
      "source": [
        "plt.scatter(range(len(dr.loc[dr['tag']=='Normal'])), dr.loc[dr['tag']=='Normal']['mean VCDR'], marker='o', color='b', label='Normal')\n",
        "plt.scatter( range(len(dr.loc[dr['tag']=='Glaucoma'])), dr.loc[dr['tag']=='Glaucoma']['mean VCDR'], marker='x', color='r', label='Glaucoma')\n",
        "plt.ylabel('CDR')\n",
        "plt.xlabel('Data')\n",
        "plt.title('GT VCDR in Drishti dataset')\n",
        "plt.legend()\n",
        "plt.show()"
      ],
      "execution_count": 41,
      "outputs": [
        {
          "output_type": "display_data",
          "data": {
            "image/png": "[encoded data removed]",
            "text/plain": [
              "<Figure size 432x288 with 1 Axes>"
            ]
          },
          "metadata": {
            "tags": [],
            "needs_background": "light"
          }
        }
      ]
    },
    {
      "cell_type": "code",
      "metadata": {
        "id": "Im1ORV03WjZt",
        "outputId": "979afd83-ad3c-4356-f7cb-3880c542eaa5",
        "colab": {
          "base_uri": "https://localhost:8080/",
          "height": 295
        }
      },
      "source": [
        "plt.scatter(range(len(dr.loc[dr['tag']=='Normal'])), VCDR_gt[dr.index[dr['tag']=='Normal'].tolist()], marker='o', color='b', label='Normal')\n",
        "plt.scatter( range(len(dr.loc[dr['tag']=='Glaucoma'])),VCDR_gt[dr.index[dr['tag']=='Glaucoma'].tolist()], marker='x', color='r', label='Glaucoma')\n",
        "plt.ylabel('VCDR')\n",
        "plt.xlabel('Data')\n",
        "plt.title('VCDR in Drishti dataset')\n",
        "plt.legend()\n",
        "plt.show()"
      ],
      "execution_count": 44,
      "outputs": [
        {
          "output_type": "display_data",
          "data": {
            "image/png": "[encoded data removed]",
            "text/plain": [
              "<Figure size 432x288 with 1 Axes>"
            ]
          },
          "metadata": {
            "tags": [],
            "needs_background": "light"
          }
        }
      ]
    },
    {
      "cell_type": "code",
      "metadata": {
        "id": "PlKoH7xQXJX_",
        "outputId": "cd53ef17-46b3-40ba-a819-a155f6e61efb",
        "colab": {
          "base_uri": "https://localhost:8080/",
          "height": 295
        }
      },
      "source": [
        "plt.scatter(range(len(dr.loc[dr['tag']=='Normal'])), HCDR_gt[dr.index[dr['tag']=='Normal'].tolist()], marker='o', color='b', label='Normal')\n",
        "plt.scatter(range(len(dr.loc[dr['tag']=='Glaucoma'])), HCDR_gt[dr.index[dr['tag']=='Glaucoma'].tolist()], marker='x', color='r', label='Glaucoma')\n",
        "plt.ylabel('HCDR')\n",
        "plt.xlabel('Data')\n",
        "plt.title('HCDR in Drishti dataset')\n",
        "plt.legend()\n",
        "plt.show()"
      ],
      "execution_count": 50,
      "outputs": [
        {
          "output_type": "display_data",
          "data": {
            "image/png": "[encoded data removed]",
            "text/plain": [
              "<Figure size 432x288 with 1 Axes>"
            ]
          },
          "metadata": {
            "tags": [],
            "needs_background": "light"
          }
        }
      ]
    },
    {
      "cell_type": "code",
      "metadata": {
        "id": "qqA5Zf_TXTpg",
        "outputId": "dc4e1275-ef1d-47bd-b23e-467522747a72",
        "colab": {
          "base_uri": "https://localhost:8080/",
          "height": 295
        }
      },
      "source": [
        "plt.scatter(range(len(dr.loc[dr['tag']=='Normal'])), ACDR_gt[dr.index[dr['tag']=='Normal'].tolist()], marker='o', color='b', label='Normal')\n",
        "plt.scatter( range(len(dr.loc[dr['tag']=='Glaucoma'])), ACDR_gt[dr.index[dr['tag']=='Glaucoma'].tolist()], marker='x', color='r', label='Glaucoma')\n",
        "plt.ylabel('ACDR')\n",
        "plt.xlabel('Data')\n",
        "plt.title('ACDR in Drishti dataset')\n",
        "plt.legend()\n",
        "plt.show()"
      ],
      "execution_count": 46,
      "outputs": [
        {
          "output_type": "display_data",
          "data": {
            "image/png": "[encoded data removed]",
            "text/plain": [
              "<Figure size 432x288 with 1 Axes>"
            ]
          },
          "metadata": {
            "tags": [],
            "needs_background": "light"
          }
        }
      ]
    },
    {
      "cell_type": "code",
      "metadata": {
        "id": "Ty2nix5HYO0_",
        "outputId": "c9ed00f8-ec12-4e4e-be92-ddf65912114a",
        "colab": {
          "base_uri": "https://localhost:8080/",
          "height": 295
        }
      },
      "source": [
        "plt.scatter(range(len(re.loc[re['tag']=='Normal'])), VCDR_gt[re.index[re['tag']=='Normal'].tolist()], marker='o', color='b', label='Normal')\n",
        "plt.scatter( range(len(re.loc[re['tag']=='Glaucoma'])),VCDR_gt[re.index[re['tag']=='Glaucoma'].tolist()], marker='x', color='r', label='Glaucoma')\n",
        "plt.ylabel('VCDR')\n",
        "plt.xlabel('Data')\n",
        "plt.title('VCDR in Refuge dataset')\n",
        "plt.legend()\n",
        "plt.show()"
      ],
      "execution_count": 47,
      "outputs": [
        {
          "output_type": "display_data",
          "data": {
            "image/png": "[encoded data removed]",
            "text/plain": [
              "<Figure size 432x288 with 1 Axes>"
            ]
          },
          "metadata": {
            "tags": [],
            "needs_background": "light"
          }
        }
      ]
    },
    {
      "cell_type": "code",
      "metadata": {
        "id": "5rdL737LVT29",
        "outputId": "d9dcb1c6-4f44-46b7-de6f-e1f5581852e0",
        "colab": {
          "base_uri": "https://localhost:8080/",
          "height": 295
        }
      },
      "source": [
        "plt.scatter(range(len(re.loc[re['tag']=='Normal'])), HCDR_gt[re.index[re['tag']=='Normal'].tolist()], marker='o', color='b', label='Normal')\n",
        "plt.scatter( range(len(re.loc[re['tag']=='Glaucoma'])),HCDR_gt[re.index[re['tag']=='Glaucoma'].tolist()], marker='x', color='r', label='Glaucoma')\n",
        "plt.ylabel('HCDR')\n",
        "plt.xlabel('Data')\n",
        "plt.title('HCDR in Refuge dataset')\n",
        "plt.legend()\n",
        "plt.show()"
      ],
      "execution_count": 48,
      "outputs": [
        {
          "output_type": "display_data",
          "data": {
            "image/png": "[encoded data removed]",
            "text/plain": [
              "<Figure size 432x288 with 1 Axes>"
            ]
          },
          "metadata": {
            "tags": [],
            "needs_background": "light"
          }
        }
      ]
    },
    {
      "cell_type": "code",
      "metadata": {
        "id": "5cPHVUGsXkzZ",
        "outputId": "f5d17375-600d-4658-b358-44df3ddd1d73",
        "colab": {
          "base_uri": "https://localhost:8080/",
          "height": 295
        }
      },
      "source": [
        "plt.scatter(range(len(re.loc[re['tag']=='Normal'])), ACDR_gt[re.index[re['tag']=='Normal'].tolist()], marker='o', color='b', label='Normal')\n",
        "plt.scatter( range(len(re.loc[re['tag']=='Glaucoma'])),ACDR_gt[re.index[re['tag']=='Glaucoma'].tolist()], marker='x', color='r', label='Glaucoma')\n",
        "plt.ylabel('ACDR')\n",
        "plt.xlabel('Data')\n",
        "plt.title('ACDR in Refuge dataset')\n",
        "plt.legend()\n",
        "plt.show()"
      ],
      "execution_count": 49,
      "outputs": [
        {
          "output_type": "display_data",
          "data": {
            "image/png": "[encoded data removed]",
            "text/plain": [
              "<Figure size 432x288 with 1 Axes>"
            ]
          },
          "metadata": {
            "tags": [],
            "needs_background": "light"
          }
        }
      ]
    }
  ]
}