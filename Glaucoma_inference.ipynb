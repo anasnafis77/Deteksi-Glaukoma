{
  "nbformat": 4,
  "nbformat_minor": 0,
  "metadata": {
    "colab": {
      "name": "Glaucoma inference.ipynb",
      "provenance": [],
      "collapsed_sections": [],
      "include_colab_link": true
    },
    "kernelspec": {
      "name": "python3",
      "display_name": "Python 3"
    },
    "language_info": {
      "name": "python"
    },
    "widgets": {
      "application/vnd.jupyter.widget-state+json": {
        "30d69d9534994908a393f65f41116346": {
          "model_module": "@jupyter-widgets/controls",
          "model_name": "HBoxModel",
          "state": {
            "_view_name": "HBoxView",
            "_dom_classes": [],
            "_model_name": "HBoxModel",
            "_view_module": "@jupyter-widgets/controls",
            "_model_module_version": "1.5.0",
            "_view_count": null,
            "_view_module_version": "1.5.0",
            "box_style": "",
            "layout": "IPY_MODEL_e5046f92fa7f43e4b63ad62fddacb833",
            "_model_module": "@jupyter-widgets/controls",
            "children": [
              "IPY_MODEL_d8bb71ceaebb4a9bbeff2890a31ad208",
              "IPY_MODEL_dd713d1968c841f289970bf69560866a"
            ]
          }
        },
        "e5046f92fa7f43e4b63ad62fddacb833": {
          "model_module": "@jupyter-widgets/base",
          "model_name": "LayoutModel",
          "state": {
            "_view_name": "LayoutView",
            "grid_template_rows": null,
            "right": null,
            "justify_content": null,
            "_view_module": "@jupyter-widgets/base",
            "overflow": null,
            "_model_module_version": "1.2.0",
            "_view_count": null,
            "flex_flow": null,
            "width": null,
            "min_width": null,
            "border": null,
            "align_items": null,
            "bottom": null,
            "_model_module": "@jupyter-widgets/base",
            "top": null,
            "grid_column": null,
            "overflow_y": null,
            "overflow_x": null,
            "grid_auto_flow": null,
            "grid_area": null,
            "grid_template_columns": null,
            "flex": null,
            "_model_name": "LayoutModel",
            "justify_items": null,
            "grid_row": null,
            "max_height": null,
            "align_content": null,
            "visibility": null,
            "align_self": null,
            "height": null,
            "min_height": null,
            "padding": null,
            "grid_auto_rows": null,
            "grid_gap": null,
            "max_width": null,
            "order": null,
            "_view_module_version": "1.2.0",
            "grid_template_areas": null,
            "object_position": null,
            "object_fit": null,
            "grid_auto_columns": null,
            "margin": null,
            "display": null,
            "left": null
          }
        },
        "d8bb71ceaebb4a9bbeff2890a31ad208": {
          "model_module": "@jupyter-widgets/controls",
          "model_name": "FloatProgressModel",
          "state": {
            "_view_name": "ProgressView",
            "style": "IPY_MODEL_2426f0ed455b4aaa97950ae305280a4c",
            "_dom_classes": [],
            "description": "100%",
            "_model_name": "FloatProgressModel",
            "bar_style": "success",
            "max": 450,
            "_view_module": "@jupyter-widgets/controls",
            "_model_module_version": "1.5.0",
            "value": 450,
            "_view_count": null,
            "_view_module_version": "1.5.0",
            "orientation": "horizontal",
            "min": 0,
            "description_tooltip": null,
            "_model_module": "@jupyter-widgets/controls",
            "layout": "IPY_MODEL_3bf728f8d8fd4a0db27fdf399a7d0108"
          }
        },
        "dd713d1968c841f289970bf69560866a": {
          "model_module": "@jupyter-widgets/controls",
          "model_name": "HTMLModel",
          "state": {
            "_view_name": "HTMLView",
            "style": "IPY_MODEL_a5e57556391142ddaa78d9826c72dbf6",
            "_dom_classes": [],
            "description": "",
            "_model_name": "HTMLModel",
            "placeholder": "​",
            "_view_module": "@jupyter-widgets/controls",
            "_model_module_version": "1.5.0",
            "value": " 450/450 [03:10&lt;00:00,  2.37it/s]",
            "_view_count": null,
            "_view_module_version": "1.5.0",
            "description_tooltip": null,
            "_model_module": "@jupyter-widgets/controls",
            "layout": "IPY_MODEL_d594cc00f6be4f66a4f0651a19c162d4"
          }
        },
        "2426f0ed455b4aaa97950ae305280a4c": {
          "model_module": "@jupyter-widgets/controls",
          "model_name": "ProgressStyleModel",
          "state": {
            "_view_name": "StyleView",
            "_model_name": "ProgressStyleModel",
            "description_width": "initial",
            "_view_module": "@jupyter-widgets/base",
            "_model_module_version": "1.5.0",
            "_view_count": null,
            "_view_module_version": "1.2.0",
            "bar_color": null,
            "_model_module": "@jupyter-widgets/controls"
          }
        },
        "3bf728f8d8fd4a0db27fdf399a7d0108": {
          "model_module": "@jupyter-widgets/base",
          "model_name": "LayoutModel",
          "state": {
            "_view_name": "LayoutView",
            "grid_template_rows": null,
            "right": null,
            "justify_content": null,
            "_view_module": "@jupyter-widgets/base",
            "overflow": null,
            "_model_module_version": "1.2.0",
            "_view_count": null,
            "flex_flow": null,
            "width": null,
            "min_width": null,
            "border": null,
            "align_items": null,
            "bottom": null,
            "_model_module": "@jupyter-widgets/base",
            "top": null,
            "grid_column": null,
            "overflow_y": null,
            "overflow_x": null,
            "grid_auto_flow": null,
            "grid_area": null,
            "grid_template_columns": null,
            "flex": null,
            "_model_name": "LayoutModel",
            "justify_items": null,
            "grid_row": null,
            "max_height": null,
            "align_content": null,
            "visibility": null,
            "align_self": null,
            "height": null,
            "min_height": null,
            "padding": null,
            "grid_auto_rows": null,
            "grid_gap": null,
            "max_width": null,
            "order": null,
            "_view_module_version": "1.2.0",
            "grid_template_areas": null,
            "object_position": null,
            "object_fit": null,
            "grid_auto_columns": null,
            "margin": null,
            "display": null,
            "left": null
          }
        },
        "a5e57556391142ddaa78d9826c72dbf6": {
          "model_module": "@jupyter-widgets/controls",
          "model_name": "DescriptionStyleModel",
          "state": {
            "_view_name": "StyleView",
            "_model_name": "DescriptionStyleModel",
            "description_width": "",
            "_view_module": "@jupyter-widgets/base",
            "_model_module_version": "1.5.0",
            "_view_count": null,
            "_view_module_version": "1.2.0",
            "_model_module": "@jupyter-widgets/controls"
          }
        },
        "d594cc00f6be4f66a4f0651a19c162d4": {
          "model_module": "@jupyter-widgets/base",
          "model_name": "LayoutModel",
          "state": {
            "_view_name": "LayoutView",
            "grid_template_rows": null,
            "right": null,
            "justify_content": null,
            "_view_module": "@jupyter-widgets/base",
            "overflow": null,
            "_model_module_version": "1.2.0",
            "_view_count": null,
            "flex_flow": null,
            "width": null,
            "min_width": null,
            "border": null,
            "align_items": null,
            "bottom": null,
            "_model_module": "@jupyter-widgets/base",
            "top": null,
            "grid_column": null,
            "overflow_y": null,
            "overflow_x": null,
            "grid_auto_flow": null,
            "grid_area": null,
            "grid_template_columns": null,
            "flex": null,
            "_model_name": "LayoutModel",
            "justify_items": null,
            "grid_row": null,
            "max_height": null,
            "align_content": null,
            "visibility": null,
            "align_self": null,
            "height": null,
            "min_height": null,
            "padding": null,
            "grid_auto_rows": null,
            "grid_gap": null,
            "max_width": null,
            "order": null,
            "_view_module_version": "1.2.0",
            "grid_template_areas": null,
            "object_position": null,
            "object_fit": null,
            "grid_auto_columns": null,
            "margin": null,
            "display": null,
            "left": null
          }
        }
      }
    }
  },
  "cells": [
    {
      "cell_type": "markdown",
      "metadata": {
        "id": "view-in-github",
        "colab_type": "text"
      },
      "source": [
        "<a href=\"https://colab.research.google.com/github/anasnafis77/Deteksi-Glaukoma/blob/main/Glaucoma_inference.ipynb\" target=\"_parent\"><img src=\"https://colab.research.google.com/assets/colab-badge.svg\" alt=\"Open In Colab\"/></a>"
      ]
    },
    {
      "cell_type": "code",
      "metadata": {
        "colab": {
          "base_uri": "https://localhost:8080/"
        },
        "id": "uxgQlPvzAea3",
        "outputId": "4774dc55-8807-4347-d73a-38a0f10c7f80"
      },
      "source": [
        "from google.colab import drive\n",
        "drive.mount('/content/gdrive')"
      ],
      "execution_count": 1,
      "outputs": [
        {
          "output_type": "stream",
          "text": [
            "Mounted at /content/gdrive\n"
          ],
          "name": "stdout"
        }
      ]
    },
    {
      "cell_type": "code",
      "metadata": {
        "id": "PzDk9MoAMRP3"
      },
      "source": [
        "import cv2\n",
        "import numpy as np\n",
        "import pandas as pd\n",
        "from tqdm import tqdm_notebook as tqdm\n",
        "from matplotlib import pyplot as plt\n"
      ],
      "execution_count": 85,
      "outputs": []
    },
    {
      "cell_type": "code",
      "metadata": {
        "id": "IbIsAzj_A5aq"
      },
      "source": [
        "path = '/content/gdrive/My Drive/Drive Tugas Akhir/Kode/'"
      ],
      "execution_count": 2,
      "outputs": []
    },
    {
      "cell_type": "code",
      "metadata": {
        "id": "omGHtIWIAq7p"
      },
      "source": [
        "df = pd.read_json(path+'dataframe_new.json')"
      ],
      "execution_count": 3,
      "outputs": []
    },
    {
      "cell_type": "code",
      "metadata": {
        "id": "XlAZ9sblA03v"
      },
      "source": [
        "def CDR_calc(OD_mask, OC_mask):\n",
        "  c_OD,_ = cv2.findContours(OD_mask, cv2.RETR_TREE, cv2.CHAIN_APPROX_NONE)\n",
        "  p_OD = cv2.approxPolyDP(c_OD[0], 3, True)\n",
        "  c_OC,_ = cv2.findContours(OC_mask, cv2.RETR_TREE, cv2.CHAIN_APPROX_NONE)\n",
        "  p_OC = cv2.approxPolyDP(c_OC[0], 3, True)\n",
        "  x_OD, y_OD, hor_OD, ver_OD = cv2.boundingRect(p_OD)\n",
        "  x_OC, y_OC, hor_OC, ver_OC = cv2.boundingRect(p_OC)\n",
        "  \n",
        "  #x1_OD = x_OD + hor_OD\n",
        "  #y1_OD = y_OD + ver_OD\n",
        "  #img_tes = OD_mask.copy()\n",
        "  #cv2.rectangle(img_tes,(x_OD, y_OD),(x1_OD, y1_OD), 255, 2)\n",
        "  #cv2.drawContours(img_tes, c_OD, 0, 128, 3)\n",
        "  #cv2.circle(img_tes, (x_OD, y_OD), 10, 128, cv2.FILLED)\n",
        "  #cv2.circle(img_tes, (x1_OD, y1_OD), 10, 128, cv2.FILLED)\n",
        "  #plt.figure(figsize=(10,10))\n",
        "  #plt.imshow(img_tes, cmap='gray')\n",
        "\n",
        "  VCDR = ver_OC/ver_OD # vertical CDR\n",
        "  HCDR = hor_OC/ hor_OD # Horizontal CDR\n",
        "  ACDR = np.sum(OC_mask == 255)/ np.sum(OD_mask == 255) # Area CDR\n",
        "  #print('VCDR : {:.3f}'.format(VCDR))\n",
        "  #print('HCDR : {:.3f}'.format(HCDR))\n",
        "  #print('ACDR : {:.3f}'.format(ACDR))\n",
        "\n",
        "  return VCDR, HCDR, ACDR\n",
        "\n",
        "def ISNT_calc(OD_mask, OC_mask):\n",
        "  NRR = OD_mask - OC_mask # Neuro Retinal Rim\n",
        "  return NRR"
      ],
      "execution_count": 107,
      "outputs": []
    },
    {
      "cell_type": "code",
      "metadata": {
        "colab": {
          "base_uri": "https://localhost:8080/",
          "height": 116,
          "referenced_widgets": [
            "30d69d9534994908a393f65f41116346",
            "e5046f92fa7f43e4b63ad62fddacb833",
            "d8bb71ceaebb4a9bbeff2890a31ad208",
            "dd713d1968c841f289970bf69560866a",
            "2426f0ed455b4aaa97950ae305280a4c",
            "3bf728f8d8fd4a0db27fdf399a7d0108",
            "a5e57556391142ddaa78d9826c72dbf6",
            "d594cc00f6be4f66a4f0651a19c162d4"
          ]
        },
        "id": "LihHCni4MS4e",
        "outputId": "a0a10f66-a8d5-44e6-e4c6-fdf71f7f2c09"
      },
      "source": [
        "VCDR_gt = [] # vertical CDR perhitungan mandiri pada mask gt\n",
        "HCDR_gt = [] # horizontal CDR perhitungan mandiri pada mask gt\n",
        "ACDR_gt = [] # Areal CDR perhitungan mandiri pada mask gt\n",
        "dr_gl = []\n",
        "dr_n = []\n",
        "re_gl = []\n",
        "re_n = []\n",
        "for i in tqdm(range(len(df))):\n",
        "  OD_mask = cv2.imread(df['path_OD_png'][i], 0)\n",
        "  OC_mask = cv2.imread(df['path_OC_png'][i], 0)\n",
        "  VCDR, HCDR, ACDR = CDR_calc(OD_mask, OC_mask)\n",
        "  if \n",
        "  VCDR_gt.append(VCDR)\n",
        "  HCDR_gt.append(HCDR)\n",
        "  ACDR_gt.append(ACDR)\n"
      ],
      "execution_count": 108,
      "outputs": [
        {
          "output_type": "stream",
          "text": [
            "/usr/local/lib/python3.7/dist-packages/ipykernel_launcher.py:4: TqdmDeprecationWarning: This function will be removed in tqdm==5.0.0\n",
            "Please use `tqdm.notebook.tqdm` instead of `tqdm.tqdm_notebook`\n",
            "  after removing the cwd from sys.path.\n"
          ],
          "name": "stderr"
        },
        {
          "output_type": "display_data",
          "data": {
            "application/vnd.jupyter.widget-view+json": {
              "model_id": "30d69d9534994908a393f65f41116346",
              "version_minor": 0,
              "version_major": 2
            },
            "text/plain": [
              "HBox(children=(FloatProgress(value=0.0, max=450.0), HTML(value='')))"
            ]
          },
          "metadata": {
            "tags": []
          }
        },
        {
          "output_type": "stream",
          "text": [
            "\n"
          ],
          "name": "stdout"
        }
      ]
    },
    {
      "cell_type": "code",
      "metadata": {
        "colab": {
          "base_uri": "https://localhost:8080/"
        },
        "id": "M3v7E0rJYrSk",
        "outputId": "aa93aabd-70f8-4d35-bae7-cb885807203a"
      },
      "source": [
        "len(list(range(len(df))))"
      ],
      "execution_count": 97,
      "outputs": [
        {
          "output_type": "execute_result",
          "data": {
            "text/plain": [
              "450"
            ]
          },
          "metadata": {
            "tags": []
          },
          "execution_count": 97
        }
      ]
    },
    {
      "cell_type": "code",
      "metadata": {
        "colab": {
          "base_uri": "https://localhost:8080/",
          "height": 265
        },
        "id": "3rsU0BqEYGE5",
        "outputId": "b039f1c6-0c1f-40a3-b7a3-e916ee54a329"
      },
      "source": [
        "plt.scatter(list(range(len(df))), np.array(CDR_gtc)[:, 0])\n",
        "plt.show()"
      ],
      "execution_count": 103,
      "outputs": [
        {
          "output_type": "display_data",
          "data": {
            "image/png": "[encoded data removed]",
            "text/plain": [
              "<Figure size 432x288 with 1 Axes>"
            ]
          },
          "metadata": {
            "tags": [],
            "needs_background": "light"
          }
        }
      ]
    },
    {
      "cell_type": "code",
      "metadata": {
        "id": "Ty2nix5HYO0_"
      },
      "source": [
        ""
      ],
      "execution_count": null,
      "outputs": []
    }
  ]
}