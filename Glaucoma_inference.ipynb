{
  "nbformat": 4,
  "nbformat_minor": 0,
  "metadata": {
    "colab": {
      "name": "Glaucoma inference.ipynb",
      "provenance": [],
      "collapsed_sections": [],
      "authorship_tag": "ABX9TyOtkpZeoUi6BNsvv5LoInB/",
      "include_colab_link": true
    },
    "kernelspec": {
      "name": "python3",
      "display_name": "Python 3"
    },
    "language_info": {
      "name": "python"
    }
  },
  "cells": [
    {
      "cell_type": "markdown",
      "metadata": {
        "id": "view-in-github",
        "colab_type": "text"
      },
      "source": [
        "<a href=\"https://colab.research.google.com/github/anasnafis77/Deteksi-Glaukoma/blob/main/Glaucoma_inference.ipynb\" target=\"_parent\"><img src=\"https://colab.research.google.com/assets/colab-badge.svg\" alt=\"Open In Colab\"/></a>"
      ]
    },
    {
      "cell_type": "code",
      "metadata": {
        "colab": {
          "base_uri": "https://localhost:8080/"
        },
        "id": "uxgQlPvzAea3",
        "outputId": "b2126453-e0b9-414c-c67d-dbb291ad71f2"
      },
      "source": [
        "from google.colab import drive\n",
        "drive.mount('/content/gdrive')"
      ],
      "execution_count": 1,
      "outputs": [
        {
          "output_type": "stream",
          "text": [
            "Mounted at /content/gdrive\n"
          ],
          "name": "stdout"
        }
      ]
    },
    {
      "cell_type": "code",
      "metadata": {
        "id": "IbIsAzj_A5aq"
      },
      "source": [
        "path = '/content/gdrive/My Drive/Drive Tugas Akhir/Kode/'"
      ],
      "execution_count": 2,
      "outputs": []
    },
    {
      "cell_type": "code",
      "metadata": {
        "id": "omGHtIWIAq7p"
      },
      "source": [
        "import pandas as pd\n",
        "\n",
        "df = pd.read_json(path+'dataframe.json')"
      ],
      "execution_count": null,
      "outputs": []
    },
    {
      "cell_type": "code",
      "metadata": {
        "id": "XlAZ9sblA03v"
      },
      "source": [
        "def CDR_calc(OD_mask, OC_mask):\n",
        "  c_OD = cv2.findContours(OD_mask, cv2.RETR_TREE, cv2.CHAIN_APPROX_NONE)\n",
        "  c_OD = cv2.approxPolyDP(c_OD[0], 3, True)\n",
        "  c_OC = cv2.findContours(OC_mask, cv2.RETR_TREE, cv2.CHAIN_APPROX_NONE)\n",
        "  c_OC = cv2.approxPolyDP(c_OC[0], 3, True)\n",
        "  ver_OD, hor_OD = cv2.boundingRect(c_OD)\n",
        "  ver_OC, hor_OC = cv2.boundingRect(c_OC)\n",
        "\n",
        "  VCDR = ver_OC/ ver_OD # vertical CDR\n",
        "  HCDR = hor_OC/ ver_OD # Horizontal CDR\n",
        "  ACDR = np.sum(OC_mask == 255)/ np.sum(OD_mask == 255) # Area CDR\n",
        "\n",
        "  return VCDR, HCDR, ACDR\n",
        "\n",
        "def ISNT_calc(OD_mask, OC_mask):\n",
        "  NRR = OD_mask - OC_mask # Neuro Retinal Rim\n",
        "  "
      ],
      "execution_count": null,
      "outputs": []
    }
  ]
}